{
 "cells": [
  {
   "cell_type": "markdown",
   "id": "b792fb9f",
   "metadata": {},
   "source": [
    "# <font color='289C4E'>Devoir Maison 2\n",
    "**Élèves**: Sadegh ABDERRAHIM & Gabriel PEREIRA DE CARVALHO & Otávio RIBAS"
   ]
  },
  {
   "cell_type": "markdown",
   "id": "0d32c224",
   "metadata": {},
   "source": [
    "### <font color='289C4E'>Table des matières<font><a class='anchor' id='top'></a>\n",
    "- [Problème](#Prob)\n",
    "    - [Exercice 1](#E1)\n",
    "    - [Exercice 2](#E2)\n",
    "    - [Exercice 3](#E3)\n",
    "    - [Exercice 4](#E4)\n",
    "    - [Exercice 5](#E5)\n",
    "    - [Exercice 6](#E6)\n",
    "    - [Exercice 7](#E7)\n",
    "    - [Exercice 8](#E8)\n",
    "    - [Exercice 9](#E9)\n",
    "    - [Exercice 10](#E10)\n",
    "    - [Exercice 11](#E11)\n",
    "    - [Exercice 12](#E12)\n",
    "    - [Exercice 13](#E13)\n",
    "    - [Exercice 14](#E14)\n",
    "    - [Exercice 15](#E15)\n",
    "    - [Exercice 16](#E16)\n",
    "- [Application Numérique](#Pratique)\n",
    "    - [Python Imports](#imports)\n",
    "    - [Exercice 1](#P1)\n",
    "    - [Exercice 2](#P2)\n",
    "    - [Exercice 3](#P3)\n",
    "    - [Exercice 4](#P4)\n",
    "    - [Exercice 5](#P5)\n",
    "    - [Exercice 6](#P6)\n",
    "    - [Exercice 7](#P7)\n",
    "    - [Exercice 8](#P8)\n",
    "    - [Exercice 9](#P9)\n",
    "    - [Exercice 10](#P10)"
   ]
  },
  {
   "cell_type": "markdown",
   "id": "20a6aa23",
   "metadata": {},
   "source": [
    "<h1 align=\"center\"> <font color='green'>Problème</font></h1> <a class=\"anchor\" id=\"Prob\"></a>"
   ]
  },
  {
   "cell_type": "markdown",
   "id": "051b1666",
   "metadata": {},
   "source": [
    "<h2 align=\"center\"> <font color='blue'>Exercice 1</font></h2> <a class=\"anchor\" id=\"E1\"></a>"
   ]
  },
  {
   "cell_type": "markdown",
   "id": "76b0e4c0",
   "metadata": {},
   "source": [
    "Soit $n \\geq 0$. Soit $\\theta, \\theta'$ tels que $\\mathbb{P}_{n, \\theta} = \\mathbb{P}_{n, \\theta'}$.\n",
    "\n",
    "Donc, $\\forall 1 \\leq i \\leq n$ on a $\\mathrm{Ber}(\\phi(\\theta^T x_i)) = \\mathrm{Ber}(\\phi(\\theta'^T x_i))$.\n",
    "\n",
    "Ainsi $\\forall i \\in \\{1, ..., n\\} \\quad \\phi(\\theta^T x_i) = \\phi(\\theta'^T x_i)$.\n",
    "\n",
    "D'autre part $\\forall t > 0 \\quad \\phi'(t) = \\frac{e^t}{(1 + e^t)^2} \\geq 0$.\n",
    "\n",
    "Donc $\\phi$ est strictement croissante et continue $\\implies \\phi$ est bijective.\n",
    "\n",
    "On en déduit que $\\forall 1 \\leq i \\leq \\theta^T x_i = \\theta'^T x_i$ et donc $X_n \\theta = X_n \\theta'$ où la matrice $X_n \\in \\mathcal{M}_{n \\times p}(\\mathbb{R})$ est de rang $p$ et donc elle est injective.\n",
    "\n",
    "Ainsi, nous obtenons que $\\theta = \\theta'$ et donc le modèle est identifiable."
   ]
  },
  {
   "cell_type": "markdown",
   "id": "355489bd",
   "metadata": {},
   "source": [
    "<h2 align=\"center\"> <font color='blue'>Exercice 2</font></h2> <a class=\"anchor\" id=\"E2\"></a>"
   ]
  },
  {
   "cell_type": "markdown",
   "id": "334df0d1",
   "metadata": {},
   "source": [
    "Soit $\\theta \\in \\mathbb{R}^p$. On a\n",
    "$$ F_n(\\theta)^T = \\sum_{i=1}^{n} h(\\theta^T x_i)(x_i x_i^T)^T = F_n(\\theta).$$\n",
    "\n",
    "Donc $F_n$ est bien symétrique.\n",
    "\n",
    "Soit $u \\in \\mathbb{R}^p$,\n",
    "$$\\begin{align}\n",
    "u^T F_n(\\theta) u &= \\sum_{i=1}^{n} h(\\theta^T x_i) u^Tx_i x_i^T u \\\\\n",
    "&= \\sum_{i=1}^{n} h(\\theta^T x_i) \\| x_i^T u \\|^2.\n",
    "\\end{align}$$\n",
    "\n",
    "Or, $\\forall t \\in \\mathbb{R}$, $h(t) = \\frac{e^t}{(1 + e^t)^2} \\geq 0$ Et donc $u^T F_n(\\theta) u \\geq 0$.\n",
    "\n",
    "On en conclue que $F_n(\\theta)$ est définie positive.\n"
   ]
  },
  {
   "cell_type": "markdown",
   "id": "030cfb5b",
   "metadata": {},
   "source": [
    "<h2 align=\"center\"> <font color='blue'>Exercice 3</font></h2> <a class=\"anchor\" id=\"E3\"></a>"
   ]
  },
  {
   "cell_type": "markdown",
   "id": "9a7386c0",
   "metadata": {},
   "source": [
    "On a $\\forall t \\in \\mathbb{R}$, \n",
    "$$\\begin{align}\n",
    "h(t) &= \\frac{e^t}{(1 + e^t)^2}\\\\\n",
    "&= \\frac{1}{2 + e^{-t} + e^t} \\\\\n",
    "&= \\frac{1}{2 + 2\\cosh(t)}.\n",
    "\\end{align}$$\n",
    "\n",
    "Ainsi on a $$h'(t) = \\frac{\\sinh(t)}{2(1 + \\cosh(t))^2}$$.\n",
    "\n",
    "Or comme $|\\sinh(t)| \\leq \\cosh(t)$, on a \n",
    "$$ |h'(t)| = \\frac{\\sinh(t)}{2(1 + \\cosh(t))^2} \\leq \\frac{|\\sinh(t)|}{4\\cosh(t)} \\leq \\frac{1}{4}.$$\n",
    "\n",
    "On en conclue que $h$ est $1$-Lipschitzienne sur $\\mathbb{R}$.\n"
   ]
  },
  {
   "cell_type": "markdown",
   "id": "038e96da",
   "metadata": {},
   "source": [
    "<h2 align=\"center\"> <font color='blue'>Exercice 4</font></h2> <a class=\"anchor\" id=\"E4\"></a>"
   ]
  },
  {
   "cell_type": "markdown",
   "id": "c1445073",
   "metadata": {},
   "source": [
    "Soit $\\theta \\in \\mathbb{R}^p$. Calculons la vraisemblance\n",
    "$$\\begin{align}\n",
    "L_n(\\theta) &= \\mathbb{P}_{n, \\theta} (Y_1, ..., Y_n)\\\\\n",
    "&= \\prod_{i=1}^{n} \\phi(\\theta^T x_i)^{Y_i} (1 - \\phi(\\theta^T x_i))^{1 - Y_i}.\n",
    "\\end{align}$$\n",
    "\n",
    "Alors, calculons la log-vraisemblance\n",
    "$$ l_n(\\theta) = \\sum_{i=1}^{n} Y_i \\ln(\\phi(\\theta^T x_i)) + (1-Y_i)\\ln(1 - \\phi(\\theta^T x_i)). $$ "
   ]
  },
  {
   "cell_type": "markdown",
   "id": "6846feb5",
   "metadata": {},
   "source": [
    "<h2 align=\"center\"> <font color='blue'>Exercice 5</font></h2> <a class=\"anchor\" id=\"E5\"></a>"
   ]
  },
  {
   "cell_type": "markdown",
   "id": "08a2fdc8",
   "metadata": {},
   "source": [
    "Soit $\\theta \\in \\mathbb{R}^p$.\n",
    "$$\\begin{align}\n",
    "\\nabla l_n(\\theta) &= \\sum_{i=1}^{n} Y_i \\frac{\\nabla \\phi(\\theta^T x_i)}{\\phi(\\theta^T x_i)} + \\sum_{i=1}^{n} (1 - Y_i)\\frac{-\\nabla \\phi(\\theta^T x_i)}{1 - \\phi(\\theta^T x_i)} \\\\\n",
    "&= \\sum_{i=1}^{n} Y_i \\frac{x_i \\phi'(\\theta^T x_i)}{\\phi(\\theta^T x_i)} - \\sum_{i=1}^{n} (1 - Y_i)\\frac{x_i \\phi'(\\theta^T x_i)}{1 - \\phi(\\theta^T x_i)}.\n",
    "\\end{align}$$\n",
    "\n",
    "Alors, on sait que $\\phi'(t) = \\phi(t)\\phi(1 -t) \\implies \\frac{\\phi'(t)}{\\phi(t)} = \\phi(1 - t)$ ce qui donne\n",
    "$$\\begin{align}\n",
    "\\nabla l_n(\\theta) &= \\sum_{i=1}^{n} Y_i x_i[1 - \\phi(\\theta^T x_i)] - \\sum_{i=1}^{n} (1-Y_i)x_i \\phi(\\theta^T x_i)\\\\\n",
    "&= \\sum_{i=1}^{n}Y_i x_i - x_i \\phi(\\theta^T x_i)\\\\\n",
    "&= \\sum_{i=1}^{n} [Y_i - \\phi(\\theta^T x_i)]x_i.\n",
    "\\end{align}$$\n",
    "\n",
    "On en conclue $$\\nabla l_n(\\theta) = X_n^T[Y_n - \\Phi_n(\\theta)].$$"
   ]
  },
  {
   "cell_type": "markdown",
   "id": "99c630e6",
   "metadata": {},
   "source": [
    "Soit $0 \\leq i,j \\leq n$, on a\n",
    "$$\\begin{align}\n",
    "\\frac{\\partial^2 l_n(\\theta)}{\\partial \\theta_i \\partial \\theta_j} &= \\sum_{k=1}^{n} \\frac{\\partial}{\\partial \\theta_i} \\left[ - \\phi'(\\theta^T x_k) (x_k)_j \\right]\\\\\n",
    "&= - \\sum_{k=1}^{n} \\phi'(\\theta^T x_k) (x_k)_i (x_k)_j.\n",
    "\\end{align}$$\n",
    "\n",
    "Or $\\forall t \\in \\mathbb{R}$, $\\phi'(t) = h(t)$ et $\\forall(i,j)$, on a $(x_k x_k^T)_{i,j} = (x_k)_i (x_k)_j$ et donc\n",
    "$$ \\frac{\\partial^2 l_n(\\theta)}{\\partial \\theta_i \\partial \\theta_j} = - \\sum_{k=1}^{n} h(\\theta^T x_k) (x_k x_k^T)_{i,j}.$$\n",
    "\n",
    "Ainsi $$ \\nabla^2 l_n(\\theta) = \\sum_{k=1}^{n} l_n(\\theta^T x_k) x_k x_k^T = -F_n(\\theta).$$\n",
    "\n",
    "On remarque que la matrice Hessienne de $l_n(\\theta)$ est symétrique définie négative $\\implies l_n$ est concave."
   ]
  },
  {
   "cell_type": "markdown",
   "id": "f7764d4f",
   "metadata": {},
   "source": [
    "D'après le cours, on a\n",
    "$$\\begin{align}\n",
    "\\mathbb{I}(\\theta) &= \\mathbb{E}_\\theta[\\nabla l_n(\\theta) \\nabla l_n(\\theta)^T]\\\\\n",
    "&= - \\mathbb{E}_{\\theta}[\\nabla^2 l_n(\\theta)]\n",
    "\\end{align}$$\n",
    "où $\\mathbb{I}(\\theta)$ est l'information de Fisher.\n",
    "\n",
    "Donc $$ E_{n, \\theta}[\\nabla l_n(\\theta) \\nabla l_n(\\theta)^T] = F_n(\\theta).$$"
   ]
  },
  {
   "cell_type": "markdown",
   "id": "2cfbe4ad",
   "metadata": {},
   "source": [
    "<h2 align=\"center\"> <font color='blue'>Exercice 6</font></h2> <a class=\"anchor\" id=\"E6\"></a>"
   ]
  },
  {
   "cell_type": "markdown",
   "id": "d8c57bda",
   "metadata": {},
   "source": [
    "On a $$ l_n(\\theta) = \\sum_{i=1}^{n} \\left[ Y_i \\ln(\\phi(\\theta^T x_i)) + (1 - Y_i)\\ln(1 - \\phi(\\theta^T x_i)) \\right] $$\n",
    "Ainsi $$\\begin{align}\n",
    "l_n(\\lambda \\theta_*) &= \\sum_{i=1}^{n} \\left[ Y_i \\ln(\\phi(\\lambda \\theta_*^T x_i)) + (1 - Y_i)\\ln(1 - \\phi(\\lambda \\theta_*^T x_i)) \\right] \\\\\n",
    "&= \\sum_{i : Y_i = 0} \\ln(1 - \\phi(\\lambda \\theta_*^T x_i)) + \\sum_{i : Y_i = 1} \\ln(\\phi(\\lambda \\theta_*^T x_i)).\n",
    "\\end{align}$$\n",
    "\n",
    "Or $\\forall i$ tel que $Y_i = 1$, on a $\\theta_*^T x_i > 0$ ainsi\n",
    "$$ \\lim_{\\lambda \\to +\\infty} \\ln(\\phi(\\lambda \\theta_*^T x_i)) = \\lim_{t \\to 1} \\ln(t) = 0.$$\n",
    "\n",
    "Analogiquement $\\forall i$ tel que $Y_i = 0$, on a $\\theta_*^T x_i < 0$ ainsi\n",
    "$$ \\lim_{\\lambda \\to +\\infty} \\phi(\\lambda \\theta_*^T x_i) = 0 \\implies \\lim_{\\lambda \\to +\\infty} \\ln(1 - \\phi(\\lambda \\theta_*^T x_i)) = \\lim_{t \\to 1} \\ln(t) = 0.$$\n",
    "\n",
    "Donc $ \\lim_{\\lambda \\to +\\infty} l_n(\\lambda \\theta_*) = 0.$"
   ]
  },
  {
   "cell_type": "markdown",
   "id": "783b78a1",
   "metadata": {},
   "source": [
    "On sait que $0 < L(\\theta) < 1$ car $\\phi(t) \\in ]0,1[$ et donc $l_n(\\theta) < 0$. Ainsi, $\\forall \\theta \\in \\mathbb{R}^p$ il existe $\\lambda \\in \\mathbb{R}$ tel que $l_n(\\theta) < l_n(\\lambda \\theta_*)$ car $\\lim_{\\lambda \\to +\\infty} \\ln(\\lambda \\theta_*) = 0$. Donc, on conclue que le maximum de vraissemblance n'existe pas dans ce cas là."
   ]
  },
  {
   "cell_type": "markdown",
   "id": "ff394cc3",
   "metadata": {},
   "source": [
    "<h2 align=\"center\"> <font color='blue'>Exercice 7</font></h2> <a class=\"anchor\" id=\"E7\"></a>"
   ]
  },
  {
   "cell_type": "markdown",
   "id": "d7a09b39",
   "metadata": {},
   "source": [
    "Soit $\\bar{\\theta} \\in \\mathbb{R}^p$. On calcule $L_n(\\theta)$ en $\\theta_\\lambda = \\lambda \\theta_* + (\\bar{\\theta} - \\theta_*)$, on a\n",
    "$$\\begin{align}\n",
    "L_n(\\theta_\\lambda) &= \\prod_{i=1}^{n} \\phi(\\theta_\\lambda^T x_i)^{Y_i} (1 - \\phi(\\theta_\\lambda^T x_i))^{1 - Y_i}\\\\\n",
    "&= \\left(\\prod_{i \\in \\varepsilon} \\phi(\\bar{\\theta}^T x_i)^{Y_i} (1 - \\phi(\\bar{\\theta}^T x_i))^{1 - Y_i} \\right) \\left( \\prod_{i \\not\\in \\varepsilon} \\phi(\\theta_\\lambda^T x_i)^{Y_i} (1 - \\phi(\\theta_\\lambda^T x_i))^{1 - Y_i} \\right)\n",
    "\\end{align}$$\n",
    "\n",
    "Alors, $\\forall i \\not\\in \\varepsilon$ avec $Y_i = 1$ on a $\\theta_*^T x_i > 0$ ainsi\n",
    "$$ \\lim_{\\lambda \\to +\\infty} e^{- \\theta_\\lambda^T x_i} = \\lim_{\\lambda \\to +\\infty} e^{- \\lambda \\theta_*^T x_i}e^{-(\\bar{\\theta} - \\theta_*)^T x_i} = 0$$\n",
    "et donc $\\lim_{\\lambda \\to +\\infty} \\phi(\\theta_\\lambda^T x_i) = 1$.\n",
    "\n",
    "De même, $\\forall i \\not\\in \\varepsilon$ avec $Y_i = 0$ on a $\\theta_*^T x_i < 0$ ainsi\n",
    "$$ \\lim_{\\lambda \\to +\\infty} e^{- \\theta_\\lambda^T x_i} = \\lim_{\\lambda \\to +\\infty} e^{- \\lambda \\theta_*^T x_i}e^{-(\\bar{\\theta} - \\theta_*)^T x_i} = +\\infty$$\n",
    "et donc $\\lim_{\\lambda \\to +\\infty} \\phi(\\theta_\\lambda^T x_i) = 0$, ainsi $\\lim_{\\lambda \\to +\\infty} 1 - \\phi(\\theta_\\lambda^T x_i) = 1$.\n",
    "\n",
    "On en conclue $$ \\lim_{\\lambda \\to +\\infty} \\left( \\prod_{i \\not\\in \\varepsilon} \\phi(\\theta_\\lambda^T x_i)^{Y_i} (1 - \\phi(\\theta_\\lambda^T x_i))^{1 - Y_i} \\right) = 1.$$\n",
    "\n",
    "D'autre part, le produit $\\left(\\prod_{i \\in \\varepsilon} \\phi(\\bar{\\theta}^T x_i)^{Y_i} (1 - \\phi(\\bar{\\theta}^T x_i))^{1 - Y_i} \\right)$ est clé en $\\lambda$ et donc $\\forall \\bar{\\theta} \\in \\mathbb{R}^p$ il existe $\\lambda \\in \\mathbb{R}$ Tel que $L_n(\\theta_\\lambda) \\geq L_n(\\bar{\\theta})$ et donc le maximum de vraisemblance n'existe pas dans une telle situation."
   ]
  },
  {
   "cell_type": "markdown",
   "id": "70a8c96e",
   "metadata": {},
   "source": [
    "<h2 align=\"center\"> <font color='blue'>Exercice 8</font></h2> <a class=\"anchor\" id=\"E8\"></a>"
   ]
  },
  {
   "cell_type": "markdown",
   "id": "a3487514",
   "metadata": {},
   "source": [
    "<h2 align=\"center\"> <font color='blue'>Exercice 9</font></h2> <a class=\"anchor\" id=\"E9\"></a>"
   ]
  },
  {
   "cell_type": "markdown",
   "id": "592daa0b",
   "metadata": {},
   "source": [
    "<h2 align=\"center\"> <font color='blue'>Exercice 10</font></h2> <a class=\"anchor\" id=\"E10\"></a>"
   ]
  },
  {
   "cell_type": "markdown",
   "id": "b09cd313",
   "metadata": {},
   "source": [
    "<h2 align=\"center\"> <font color='blue'>Exercice 11</font></h2> <a class=\"anchor\" id=\"E11\"></a>"
   ]
  },
  {
   "cell_type": "markdown",
   "id": "e25e4d30",
   "metadata": {},
   "source": [
    "<h2 align=\"center\"> <font color='blue'>Exercice 12</font></h2> <a class=\"anchor\" id=\"E12\"></a>"
   ]
  },
  {
   "cell_type": "markdown",
   "id": "9b761c64",
   "metadata": {},
   "source": [
    "<h2 align=\"center\"> <font color='blue'>Exercice 13</font></h2> <a class=\"anchor\" id=\"E13\"></a>"
   ]
  },
  {
   "cell_type": "markdown",
   "id": "7e3da9d3",
   "metadata": {},
   "source": [
    "<h2 align=\"center\"> <font color='blue'>Exercice 14</font></h2> <a class=\"anchor\" id=\"E14\"></a>"
   ]
  },
  {
   "cell_type": "markdown",
   "id": "55bc5d0a",
   "metadata": {},
   "source": [
    "<h2 align=\"center\"> <font color='blue'>Exercice 15</font></h2> <a class=\"anchor\" id=\"E15\"></a>"
   ]
  },
  {
   "cell_type": "markdown",
   "id": "75b59e33",
   "metadata": {},
   "source": [
    "<h2 align=\"center\"> <font color='blue'>Exercice 16</font></h2> <a class=\"anchor\" id=\"E16\"></a>"
   ]
  },
  {
   "cell_type": "markdown",
   "id": "046aba5c",
   "metadata": {},
   "source": [
    "<h1 align=\"center\"> <font color='green'>Application Numérique</font></h1> <a class=\"anchor\" id=\"Pratique\"></a>"
   ]
  },
  {
   "cell_type": "markdown",
   "id": "524ee762",
   "metadata": {},
   "source": [
    "<h2 align=\"center\"> <font color='gray'>Python Imports</font></h2> <a class=\"anchor\" id=\"imports\"></a>"
   ]
  },
  {
   "cell_type": "code",
   "execution_count": 1,
   "id": "32cdfb65",
   "metadata": {},
   "outputs": [],
   "source": [
    "import math\n",
    "import numpy as np\n",
    "from numpy.linalg import inv,norm\n",
    "import pandas as pd\n",
    "import matplotlib.pyplot as plt\n",
    "import numpy.random as npr\n",
    "import scipy.stats as sps"
   ]
  },
  {
   "cell_type": "markdown",
   "id": "701507e0",
   "metadata": {},
   "source": [
    "<h2 align=\"center\"> <font color='blue'>Exercice 1</font></h2> <a class=\"anchor\" id=\"P1\"></a>"
   ]
  },
  {
   "cell_type": "markdown",
   "id": "3ba1cde6",
   "metadata": {},
   "source": [
    "<h2 align=\"center\"> <font color='blue'>Exercice 2</font></h2> <a class=\"anchor\" id=\"P2\"></a>"
   ]
  },
  {
   "cell_type": "markdown",
   "id": "9840b200",
   "metadata": {},
   "source": [
    "<h2 align=\"center\"> <font color='blue'>Exercice 3</font></h2> <a class=\"anchor\" id=\"P3\"></a>"
   ]
  },
  {
   "cell_type": "markdown",
   "id": "f511a3f3",
   "metadata": {},
   "source": [
    "<h2 align=\"center\"> <font color='blue'>Exercice 4</font></h2> <a class=\"anchor\" id=\"P4\"></a>"
   ]
  },
  {
   "cell_type": "markdown",
   "id": "42a49964",
   "metadata": {},
   "source": [
    "<h2 align=\"center\"> <font color='blue'>Exercice 5</font></h2> <a class=\"anchor\" id=\"P5\"></a>"
   ]
  },
  {
   "cell_type": "markdown",
   "id": "bc83d399",
   "metadata": {},
   "source": [
    "<h2 align=\"center\"> <font color='blue'>Exercice 6</font></h2> <a class=\"anchor\" id=\"P6\"></a>"
   ]
  },
  {
   "cell_type": "markdown",
   "id": "7bf00f2c",
   "metadata": {},
   "source": [
    "<h2 align=\"center\"> <font color='blue'>Exercice 7</font></h2> <a class=\"anchor\" id=\"P7\"></a>"
   ]
  },
  {
   "cell_type": "markdown",
   "id": "2e8bf2b4",
   "metadata": {},
   "source": [
    "<h2 align=\"center\"> <font color='blue'>Exercice 8</font></h2> <a class=\"anchor\" id=\"P8\"></a>"
   ]
  },
  {
   "cell_type": "markdown",
   "id": "0356a320",
   "metadata": {},
   "source": [
    "<h2 align=\"center\"> <font color='blue'>Exercice 9</font></h2> <a class=\"anchor\" id=\"P9\"></a>"
   ]
  },
  {
   "cell_type": "markdown",
   "id": "35c97fa6",
   "metadata": {},
   "source": [
    "<h2 align=\"center\"> <font color='blue'>Exercice 10</font></h2> <a class=\"anchor\" id=\"P10\"></a>"
   ]
  }
 ],
 "metadata": {
  "kernelspec": {
   "display_name": "Python 3 (ipykernel)",
   "language": "python",
   "name": "python3"
  },
  "language_info": {
   "codemirror_mode": {
    "name": "ipython",
    "version": 3
   },
   "file_extension": ".py",
   "mimetype": "text/x-python",
   "name": "python",
   "nbconvert_exporter": "python",
   "pygments_lexer": "ipython3",
   "version": "3.9.12"
  }
 },
 "nbformat": 4,
 "nbformat_minor": 5
}
