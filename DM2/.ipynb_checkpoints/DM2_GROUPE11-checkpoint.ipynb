{
 "cells": [
  {
   "cell_type": "markdown",
   "id": "233deee0",
   "metadata": {},
   "source": [
    "# <font color='289C4E'>Devoir Maison 2\n",
    "**Élèves**: Sadegh ABDERRAHIM & Gabriel PEREIRA DE CARVALHO & Otávio RIBAS"
   ]
  },
  {
   "cell_type": "markdown",
   "id": "b80b6389",
   "metadata": {},
   "source": [
    "### <font color='289C4E'>Table des matières<font><a class='anchor' id='top'></a>\n",
    "- [Problème](#Prob)\n",
    "    - [Exercice 1](#E1)\n",
    "    - [Exercice 2](#E2)\n",
    "    - [Exercice 3](#E3)\n",
    "    - [Exercice 4](#E4)\n",
    "    - [Exercice 5](#E5)\n",
    "    - [Exercice 6](#E6)\n",
    "    - [Exercice 7](#E7)\n",
    "    - [Exercice 8](#E8)\n",
    "    - [Exercice 9](#E9)\n",
    "    - [Exercice 10](#E10)\n",
    "    - [Exercice 11](#E11)\n",
    "    - [Exercice 12](#E12)\n",
    "    - [Exercice 13](#E13)\n",
    "    - [Exercice 14](#E14)\n",
    "    - [Exercice 15](#E15)\n",
    "    - [Exercice 16](#E16)\n",
    "- [Application Numérique](#Pratique)\n",
    "    - [Python Imports](#imports)\n",
    "    - [Exercice 1](#P1)\n",
    "    - [Exercice 2](#P2)\n",
    "    - [Exercice 3](#P3)\n",
    "    - [Exercice 4](#P4)\n",
    "    - [Exercice 5](#P5)\n",
    "    - [Exercice 6](#P6)\n",
    "    - [Exercice 7](#P7)\n",
    "    - [Exercice 8](#P8)\n",
    "    - [Exercice 9](#P9)\n",
    "    - [Exercice 10](#P10)"
   ]
  },
  {
   "cell_type": "markdown",
   "id": "71f15426",
   "metadata": {},
   "source": [
    "<h1 align=\"center\"> <font color='green'>Problème</font></h1> <a class=\"anchor\" id=\"Prob\"></a>"
   ]
  },
  {
   "cell_type": "markdown",
   "id": "fad5046d",
   "metadata": {},
   "source": [
    "<h2 align=\"center\"> <font color='blue'>Exercice 1</font></h2> <a class=\"anchor\" id=\"E1\"></a>"
   ]
  },
  {
   "cell_type": "markdown",
   "id": "8de8433a",
   "metadata": {},
   "source": [
    "Soit $n \\geq 0$. Soit $\\theta, \\theta'$ tels que $\\mathbb{P}_{n, \\theta} = \\mathbb{P}_{n, \\theta'}$.\n",
    "\n",
    "Donc, $\\forall 1 \\leq i \\leq n$ on a $\\mathrm{Ber}(\\phi(\\theta^T x_i)) = \\mathrm{Ber}(\\phi(\\theta'^T x_i))$.\n",
    "\n",
    "Ainsi $\\forall i \\in \\{1, ..., n\\} \\quad \\phi(\\theta^T x_i) = \\phi(\\theta'^T x_i)$.\n",
    "\n",
    "D'autre part $\\forall t > 0 \\quad \\phi'(t) = \\frac{e^t}{(1 + e^t)^2} \\geq 0$.\n",
    "\n",
    "Donc $\\phi$ est strictement croissante et continue $\\implies \\phi$ est bijective.\n",
    "\n",
    "On en déduit que $\\forall 1 \\leq i \\leq \\theta^T x_i = \\theta'^T x_i$ et donc $X_n \\theta = X_n \\theta'$ où la matrice $X_n \\in \\mathcal{M}_{n \\times p}(\\mathbb{R})$ est de rang $p$ et donc elle est injective.\n",
    "\n",
    "Ainsi, nous obtenons que $\\theta = \\theta'$ et donc le modèle est identifiable."
   ]
  },
  {
   "cell_type": "markdown",
   "id": "d3972a71",
   "metadata": {},
   "source": [
    "<h2 align=\"center\"> <font color='blue'>Exercice 2</font></h2> <a class=\"anchor\" id=\"E2\"></a>"
   ]
  },
  {
   "cell_type": "markdown",
   "id": "03b9f879",
   "metadata": {},
   "source": [
    "Soit $\\theta \\in \\mathbb{R}^p$. On a\n",
    "$$ F_n(\\theta)^T = \\sum_{i=1}^{n} h(\\theta^T x_i)(x_i x_i^T)^T = F_n(\\theta).$$\n",
    "\n",
    "Donc $F_n$ est bien symétrique.\n",
    "\n",
    "Soit $u \\in \\mathbb{R}^p$,\n",
    "$$\\begin{align}\n",
    "u^T F_n(\\theta) u &= \\sum_{i=1}^{n} h(\\theta^T x_i) u^Tx_i x_i^T u \\\\\n",
    "&= \\sum_{i=1}^{n} h(\\theta^T x_i) \\| x_i^T u \\|^2.\n",
    "\\end{align}$$\n",
    "\n",
    "Or, $\\forall t \\in \\mathbb{R}$, $h(t) = \\frac{e^t}{(1 + e^t)^2} \\geq 0$ Et donc $u^T F_n(\\theta) u \\geq 0$.\n",
    "\n",
    "On en conclue que $F_n(\\theta)$ est définie positive.\n"
   ]
  },
  {
   "cell_type": "markdown",
   "id": "539579ca",
   "metadata": {},
   "source": [
    "<h2 align=\"center\"> <font color='blue'>Exercice 3</font></h2> <a class=\"anchor\" id=\"E3\"></a>"
   ]
  },
  {
   "cell_type": "markdown",
   "id": "1493b3dc",
   "metadata": {},
   "source": [
    "On a $\\forall t \\in \\mathbb{R}$, \n",
    "$$\\begin{align}\n",
    "h(t) &= \\frac{e^t}{(1 + e^t)^2}\\\\\n",
    "&= \\frac{1}{2 + e^{-t} + e^t} \\\\\n",
    "&= \\frac{1}{2 + 2\\cosh(t)}.\n",
    "\\end{align}$$\n",
    "\n",
    "Ainsi on a $$h'(t) = \\frac{\\sinh(t)}{2(1 + \\cosh(t))^2}$$.\n",
    "\n",
    "Or comme $|\\sinh(t)| \\leq \\cosh(t)$, on a \n",
    "$$ |h'(t)| = \\frac{\\sinh(t)}{2(1 + \\cosh(t))^2} \\leq \\frac{|\\sinh(t)|}{4\\cosh(t)} \\leq \\frac{1}{4}.$$\n",
    "\n",
    "On en conclue que $h$ est $1$-Lipschitzienne sur $\\mathbb{R}$.\n"
   ]
  },
  {
   "cell_type": "markdown",
   "id": "cf7c3dd6",
   "metadata": {},
   "source": [
    "<h2 align=\"center\"> <font color='blue'>Exercice 4</font></h2> <a class=\"anchor\" id=\"E4\"></a>"
   ]
  },
  {
   "cell_type": "markdown",
   "id": "3fb09984",
   "metadata": {},
   "source": [
    "Soit $\\theta \\in \\mathbb{R}^p$. Calculons la vraisemblance\n",
    "$$\\begin{align}\n",
    "L_n(\\theta) &= \\mathbb{P}_{n, \\theta} (Y_1, ..., Y_n)\\\\\n",
    "&= \\prod_{i=1}^{n} \\phi(\\theta^T x_i)^{Y_i} (1 - \\phi(\\theta^T x_i))^{1 - Y_i}.\n",
    "\\end{align}$$\n",
    "\n",
    "Alors, calculons la log-vraisemblance\n",
    "$$ l_n(\\theta) = \\sum_{i=1}^{n} Y_i \\ln(\\phi(\\theta^T x_i)) + (1-Y_i)\\ln(1 - \\phi(\\theta^T x_i)). $$ "
   ]
  },
  {
   "cell_type": "markdown",
   "id": "f521136b",
   "metadata": {},
   "source": [
    "<h2 align=\"center\"> <font color='blue'>Exercice 5</font></h2> <a class=\"anchor\" id=\"E5\"></a>"
   ]
  },
  {
   "cell_type": "markdown",
   "id": "20b11103",
   "metadata": {},
   "source": [
    "Soit $\\theta \\in \\mathbb{R}^p$.\n",
    "$$\\begin{align}\n",
    "\\nabla l_n(\\theta) &= \\sum_{i=1}^{n} Y_i \\frac{\\nabla \\phi(\\theta^T x_i)}{\\phi(\\theta^T x_i)} + \\sum_{i=1}^{n} (1 - Y_i)\\frac{-\\nabla \\phi(\\theta^T x_i)}{1 - \\phi(\\theta^T x_i)} \\\\\n",
    "&= \\sum_{i=1}^{n} Y_i \\frac{x_i \\phi'(\\theta^T x_i)}{\\phi(\\theta^T x_i)} - \\sum_{i=1}^{n} (1 - Y_i)\\frac{x_i \\phi'(\\theta^T x_i)}{1 - \\phi(\\theta^T x_i)}.\n",
    "\\end{align}$$\n",
    "\n",
    "Alors, on sait que $\\phi'(t) = \\phi(t)\\phi(1 -t) \\implies \\frac{\\phi'(t)}{\\phi(t)} = \\phi(1 - t)$ ce qui donne\n",
    "$$\\begin{align}\n",
    "\\nabla l_n(\\theta) &= \\sum_{i=1}^{n} Y_i x_i[1 - \\phi(\\theta^T x_i)] - \\sum_{i=1}^{n} (1-Y_i)x_i \\phi(\\theta^T x_i)\\\\\n",
    "&= \\sum_{i=1}^{n}Y_i x_i - x_i \\phi(\\theta^T x_i)\\\\\n",
    "&= \\sum_{i=1}^{n} [Y_i - \\phi(\\theta^T x_i)]x_i.\n",
    "\\end{align}$$\n",
    "\n",
    "On en conclue $$\\nabla l_n(\\theta) = X_n^T[Y_n - \\Phi_n(\\theta)].$$"
   ]
  },
  {
   "cell_type": "markdown",
   "id": "cd8ecd68",
   "metadata": {},
   "source": [
    "Soit $0 \\leq i,j \\leq n$, on a\n",
    "$$\\begin{align}\n",
    "\\frac{\\partial^2 l_n(\\theta)}{\\partial \\theta_i \\partial \\theta_j} &= \\sum_{k=1}^{n} \\frac{\\partial}{\\partial \\theta_i} \\left[ - \\phi'(\\theta^T x_k) (x_k)_j \\right]\\\\\n",
    "&= - \\sum_{k=1}^{n} \\phi'(\\theta^T x_k) (x_k)_i (x_k)_j.\n",
    "\\end{align}$$\n",
    "\n",
    "Or $\\forall t \\in \\mathbb{R}$, $\\phi'(t) = h(t)$ et $\\forall(i,j)$, on a $(x_k x_k^T)_{i,j} = (x_k)_i (x_k)_j$ et donc\n",
    "$$ \\frac{\\partial^2 l_n(\\theta)}{\\partial \\theta_i \\partial \\theta_j} = - \\sum_{k=1}^{n} h(\\theta^T x_k) (x_k x_k^T)_{i,j}.$$\n",
    "\n",
    "Ainsi $$ \\nabla^2 l_n(\\theta) = \\sum_{k=1}^{n} l_n(\\theta^T x_k) x_k x_k^T = -F_n(\\theta).$$\n",
    "\n",
    "On remarque que la matrice Hessienne de $l_n(\\theta)$ est symétrique définie négative $\\implies l_n$ est concave."
   ]
  },
  {
   "cell_type": "markdown",
   "id": "12a79211",
   "metadata": {},
   "source": [
    "D'après le cours, on a\n",
    "$$\\begin{align}\n",
    "\\mathbb{I}(\\theta) &= \\mathbb{E}_\\theta[\\nabla l_n(\\theta) \\nabla l_n(\\theta)^T]\\\\\n",
    "&= - \\mathbb{E}_{\\theta}[\\nabla^2 l_n(\\theta)]\n",
    "\\end{align}$$\n",
    "où $\\mathbb{I}(\\theta)$ est l'information de Fisher.\n",
    "\n",
    "Donc $$ E_{n, \\theta}[\\nabla l_n(\\theta) \\nabla l_n(\\theta)^T] = F_n(\\theta).$$"
   ]
  },
  {
   "cell_type": "markdown",
   "id": "68fdfad3",
   "metadata": {},
   "source": [
    "<h2 align=\"center\"> <font color='blue'>Exercice 6</font></h2> <a class=\"anchor\" id=\"E6\"></a>"
   ]
  },
  {
   "cell_type": "markdown",
   "id": "447cf861",
   "metadata": {},
   "source": [
    "On a $$ l_n(\\theta) = \\sum_{i=1}^{n} \\left[ Y_i \\ln(\\phi(\\theta^T x_i)) + (1 - Y_i)\\ln(1 - \\phi(\\theta^T x_i)) \\right] $$\n",
    "Ainsi $$\\begin{align}\n",
    "l_n(\\lambda \\theta_*) &= \\sum_{i=1}^{n} \\left[ Y_i \\ln(\\phi(\\lambda \\theta_*^T x_i)) + (1 - Y_i)\\ln(1 - \\phi(\\lambda \\theta_*^T x_i)) \\right] \\\\\n",
    "&= \\sum_{i : Y_i = 0} \\ln(1 - \\phi(\\lambda \\theta_*^T x_i)) + \\sum_{i : Y_i = 1} \\ln(\\phi(\\lambda \\theta_*^T x_i)).\n",
    "\\end{align}$$\n",
    "\n",
    "Or $\\forall i$ tel que $Y_i = 1$, on a $\\theta_*^T x_i > 0$ ainsi\n",
    "$$ \\lim_{\\lambda \\to +\\infty} \\ln(\\phi(\\lambda \\theta_*^T x_i)) = \\lim_{t \\to 1} \\ln(t) = 0.$$\n",
    "\n",
    "Analogiquement $\\forall i$ tel que $Y_i = 0$, on a $\\theta_*^T x_i < 0$ ainsi\n",
    "$$ \\lim_{\\lambda \\to +\\infty} \\phi(\\lambda \\theta_*^T x_i) = 0 \\implies \\lim_{\\lambda \\to +\\infty} \\ln(1 - \\phi(\\lambda \\theta_*^T x_i)) = \\lim_{t \\to 1} \\ln(t) = 0.$$\n",
    "\n",
    "Donc $ \\lim_{\\lambda \\to +\\infty} l_n(\\lambda \\theta_*) = 0.$"
   ]
  },
  {
   "cell_type": "markdown",
   "id": "40449f08",
   "metadata": {},
   "source": [
    "On sait que $0 < L(\\theta) < 1$ car $\\phi(t) \\in ]0,1[$ et donc $l_n(\\theta) < 0$. Ainsi, $\\forall \\theta \\in \\mathbb{R}^p$ il existe $\\lambda \\in \\mathbb{R}$ tel que $l_n(\\theta) < l_n(\\lambda \\theta_*)$ car $\\lim_{\\lambda \\to +\\infty} \\ln(\\lambda \\theta_*) = 0$. Donc, on conclue que le maximum de vraissemblance n'existe pas dans ce cas là."
   ]
  },
  {
   "cell_type": "markdown",
   "id": "7a0f2fe2",
   "metadata": {},
   "source": [
    "<h2 align=\"center\"> <font color='blue'>Exercice 7</font></h2> <a class=\"anchor\" id=\"E7\"></a>"
   ]
  },
  {
   "cell_type": "markdown",
   "id": "2be48a20",
   "metadata": {},
   "source": [
    "Soit $\\bar{\\theta} \\in \\mathbb{R}^p$. On calcule $L_n(\\theta)$ en $\\theta_\\lambda = \\lambda \\theta_* + (\\bar{\\theta} - \\theta_*)$, on a\n",
    "$$\\begin{align}\n",
    "L_n(\\theta_\\lambda) &= \\prod_{i=1}^{n} \\phi(\\theta_\\lambda^T x_i)^{Y_i} (1 - \\phi(\\theta_\\lambda^T x_i))^{1 - Y_i}\\\\\n",
    "&= \\left(\\prod_{i \\in \\varepsilon} \\phi(\\bar{\\theta}^T x_i)^{Y_i} (1 - \\phi(\\bar{\\theta}^T x_i))^{1 - Y_i} \\right) \\left( \\prod_{i \\not\\in \\varepsilon} \\phi(\\theta_\\lambda^T x_i)^{Y_i} (1 - \\phi(\\theta_\\lambda^T x_i))^{1 - Y_i} \\right)\n",
    "\\end{align}$$\n",
    "\n",
    "Alors, $\\forall i \\not\\in \\varepsilon$ avec $Y_i = 1$ on a $\\theta_*^T x_i > 0$ ainsi\n",
    "$$ \\lim_{\\lambda \\to +\\infty} e^{- \\theta_\\lambda^T x_i} = \\lim_{\\lambda \\to +\\infty} e^{- \\lambda \\theta_*^T x_i}e^{-(\\bar{\\theta} - \\theta_*)^T x_i} = 0$$\n",
    "et donc $\\lim_{\\lambda \\to +\\infty} \\phi(\\theta_\\lambda^T x_i) = 1$.\n",
    "\n",
    "De même, $\\forall i \\not\\in \\varepsilon$ avec $Y_i = 0$ on a $\\theta_*^T x_i < 0$ ainsi\n",
    "$$ \\lim_{\\lambda \\to +\\infty} e^{- \\theta_\\lambda^T x_i} = \\lim_{\\lambda \\to +\\infty} e^{- \\lambda \\theta_*^T x_i}e^{-(\\bar{\\theta} - \\theta_*)^T x_i} = +\\infty$$\n",
    "et donc $\\lim_{\\lambda \\to +\\infty} \\phi(\\theta_\\lambda^T x_i) = 0$, ainsi $\\lim_{\\lambda \\to +\\infty} 1 - \\phi(\\theta_\\lambda^T x_i) = 1$.\n",
    "\n",
    "On en conclue $$ \\lim_{\\lambda \\to +\\infty} \\left( \\prod_{i \\not\\in \\varepsilon} \\phi(\\theta_\\lambda^T x_i)^{Y_i} (1 - \\phi(\\theta_\\lambda^T x_i))^{1 - Y_i} \\right) = 1.$$\n",
    "\n",
    "D'autre part, le produit $\\left(\\prod_{i \\in \\varepsilon} \\phi(\\bar{\\theta}^T x_i)^{Y_i} (1 - \\phi(\\bar{\\theta}^T x_i))^{1 - Y_i} \\right)$ est clé en $\\lambda$ et donc $\\forall \\bar{\\theta} \\in \\mathbb{R}^p$ il existe $\\lambda \\in \\mathbb{R}$ Tel que $L_n(\\theta_\\lambda) \\geq L_n(\\bar{\\theta})$ et donc le maximum de vraisemblance n'existe pas dans une telle situation."
   ]
  },
  {
   "cell_type": "markdown",
   "id": "badb75e3",
   "metadata": {},
   "source": [
    "<h2 align=\"center\"> <font color='blue'>Exercice 8</font></h2> <a class=\"anchor\" id=\"E8\"></a>"
   ]
  },
  {
   "cell_type": "markdown",
   "id": "f6ece0db",
   "metadata": {},
   "source": [
    "Supposons l'existence D’un recouvrement.\n",
    "\n",
    "Notons $$\\begin{align}\n",
    "\\begin{cases}\n",
    "k_{1,\\theta} &= \\mathrm{argmax}_{k \\in \\{1,...,n\\}} \\theta^T x_k \\\\\n",
    "k_{2,\\theta} &= \\mathrm{argmin}_{k \\in \\{1,...,n\\}} \\theta^T x_k.\n",
    "\\end{cases}\n",
    "\\end{align}$$\n",
    "\n",
    "Comme $\\exists k_1, k_2$ tel que $\\theta^T x_{k_1} > 0$ et $\\theta^T x_{k_2} < 0$ alors on déduit $$\\begin{align}\n",
    "\\begin{cases}\n",
    "\\theta^T x_{k_{1, \\theta}} > 0 \\\\\n",
    "\\theta^T x_{k_{2, \\theta}} < 0.\n",
    "\\end{cases}\n",
    "\\end{align}$$\n",
    "\n",
    "Les fonctions $\\Phi_1: \\theta \\mapsto \\theta^T x_{k_{1, \\theta}} > 0$ et $\\Phi_2: \\theta \\mapsto \\theta^T x_{k_{2, \\theta}} < 0$ sont bornées sur $\\mathcal{S}(0,1)$ car\n",
    "$$\\begin{align}\n",
    "|\\theta^T x_{k_{1, \\theta}}| &\\leq \\sqrt{\\|\\theta\\| \\| x_{k_{1, \\theta}} \\|} \\quad \\text{par l'inégalité de Cauchy-Schwarz}\\\\\n",
    "&\\leq \\sqrt{\\| x_{k_{1, \\theta}} \\|}\\\\\n",
    "&\\leq \\max_{k} \\sqrt{\\|x_k\\|} = \\zeta.\n",
    "\\end{align}$$\n",
    "\n",
    "De même $| \\theta^T x_{k_{2, \\theta}} | \\leq \\zeta = \\max_{k} \\sqrt{\\|x_k\\|}$."
   ]
  },
  {
   "cell_type": "markdown",
   "id": "598bdbb1",
   "metadata": {},
   "source": [
    "Et donc comme $\\mathcal{S}(0,1)$ est compacte et $\\Phi_1$ et $\\Phi_2$ sont bornées sur $\\mathcal{S}(0,1)$, alors elles admettent un minimum et un maximum.\n",
    "\n",
    "Soit $M_1 = \\min_{\\theta} \\theta^T x_{k_{1, \\theta}}$ et $M_2 = \\min_{\\theta} \\theta^T x_{k_{2, \\theta}}$ alors si on prend $\\epsilon = \\min(M_1, - M_2)$, on aura bien\n",
    "$$\\forall \\theta \\in \\mathcal{S}(0,1) \\quad \\theta^T x_{k_{1, \\theta}} > \\epsilon \\quad \\text{et} \\quad \\theta^T x_{k_{2, \\theta}} < - \\epsilon.$$"
   ]
  },
  {
   "cell_type": "markdown",
   "id": "31b9c62b",
   "metadata": {},
   "source": [
    "Soit $\\lambda > 0$, calculons maintenant $l_n(\\lambda \\theta)$.\n",
    "$$\\begin{align}\n",
    "l_n(\\lambda \\theta) &= \\sum_{i=1}^{n} \\left[ Y_i \\ln(\\phi(\\theta^T x_i)) + (1-Y_i)\\ln(1 - \\phi(\\theta^T x_i)) \\right] \\\\\n",
    "&\\leq Y_{k_{1,\\theta}} \\ln(\\phi(\\theta^T x_i)) + (1 - Y_{k_{1,\\theta}})\\ln(1 - \\phi(\\theta^T x_{k_{1,\\theta}})) \\\\\n",
    "&= \\ln(1 - \\phi(\\theta^T x_{k_{1, \\theta}})) - Y_{k_{1, \\theta}}\\ln\\left(\\frac{1 - \\phi(\\theta^T x_{k_{1,\\theta}})}{\\phi(\\theta^T x_{k_{1,\\theta}})}\\right).\n",
    "\\end{align}$$\n",
    "\n",
    "Et donc $$\\begin{align}\n",
    "l_n(\\lambda \\theta) &\\leq \\ln\\left(\\frac{e^{-\\lambda \\theta^T x_{k_{1, \\theta}}}}{1 + e^{-\\lambda \\theta^T x_{k_{1, \\theta}}}}\\right) - Y_{k_{1, \\theta}}\\ln(e^{-\\lambda \\theta^T x_{k_{1, \\theta}}})\\\\\n",
    "&\\leq \\ln(e^{-\\lambda \\theta^T x_{k_{1, \\theta}}}) - Y_{k_{1, \\theta}}\\ln(e^{-\\lambda \\theta^T x_{k_{1, \\theta}}})\\\\\n",
    "&= -\\lambda \\theta^T x_{k_{1, \\theta}} (1 + Y_{k_{1, \\theta}})\\\\\n",
    "&\\leq -\\lambda \\epsilon.\n",
    "\\end{align}$$\n",
    "\n",
    "Et donc on voit que si on prend $\\lambda_m = \\frac{M}{\\epsilon}$ on aura que $$ \\forall \\lambda > \\lambda_m \\quad l_n(\\lambda \\theta) \\leq -\\lambda \\epsilon < -M $$ ce qu'implique $\\lim_{\\| \\theta \\| \\to +\\infty} l_n(\\theta) = -\\infty$.\n",
    "\n",
    "Ainsi comme $l_n$ est strictement concave, alors elle admet un unique maximum sur $\\mathbb{R}^p$."
   ]
  },
  {
   "cell_type": "markdown",
   "id": "b0e6f45f",
   "metadata": {},
   "source": [
    "<h2 align=\"center\"> <font color='blue'>Exercice 9</font></h2> <a class=\"anchor\" id=\"E9\"></a>"
   ]
  },
  {
   "cell_type": "markdown",
   "id": "78897cae",
   "metadata": {},
   "source": [
    "Soit $n > 0$. Comme $h$ est $1-$lipschitzienne alors\n",
    "$$ \\forall i \\in \\{1,...,n\\} \\quad |h(\\theta^T x_i) - h(\\vartheta^T x_i)| < |(\\theta^T - \\vartheta^T)x_i| \\quad \\forall \\theta,\\vartheta \\in \\mathbb{R}^p.$$\n",
    "\n",
    "On a\n",
    "$$\\begin{align}\n",
    "\\| F_n(\\theta) - F_n(\\vartheta) \\| &= \\left| \\sum_{i=1}^{n} \\left(h(\\theta^T x_i) - h(\\vartheta^T x_i)\\right) x_i x_i^T\\right|\\\\\n",
    "&\\leq \\sum_{i=1}^{n} |h(\\theta^T x_i) - h(\\vartheta^T x_i)| \\| x_i x_i^T \\|\\\\\n",
    "&\\leq \\sum_{i=1}^{n} | (\\theta - \\vartheta)^T x_i | \\|x_i x_i^T \\|\\\\\n",
    "&\\leq \\sum_{i=1}^{n} \\| (\\theta - \\vartheta) \\| \\|x_i\\| \\|x_i\\| \\|x_i\\| \\\\\n",
    "&\\leq n \\|\\theta - \\vartheta\\| \\frac{1}{n}\\sum_{i=1}^{n}\\|x_i\\|^3.\n",
    "\\end{align}$$\n",
    "\n",
    "Or définissons $C = \\sup \\frac{1}{n}\\sum_{i=1}^{n}\\|x_i\\|^3 < 0$. On remarque que $C$ existe par hypothèse. Donc on a finalement\n",
    "$$ \\forall \\theta, \\vartheta \\in \\mathbb{R}^p \\quad \\forall n>0 \\quad \\|F_n(\\theta) - F_n(\\vartheta)\\| \\leq C n \\|\\theta - \\vartheta\\|. $$"
   ]
  },
  {
   "cell_type": "markdown",
   "id": "3a544f7f",
   "metadata": {},
   "source": [
    "<h2 align=\"center\"> <font color='blue'>Exercice 10</font></h2> <a class=\"anchor\" id=\"E10\"></a>"
   ]
  },
  {
   "cell_type": "markdown",
   "id": "e4535361",
   "metadata": {},
   "source": [
    "On fait un developpement limité à l'ordre $1$ de la log-vraisemblance\n",
    "$$\\begin{align}\n",
    "\\frac{\\nabla l_n (\\hat{\\theta}_n^{MV}) - \\nabla l_n(\\theta)}{\\sqrt{n}} &= \\left[ \\frac{\\nabla^2 l_n(\\theta)}{n} + h_{n,\\theta}(\\hat{\\theta}_n^{MV} - \\theta) \\right] \\sqrt{n} (\\hat{\\theta}_n^{MV} - \\theta)\\\\\n",
    "&=\\left[ \\frac{-F_n(\\theta)}{n} + h_{n,\\theta}(\\hat{\\theta}_n^{MV} - \\theta) \\right] \\sqrt{n} (\\hat{\\theta}_n^{MV} - \\theta)\n",
    "\\end{align}$$\n",
    "avec $h_{n, \\theta}(0) = 0$ et $h_{n, \\theta}(h) = o(\\|h\\|)$.\n",
    "\n",
    "\n",
    "Ainsi $R_n = l_n(\\hat{\\theta}_n^{MV} - \\theta)$, or $\\hat{\\theta}_n^{MV} \\overset{\\mathbb{P}_{n,\\theta}}{\\longrightarrow} \\theta$.\n",
    "\n",
    "On a alors $R_n = h_{n, \\theta}(\\hat{\\theta}_n^{MV} - \\theta) = O(\\|\\hat{\\theta}_n^{MV} - \\theta\\|) = O(1)$.\n",
    "\n",
    "On en conclue $R_n \\overset{\\mathbb{P}_{n,\\theta}}{\\longrightarrow} 0$."
   ]
  },
  {
   "cell_type": "markdown",
   "id": "e3159df7",
   "metadata": {},
   "source": [
    "<h2 align=\"center\"> <font color='blue'>Exercice 11</font></h2> <a class=\"anchor\" id=\"E11\"></a>"
   ]
  },
  {
   "cell_type": "markdown",
   "id": "51f00bed",
   "metadata": {},
   "source": [
    "On a\n",
    "$$ \\nabla l_n(\\theta) = \\sum_{i=1}^{n} \\left[ Y_i x_i - x_i\\phi(\\theta^T x_i) \\right].$$\n",
    "\n",
    "Pour tout $n \\in \\mathbb{N}$, on pose $k_n = n$ et $\\forall i \\in \\{ 1,...,n \\} \\quad Y_{n,i} = \\frac{Y_i x_i - x_i\\phi(\\theta^T x_i)}{\\sqrt{n}}$.\n",
    "\n",
    "On sait que les $Y_{n, i}$ sont indépendants et $\\mathbb{E}_\\theta[Y_{n,i}] = 0.$\n",
    "\n",
    "Montrons que\n",
    "- $\\forall \\epsilon > 0 \\quad \\lim_{n \\to +\\infty} \\sum_{i=1}^{n} \\mathbb{E}_\\theta \\left[ \\| Y_{n,i} \\|^2 \\mathbb{1}_{\\| Y_{n,i} \\| > \\epsilon} \\right] = 0$,\n",
    "- et que $ \\lim_{n \\to +\\infty} \\sum_{i=1}^{n} \\mathrm{Var}_{\\theta}(Y_{n,i}) = \\phi(\\theta).$"
   ]
  },
  {
   "cell_type": "markdown",
   "id": "52c886f3",
   "metadata": {},
   "source": [
    "Soit $\\epsilon > 0$ et $n > 0$. On a\n",
    "$$ \\| Y_{n, i} \\|^2 = \\frac{(Y_i - \\phi(\\theta^T x_i))^2}{n}\\| x_i \\|^2 \\leq \\frac{\\|x_i\\|^2}{n}.$$\n",
    "\n",
    "D'autre part $\\| Y_{n,i} \\| > \\epsilon \\implies \\|x_i\\|^2 \\geq n\\epsilon \\implies \\|x_i\\| \\geq \\sqrt{n\\epsilon}$.\n",
    "\n",
    "Alors\n",
    "$$\\begin{align}\n",
    "0 \\leq \\sum_{i=1}^n \\mathbb{E}_\\theta \\left[ \\| Y_{n,i} \\|^2 \\mathbb{1}_{\\| Y_{n,i} \\| > \\epsilon} \\right] &\\leq \\sum_{i=1}^{n} \\frac{\\|x_i\\|^2}{n} \\mathbb{1}_{\\|x_i\\| > \\sqrt{n \\epsilon}}\\\\\n",
    "&= \\sum_{i=1}^{n} \\frac{\\|x_i\\|^3}{n \\|x_i\\|} \\mathbb{1}_{\\|x_i\\| > \\sqrt{n \\epsilon}} \\\\\n",
    "&\\leq \\frac{1}{\\sqrt{n\\epsilon}} \\left( \\frac{1}{n} \\sum_{i=1}^{n} \\|x_i\\|^3 \\right)\\\\\n",
    "&\\leq \\frac{C}{\\sqrt{n\\epsilon}} \\overset{n \\to +\\infty}{\\longrightarrow} 0.\n",
    "\\end{align}$$\n",
    "\n",
    "Et donc $\\forall \\epsilon > 0 \\lim_{n \\to 0} \\sum_{i=1}^{n} \\mathbb{E}_\\theta \\left[ \\| Y_{n,i} \\|^2 \\mathbb{1}_{\\| Y_{n,i} \\| > \\epsilon} \\right] = 0$."
   ]
  },
  {
   "cell_type": "markdown",
   "id": "52ce6a0b",
   "metadata": {},
   "source": [
    "Maintenant on calcule\n",
    "$$\\begin{align}\n",
    "\\sum_{i=1}^{n} \\mathrm{Var}_\\theta (Y_{n, i}) &= \\sum_{i=1}^{n} \\mathbb{E}_\\theta \\left[ Y_{n,i} Y_{n,i}^T \\right]\\\\\n",
    "&= \\sum_{i=1}^{n} \\frac{1}{n} \\mathbb{E}_\\theta \\left[ \\left( Y_i - \\phi(\\theta^T x_i) \\right)^2\\right] x_i x_i^T \\\\\n",
    "&= \\sum_{i=1}^{n} \\frac{1}{n} \\left[ \\phi(\\theta^T x_i) \\left( 1 - \\phi(\\theta^T x_i) \\right)^2 + \\left( 1 - \\phi(\\theta^T x_i) \\right) \\phi(\\theta^T x_i)^2\\right] x_i x_i^T\\\\\n",
    "&= \\sum_{i=1}^{n} \\frac{1}{n} \\left( 1 - \\phi(\\theta^T x_i) \\right) \\phi(\\theta^T x_i) x_i x_i^T \\\\\n",
    "&= \\frac{F_n(\\theta)}{n} \\overset{n \\to +\\infty}{\\longrightarrow} Q(\\theta).\n",
    "\\end{align}$$"
   ]
  },
  {
   "cell_type": "markdown",
   "id": "093e405a",
   "metadata": {},
   "source": [
    "Et donc en conclusion, selon le théorème de Lindberg-Feller, on a\n",
    "$$ \\frac{\\nabla l_n(\\theta)}{\\sqrt{n}} \\overset{\\mathbb{P}_{n,\\theta}}{\\implies} \\mathcal{N}(0, Q(\\theta))$$"
   ]
  },
  {
   "cell_type": "markdown",
   "id": "760e7573",
   "metadata": {},
   "source": [
    "<h2 align=\"center\"> <font color='blue'>Exercice 12</font></h2> <a class=\"anchor\" id=\"E12\"></a>"
   ]
  },
  {
   "cell_type": "markdown",
   "id": "bc6bb115",
   "metadata": {},
   "source": [
    "On a l'expression $$ \\frac{\\nabla l_n(\\theta)}{\\sqrt{n}} = \\left( \\frac{F_n(\\theta)}{n} - R_n \\right)\\sqrt{n} (\\hat{\\theta}_n^{MV} - \\theta).$$\n",
    "\n",
    "Donc $$ \\frac{F_n(\\theta)}{n}\\sqrt{n} (\\hat{\\theta}_n^{MV} - \\theta) = \\frac{\\nabla l_n(\\theta)}{\\sqrt{n}} + R_n\\sqrt{n} (\\hat{\\theta}_n^{MV} - \\theta). $$\n",
    "\n",
    "Or $R_n \\overset{\\mathbb{P}_{n,\\theta}}{\\longrightarrow} 0$ et $\\frac{\\nabla l_n(\\theta)}{\\sqrt{n}} \\overset{\\mathbb{P}_{n,\\theta}}{\\longrightarrow} \\mathcal{N}(0, Q(\\theta))$ alors d'après Slutsky\n",
    "$$ \\frac{F_n(\\theta)}{n}\\sqrt{n} (\\hat{\\theta}_n^{MV} - \\theta) \\overset{\\mathbb{P}_{n,\\theta}}{\\longrightarrow} \\mathcal{N}(0, Q(\\theta)).$$\n",
    "\n",
    "D'autre part $\\frac{F_n(\\theta)}{n} \\overset{n \\to +\\infty}{\\longrightarrow} Q(\\theta)$ et donc encore utilisant Slutsky $$Q(\\theta) \\sqrt{\\theta} \\left( \\hat{\\theta}_n^{MV} - \\theta \\right) \\overset{\\mathbb{P}_{n,\\theta}}{\\longrightarrow} \\mathcal{N}(0, Q(\\theta))$$.\n",
    "\n",
    "On en conclue\n",
    "$$\\sqrt{\\theta} \\left( \\hat{\\theta}_n^{MV} - \\theta \\right) \\overset{\\mathbb{P}_{n,\\theta}}{\\longrightarrow} \\mathcal{N}(0, Q(\\theta)^{-1}) $$\n",
    "où $Q(\\theta)$ est inversible car définie positive."
   ]
  },
  {
   "cell_type": "markdown",
   "id": "c702b603",
   "metadata": {},
   "source": [
    "<h2 align=\"center\"> <font color='blue'>Exercice 13</font></h2> <a class=\"anchor\" id=\"E13\"></a>"
   ]
  },
  {
   "cell_type": "markdown",
   "id": "a338a068",
   "metadata": {},
   "source": [
    "La suite $(\\hat{\\theta}_n^{MV})_{n \\in \\mathbb{N}}$ est consistante:\n",
    "$$ \\left\\|\\frac{F_n(\\hat{\\theta}_n^{MV})}{n} - Q(\\theta) \\right\\| \\overset{n \\to +\\infty}{\\longrightarrow} 0 $$\n",
    "Et donc $$\\frac{F_n(\\hat{\\theta}_n^{MV})}{n} \\overset{n \\to +\\infty}{\\longrightarrow} Q(\\theta) \\implies \\left( \\frac{F_n(\\hat{\\theta}_n^{MV})}{n} \\right)^{-1} \\overset{n \\to +\\infty}{\\longrightarrow} Q(\\theta)^{-1}.$$\n",
    "\n",
    "On en déduit que $\\beta_{n,k} \\overset{n \\to +\\infty}{\\longrightarrow} \\left(Q(\\theta)^{-1}\\right)_{n,k}$.\n",
    "\n",
    "Et comme $\\sqrt{n}\\left(\\hat{\\theta}_n^{MV} - \\theta\\right) \\overset{\\mathbb{P}_{n,\\theta}}{\\longrightarrow} \\mathcal{N}(0, Q(\\theta)^{-1}) \\implies \\sqrt{n}\\left(\\hat{\\theta}_n^{MV} - \\theta\\right)_k \\overset{\\mathbb{P}_{n,\\theta}}{\\longrightarrow} \\mathcal{N}(0, (Q(\\theta)^{-1})_{k,k}) $.\n",
    "\n",
    "Et donc d'après Slutsky on a \n",
    "$$ \\sqrt{\\frac{n}{\\beta_{n,k}}}\\left(\\hat{\\theta}_n^{MV} - \\theta\\right) \\overset{\\mathbb{P}_{n,\\theta}}{\\longrightarrow} \\mathcal{N}\\left( 0, \\frac{(Q(\\theta)^{-1})_{k,k}}{(Q(\\theta)^{-1})_{k,k}} \\right) = \\mathcal{N}(0,1).$$"
   ]
  },
  {
   "cell_type": "markdown",
   "id": "e8623da9",
   "metadata": {},
   "source": [
    "<h2 align=\"center\"> <font color='blue'>Exercice 14</font></h2> <a class=\"anchor\" id=\"E14\"></a>"
   ]
  },
  {
   "cell_type": "markdown",
   "id": "d1f94728",
   "metadata": {},
   "source": [
    "D'après ce qui précede $\\sqrt{\\frac{n}{\\beta_{n,k}}}\\left(\\hat{\\theta}_n^{MV} - \\theta\\right) \\overset{\\mathbb{P}_{n,\\theta}}{\\longrightarrow} \\mathcal{N}(0,1)$, ainsi\n",
    "$$ \\lim_{n \\to +\\infty} \\mathbb{P}_\\theta \\left( \\sqrt{\\frac{n}{\\beta_{n,k}}}\\left(\\hat{\\theta}_n^{MV} - \\theta\\right) \\in \\left[ -q_{1 - \\frac{\\alpha}{2}}, q_{1 - \\frac{\\alpha}{2}} \\right] \\right) = 1 - \\alpha $$\n",
    "avec $q_{1 - \\frac{\\alpha}{2}}$ le quantile d'ordre $1 - \\frac{alpha}{2}$ du loi $\\mathcal{N}(0,1)$.\n",
    "\n",
    "Ainsi, on trouve un intervalle de confiance asymptotique de niveau $1 - \\alpha$, \n",
    "$$ I(\\alpha) = \\left[ \\hat{\\theta}_n^{MV} - \\sqrt{\\frac{\\beta_{n,k}}{n}}q_{1 - \\frac{\\alpha}{2}} , \\hat{\\theta}_n^{MV} + \\sqrt{\\frac{\\beta_{n,k}}{n}}q_{1 - \\frac{\\alpha}{2}} \\right].$$"
   ]
  },
  {
   "cell_type": "markdown",
   "id": "971e203e",
   "metadata": {},
   "source": [
    "<h2 align=\"center\"> <font color='blue'>Exercice 15</font></h2> <a class=\"anchor\" id=\"E15\"></a>"
   ]
  },
  {
   "cell_type": "markdown",
   "id": "7c70fc37",
   "metadata": {},
   "source": [
    "On considère la statistique de test $T(Y_n) = | \\hat{\\theta}_n^{MV} |$ et la zone de réjet $\\mathcal{R}_\\alpha = \\left\\{ Y_n : T(Y_n) > \\sqrt{\\frac{\\beta_{n,k}}{n}}q_{1 - \\frac{\\alpha}{2}} \\right\\}$.\n",
    "\n",
    "Et donc d'après la question précedente $\\lim_{n \\to +\\infty} \\mathbb{P}(\\theta \\not\\in I(\\alpha)) = \\alpha$. On en conclut que ce test répond au question."
   ]
  },
  {
   "cell_type": "markdown",
   "id": "027f2676",
   "metadata": {},
   "source": [
    "<h2 align=\"center\"> <font color='blue'>Exercice 16</font></h2> <a class=\"anchor\" id=\"E16\"></a>"
   ]
  },
  {
   "cell_type": "markdown",
   "id": "eefb3c79",
   "metadata": {},
   "source": [
    "La p-valeur asymptotique $\\hat{\\alpha}(Y_n)$ vérifie\n",
    "$$ | \\hat{\\theta}_{n,k}^{MV} | =  \\sqrt{\\frac{\\beta_{n,k}}{n}}q_{1 - \\frac{\\hat{\\alpha}(Y_n)}{2}}.$$\n",
    "\n",
    "D’où\n",
    "$$ q_{1 - \\frac{\\hat{\\alpha}(Y_n)}{2}} =  \\sqrt{\\frac{n}{\\beta_{n,k}}}| \\hat{\\theta}_{n,k}^{MV} | $$\n",
    "ce qui donne\n",
    "$$ \\hat{\\alpha}(Y_n) = 2 - 2F(\\sqrt{\\frac{n}{\\beta_{n,k}}}| \\hat{\\theta}_{n,k}^{MV} |) $$\n",
    "où F est la fonction de répartition de la loi $\\mathcal{N}(0,1)$.\n"
   ]
  },
  {
   "cell_type": "markdown",
   "id": "374124a1",
   "metadata": {},
   "source": [
    "<h1 align=\"center\"> <font color='green'>Application Numérique</font></h1> <a class=\"anchor\" id=\"Pratique\"></a>"
   ]
  },
  {
   "cell_type": "markdown",
   "id": "4335a3f0",
   "metadata": {},
   "source": [
    "<h2 align=\"center\"> <font color='gray'>Python Imports</font></h2> <a class=\"anchor\" id=\"imports\"></a>"
   ]
  },
  {
   "cell_type": "code",
   "execution_count": 1,
   "id": "6f5c25e0",
   "metadata": {},
   "outputs": [],
   "source": [
    "import math\n",
    "import numpy as np\n",
    "from numpy.linalg import inv,norm\n",
    "import pandas as pd\n",
    "import matplotlib.pyplot as plt\n",
    "import numpy.random as npr\n",
    "import scipy.stats as sps"
   ]
  },
  {
   "cell_type": "markdown",
   "id": "b06c7645",
   "metadata": {},
   "source": [
    "<h2 align=\"center\"> <font color='blue'>Exercice 1</font></h2> <a class=\"anchor\" id=\"P1\"></a>"
   ]
  },
  {
   "cell_type": "markdown",
   "id": "db5ef00b",
   "metadata": {},
   "source": [
    "<h2 align=\"center\"> <font color='blue'>Exercice 2</font></h2> <a class=\"anchor\" id=\"P2\"></a>"
   ]
  },
  {
   "cell_type": "markdown",
   "id": "e46d76a4",
   "metadata": {},
   "source": [
    "<h2 align=\"center\"> <font color='blue'>Exercice 3</font></h2> <a class=\"anchor\" id=\"P3\"></a>"
   ]
  },
  {
   "cell_type": "markdown",
   "id": "9a762dda",
   "metadata": {},
   "source": [
    "<h2 align=\"center\"> <font color='blue'>Exercice 4</font></h2> <a class=\"anchor\" id=\"P4\"></a>"
   ]
  },
  {
   "cell_type": "markdown",
   "id": "14b858ff",
   "metadata": {},
   "source": [
    "<h2 align=\"center\"> <font color='blue'>Exercice 5</font></h2> <a class=\"anchor\" id=\"P5\"></a>"
   ]
  },
  {
   "cell_type": "markdown",
   "id": "59b6b9fb",
   "metadata": {},
   "source": [
    "<h2 align=\"center\"> <font color='blue'>Exercice 6</font></h2> <a class=\"anchor\" id=\"P6\"></a>"
   ]
  },
  {
   "cell_type": "markdown",
   "id": "80496d0c",
   "metadata": {},
   "source": [
    "<h2 align=\"center\"> <font color='blue'>Exercice 7</font></h2> <a class=\"anchor\" id=\"P7\"></a>"
   ]
  },
  {
   "cell_type": "markdown",
   "id": "cdd2fa77",
   "metadata": {},
   "source": [
    "<h2 align=\"center\"> <font color='blue'>Exercice 8</font></h2> <a class=\"anchor\" id=\"P8\"></a>"
   ]
  },
  {
   "cell_type": "markdown",
   "id": "c7f44c97",
   "metadata": {},
   "source": [
    "<h2 align=\"center\"> <font color='blue'>Exercice 9</font></h2> <a class=\"anchor\" id=\"P9\"></a>"
   ]
  },
  {
   "cell_type": "markdown",
   "id": "75d758ca",
   "metadata": {},
   "source": [
    "<h2 align=\"center\"> <font color='blue'>Exercice 10</font></h2> <a class=\"anchor\" id=\"P10\"></a>"
   ]
  }
 ],
 "metadata": {
  "kernelspec": {
   "display_name": "Python 3 (ipykernel)",
   "language": "python",
   "name": "python3"
  },
  "language_info": {
   "codemirror_mode": {
    "name": "ipython",
    "version": 3
   },
   "file_extension": ".py",
   "mimetype": "text/x-python",
   "name": "python",
   "nbconvert_exporter": "python",
   "pygments_lexer": "ipython3",
   "version": "3.9.12"
  }
 },
 "nbformat": 4,
 "nbformat_minor": 5
}
