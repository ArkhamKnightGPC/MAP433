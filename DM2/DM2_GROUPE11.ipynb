{
 "cells": [
  {
   "cell_type": "markdown",
   "id": "a6248281",
   "metadata": {},
   "source": [
    "# <font color='289C4E'>Devoir Maison 2\n",
    "**Élèves**: Sadegh ABDERRAHIM & Gabriel PEREIRA DE CARVALHO & Otávio RIBAS"
   ]
  },
  {
   "cell_type": "markdown",
   "id": "4bbad1db",
   "metadata": {},
   "source": [
    "### <font color='289C4E'>Table des matières<font><a class='anchor' id='top'></a>\n",
    "- [Problème](#Prob)\n",
    "    - [Exercice 1](#E1)\n",
    "    - [Exercice 2](#E2)\n",
    "    - [Exercice 3](#E3)\n",
    "    - [Exercice 4](#E4)\n",
    "    - [Exercice 5](#E5)\n",
    "    - [Exercice 6](#E6)\n",
    "    - [Exercice 7](#E7)\n",
    "    - [Exercice 8](#E8)\n",
    "    - [Exercice 9](#E9)\n",
    "    - [Exercice 10](#E10)\n",
    "    - [Exercice 11](#E11)\n",
    "    - [Exercice 12](#E12)\n",
    "    - [Exercice 13](#E13)\n",
    "    - [Exercice 14](#E14)\n",
    "    - [Exercice 15](#E15)\n",
    "    - [Exercice 16](#E16)\n",
    "- [Application Numérique](#Pratique)\n",
    "    - [Python Setup](#setup)\n",
    "    - [Exercice 1](#P1)\n",
    "    - [Exercice 2](#P2)\n",
    "    - [Exercice 3](#P3)\n",
    "    - [Exercice 4](#P4)\n",
    "    - [Exercice 5](#P5)\n",
    "    - [Exercice 6](#P6)\n",
    "    - [Exercice 7](#P7)\n",
    "    - [Exercice 8](#P8)\n",
    "    - [Exercice 9](#P9)\n",
    "    - [Exercice 10](#P10)"
   ]
  },
  {
   "cell_type": "markdown",
   "id": "62eff2c2",
   "metadata": {},
   "source": [
    "<h1 align=\"center\"> <font color='green'>Problème</font></h1> <a class=\"anchor\" id=\"Prob\"></a>"
   ]
  },
  {
   "cell_type": "markdown",
   "id": "e08a2cad",
   "metadata": {},
   "source": [
    "<h2 align=\"center\"> <font color='blue'>Exercice 1</font></h2> <a class=\"anchor\" id=\"E1\"></a>"
   ]
  },
  {
   "cell_type": "markdown",
   "id": "ac8285ca",
   "metadata": {},
   "source": [
    "Soit $n \\geq 0$. Soit $\\theta, \\theta'$ tels que $\\mathbb{P}_{n, \\theta} = \\mathbb{P}_{n, \\theta'}$.\n",
    "\n",
    "Donc, $\\forall 1 \\leq i \\leq n$ on a $\\mathrm{Ber}(\\phi(\\theta^T x_i)) = \\mathrm{Ber}(\\phi(\\theta'^T x_i))$.\n",
    "\n",
    "Ainsi $\\forall i \\in \\{1, ..., n\\} \\quad \\phi(\\theta^T x_i) = \\phi(\\theta'^T x_i)$.\n",
    "\n",
    "D'autre part $\\forall t > 0 \\quad \\phi'(t) = \\frac{e^t}{(1 + e^t)^2} \\geq 0$.\n",
    "\n",
    "Donc $\\phi$ est strictement croissante et continue $\\implies \\phi$ est bijective.\n",
    "\n",
    "On en déduit que $\\forall 1 \\leq i \\leq \\theta^T x_i = \\theta'^T x_i$ et donc $X_n \\theta = X_n \\theta'$ où la matrice $X_n \\in \\mathcal{M}_{n \\times p}(\\mathbb{R})$ est de rang $p$ et donc elle est injective.\n",
    "\n",
    "Ainsi, nous obtenons que $\\theta = \\theta'$ et donc le modèle est identifiable."
   ]
  },
  {
   "cell_type": "markdown",
   "id": "39051454",
   "metadata": {},
   "source": [
    "<h2 align=\"center\"> <font color='blue'>Exercice 2</font></h2> <a class=\"anchor\" id=\"E2\"></a>"
   ]
  },
  {
   "cell_type": "markdown",
   "id": "bce4f76e",
   "metadata": {},
   "source": [
    "Soit $\\theta \\in \\mathbb{R}^p$. On a\n",
    "$$ F_n(\\theta)^T = \\sum_{i=1}^{n} h(\\theta^T x_i)(x_i x_i^T)^T = F_n(\\theta).$$\n",
    "\n",
    "Donc $F_n$ est bien symétrique.\n",
    "\n",
    "Soit $u \\in \\mathbb{R}^p$,\n",
    "$$\\begin{align}\n",
    "u^T F_n(\\theta) u &= \\sum_{i=1}^{n} h(\\theta^T x_i) u^Tx_i x_i^T u \\\\\n",
    "&= \\sum_{i=1}^{n} h(\\theta^T x_i) \\| x_i^T u \\|^2.\n",
    "\\end{align}$$\n",
    "\n",
    "Or, $\\forall t \\in \\mathbb{R}$, $h(t) = \\frac{e^t}{(1 + e^t)^2} \\geq 0$ Et donc $u^T F_n(\\theta) u \\geq 0$.\n",
    "\n",
    "On en conclue que $F_n(\\theta)$ est définie positive.\n"
   ]
  },
  {
   "cell_type": "markdown",
   "id": "b3f36cb4",
   "metadata": {},
   "source": [
    "<h2 align=\"center\"> <font color='blue'>Exercice 3</font></h2> <a class=\"anchor\" id=\"E3\"></a>"
   ]
  },
  {
   "cell_type": "markdown",
   "id": "99f10c2c",
   "metadata": {},
   "source": [
    "On a $\\forall t \\in \\mathbb{R}$, \n",
    "$$\\begin{align}\n",
    "h(t) &= \\frac{e^t}{(1 + e^t)^2}\\\\\n",
    "&= \\frac{1}{2 + e^{-t} + e^t} \\\\\n",
    "&= \\frac{1}{2 + 2\\cosh(t)}.\n",
    "\\end{align}$$\n",
    "\n",
    "Ainsi on a $$h'(t) = \\frac{\\sinh(t)}{2(1 + \\cosh(t))^2}$$.\n",
    "\n",
    "Or comme $|\\sinh(t)| \\leq \\cosh(t)$, on a \n",
    "$$ |h'(t)| = \\frac{\\sinh(t)}{2(1 + \\cosh(t))^2} \\leq \\frac{|\\sinh(t)|}{4\\cosh(t)} \\leq \\frac{1}{4}.$$\n",
    "\n",
    "On en conclue que $h$ est $1$-Lipschitzienne sur $\\mathbb{R}$.\n"
   ]
  },
  {
   "cell_type": "markdown",
   "id": "bce4bf2a",
   "metadata": {},
   "source": [
    "<h2 align=\"center\"> <font color='blue'>Exercice 4</font></h2> <a class=\"anchor\" id=\"E4\"></a>"
   ]
  },
  {
   "cell_type": "markdown",
   "id": "d7d22487",
   "metadata": {},
   "source": [
    "Soit $\\theta \\in \\mathbb{R}^p$. Calculons la vraisemblance\n",
    "$$\\begin{align}\n",
    "L_n(\\theta) &= \\mathbb{P}_{n, \\theta} (Y_1, ..., Y_n)\\\\\n",
    "&= \\prod_{i=1}^{n} \\phi(\\theta^T x_i)^{Y_i} (1 - \\phi(\\theta^T x_i))^{1 - Y_i}.\n",
    "\\end{align}$$\n",
    "\n",
    "Alors, calculons la log-vraisemblance\n",
    "$$ l_n(\\theta) = \\sum_{i=1}^{n} Y_i \\ln(\\phi(\\theta^T x_i)) + (1-Y_i)\\ln(1 - \\phi(\\theta^T x_i)). $$ "
   ]
  },
  {
   "cell_type": "markdown",
   "id": "9f6b5315",
   "metadata": {},
   "source": [
    "<h2 align=\"center\"> <font color='blue'>Exercice 5</font></h2> <a class=\"anchor\" id=\"E5\"></a>"
   ]
  },
  {
   "cell_type": "markdown",
   "id": "8ae899fb",
   "metadata": {},
   "source": [
    "Soit $\\theta \\in \\mathbb{R}^p$.\n",
    "$$\\begin{align}\n",
    "\\nabla l_n(\\theta) &= \\sum_{i=1}^{n} Y_i \\frac{\\nabla \\phi(\\theta^T x_i)}{\\phi(\\theta^T x_i)} + \\sum_{i=1}^{n} (1 - Y_i)\\frac{-\\nabla \\phi(\\theta^T x_i)}{1 - \\phi(\\theta^T x_i)} \\\\\n",
    "&= \\sum_{i=1}^{n} Y_i \\frac{x_i \\phi'(\\theta^T x_i)}{\\phi(\\theta^T x_i)} - \\sum_{i=1}^{n} (1 - Y_i)\\frac{x_i \\phi'(\\theta^T x_i)}{1 - \\phi(\\theta^T x_i)}.\n",
    "\\end{align}$$\n",
    "\n",
    "Alors, on sait que $\\phi'(t) = \\phi(t)\\phi(1 -t) \\implies \\frac{\\phi'(t)}{\\phi(t)} = \\phi(1 - t)$ ce qui donne\n",
    "$$\\begin{align}\n",
    "\\nabla l_n(\\theta) &= \\sum_{i=1}^{n} Y_i x_i[1 - \\phi(\\theta^T x_i)] - \\sum_{i=1}^{n} (1-Y_i)x_i \\phi(\\theta^T x_i)\\\\\n",
    "&= \\sum_{i=1}^{n}Y_i x_i - x_i \\phi(\\theta^T x_i)\\\\\n",
    "&= \\sum_{i=1}^{n} [Y_i - \\phi(\\theta^T x_i)]x_i.\n",
    "\\end{align}$$\n",
    "\n",
    "On en conclue $$\\nabla l_n(\\theta) = X_n^T[Y_n - \\Phi_n(\\theta)].$$"
   ]
  },
  {
   "cell_type": "markdown",
   "id": "ed813fa4",
   "metadata": {},
   "source": [
    "Soit $0 \\leq i,j \\leq n$, on a\n",
    "$$\\begin{align}\n",
    "\\frac{\\partial^2 l_n(\\theta)}{\\partial \\theta_i \\partial \\theta_j} &= \\sum_{k=1}^{n} \\frac{\\partial}{\\partial \\theta_i} \\left[ - \\phi'(\\theta^T x_k) (x_k)_j \\right]\\\\\n",
    "&= - \\sum_{k=1}^{n} \\phi'(\\theta^T x_k) (x_k)_i (x_k)_j.\n",
    "\\end{align}$$\n",
    "\n",
    "Or $\\forall t \\in \\mathbb{R}$, $\\phi'(t) = h(t)$ et $\\forall(i,j)$, on a $(x_k x_k^T)_{i,j} = (x_k)_i (x_k)_j$ et donc\n",
    "$$ \\frac{\\partial^2 l_n(\\theta)}{\\partial \\theta_i \\partial \\theta_j} = - \\sum_{k=1}^{n} h(\\theta^T x_k) (x_k x_k^T)_{i,j}.$$\n",
    "\n",
    "Ainsi $$ \\nabla^2 l_n(\\theta) = \\sum_{k=1}^{n} l_n(\\theta^T x_k) x_k x_k^T = -F_n(\\theta).$$\n",
    "\n",
    "On remarque que la matrice Hessienne de $l_n(\\theta)$ est symétrique définie négative $\\implies l_n$ est concave."
   ]
  },
  {
   "cell_type": "markdown",
   "id": "e0de1d84",
   "metadata": {},
   "source": [
    "D'après le cours, on a\n",
    "$$\\begin{align}\n",
    "\\mathbb{I}(\\theta) &= \\mathbb{E}_\\theta[\\nabla l_n(\\theta) \\nabla l_n(\\theta)^T]\\\\\n",
    "&= - \\mathbb{E}_{\\theta}[\\nabla^2 l_n(\\theta)]\n",
    "\\end{align}$$\n",
    "où $\\mathbb{I}(\\theta)$ est l'information de Fisher.\n",
    "\n",
    "Donc $$ E_{n, \\theta}[\\nabla l_n(\\theta) \\nabla l_n(\\theta)^T] = F_n(\\theta).$$"
   ]
  },
  {
   "cell_type": "markdown",
   "id": "11167ca1",
   "metadata": {},
   "source": [
    "<h2 align=\"center\"> <font color='blue'>Exercice 6</font></h2> <a class=\"anchor\" id=\"E6\"></a>"
   ]
  },
  {
   "cell_type": "markdown",
   "id": "8f86d0c8",
   "metadata": {},
   "source": [
    "On a $$ l_n(\\theta) = \\sum_{i=1}^{n} \\left[ Y_i \\ln(\\phi(\\theta^T x_i)) + (1 - Y_i)\\ln(1 - \\phi(\\theta^T x_i)) \\right] $$\n",
    "Ainsi $$\\begin{align}\n",
    "l_n(\\lambda \\theta_*) &= \\sum_{i=1}^{n} \\left[ Y_i \\ln(\\phi(\\lambda \\theta_*^T x_i)) + (1 - Y_i)\\ln(1 - \\phi(\\lambda \\theta_*^T x_i)) \\right] \\\\\n",
    "&= \\sum_{i : Y_i = 0} \\ln(1 - \\phi(\\lambda \\theta_*^T x_i)) + \\sum_{i : Y_i = 1} \\ln(\\phi(\\lambda \\theta_*^T x_i)).\n",
    "\\end{align}$$\n",
    "\n",
    "Or $\\forall i$ tel que $Y_i = 1$, on a $\\theta_*^T x_i > 0$ ainsi\n",
    "$$ \\lim_{\\lambda \\to +\\infty} \\ln(\\phi(\\lambda \\theta_*^T x_i)) = \\lim_{t \\to 1} \\ln(t) = 0.$$\n",
    "\n",
    "Analogiquement $\\forall i$ tel que $Y_i = 0$, on a $\\theta_*^T x_i < 0$ ainsi\n",
    "$$ \\lim_{\\lambda \\to +\\infty} \\phi(\\lambda \\theta_*^T x_i) = 0 \\implies \\lim_{\\lambda \\to +\\infty} \\ln(1 - \\phi(\\lambda \\theta_*^T x_i)) = \\lim_{t \\to 1} \\ln(t) = 0.$$\n",
    "\n",
    "Donc $ \\lim_{\\lambda \\to +\\infty} l_n(\\lambda \\theta_*) = 0.$"
   ]
  },
  {
   "cell_type": "markdown",
   "id": "96f261f4",
   "metadata": {},
   "source": [
    "On sait que $0 < L(\\theta) < 1$ car $\\phi(t) \\in ]0,1[$ et donc $l_n(\\theta) < 0$. Ainsi, $\\forall \\theta \\in \\mathbb{R}^p$ il existe $\\lambda \\in \\mathbb{R}$ tel que $l_n(\\theta) < l_n(\\lambda \\theta_*)$ car $\\lim_{\\lambda \\to +\\infty} \\ln(\\lambda \\theta_*) = 0$. Donc, on conclue que le maximum de vraissemblance n'existe pas dans ce cas là."
   ]
  },
  {
   "cell_type": "markdown",
   "id": "7667ad4e",
   "metadata": {},
   "source": [
    "<h2 align=\"center\"> <font color='blue'>Exercice 7</font></h2> <a class=\"anchor\" id=\"E7\"></a>"
   ]
  },
  {
   "cell_type": "markdown",
   "id": "607c5e16",
   "metadata": {},
   "source": [
    "Soit $\\bar{\\theta} \\in \\mathbb{R}^p$. On calcule $L_n(\\theta)$ en $\\theta_\\lambda = \\lambda \\theta_* + (\\bar{\\theta} - \\theta_*)$, on a\n",
    "$$\\begin{align}\n",
    "L_n(\\theta_\\lambda) &= \\prod_{i=1}^{n} \\phi(\\theta_\\lambda^T x_i)^{Y_i} (1 - \\phi(\\theta_\\lambda^T x_i))^{1 - Y_i}\\\\\n",
    "&= \\left(\\prod_{i \\in \\varepsilon} \\phi(\\bar{\\theta}^T x_i)^{Y_i} (1 - \\phi(\\bar{\\theta}^T x_i))^{1 - Y_i} \\right) \\left( \\prod_{i \\not\\in \\varepsilon} \\phi(\\theta_\\lambda^T x_i)^{Y_i} (1 - \\phi(\\theta_\\lambda^T x_i))^{1 - Y_i} \\right)\n",
    "\\end{align}$$\n",
    "\n",
    "Alors, $\\forall i \\not\\in \\varepsilon$ avec $Y_i = 1$ on a $\\theta_*^T x_i > 0$ ainsi\n",
    "$$ \\lim_{\\lambda \\to +\\infty} e^{- \\theta_\\lambda^T x_i} = \\lim_{\\lambda \\to +\\infty} e^{- \\lambda \\theta_*^T x_i}e^{-(\\bar{\\theta} - \\theta_*)^T x_i} = 0$$\n",
    "et donc $\\lim_{\\lambda \\to +\\infty} \\phi(\\theta_\\lambda^T x_i) = 1$.\n",
    "\n",
    "De même, $\\forall i \\not\\in \\varepsilon$ avec $Y_i = 0$ on a $\\theta_*^T x_i < 0$ ainsi\n",
    "$$ \\lim_{\\lambda \\to +\\infty} e^{- \\theta_\\lambda^T x_i} = \\lim_{\\lambda \\to +\\infty} e^{- \\lambda \\theta_*^T x_i}e^{-(\\bar{\\theta} - \\theta_*)^T x_i} = +\\infty$$\n",
    "et donc $\\lim_{\\lambda \\to +\\infty} \\phi(\\theta_\\lambda^T x_i) = 0$, ainsi $\\lim_{\\lambda \\to +\\infty} 1 - \\phi(\\theta_\\lambda^T x_i) = 1$.\n",
    "\n",
    "On en conclue $$ \\lim_{\\lambda \\to +\\infty} \\left( \\prod_{i \\not\\in \\varepsilon} \\phi(\\theta_\\lambda^T x_i)^{Y_i} (1 - \\phi(\\theta_\\lambda^T x_i))^{1 - Y_i} \\right) = 1.$$\n",
    "\n",
    "D'autre part, le produit $\\left(\\prod_{i \\in \\varepsilon} \\phi(\\bar{\\theta}^T x_i)^{Y_i} (1 - \\phi(\\bar{\\theta}^T x_i))^{1 - Y_i} \\right)$ est clé en $\\lambda$ et donc $\\forall \\bar{\\theta} \\in \\mathbb{R}^p$ il existe $\\lambda \\in \\mathbb{R}$ Tel que $L_n(\\theta_\\lambda) \\geq L_n(\\bar{\\theta})$ et donc le maximum de vraisemblance n'existe pas dans une telle situation."
   ]
  },
  {
   "cell_type": "markdown",
   "id": "25cf5cf3",
   "metadata": {},
   "source": [
    "<h2 align=\"center\"> <font color='blue'>Exercice 8</font></h2> <a class=\"anchor\" id=\"E8\"></a>"
   ]
  },
  {
   "cell_type": "markdown",
   "id": "29565374",
   "metadata": {},
   "source": [
    "Supposons l'existence D’un recouvrement.\n",
    "\n",
    "Notons $$\\begin{align}\n",
    "\\begin{cases}\n",
    "k_{1,\\theta} &= \\mathrm{argmax}_{k \\in \\{1,...,n\\}} \\theta^T x_k \\\\\n",
    "k_{2,\\theta} &= \\mathrm{argmin}_{k \\in \\{1,...,n\\}} \\theta^T x_k.\n",
    "\\end{cases}\n",
    "\\end{align}$$\n",
    "\n",
    "Comme $\\exists k_1, k_2$ tel que $\\theta^T x_{k_1} > 0$ et $\\theta^T x_{k_2} < 0$ alors on déduit $$\\begin{align}\n",
    "\\begin{cases}\n",
    "\\theta^T x_{k_{1, \\theta}} > 0 \\\\\n",
    "\\theta^T x_{k_{2, \\theta}} < 0.\n",
    "\\end{cases}\n",
    "\\end{align}$$\n",
    "\n",
    "Les fonctions $\\Phi_1: \\theta \\mapsto \\theta^T x_{k_{1, \\theta}} > 0$ et $\\Phi_2: \\theta \\mapsto \\theta^T x_{k_{2, \\theta}} < 0$ sont bornées sur $\\mathcal{S}(0,1)$ car\n",
    "$$\\begin{align}\n",
    "|\\theta^T x_{k_{1, \\theta}}| &\\leq \\sqrt{\\|\\theta\\| \\| x_{k_{1, \\theta}} \\|} \\quad \\text{par l'inégalité de Cauchy-Schwarz}\\\\\n",
    "&\\leq \\sqrt{\\| x_{k_{1, \\theta}} \\|}\\\\\n",
    "&\\leq \\max_{k} \\sqrt{\\|x_k\\|} = \\zeta.\n",
    "\\end{align}$$\n",
    "\n",
    "De même $| \\theta^T x_{k_{2, \\theta}} | \\leq \\zeta = \\max_{k} \\sqrt{\\|x_k\\|}$."
   ]
  },
  {
   "cell_type": "markdown",
   "id": "8c8d0a1a",
   "metadata": {},
   "source": [
    "Et donc comme $\\mathcal{S}(0,1)$ est compacte et $\\Phi_1$ et $\\Phi_2$ sont bornées sur $\\mathcal{S}(0,1)$, alors elles admettent un minimum et un maximum.\n",
    "\n",
    "Soit $M_1 = \\min_{\\theta} \\theta^T x_{k_{1, \\theta}}$ et $M_2 = \\min_{\\theta} \\theta^T x_{k_{2, \\theta}}$ alors si on prend $\\epsilon = \\min(M_1, - M_2)$, on aura bien\n",
    "$$\\forall \\theta \\in \\mathcal{S}(0,1) \\quad \\theta^T x_{k_{1, \\theta}} > \\epsilon \\quad \\text{et} \\quad \\theta^T x_{k_{2, \\theta}} < - \\epsilon.$$"
   ]
  },
  {
   "cell_type": "markdown",
   "id": "6f376f4a",
   "metadata": {},
   "source": [
    "Soit $\\lambda > 0$, calculons maintenant $l_n(\\lambda \\theta)$.\n",
    "$$\\begin{align}\n",
    "l_n(\\lambda \\theta) &= \\sum_{i=1}^{n} \\left[ Y_i \\ln(\\phi(\\theta^T x_i)) + (1-Y_i)\\ln(1 - \\phi(\\theta^T x_i)) \\right] \\\\\n",
    "&\\leq Y_{k_{1,\\theta}} \\ln(\\phi(\\theta^T x_i)) + (1 - Y_{k_{1,\\theta}})\\ln(1 - \\phi(\\theta^T x_{k_{1,\\theta}})) \\\\\n",
    "&= \\ln(1 - \\phi(\\theta^T x_{k_{1, \\theta}})) - Y_{k_{1, \\theta}}\\ln\\left(\\frac{1 - \\phi(\\theta^T x_{k_{1,\\theta}})}{\\phi(\\theta^T x_{k_{1,\\theta}})}\\right).\n",
    "\\end{align}$$\n",
    "\n",
    "Et donc $$\\begin{align}\n",
    "l_n(\\lambda \\theta) &\\leq \\ln\\left(\\frac{e^{-\\lambda \\theta^T x_{k_{1, \\theta}}}}{1 + e^{-\\lambda \\theta^T x_{k_{1, \\theta}}}}\\right) - Y_{k_{1, \\theta}}\\ln(e^{-\\lambda \\theta^T x_{k_{1, \\theta}}})\\\\\n",
    "&\\leq \\ln(e^{-\\lambda \\theta^T x_{k_{1, \\theta}}}) - Y_{k_{1, \\theta}}\\ln(e^{-\\lambda \\theta^T x_{k_{1, \\theta}}})\\\\\n",
    "&= -\\lambda \\theta^T x_{k_{1, \\theta}} (1 + Y_{k_{1, \\theta}})\\\\\n",
    "&\\leq -\\lambda \\epsilon.\n",
    "\\end{align}$$\n",
    "\n",
    "Et donc on voit que si on prend $\\lambda_m = \\frac{M}{\\epsilon}$ on aura que $$ \\forall \\lambda > \\lambda_m \\quad l_n(\\lambda \\theta) \\leq -\\lambda \\epsilon < -M $$ ce qu'implique $\\lim_{\\| \\theta \\| \\to +\\infty} l_n(\\theta) = -\\infty$.\n",
    "\n",
    "Ainsi comme $l_n$ est strictement concave, alors elle admet un unique maximum sur $\\mathbb{R}^p$."
   ]
  },
  {
   "cell_type": "markdown",
   "id": "4e0a724c",
   "metadata": {},
   "source": [
    "<h2 align=\"center\"> <font color='blue'>Exercice 9</font></h2> <a class=\"anchor\" id=\"E9\"></a>"
   ]
  },
  {
   "cell_type": "markdown",
   "id": "9f8cdd9c",
   "metadata": {},
   "source": [
    "Soit $n > 0$. Comme $h$ est $1-$lipschitzienne alors\n",
    "$$ \\forall i \\in \\{1,...,n\\} \\quad |h(\\theta^T x_i) - h(\\vartheta^T x_i)| < |(\\theta^T - \\vartheta^T)x_i| \\quad \\forall \\theta,\\vartheta \\in \\mathbb{R}^p.$$\n",
    "\n",
    "On a\n",
    "$$\\begin{align}\n",
    "\\| F_n(\\theta) - F_n(\\vartheta) \\| &= \\left| \\sum_{i=1}^{n} \\left(h(\\theta^T x_i) - h(\\vartheta^T x_i)\\right) x_i x_i^T\\right|\\\\\n",
    "&\\leq \\sum_{i=1}^{n} |h(\\theta^T x_i) - h(\\vartheta^T x_i)| \\| x_i x_i^T \\|\\\\\n",
    "&\\leq \\sum_{i=1}^{n} | (\\theta - \\vartheta)^T x_i | \\|x_i x_i^T \\|\\\\\n",
    "&\\leq \\sum_{i=1}^{n} \\| (\\theta - \\vartheta) \\| \\|x_i\\| \\|x_i\\| \\|x_i\\| \\\\\n",
    "&\\leq n \\|\\theta - \\vartheta\\| \\frac{1}{n}\\sum_{i=1}^{n}\\|x_i\\|^3.\n",
    "\\end{align}$$\n",
    "\n",
    "Or définissons $C = \\sup \\frac{1}{n}\\sum_{i=1}^{n}\\|x_i\\|^3 < 0$. On remarque que $C$ existe par hypothèse. Donc on a finalement\n",
    "$$ \\forall \\theta, \\vartheta \\in \\mathbb{R}^p \\quad \\forall n>0 \\quad \\|F_n(\\theta) - F_n(\\vartheta)\\| \\leq C n \\|\\theta - \\vartheta\\|. $$"
   ]
  },
  {
   "cell_type": "markdown",
   "id": "0ef5c110",
   "metadata": {},
   "source": [
    "<h2 align=\"center\"> <font color='blue'>Exercice 10</font></h2> <a class=\"anchor\" id=\"E10\"></a>"
   ]
  },
  {
   "cell_type": "markdown",
   "id": "f06027c6",
   "metadata": {},
   "source": [
    "On fait un developpement limité à l'ordre $1$ de la log-vraisemblance\n",
    "$$\\begin{align}\n",
    "\\frac{\\nabla l_n (\\hat{\\theta}_n^{MV}) - \\nabla l_n(\\theta)}{\\sqrt{n}} &= \\left[ \\frac{\\nabla^2 l_n(\\theta)}{n} + h_{n,\\theta}(\\hat{\\theta}_n^{MV} - \\theta) \\right] \\sqrt{n} (\\hat{\\theta}_n^{MV} - \\theta)\\\\\n",
    "&=\\left[ \\frac{-F_n(\\theta)}{n} + h_{n,\\theta}(\\hat{\\theta}_n^{MV} - \\theta) \\right] \\sqrt{n} (\\hat{\\theta}_n^{MV} - \\theta)\n",
    "\\end{align}$$\n",
    "avec $h_{n, \\theta}(0) = 0$ et $h_{n, \\theta}(h) = o(\\|h\\|)$.\n",
    "\n",
    "\n",
    "Ainsi $R_n = l_n(\\hat{\\theta}_n^{MV} - \\theta)$, or $\\hat{\\theta}_n^{MV} \\overset{\\mathbb{P}_{n,\\theta}}{\\longrightarrow} \\theta$.\n",
    "\n",
    "On a alors $R_n = h_{n, \\theta}(\\hat{\\theta}_n^{MV} - \\theta) = O(\\|\\hat{\\theta}_n^{MV} - \\theta\\|) = O(1)$.\n",
    "\n",
    "On en conclue $R_n \\overset{\\mathbb{P}_{n,\\theta}}{\\longrightarrow} 0$."
   ]
  },
  {
   "cell_type": "markdown",
   "id": "e99fa81d",
   "metadata": {},
   "source": [
    "<h2 align=\"center\"> <font color='blue'>Exercice 11</font></h2> <a class=\"anchor\" id=\"E11\"></a>"
   ]
  },
  {
   "cell_type": "markdown",
   "id": "4f874077",
   "metadata": {},
   "source": [
    "On a\n",
    "$$ \\nabla l_n(\\theta) = \\sum_{i=1}^{n} \\left[ Y_i x_i - x_i\\phi(\\theta^T x_i) \\right].$$\n",
    "\n",
    "Pour tout $n \\in \\mathbb{N}$, on pose $k_n = n$ et $\\forall i \\in \\{ 1,...,n \\} \\quad Y_{n,i} = \\frac{Y_i x_i - x_i\\phi(\\theta^T x_i)}{\\sqrt{n}}$.\n",
    "\n",
    "On sait que les $Y_{n, i}$ sont indépendants et $\\mathbb{E}_\\theta[Y_{n,i}] = 0.$\n",
    "\n",
    "Montrons que\n",
    "- $\\forall \\epsilon > 0 \\quad \\lim_{n \\to +\\infty} \\sum_{i=1}^{n} \\mathbb{E}_\\theta \\left[ \\| Y_{n,i} \\|^2 \\mathbb{1}_{\\| Y_{n,i} \\| > \\epsilon} \\right] = 0$,\n",
    "- et que $ \\lim_{n \\to +\\infty} \\sum_{i=1}^{n} \\mathrm{Var}_{\\theta}(Y_{n,i}) = \\phi(\\theta).$"
   ]
  },
  {
   "cell_type": "markdown",
   "id": "d15f37ff",
   "metadata": {},
   "source": [
    "Soit $\\epsilon > 0$ et $n > 0$. On a\n",
    "$$ \\| Y_{n, i} \\|^2 = \\frac{(Y_i - \\phi(\\theta^T x_i))^2}{n}\\| x_i \\|^2 \\leq \\frac{\\|x_i\\|^2}{n}.$$\n",
    "\n",
    "D'autre part $\\| Y_{n,i} \\| > \\epsilon \\implies \\|x_i\\|^2 \\geq n\\epsilon \\implies \\|x_i\\| \\geq \\sqrt{n\\epsilon}$.\n",
    "\n",
    "Alors\n",
    "$$\\begin{align}\n",
    "0 \\leq \\sum_{i=1}^n \\mathbb{E}_\\theta \\left[ \\| Y_{n,i} \\|^2 \\mathbb{1}_{\\| Y_{n,i} \\| > \\epsilon} \\right] &\\leq \\sum_{i=1}^{n} \\frac{\\|x_i\\|^2}{n} \\mathbb{1}_{\\|x_i\\| > \\sqrt{n \\epsilon}}\\\\\n",
    "&= \\sum_{i=1}^{n} \\frac{\\|x_i\\|^3}{n \\|x_i\\|} \\mathbb{1}_{\\|x_i\\| > \\sqrt{n \\epsilon}} \\\\\n",
    "&\\leq \\frac{1}{\\sqrt{n\\epsilon}} \\left( \\frac{1}{n} \\sum_{i=1}^{n} \\|x_i\\|^3 \\right)\\\\\n",
    "&\\leq \\frac{C}{\\sqrt{n\\epsilon}} \\overset{n \\to +\\infty}{\\longrightarrow} 0.\n",
    "\\end{align}$$\n",
    "\n",
    "Et donc $\\forall \\epsilon > 0 \\lim_{n \\to 0} \\sum_{i=1}^{n} \\mathbb{E}_\\theta \\left[ \\| Y_{n,i} \\|^2 \\mathbb{1}_{\\| Y_{n,i} \\| > \\epsilon} \\right] = 0$."
   ]
  },
  {
   "cell_type": "markdown",
   "id": "0d66eeec",
   "metadata": {},
   "source": [
    "Maintenant on calcule\n",
    "$$\\begin{align}\n",
    "\\sum_{i=1}^{n} \\mathrm{Var}_\\theta (Y_{n, i}) &= \\sum_{i=1}^{n} \\mathbb{E}_\\theta \\left[ Y_{n,i} Y_{n,i}^T \\right]\\\\\n",
    "&= \\sum_{i=1}^{n} \\frac{1}{n} \\mathbb{E}_\\theta \\left[ \\left( Y_i - \\phi(\\theta^T x_i) \\right)^2\\right] x_i x_i^T \\\\\n",
    "&= \\sum_{i=1}^{n} \\frac{1}{n} \\left[ \\phi(\\theta^T x_i) \\left( 1 - \\phi(\\theta^T x_i) \\right)^2 + \\left( 1 - \\phi(\\theta^T x_i) \\right) \\phi(\\theta^T x_i)^2\\right] x_i x_i^T\\\\\n",
    "&= \\sum_{i=1}^{n} \\frac{1}{n} \\left( 1 - \\phi(\\theta^T x_i) \\right) \\phi(\\theta^T x_i) x_i x_i^T \\\\\n",
    "&= \\frac{F_n(\\theta)}{n} \\overset{n \\to +\\infty}{\\longrightarrow} Q(\\theta).\n",
    "\\end{align}$$"
   ]
  },
  {
   "cell_type": "markdown",
   "id": "5f0a5a9d",
   "metadata": {},
   "source": [
    "Et donc en conclusion, selon le théorème de Lindberg-Feller, on a\n",
    "$$ \\frac{\\nabla l_n(\\theta)}{\\sqrt{n}} \\overset{\\mathbb{P}_{n,\\theta}}{\\implies} \\mathcal{N}(0, Q(\\theta))$$"
   ]
  },
  {
   "cell_type": "markdown",
   "id": "fbda03f1",
   "metadata": {},
   "source": [
    "<h2 align=\"center\"> <font color='blue'>Exercice 12</font></h2> <a class=\"anchor\" id=\"E12\"></a>"
   ]
  },
  {
   "cell_type": "markdown",
   "id": "4673a0ba",
   "metadata": {},
   "source": [
    "On a l'expression $$ \\frac{\\nabla l_n(\\theta)}{\\sqrt{n}} = \\left( \\frac{F_n(\\theta)}{n} - R_n \\right)\\sqrt{n} (\\hat{\\theta}_n^{MV} - \\theta).$$\n",
    "\n",
    "Donc $$ \\frac{F_n(\\theta)}{n}\\sqrt{n} (\\hat{\\theta}_n^{MV} - \\theta) = \\frac{\\nabla l_n(\\theta)}{\\sqrt{n}} + R_n\\sqrt{n} (\\hat{\\theta}_n^{MV} - \\theta). $$\n",
    "\n",
    "Or $R_n \\overset{\\mathbb{P}_{n,\\theta}}{\\longrightarrow} 0$ et $\\frac{\\nabla l_n(\\theta)}{\\sqrt{n}} \\overset{\\mathbb{P}_{n,\\theta}}{\\longrightarrow} \\mathcal{N}(0, Q(\\theta))$ alors d'après Slutsky\n",
    "$$ \\frac{F_n(\\theta)}{n}\\sqrt{n} (\\hat{\\theta}_n^{MV} - \\theta) \\overset{\\mathbb{P}_{n,\\theta}}{\\longrightarrow} \\mathcal{N}(0, Q(\\theta)).$$\n",
    "\n",
    "D'autre part $\\frac{F_n(\\theta)}{n} \\overset{n \\to +\\infty}{\\longrightarrow} Q(\\theta)$ et donc encore utilisant Slutsky $$Q(\\theta) \\sqrt{\\theta} \\left( \\hat{\\theta}_n^{MV} - \\theta \\right) \\overset{\\mathbb{P}_{n,\\theta}}{\\longrightarrow} \\mathcal{N}(0, Q(\\theta))$$.\n",
    "\n",
    "On en conclue\n",
    "$$\\sqrt{\\theta} \\left( \\hat{\\theta}_n^{MV} - \\theta \\right) \\overset{\\mathbb{P}_{n,\\theta}}{\\longrightarrow} \\mathcal{N}(0, Q(\\theta)^{-1}) $$\n",
    "où $Q(\\theta)$ est inversible car définie positive."
   ]
  },
  {
   "cell_type": "markdown",
   "id": "9a95d7de",
   "metadata": {},
   "source": [
    "<h2 align=\"center\"> <font color='blue'>Exercice 13</font></h2> <a class=\"anchor\" id=\"E13\"></a>"
   ]
  },
  {
   "cell_type": "markdown",
   "id": "e78a0219",
   "metadata": {},
   "source": [
    "La suite $(\\hat{\\theta}_n^{MV})_{n \\in \\mathbb{N}}$ est consistante:\n",
    "$$ \\left\\|\\frac{F_n(\\hat{\\theta}_n^{MV})}{n} - Q(\\theta) \\right\\| \\overset{n \\to +\\infty}{\\longrightarrow} 0 $$\n",
    "Et donc $$\\frac{F_n(\\hat{\\theta}_n^{MV})}{n} \\overset{n \\to +\\infty}{\\longrightarrow} Q(\\theta) \\implies \\left( \\frac{F_n(\\hat{\\theta}_n^{MV})}{n} \\right)^{-1} \\overset{n \\to +\\infty}{\\longrightarrow} Q(\\theta)^{-1}.$$\n",
    "\n",
    "On en déduit que $\\beta_{n,k} \\overset{n \\to +\\infty}{\\longrightarrow} \\left(Q(\\theta)^{-1}\\right)_{n,k}$.\n",
    "\n",
    "Et comme $\\sqrt{n}\\left(\\hat{\\theta}_n^{MV} - \\theta\\right) \\overset{\\mathbb{P}_{n,\\theta}}{\\longrightarrow} \\mathcal{N}(0, Q(\\theta)^{-1}) \\implies \\sqrt{n}\\left(\\hat{\\theta}_n^{MV} - \\theta\\right)_k \\overset{\\mathbb{P}_{n,\\theta}}{\\longrightarrow} \\mathcal{N}(0, (Q(\\theta)^{-1})_{k,k}) $.\n",
    "\n",
    "Et donc d'après Slutsky on a \n",
    "$$ \\sqrt{\\frac{n}{\\beta_{n,k}}}\\left(\\hat{\\theta}_n^{MV} - \\theta\\right) \\overset{\\mathbb{P}_{n,\\theta}}{\\longrightarrow} \\mathcal{N}\\left( 0, \\frac{(Q(\\theta)^{-1})_{k,k}}{(Q(\\theta)^{-1})_{k,k}} \\right) = \\mathcal{N}(0,1).$$"
   ]
  },
  {
   "cell_type": "markdown",
   "id": "27d37d21",
   "metadata": {},
   "source": [
    "<h2 align=\"center\"> <font color='blue'>Exercice 14</font></h2> <a class=\"anchor\" id=\"E14\"></a>"
   ]
  },
  {
   "cell_type": "markdown",
   "id": "2f10e2b4",
   "metadata": {},
   "source": [
    "D'après ce qui précede $\\sqrt{\\frac{n}{\\beta_{n,k}}}\\left(\\hat{\\theta}_n^{MV} - \\theta\\right) \\overset{\\mathbb{P}_{n,\\theta}}{\\longrightarrow} \\mathcal{N}(0,1)$, ainsi\n",
    "$$ \\lim_{n \\to +\\infty} \\mathbb{P}_\\theta \\left( \\sqrt{\\frac{n}{\\beta_{n,k}}}\\left(\\hat{\\theta}_n^{MV} - \\theta\\right) \\in \\left[ -q_{1 - \\frac{\\alpha}{2}}, q_{1 - \\frac{\\alpha}{2}} \\right] \\right) = 1 - \\alpha $$\n",
    "avec $q_{1 - \\frac{\\alpha}{2}}$ le quantile d'ordre $1 - \\frac{\\alpha}{2}$ du loi $\\mathcal{N}(0,1)$.\n",
    "\n",
    "Ainsi, on trouve un intervalle de confiance asymptotique de niveau $1 - \\alpha$, \n",
    "$$ I(\\alpha) = \\left[ \\hat{\\theta}_n^{MV} - \\sqrt{\\frac{\\beta_{n,k}}{n}}q_{1 - \\frac{\\alpha}{2}} , \\hat{\\theta}_n^{MV} + \\sqrt{\\frac{\\beta_{n,k}}{n}}q_{1 - \\frac{\\alpha}{2}} \\right].$$"
   ]
  },
  {
   "cell_type": "markdown",
   "id": "17564a4f",
   "metadata": {},
   "source": [
    "<h2 align=\"center\"> <font color='blue'>Exercice 15</font></h2> <a class=\"anchor\" id=\"E15\"></a>"
   ]
  },
  {
   "cell_type": "markdown",
   "id": "40a937e6",
   "metadata": {},
   "source": [
    "On considère la statistique de test $T(Z) = | \\hat{\\theta}_n^{MV} |$ et la zone de réjet $\\mathcal{R}_\\alpha = \\left\\{ Z : T(Z) > \\sqrt{\\frac{\\beta_{n,k}}{n}}q_{1 - \\frac{\\alpha}{2}} \\right\\}$.\n",
    "\n",
    "Et donc d'après la question précedente $\\lim_{n \\to +\\infty} \\mathbb{P}(\\theta \\not\\in I(\\alpha)) = \\alpha$. On en conclut que ce test répond au question."
   ]
  },
  {
   "cell_type": "markdown",
   "id": "72feca45",
   "metadata": {},
   "source": [
    "<h2 align=\"center\"> <font color='blue'>Exercice 16</font></h2> <a class=\"anchor\" id=\"E16\"></a>"
   ]
  },
  {
   "cell_type": "markdown",
   "id": "7b27338e",
   "metadata": {},
   "source": [
    "La p-valeur asymptotique $\\hat{\\alpha}(Z)$ vérifie\n",
    "$$ | \\hat{\\theta}_{n,k}^{MV} | =  \\sqrt{\\frac{\\beta_{n,k}}{n}}q_{1 - \\frac{\\hat{\\alpha}}{2}}.$$\n",
    "\n",
    "D’où\n",
    "$$ q_{1 - \\frac{\\hat{\\alpha}}{2}} =  \\sqrt{\\frac{n}{\\beta_{n,k}}}| \\hat{\\theta}_{n,k}^{MV} | $$\n",
    "ce qui donne\n",
    "$$ \\hat{\\alpha}(Z) = 2 - 2F \\left( \\sqrt{\\frac{n}{\\beta_{n,k}}}| \\hat{\\theta}_{n,k}^{MV} | \\right) $$\n",
    "où F est la fonction de répartition de la loi $\\mathcal{N}(0,1)$.\n"
   ]
  },
  {
   "cell_type": "markdown",
   "id": "6d68aa35",
   "metadata": {},
   "source": [
    "<h1 align=\"center\"> <font color='green'>Application Numérique</font></h1> <a class=\"anchor\" id=\"Pratique\"></a>"
   ]
  },
  {
   "cell_type": "markdown",
   "id": "e2a946b3",
   "metadata": {},
   "source": [
    "<h2 align=\"center\"> <font color='gray'>Python Setup</font></h2> <a class=\"anchor\" id=\"setup\"></a>"
   ]
  },
  {
   "cell_type": "code",
   "execution_count": 1,
   "id": "c2e5b247",
   "metadata": {
    "ExecuteTime": {
     "end_time": "2023-10-18T11:20:02.808485746Z",
     "start_time": "2023-10-18T11:20:01.869854114Z"
    }
   },
   "outputs": [],
   "source": [
    "import math\n",
    "import numpy as np\n",
    "from numpy.linalg import inv,norm\n",
    "import pandas as pd\n",
    "import matplotlib.pyplot as plt\n",
    "import numpy.random as npr\n",
    "import scipy.stats as sps"
   ]
  },
  {
   "cell_type": "markdown",
   "id": "2c4d8964",
   "metadata": {},
   "source": [
    "Maintenant, on va importer le fichier $\\texttt{Titanic.csv}$ et créer le dataframe pandas qu'on va utiliser pour la suite."
   ]
  },
  {
   "cell_type": "code",
   "execution_count": 2,
   "id": "5362f32b",
   "metadata": {
    "ExecuteTime": {
     "end_time": "2023-10-18T13:20:52.290658478Z",
     "start_time": "2023-10-18T13:20:52.277085877Z"
    }
   },
   "outputs": [
    {
     "data": {
      "text/html": [
       "<div>\n",
       "<style scoped>\n",
       "    .dataframe tbody tr th:only-of-type {\n",
       "        vertical-align: middle;\n",
       "    }\n",
       "\n",
       "    .dataframe tbody tr th {\n",
       "        vertical-align: top;\n",
       "    }\n",
       "\n",
       "    .dataframe thead th {\n",
       "        text-align: right;\n",
       "    }\n",
       "</style>\n",
       "<table border=\"1\" class=\"dataframe\">\n",
       "  <thead>\n",
       "    <tr style=\"text-align: right;\">\n",
       "      <th></th>\n",
       "      <th>Survived</th>\n",
       "      <th>Pclass</th>\n",
       "      <th>Name</th>\n",
       "      <th>Sex</th>\n",
       "      <th>Age</th>\n",
       "      <th>SibSp</th>\n",
       "      <th>Parch</th>\n",
       "      <th>Fare</th>\n",
       "    </tr>\n",
       "  </thead>\n",
       "  <tbody>\n",
       "    <tr>\n",
       "      <th>0</th>\n",
       "      <td>0</td>\n",
       "      <td>3</td>\n",
       "      <td>Braund, Mr. Owen Harris</td>\n",
       "      <td>male</td>\n",
       "      <td>22.0</td>\n",
       "      <td>1</td>\n",
       "      <td>0</td>\n",
       "      <td>7.2500</td>\n",
       "    </tr>\n",
       "    <tr>\n",
       "      <th>1</th>\n",
       "      <td>1</td>\n",
       "      <td>1</td>\n",
       "      <td>Cumings, Mrs. John Bradley (Florence Briggs Th...</td>\n",
       "      <td>female</td>\n",
       "      <td>38.0</td>\n",
       "      <td>1</td>\n",
       "      <td>0</td>\n",
       "      <td>71.2833</td>\n",
       "    </tr>\n",
       "    <tr>\n",
       "      <th>2</th>\n",
       "      <td>1</td>\n",
       "      <td>3</td>\n",
       "      <td>Heikkinen, Miss. Laina</td>\n",
       "      <td>female</td>\n",
       "      <td>26.0</td>\n",
       "      <td>0</td>\n",
       "      <td>0</td>\n",
       "      <td>7.9250</td>\n",
       "    </tr>\n",
       "    <tr>\n",
       "      <th>3</th>\n",
       "      <td>1</td>\n",
       "      <td>1</td>\n",
       "      <td>Futrelle, Mrs. Jacques Heath (Lily May Peel)</td>\n",
       "      <td>female</td>\n",
       "      <td>35.0</td>\n",
       "      <td>1</td>\n",
       "      <td>0</td>\n",
       "      <td>53.1000</td>\n",
       "    </tr>\n",
       "    <tr>\n",
       "      <th>4</th>\n",
       "      <td>0</td>\n",
       "      <td>3</td>\n",
       "      <td>Allen, Mr. William Henry</td>\n",
       "      <td>male</td>\n",
       "      <td>35.0</td>\n",
       "      <td>0</td>\n",
       "      <td>0</td>\n",
       "      <td>8.0500</td>\n",
       "    </tr>\n",
       "    <tr>\n",
       "      <th>5</th>\n",
       "      <td>0</td>\n",
       "      <td>3</td>\n",
       "      <td>Moran, Mr. James</td>\n",
       "      <td>male</td>\n",
       "      <td>NaN</td>\n",
       "      <td>0</td>\n",
       "      <td>0</td>\n",
       "      <td>8.4583</td>\n",
       "    </tr>\n",
       "    <tr>\n",
       "      <th>6</th>\n",
       "      <td>0</td>\n",
       "      <td>1</td>\n",
       "      <td>McCarthy, Mr. Timothy J</td>\n",
       "      <td>male</td>\n",
       "      <td>54.0</td>\n",
       "      <td>0</td>\n",
       "      <td>0</td>\n",
       "      <td>51.8625</td>\n",
       "    </tr>\n",
       "    <tr>\n",
       "      <th>7</th>\n",
       "      <td>0</td>\n",
       "      <td>3</td>\n",
       "      <td>Palsson, Master. Gosta Leonard</td>\n",
       "      <td>male</td>\n",
       "      <td>2.0</td>\n",
       "      <td>3</td>\n",
       "      <td>1</td>\n",
       "      <td>21.0750</td>\n",
       "    </tr>\n",
       "    <tr>\n",
       "      <th>8</th>\n",
       "      <td>1</td>\n",
       "      <td>3</td>\n",
       "      <td>Johnson, Mrs. Oscar W (Elisabeth Vilhelmina Berg)</td>\n",
       "      <td>female</td>\n",
       "      <td>27.0</td>\n",
       "      <td>0</td>\n",
       "      <td>2</td>\n",
       "      <td>11.1333</td>\n",
       "    </tr>\n",
       "    <tr>\n",
       "      <th>9</th>\n",
       "      <td>1</td>\n",
       "      <td>2</td>\n",
       "      <td>Nasser, Mrs. Nicholas (Adele Achem)</td>\n",
       "      <td>female</td>\n",
       "      <td>14.0</td>\n",
       "      <td>1</td>\n",
       "      <td>0</td>\n",
       "      <td>30.0708</td>\n",
       "    </tr>\n",
       "  </tbody>\n",
       "</table>\n",
       "</div>"
      ],
      "text/plain": [
       "   Survived  Pclass                                               Name  \\\n",
       "0         0       3                            Braund, Mr. Owen Harris   \n",
       "1         1       1  Cumings, Mrs. John Bradley (Florence Briggs Th...   \n",
       "2         1       3                             Heikkinen, Miss. Laina   \n",
       "3         1       1       Futrelle, Mrs. Jacques Heath (Lily May Peel)   \n",
       "4         0       3                           Allen, Mr. William Henry   \n",
       "5         0       3                                   Moran, Mr. James   \n",
       "6         0       1                            McCarthy, Mr. Timothy J   \n",
       "7         0       3                     Palsson, Master. Gosta Leonard   \n",
       "8         1       3  Johnson, Mrs. Oscar W (Elisabeth Vilhelmina Berg)   \n",
       "9         1       2                Nasser, Mrs. Nicholas (Adele Achem)   \n",
       "\n",
       "      Sex   Age  SibSp  Parch     Fare  \n",
       "0    male  22.0      1      0   7.2500  \n",
       "1  female  38.0      1      0  71.2833  \n",
       "2  female  26.0      0      0   7.9250  \n",
       "3  female  35.0      1      0  53.1000  \n",
       "4    male  35.0      0      0   8.0500  \n",
       "5    male   NaN      0      0   8.4583  \n",
       "6    male  54.0      0      0  51.8625  \n",
       "7    male   2.0      3      1  21.0750  \n",
       "8  female  27.0      0      2  11.1333  \n",
       "9  female  14.0      1      0  30.0708  "
      ]
     },
     "execution_count": 2,
     "metadata": {},
     "output_type": "execute_result"
    }
   ],
   "source": [
    "csv_file = pd.read_csv('Titanic.csv')\n",
    "titanicData = pd.DataFrame(csv_file)\n",
    "\n",
    "#on élimine les colonnes indiques dans l'enoncé\n",
    "titanicData.drop(['PassengerId', 'Ticket', 'Cabin', 'Embarked'], inplace=True, axis=1)\n",
    "\n",
    "titanicData.head(10)"
   ]
  },
  {
   "cell_type": "code",
   "execution_count": 3,
   "id": "5c218487",
   "metadata": {
    "ExecuteTime": {
     "end_time": "2023-10-18T13:20:52.618622392Z",
     "start_time": "2023-10-18T13:20:52.545348518Z"
    }
   },
   "outputs": [
    {
     "name": "stdout",
     "output_type": "stream",
     "text": [
      "<class 'pandas.core.frame.DataFrame'>\n",
      "RangeIndex: 891 entries, 0 to 890\n",
      "Data columns (total 8 columns):\n",
      " #   Column    Non-Null Count  Dtype  \n",
      "---  ------    --------------  -----  \n",
      " 0   Survived  891 non-null    int64  \n",
      " 1   Pclass    891 non-null    int64  \n",
      " 2   Name      891 non-null    object \n",
      " 3   Sex       891 non-null    object \n",
      " 4   Age       714 non-null    float64\n",
      " 5   SibSp     891 non-null    int64  \n",
      " 6   Parch     891 non-null    int64  \n",
      " 7   Fare      891 non-null    float64\n",
      "dtypes: float64(2), int64(4), object(2)\n",
      "memory usage: 55.8+ KB\n"
     ]
    }
   ],
   "source": [
    "titanicData.info()"
   ]
  },
  {
   "cell_type": "code",
   "execution_count": 4,
   "id": "1b976c9c",
   "metadata": {
    "ExecuteTime": {
     "end_time": "2023-10-18T13:20:52.892653279Z",
     "start_time": "2023-10-18T13:20:52.832982745Z"
    }
   },
   "outputs": [
    {
     "data": {
      "text/html": [
       "<div>\n",
       "<style scoped>\n",
       "    .dataframe tbody tr th:only-of-type {\n",
       "        vertical-align: middle;\n",
       "    }\n",
       "\n",
       "    .dataframe tbody tr th {\n",
       "        vertical-align: top;\n",
       "    }\n",
       "\n",
       "    .dataframe thead th {\n",
       "        text-align: right;\n",
       "    }\n",
       "</style>\n",
       "<table border=\"1\" class=\"dataframe\">\n",
       "  <thead>\n",
       "    <tr style=\"text-align: right;\">\n",
       "      <th></th>\n",
       "      <th>Survived</th>\n",
       "      <th>Pclass</th>\n",
       "      <th>Age</th>\n",
       "      <th>SibSp</th>\n",
       "      <th>Parch</th>\n",
       "      <th>Fare</th>\n",
       "    </tr>\n",
       "  </thead>\n",
       "  <tbody>\n",
       "    <tr>\n",
       "      <th>count</th>\n",
       "      <td>891.000000</td>\n",
       "      <td>891.000000</td>\n",
       "      <td>714.000000</td>\n",
       "      <td>891.000000</td>\n",
       "      <td>891.000000</td>\n",
       "      <td>891.000000</td>\n",
       "    </tr>\n",
       "    <tr>\n",
       "      <th>mean</th>\n",
       "      <td>0.383838</td>\n",
       "      <td>2.308642</td>\n",
       "      <td>29.699118</td>\n",
       "      <td>0.523008</td>\n",
       "      <td>0.381594</td>\n",
       "      <td>32.204208</td>\n",
       "    </tr>\n",
       "    <tr>\n",
       "      <th>std</th>\n",
       "      <td>0.486592</td>\n",
       "      <td>0.836071</td>\n",
       "      <td>14.526497</td>\n",
       "      <td>1.102743</td>\n",
       "      <td>0.806057</td>\n",
       "      <td>49.693429</td>\n",
       "    </tr>\n",
       "    <tr>\n",
       "      <th>min</th>\n",
       "      <td>0.000000</td>\n",
       "      <td>1.000000</td>\n",
       "      <td>0.420000</td>\n",
       "      <td>0.000000</td>\n",
       "      <td>0.000000</td>\n",
       "      <td>0.000000</td>\n",
       "    </tr>\n",
       "    <tr>\n",
       "      <th>25%</th>\n",
       "      <td>0.000000</td>\n",
       "      <td>2.000000</td>\n",
       "      <td>20.125000</td>\n",
       "      <td>0.000000</td>\n",
       "      <td>0.000000</td>\n",
       "      <td>7.910400</td>\n",
       "    </tr>\n",
       "    <tr>\n",
       "      <th>50%</th>\n",
       "      <td>0.000000</td>\n",
       "      <td>3.000000</td>\n",
       "      <td>28.000000</td>\n",
       "      <td>0.000000</td>\n",
       "      <td>0.000000</td>\n",
       "      <td>14.454200</td>\n",
       "    </tr>\n",
       "    <tr>\n",
       "      <th>75%</th>\n",
       "      <td>1.000000</td>\n",
       "      <td>3.000000</td>\n",
       "      <td>38.000000</td>\n",
       "      <td>1.000000</td>\n",
       "      <td>0.000000</td>\n",
       "      <td>31.000000</td>\n",
       "    </tr>\n",
       "    <tr>\n",
       "      <th>max</th>\n",
       "      <td>1.000000</td>\n",
       "      <td>3.000000</td>\n",
       "      <td>80.000000</td>\n",
       "      <td>8.000000</td>\n",
       "      <td>6.000000</td>\n",
       "      <td>512.329200</td>\n",
       "    </tr>\n",
       "  </tbody>\n",
       "</table>\n",
       "</div>"
      ],
      "text/plain": [
       "         Survived      Pclass         Age       SibSp       Parch        Fare\n",
       "count  891.000000  891.000000  714.000000  891.000000  891.000000  891.000000\n",
       "mean     0.383838    2.308642   29.699118    0.523008    0.381594   32.204208\n",
       "std      0.486592    0.836071   14.526497    1.102743    0.806057   49.693429\n",
       "min      0.000000    1.000000    0.420000    0.000000    0.000000    0.000000\n",
       "25%      0.000000    2.000000   20.125000    0.000000    0.000000    7.910400\n",
       "50%      0.000000    3.000000   28.000000    0.000000    0.000000   14.454200\n",
       "75%      1.000000    3.000000   38.000000    1.000000    0.000000   31.000000\n",
       "max      1.000000    3.000000   80.000000    8.000000    6.000000  512.329200"
      ]
     },
     "execution_count": 4,
     "metadata": {},
     "output_type": "execute_result"
    }
   ],
   "source": [
    "titanicData.describe()"
   ]
  },
  {
   "cell_type": "code",
   "execution_count": 5,
   "id": "8b51c373",
   "metadata": {
    "ExecuteTime": {
     "end_time": "2023-10-18T13:20:53.166347194Z",
     "start_time": "2023-10-18T13:20:53.131523480Z"
    }
   },
   "outputs": [
    {
     "name": "stdout",
     "output_type": "stream",
     "text": [
      "Number of rows with empty ages: 177\n",
      "Different classes: [1 2 3]\n"
     ]
    }
   ],
   "source": [
    "print(f'Number of rows with empty ages: {np.shape(np.where(pd.isnull(titanicData))[0])[0]}')\n",
    "\n",
    "print(f\"Different classes: {np.unique(titanicData['Pclass'])}\")"
   ]
  },
  {
   "cell_type": "markdown",
   "id": "bc0da78c",
   "metadata": {},
   "source": [
    "Notez que dans le DataSet, il y a 177 lignes sans Age. Nous pouvons compléter ces lignes. En outre, nous remarquons que la variable catégorielle $\\textbf{Pclass}$ admet 3 valeurs différentes. Elle peut être remplacée par 3 variables \"muettes\", une pour chaque classe. En outre, le sexe peut être remplacé par des variables binaires. Enfin, chaque passager a un titre dans son nom, ce qui peut nous aider à obtenir des informations importantes (par exemple, les personnes ayant le même titre sont susceptibles d'être proches en âge)."
   ]
  },
  {
   "cell_type": "code",
   "execution_count": 6,
   "id": "6abe04e7",
   "metadata": {
    "ExecuteTime": {
     "end_time": "2023-10-18T13:20:53.708621306Z",
     "start_time": "2023-10-18T13:20:53.702216626Z"
    }
   },
   "outputs": [],
   "source": [
    "#transformons la colonne Sex en un attribut binaire (female=0, male=1)\n",
    "titanicData['Sex'] = titanicData['Sex'].map({'female': 0, 'male': 1})\n",
    "\n",
    "#transformons la colonne Pclass en trois varaibles muettes binaires (Class_1, Class_2, Class_3)\n",
    "dummyPclass = pd.get_dummies( titanicData['Pclass'], prefix='Class', dtype=int)\n",
    "titanicData['Class_1'] = dummyPclass['Class_1']\n",
    "titanicData['Class_2'] = dummyPclass['Class_2']\n",
    "titanicData['Class_3'] = dummyPclass['Class_3']\n",
    "\n",
    "#on extracte des titres dans les noms\n",
    "titanicData['Title'] = titanicData.Name.str.extract(' ([A-Za-z]+)\\.', expand=False)"
   ]
  },
  {
   "cell_type": "markdown",
   "id": "fcf73125",
   "metadata": {},
   "source": [
    "Nous avons maintenant analysé l'âge moyen pour chaque combinaison de titre, de classe et de sexe."
   ]
  },
  {
   "cell_type": "code",
   "execution_count": 7,
   "id": "d35c96f4",
   "metadata": {
    "ExecuteTime": {
     "end_time": "2023-10-18T13:20:54.361517844Z",
     "start_time": "2023-10-18T13:20:54.356408114Z"
    }
   },
   "outputs": [
    {
     "data": {
      "text/html": [
       "<div>\n",
       "<style scoped>\n",
       "    .dataframe tbody tr th:only-of-type {\n",
       "        vertical-align: middle;\n",
       "    }\n",
       "\n",
       "    .dataframe tbody tr th {\n",
       "        vertical-align: top;\n",
       "    }\n",
       "\n",
       "    .dataframe thead th {\n",
       "        text-align: right;\n",
       "    }\n",
       "</style>\n",
       "<table border=\"1\" class=\"dataframe\">\n",
       "  <thead>\n",
       "    <tr style=\"text-align: right;\">\n",
       "      <th></th>\n",
       "      <th></th>\n",
       "      <th></th>\n",
       "      <th>mean</th>\n",
       "      <th>std</th>\n",
       "      <th>count</th>\n",
       "    </tr>\n",
       "    <tr>\n",
       "      <th>Title</th>\n",
       "      <th>Pclass</th>\n",
       "      <th>Sex</th>\n",
       "      <th></th>\n",
       "      <th></th>\n",
       "      <th></th>\n",
       "    </tr>\n",
       "  </thead>\n",
       "  <tbody>\n",
       "    <tr>\n",
       "      <th>Capt</th>\n",
       "      <th>1</th>\n",
       "      <th>1</th>\n",
       "      <td>70.000000</td>\n",
       "      <td>NaN</td>\n",
       "      <td>1</td>\n",
       "    </tr>\n",
       "    <tr>\n",
       "      <th>Col</th>\n",
       "      <th>1</th>\n",
       "      <th>1</th>\n",
       "      <td>58.000000</td>\n",
       "      <td>2.828427</td>\n",
       "      <td>2</td>\n",
       "    </tr>\n",
       "    <tr>\n",
       "      <th>Countess</th>\n",
       "      <th>1</th>\n",
       "      <th>0</th>\n",
       "      <td>33.000000</td>\n",
       "      <td>NaN</td>\n",
       "      <td>1</td>\n",
       "    </tr>\n",
       "    <tr>\n",
       "      <th>Don</th>\n",
       "      <th>1</th>\n",
       "      <th>1</th>\n",
       "      <td>40.000000</td>\n",
       "      <td>NaN</td>\n",
       "      <td>1</td>\n",
       "    </tr>\n",
       "    <tr>\n",
       "      <th rowspan=\"3\" valign=\"top\">Dr</th>\n",
       "      <th rowspan=\"2\" valign=\"top\">1</th>\n",
       "      <th>0</th>\n",
       "      <td>49.000000</td>\n",
       "      <td>NaN</td>\n",
       "      <td>1</td>\n",
       "    </tr>\n",
       "    <tr>\n",
       "      <th>1</th>\n",
       "      <td>42.000000</td>\n",
       "      <td>9.165151</td>\n",
       "      <td>3</td>\n",
       "    </tr>\n",
       "    <tr>\n",
       "      <th>2</th>\n",
       "      <th>1</th>\n",
       "      <td>38.500000</td>\n",
       "      <td>21.920310</td>\n",
       "      <td>2</td>\n",
       "    </tr>\n",
       "    <tr>\n",
       "      <th>Jonkheer</th>\n",
       "      <th>1</th>\n",
       "      <th>1</th>\n",
       "      <td>38.000000</td>\n",
       "      <td>NaN</td>\n",
       "      <td>1</td>\n",
       "    </tr>\n",
       "    <tr>\n",
       "      <th>Lady</th>\n",
       "      <th>1</th>\n",
       "      <th>0</th>\n",
       "      <td>48.000000</td>\n",
       "      <td>NaN</td>\n",
       "      <td>1</td>\n",
       "    </tr>\n",
       "    <tr>\n",
       "      <th>Major</th>\n",
       "      <th>1</th>\n",
       "      <th>1</th>\n",
       "      <td>48.500000</td>\n",
       "      <td>4.949747</td>\n",
       "      <td>2</td>\n",
       "    </tr>\n",
       "    <tr>\n",
       "      <th rowspan=\"3\" valign=\"top\">Master</th>\n",
       "      <th>1</th>\n",
       "      <th>1</th>\n",
       "      <td>5.306667</td>\n",
       "      <td>5.165475</td>\n",
       "      <td>3</td>\n",
       "    </tr>\n",
       "    <tr>\n",
       "      <th>2</th>\n",
       "      <th>1</th>\n",
       "      <td>2.258889</td>\n",
       "      <td>2.342634</td>\n",
       "      <td>9</td>\n",
       "    </tr>\n",
       "    <tr>\n",
       "      <th>3</th>\n",
       "      <th>1</th>\n",
       "      <td>5.350833</td>\n",
       "      <td>3.593608</td>\n",
       "      <td>24</td>\n",
       "    </tr>\n",
       "    <tr>\n",
       "      <th rowspan=\"3\" valign=\"top\">Miss</th>\n",
       "      <th>1</th>\n",
       "      <th>0</th>\n",
       "      <td>30.000000</td>\n",
       "      <td>12.852308</td>\n",
       "      <td>45</td>\n",
       "    </tr>\n",
       "    <tr>\n",
       "      <th>2</th>\n",
       "      <th>0</th>\n",
       "      <td>22.390625</td>\n",
       "      <td>13.374708</td>\n",
       "      <td>32</td>\n",
       "    </tr>\n",
       "    <tr>\n",
       "      <th>3</th>\n",
       "      <th>0</th>\n",
       "      <td>16.123188</td>\n",
       "      <td>9.697315</td>\n",
       "      <td>69</td>\n",
       "    </tr>\n",
       "    <tr>\n",
       "      <th>Mlle</th>\n",
       "      <th>1</th>\n",
       "      <th>0</th>\n",
       "      <td>24.000000</td>\n",
       "      <td>0.000000</td>\n",
       "      <td>2</td>\n",
       "    </tr>\n",
       "    <tr>\n",
       "      <th>Mme</th>\n",
       "      <th>1</th>\n",
       "      <th>0</th>\n",
       "      <td>24.000000</td>\n",
       "      <td>NaN</td>\n",
       "      <td>1</td>\n",
       "    </tr>\n",
       "    <tr>\n",
       "      <th rowspan=\"3\" valign=\"top\">Mr</th>\n",
       "      <th>1</th>\n",
       "      <th>1</th>\n",
       "      <td>41.580460</td>\n",
       "      <td>14.148275</td>\n",
       "      <td>87</td>\n",
       "    </tr>\n",
       "    <tr>\n",
       "      <th>2</th>\n",
       "      <th>1</th>\n",
       "      <td>32.768293</td>\n",
       "      <td>11.850977</td>\n",
       "      <td>82</td>\n",
       "    </tr>\n",
       "    <tr>\n",
       "      <th>3</th>\n",
       "      <th>1</th>\n",
       "      <td>28.724891</td>\n",
       "      <td>10.490946</td>\n",
       "      <td>229</td>\n",
       "    </tr>\n",
       "    <tr>\n",
       "      <th rowspan=\"3\" valign=\"top\">Mrs</th>\n",
       "      <th>1</th>\n",
       "      <th>0</th>\n",
       "      <td>40.882353</td>\n",
       "      <td>12.643754</td>\n",
       "      <td>34</td>\n",
       "    </tr>\n",
       "    <tr>\n",
       "      <th>2</th>\n",
       "      <th>0</th>\n",
       "      <td>33.682927</td>\n",
       "      <td>10.318525</td>\n",
       "      <td>41</td>\n",
       "    </tr>\n",
       "    <tr>\n",
       "      <th>3</th>\n",
       "      <th>0</th>\n",
       "      <td>33.515152</td>\n",
       "      <td>10.031579</td>\n",
       "      <td>33</td>\n",
       "    </tr>\n",
       "    <tr>\n",
       "      <th>Ms</th>\n",
       "      <th>2</th>\n",
       "      <th>0</th>\n",
       "      <td>28.000000</td>\n",
       "      <td>NaN</td>\n",
       "      <td>1</td>\n",
       "    </tr>\n",
       "    <tr>\n",
       "      <th>Rev</th>\n",
       "      <th>2</th>\n",
       "      <th>1</th>\n",
       "      <td>43.166667</td>\n",
       "      <td>13.136463</td>\n",
       "      <td>6</td>\n",
       "    </tr>\n",
       "    <tr>\n",
       "      <th>Sir</th>\n",
       "      <th>1</th>\n",
       "      <th>1</th>\n",
       "      <td>49.000000</td>\n",
       "      <td>NaN</td>\n",
       "      <td>1</td>\n",
       "    </tr>\n",
       "  </tbody>\n",
       "</table>\n",
       "</div>"
      ],
      "text/plain": [
       "                          mean        std  count\n",
       "Title    Pclass Sex                             \n",
       "Capt     1      1    70.000000        NaN      1\n",
       "Col      1      1    58.000000   2.828427      2\n",
       "Countess 1      0    33.000000        NaN      1\n",
       "Don      1      1    40.000000        NaN      1\n",
       "Dr       1      0    49.000000        NaN      1\n",
       "                1    42.000000   9.165151      3\n",
       "         2      1    38.500000  21.920310      2\n",
       "Jonkheer 1      1    38.000000        NaN      1\n",
       "Lady     1      0    48.000000        NaN      1\n",
       "Major    1      1    48.500000   4.949747      2\n",
       "Master   1      1     5.306667   5.165475      3\n",
       "         2      1     2.258889   2.342634      9\n",
       "         3      1     5.350833   3.593608     24\n",
       "Miss     1      0    30.000000  12.852308     45\n",
       "         2      0    22.390625  13.374708     32\n",
       "         3      0    16.123188   9.697315     69\n",
       "Mlle     1      0    24.000000   0.000000      2\n",
       "Mme      1      0    24.000000        NaN      1\n",
       "Mr       1      1    41.580460  14.148275     87\n",
       "         2      1    32.768293  11.850977     82\n",
       "         3      1    28.724891  10.490946    229\n",
       "Mrs      1      0    40.882353  12.643754     34\n",
       "         2      0    33.682927  10.318525     41\n",
       "         3      0    33.515152  10.031579     33\n",
       "Ms       2      0    28.000000        NaN      1\n",
       "Rev      2      1    43.166667  13.136463      6\n",
       "Sir      1      1    49.000000        NaN      1"
      ]
     },
     "execution_count": 7,
     "metadata": {},
     "output_type": "execute_result"
    }
   ],
   "source": [
    "titanicData.groupby(['Title', 'Pclass', 'Sex'])['Age'].agg(['mean', 'std', 'count'])"
   ]
  },
  {
   "cell_type": "markdown",
   "id": "94b7b05c",
   "metadata": {},
   "source": [
    "On constate que certains titres sont assez rares. Nous regroupons donc les titres similaires en un seul groupe, afin d'obtenir des informations statistiquement pertinentes. Certains titres sont différents pour des raisons linguistiques (Mme, par exemple, qui équivaut à Mrs en français). Il y a aussi des titres qui sont des titres de noblesse, des titres militaires ou des professions spécialisées. Nous les combinons donc."
   ]
  },
  {
   "cell_type": "code",
   "execution_count": 8,
   "id": "873b9981",
   "metadata": {
    "ExecuteTime": {
     "end_time": "2023-10-18T13:20:55.334475274Z",
     "start_time": "2023-10-18T13:20:55.321588319Z"
    }
   },
   "outputs": [],
   "source": [
    "titles = {\"Capt\": \"Military\", \"Col\": \"Military\", \"Major\": \"Military\", \"Jonkheer\": \"Noble\", \"Don\": \"Noble\", \"Sir\" : \"Noble\", \"Dr\": \"Specialist\", \"Rev\": \"Specialist\", \"Countess\": \"Noble\", \"Mme\": \"Mrs\", \"Mlle\": \"Miss\", \"Ms\": \"Mrs\", \"Mr\" : \"Mr\", \"Mrs\" : \"Mrs\", \"Miss\" : \"Miss\", \"Master\" : \"Master\", \"Lady\" : \"Noble\"}\n",
    "\n",
    "titanicData['Title'] = titanicData['Title'].map(titles)"
   ]
  },
  {
   "cell_type": "code",
   "execution_count": 9,
   "id": "de7cd65e",
   "metadata": {
    "ExecuteTime": {
     "end_time": "2023-10-18T13:20:55.653432385Z",
     "start_time": "2023-10-18T13:20:55.646242211Z"
    }
   },
   "outputs": [
    {
     "data": {
      "text/html": [
       "<div>\n",
       "<style scoped>\n",
       "    .dataframe tbody tr th:only-of-type {\n",
       "        vertical-align: middle;\n",
       "    }\n",
       "\n",
       "    .dataframe tbody tr th {\n",
       "        vertical-align: top;\n",
       "    }\n",
       "\n",
       "    .dataframe thead th {\n",
       "        text-align: right;\n",
       "    }\n",
       "</style>\n",
       "<table border=\"1\" class=\"dataframe\">\n",
       "  <thead>\n",
       "    <tr style=\"text-align: right;\">\n",
       "      <th></th>\n",
       "      <th></th>\n",
       "      <th></th>\n",
       "      <th>mean</th>\n",
       "      <th>std</th>\n",
       "      <th>count</th>\n",
       "    </tr>\n",
       "    <tr>\n",
       "      <th>Title</th>\n",
       "      <th>Pclass</th>\n",
       "      <th>Sex</th>\n",
       "      <th></th>\n",
       "      <th></th>\n",
       "      <th></th>\n",
       "    </tr>\n",
       "  </thead>\n",
       "  <tbody>\n",
       "    <tr>\n",
       "      <th rowspan=\"3\" valign=\"top\">Master</th>\n",
       "      <th>1</th>\n",
       "      <th>1</th>\n",
       "      <td>5.306667</td>\n",
       "      <td>5.165475</td>\n",
       "      <td>3</td>\n",
       "    </tr>\n",
       "    <tr>\n",
       "      <th>2</th>\n",
       "      <th>1</th>\n",
       "      <td>2.258889</td>\n",
       "      <td>2.342634</td>\n",
       "      <td>9</td>\n",
       "    </tr>\n",
       "    <tr>\n",
       "      <th>3</th>\n",
       "      <th>1</th>\n",
       "      <td>5.350833</td>\n",
       "      <td>3.593608</td>\n",
       "      <td>24</td>\n",
       "    </tr>\n",
       "    <tr>\n",
       "      <th>Military</th>\n",
       "      <th>1</th>\n",
       "      <th>1</th>\n",
       "      <td>56.600000</td>\n",
       "      <td>9.316652</td>\n",
       "      <td>5</td>\n",
       "    </tr>\n",
       "    <tr>\n",
       "      <th rowspan=\"3\" valign=\"top\">Miss</th>\n",
       "      <th>1</th>\n",
       "      <th>0</th>\n",
       "      <td>29.744681</td>\n",
       "      <td>12.629276</td>\n",
       "      <td>47</td>\n",
       "    </tr>\n",
       "    <tr>\n",
       "      <th>2</th>\n",
       "      <th>0</th>\n",
       "      <td>22.390625</td>\n",
       "      <td>13.374708</td>\n",
       "      <td>32</td>\n",
       "    </tr>\n",
       "    <tr>\n",
       "      <th>3</th>\n",
       "      <th>0</th>\n",
       "      <td>16.123188</td>\n",
       "      <td>9.697315</td>\n",
       "      <td>69</td>\n",
       "    </tr>\n",
       "    <tr>\n",
       "      <th rowspan=\"3\" valign=\"top\">Mr</th>\n",
       "      <th>1</th>\n",
       "      <th>1</th>\n",
       "      <td>41.580460</td>\n",
       "      <td>14.148275</td>\n",
       "      <td>87</td>\n",
       "    </tr>\n",
       "    <tr>\n",
       "      <th>2</th>\n",
       "      <th>1</th>\n",
       "      <td>32.768293</td>\n",
       "      <td>11.850977</td>\n",
       "      <td>82</td>\n",
       "    </tr>\n",
       "    <tr>\n",
       "      <th>3</th>\n",
       "      <th>1</th>\n",
       "      <td>28.724891</td>\n",
       "      <td>10.490946</td>\n",
       "      <td>229</td>\n",
       "    </tr>\n",
       "    <tr>\n",
       "      <th rowspan=\"3\" valign=\"top\">Mrs</th>\n",
       "      <th>1</th>\n",
       "      <th>0</th>\n",
       "      <td>40.400000</td>\n",
       "      <td>12.779119</td>\n",
       "      <td>35</td>\n",
       "    </tr>\n",
       "    <tr>\n",
       "      <th>2</th>\n",
       "      <th>0</th>\n",
       "      <td>33.547619</td>\n",
       "      <td>10.229566</td>\n",
       "      <td>42</td>\n",
       "    </tr>\n",
       "    <tr>\n",
       "      <th>3</th>\n",
       "      <th>0</th>\n",
       "      <td>33.515152</td>\n",
       "      <td>10.031579</td>\n",
       "      <td>33</td>\n",
       "    </tr>\n",
       "    <tr>\n",
       "      <th rowspan=\"2\" valign=\"top\">Noble</th>\n",
       "      <th rowspan=\"2\" valign=\"top\">1</th>\n",
       "      <th>0</th>\n",
       "      <td>40.500000</td>\n",
       "      <td>10.606602</td>\n",
       "      <td>2</td>\n",
       "    </tr>\n",
       "    <tr>\n",
       "      <th>1</th>\n",
       "      <td>42.333333</td>\n",
       "      <td>5.859465</td>\n",
       "      <td>3</td>\n",
       "    </tr>\n",
       "    <tr>\n",
       "      <th rowspan=\"3\" valign=\"top\">Specialist</th>\n",
       "      <th rowspan=\"2\" valign=\"top\">1</th>\n",
       "      <th>0</th>\n",
       "      <td>49.000000</td>\n",
       "      <td>NaN</td>\n",
       "      <td>1</td>\n",
       "    </tr>\n",
       "    <tr>\n",
       "      <th>1</th>\n",
       "      <td>42.000000</td>\n",
       "      <td>9.165151</td>\n",
       "      <td>3</td>\n",
       "    </tr>\n",
       "    <tr>\n",
       "      <th>2</th>\n",
       "      <th>1</th>\n",
       "      <td>42.000000</td>\n",
       "      <td>14.020393</td>\n",
       "      <td>8</td>\n",
       "    </tr>\n",
       "  </tbody>\n",
       "</table>\n",
       "</div>"
      ],
      "text/plain": [
       "                            mean        std  count\n",
       "Title      Pclass Sex                             \n",
       "Master     1      1     5.306667   5.165475      3\n",
       "           2      1     2.258889   2.342634      9\n",
       "           3      1     5.350833   3.593608     24\n",
       "Military   1      1    56.600000   9.316652      5\n",
       "Miss       1      0    29.744681  12.629276     47\n",
       "           2      0    22.390625  13.374708     32\n",
       "           3      0    16.123188   9.697315     69\n",
       "Mr         1      1    41.580460  14.148275     87\n",
       "           2      1    32.768293  11.850977     82\n",
       "           3      1    28.724891  10.490946    229\n",
       "Mrs        1      0    40.400000  12.779119     35\n",
       "           2      0    33.547619  10.229566     42\n",
       "           3      0    33.515152  10.031579     33\n",
       "Noble      1      0    40.500000  10.606602      2\n",
       "                  1    42.333333   5.859465      3\n",
       "Specialist 1      0    49.000000        NaN      1\n",
       "                  1    42.000000   9.165151      3\n",
       "           2      1    42.000000  14.020393      8"
      ]
     },
     "execution_count": 9,
     "metadata": {},
     "output_type": "execute_result"
    }
   ],
   "source": [
    "titanicData.groupby(['Title', 'Pclass', 'Sex'])['Age'].agg(['mean', 'std', 'count'])"
   ]
  },
  {
   "cell_type": "markdown",
   "id": "5c5734fa",
   "metadata": {},
   "source": [
    "La raison pour laquelle l'âge est important est que le fait que la personne soit un enfant, un adulte ou une personne âgée a une incidence directe sur la probabilité de survie. En particulier, il est important de trouver des enfants (dans le contexte des naufrages, il est courant de trouver la pratique \"femmes et enfants d'abord\"). Nous savons que tous les titres, à l'exception de \"Master\" et \"Miss\", sont en principe réservés aux adultes (à l'exception, peut-être, de certains titres de noblesse). Le titre de \"Master\" est exclusif aux jeunes garçons (ce que confirme l'âge moyen de ces derniers). Le titre \"Miss\", quant à lui, peut être utilisé pour les jeunes filles et les femmes adultes célibataires. On peut d'ailleurs le constater par l'écart-type important de l'âge des personnes portant le titre de \"Miss\" par rapport à l'âge moyen. En l'absence d'un meilleur moyen de distinguer les \"Miss\" enfants et adultes, nous les diviserons en deux groupes : celles qui voyagent avec leurs parents et celles qui ne le font pas. Nous vérifions l'âge moyen de chaque groupe."
   ]
  },
  {
   "cell_type": "code",
   "execution_count": 10,
   "id": "35911e4b",
   "metadata": {
    "ExecuteTime": {
     "end_time": "2023-10-18T13:20:56.771880310Z",
     "start_time": "2023-10-18T13:20:56.765461684Z"
    }
   },
   "outputs": [
    {
     "name": "stdout",
     "output_type": "stream",
     "text": [
      "Age moyenne de personnes avec titre 'Miss' qui voyagen sans parents 27.682795698924732\n",
      "Age moyenne de personnes avec titre 'Miss' qui voyagen avec parents 11.863636363636363 \n",
      "\n"
     ]
    }
   ],
   "source": [
    "print (\"Age moyenne de personnes avec titre 'Miss' qui voyagen sans parents\", titanicData[(titanicData.Title==\"Miss\") & (titanicData.Parch==0)]['Age'].mean())\n",
    "\n",
    "print (\"Age moyenne de personnes avec titre 'Miss' qui voyagen avec parents\", titanicData[(titanicData.Title==\"Miss\") & (titanicData.Parch!=0)]['Age'].mean(), '\\n')"
   ]
  },
  {
   "cell_type": "markdown",
   "id": "d282705a",
   "metadata": {},
   "source": [
    "Il y a une grande différence entre l'âge moyen de chaque groupe. Nous avons donc utilisé le paramètre $\\textbf{Parch}$ pour estimer plus précisément l'âge des personnes ayant le titre de \"Miss\". Enfin, nous allons créer un nouveau titre pour catégoriser les jeunes \"Miss\", puis nous remplirons les âges avec les moyennes pour chaque groupe de la même combinaison de Classe, d'Age et de Titre."
   ]
  },
  {
   "cell_type": "code",
   "execution_count": 11,
   "id": "1076b051",
   "metadata": {
    "ExecuteTime": {
     "end_time": "2023-10-18T13:20:57.869879257Z",
     "start_time": "2023-10-18T13:20:57.864737277Z"
    }
   },
   "outputs": [
    {
     "data": {
      "text/html": [
       "<div>\n",
       "<style scoped>\n",
       "    .dataframe tbody tr th:only-of-type {\n",
       "        vertical-align: middle;\n",
       "    }\n",
       "\n",
       "    .dataframe tbody tr th {\n",
       "        vertical-align: top;\n",
       "    }\n",
       "\n",
       "    .dataframe thead th {\n",
       "        text-align: right;\n",
       "    }\n",
       "</style>\n",
       "<table border=\"1\" class=\"dataframe\">\n",
       "  <thead>\n",
       "    <tr style=\"text-align: right;\">\n",
       "      <th></th>\n",
       "      <th></th>\n",
       "      <th></th>\n",
       "      <th>mean</th>\n",
       "      <th>std</th>\n",
       "      <th>count</th>\n",
       "    </tr>\n",
       "    <tr>\n",
       "      <th>Title</th>\n",
       "      <th>Pclass</th>\n",
       "      <th>Sex</th>\n",
       "      <th></th>\n",
       "      <th></th>\n",
       "      <th></th>\n",
       "    </tr>\n",
       "  </thead>\n",
       "  <tbody>\n",
       "    <tr>\n",
       "      <th rowspan=\"3\" valign=\"top\">LittleMiss</th>\n",
       "      <th>1</th>\n",
       "      <th>0</th>\n",
       "      <td>21.000000</td>\n",
       "      <td>8.876936</td>\n",
       "      <td>16</td>\n",
       "    </tr>\n",
       "    <tr>\n",
       "      <th>2</th>\n",
       "      <th>0</th>\n",
       "      <td>10.538462</td>\n",
       "      <td>8.130348</td>\n",
       "      <td>13</td>\n",
       "    </tr>\n",
       "    <tr>\n",
       "      <th>3</th>\n",
       "      <th>0</th>\n",
       "      <td>6.903846</td>\n",
       "      <td>5.803050</td>\n",
       "      <td>26</td>\n",
       "    </tr>\n",
       "    <tr>\n",
       "      <th rowspan=\"3\" valign=\"top\">Master</th>\n",
       "      <th>1</th>\n",
       "      <th>1</th>\n",
       "      <td>5.306667</td>\n",
       "      <td>5.165475</td>\n",
       "      <td>3</td>\n",
       "    </tr>\n",
       "    <tr>\n",
       "      <th>2</th>\n",
       "      <th>1</th>\n",
       "      <td>2.258889</td>\n",
       "      <td>2.342634</td>\n",
       "      <td>9</td>\n",
       "    </tr>\n",
       "    <tr>\n",
       "      <th>3</th>\n",
       "      <th>1</th>\n",
       "      <td>5.350833</td>\n",
       "      <td>3.593608</td>\n",
       "      <td>24</td>\n",
       "    </tr>\n",
       "    <tr>\n",
       "      <th>Military</th>\n",
       "      <th>1</th>\n",
       "      <th>1</th>\n",
       "      <td>56.600000</td>\n",
       "      <td>9.316652</td>\n",
       "      <td>5</td>\n",
       "    </tr>\n",
       "    <tr>\n",
       "      <th rowspan=\"3\" valign=\"top\">Miss</th>\n",
       "      <th>1</th>\n",
       "      <th>0</th>\n",
       "      <td>34.258065</td>\n",
       "      <td>11.972100</td>\n",
       "      <td>31</td>\n",
       "    </tr>\n",
       "    <tr>\n",
       "      <th>2</th>\n",
       "      <th>0</th>\n",
       "      <td>30.500000</td>\n",
       "      <td>9.650849</td>\n",
       "      <td>19</td>\n",
       "    </tr>\n",
       "    <tr>\n",
       "      <th>3</th>\n",
       "      <th>0</th>\n",
       "      <td>21.697674</td>\n",
       "      <td>6.911980</td>\n",
       "      <td>43</td>\n",
       "    </tr>\n",
       "    <tr>\n",
       "      <th rowspan=\"3\" valign=\"top\">Mr</th>\n",
       "      <th>1</th>\n",
       "      <th>1</th>\n",
       "      <td>41.580460</td>\n",
       "      <td>14.148275</td>\n",
       "      <td>87</td>\n",
       "    </tr>\n",
       "    <tr>\n",
       "      <th>2</th>\n",
       "      <th>1</th>\n",
       "      <td>32.768293</td>\n",
       "      <td>11.850977</td>\n",
       "      <td>82</td>\n",
       "    </tr>\n",
       "    <tr>\n",
       "      <th>3</th>\n",
       "      <th>1</th>\n",
       "      <td>28.724891</td>\n",
       "      <td>10.490946</td>\n",
       "      <td>229</td>\n",
       "    </tr>\n",
       "    <tr>\n",
       "      <th rowspan=\"3\" valign=\"top\">Mrs</th>\n",
       "      <th>1</th>\n",
       "      <th>0</th>\n",
       "      <td>40.400000</td>\n",
       "      <td>12.779119</td>\n",
       "      <td>35</td>\n",
       "    </tr>\n",
       "    <tr>\n",
       "      <th>2</th>\n",
       "      <th>0</th>\n",
       "      <td>33.547619</td>\n",
       "      <td>10.229566</td>\n",
       "      <td>42</td>\n",
       "    </tr>\n",
       "    <tr>\n",
       "      <th>3</th>\n",
       "      <th>0</th>\n",
       "      <td>33.515152</td>\n",
       "      <td>10.031579</td>\n",
       "      <td>33</td>\n",
       "    </tr>\n",
       "    <tr>\n",
       "      <th rowspan=\"2\" valign=\"top\">Noble</th>\n",
       "      <th rowspan=\"2\" valign=\"top\">1</th>\n",
       "      <th>0</th>\n",
       "      <td>40.500000</td>\n",
       "      <td>10.606602</td>\n",
       "      <td>2</td>\n",
       "    </tr>\n",
       "    <tr>\n",
       "      <th>1</th>\n",
       "      <td>42.333333</td>\n",
       "      <td>5.859465</td>\n",
       "      <td>3</td>\n",
       "    </tr>\n",
       "    <tr>\n",
       "      <th rowspan=\"3\" valign=\"top\">Specialist</th>\n",
       "      <th rowspan=\"2\" valign=\"top\">1</th>\n",
       "      <th>0</th>\n",
       "      <td>49.000000</td>\n",
       "      <td>NaN</td>\n",
       "      <td>1</td>\n",
       "    </tr>\n",
       "    <tr>\n",
       "      <th>1</th>\n",
       "      <td>42.000000</td>\n",
       "      <td>9.165151</td>\n",
       "      <td>3</td>\n",
       "    </tr>\n",
       "    <tr>\n",
       "      <th>2</th>\n",
       "      <th>1</th>\n",
       "      <td>42.000000</td>\n",
       "      <td>14.020393</td>\n",
       "      <td>8</td>\n",
       "    </tr>\n",
       "  </tbody>\n",
       "</table>\n",
       "</div>"
      ],
      "text/plain": [
       "                            mean        std  count\n",
       "Title      Pclass Sex                             \n",
       "LittleMiss 1      0    21.000000   8.876936     16\n",
       "           2      0    10.538462   8.130348     13\n",
       "           3      0     6.903846   5.803050     26\n",
       "Master     1      1     5.306667   5.165475      3\n",
       "           2      1     2.258889   2.342634      9\n",
       "           3      1     5.350833   3.593608     24\n",
       "Military   1      1    56.600000   9.316652      5\n",
       "Miss       1      0    34.258065  11.972100     31\n",
       "           2      0    30.500000   9.650849     19\n",
       "           3      0    21.697674   6.911980     43\n",
       "Mr         1      1    41.580460  14.148275     87\n",
       "           2      1    32.768293  11.850977     82\n",
       "           3      1    28.724891  10.490946    229\n",
       "Mrs        1      0    40.400000  12.779119     35\n",
       "           2      0    33.547619  10.229566     42\n",
       "           3      0    33.515152  10.031579     33\n",
       "Noble      1      0    40.500000  10.606602      2\n",
       "                  1    42.333333   5.859465      3\n",
       "Specialist 1      0    49.000000        NaN      1\n",
       "                  1    42.000000   9.165151      3\n",
       "           2      1    42.000000  14.020393      8"
      ]
     },
     "execution_count": 11,
     "metadata": {},
     "output_type": "execute_result"
    }
   ],
   "source": [
    "titanicData.loc[(titanicData.Title=='Miss') & (titanicData.Parch!=0), 'Title'] = \"LittleMiss\"\n",
    "titanicData.groupby(['Title', 'Pclass', 'Sex'])['Age'].agg(['mean', 'std', 'count'])"
   ]
  },
  {
   "cell_type": "code",
   "execution_count": 12,
   "id": "08f125f7",
   "metadata": {
    "ExecuteTime": {
     "end_time": "2023-10-18T13:20:58.591081366Z",
     "start_time": "2023-10-18T13:20:58.584422920Z"
    }
   },
   "outputs": [],
   "source": [
    "titanicData['Age'].fillna(titanicData.groupby(['Pclass','Sex','Title'])['Age'].transform('mean'), inplace=True)"
   ]
  },
  {
   "cell_type": "markdown",
   "id": "b3329013",
   "metadata": {},
   "source": [
    "Enfin, nous éliminons les colonnes inutiles, telles que $\\textbf{Name}$ (puisque des informations importantes se trouvent déjà dans la colonne $\\textbf{Title}$) et $\\textbf{Pclass}$ (qui est déjà représentée dans les variables muettes)."
   ]
  },
  {
   "cell_type": "code",
   "execution_count": 13,
   "id": "0a87c823",
   "metadata": {
    "ExecuteTime": {
     "end_time": "2023-10-18T13:20:59.798372805Z",
     "start_time": "2023-10-18T13:20:59.794099685Z"
    }
   },
   "outputs": [
    {
     "data": {
      "text/html": [
       "<div>\n",
       "<style scoped>\n",
       "    .dataframe tbody tr th:only-of-type {\n",
       "        vertical-align: middle;\n",
       "    }\n",
       "\n",
       "    .dataframe tbody tr th {\n",
       "        vertical-align: top;\n",
       "    }\n",
       "\n",
       "    .dataframe thead th {\n",
       "        text-align: right;\n",
       "    }\n",
       "</style>\n",
       "<table border=\"1\" class=\"dataframe\">\n",
       "  <thead>\n",
       "    <tr style=\"text-align: right;\">\n",
       "      <th></th>\n",
       "      <th>Survived</th>\n",
       "      <th>Sex</th>\n",
       "      <th>Age</th>\n",
       "      <th>SibSp</th>\n",
       "      <th>Parch</th>\n",
       "      <th>Fare</th>\n",
       "      <th>Class_1</th>\n",
       "      <th>Class_2</th>\n",
       "      <th>Class_3</th>\n",
       "      <th>Title</th>\n",
       "    </tr>\n",
       "  </thead>\n",
       "  <tbody>\n",
       "    <tr>\n",
       "      <th>0</th>\n",
       "      <td>0</td>\n",
       "      <td>1</td>\n",
       "      <td>22.000000</td>\n",
       "      <td>1</td>\n",
       "      <td>0</td>\n",
       "      <td>7.2500</td>\n",
       "      <td>0</td>\n",
       "      <td>0</td>\n",
       "      <td>1</td>\n",
       "      <td>Mr</td>\n",
       "    </tr>\n",
       "    <tr>\n",
       "      <th>1</th>\n",
       "      <td>1</td>\n",
       "      <td>0</td>\n",
       "      <td>38.000000</td>\n",
       "      <td>1</td>\n",
       "      <td>0</td>\n",
       "      <td>71.2833</td>\n",
       "      <td>1</td>\n",
       "      <td>0</td>\n",
       "      <td>0</td>\n",
       "      <td>Mrs</td>\n",
       "    </tr>\n",
       "    <tr>\n",
       "      <th>2</th>\n",
       "      <td>1</td>\n",
       "      <td>0</td>\n",
       "      <td>26.000000</td>\n",
       "      <td>0</td>\n",
       "      <td>0</td>\n",
       "      <td>7.9250</td>\n",
       "      <td>0</td>\n",
       "      <td>0</td>\n",
       "      <td>1</td>\n",
       "      <td>Miss</td>\n",
       "    </tr>\n",
       "    <tr>\n",
       "      <th>3</th>\n",
       "      <td>1</td>\n",
       "      <td>0</td>\n",
       "      <td>35.000000</td>\n",
       "      <td>1</td>\n",
       "      <td>0</td>\n",
       "      <td>53.1000</td>\n",
       "      <td>1</td>\n",
       "      <td>0</td>\n",
       "      <td>0</td>\n",
       "      <td>Mrs</td>\n",
       "    </tr>\n",
       "    <tr>\n",
       "      <th>4</th>\n",
       "      <td>0</td>\n",
       "      <td>1</td>\n",
       "      <td>35.000000</td>\n",
       "      <td>0</td>\n",
       "      <td>0</td>\n",
       "      <td>8.0500</td>\n",
       "      <td>0</td>\n",
       "      <td>0</td>\n",
       "      <td>1</td>\n",
       "      <td>Mr</td>\n",
       "    </tr>\n",
       "    <tr>\n",
       "      <th>5</th>\n",
       "      <td>0</td>\n",
       "      <td>1</td>\n",
       "      <td>28.724891</td>\n",
       "      <td>0</td>\n",
       "      <td>0</td>\n",
       "      <td>8.4583</td>\n",
       "      <td>0</td>\n",
       "      <td>0</td>\n",
       "      <td>1</td>\n",
       "      <td>Mr</td>\n",
       "    </tr>\n",
       "    <tr>\n",
       "      <th>6</th>\n",
       "      <td>0</td>\n",
       "      <td>1</td>\n",
       "      <td>54.000000</td>\n",
       "      <td>0</td>\n",
       "      <td>0</td>\n",
       "      <td>51.8625</td>\n",
       "      <td>1</td>\n",
       "      <td>0</td>\n",
       "      <td>0</td>\n",
       "      <td>Mr</td>\n",
       "    </tr>\n",
       "    <tr>\n",
       "      <th>7</th>\n",
       "      <td>0</td>\n",
       "      <td>1</td>\n",
       "      <td>2.000000</td>\n",
       "      <td>3</td>\n",
       "      <td>1</td>\n",
       "      <td>21.0750</td>\n",
       "      <td>0</td>\n",
       "      <td>0</td>\n",
       "      <td>1</td>\n",
       "      <td>Master</td>\n",
       "    </tr>\n",
       "    <tr>\n",
       "      <th>8</th>\n",
       "      <td>1</td>\n",
       "      <td>0</td>\n",
       "      <td>27.000000</td>\n",
       "      <td>0</td>\n",
       "      <td>2</td>\n",
       "      <td>11.1333</td>\n",
       "      <td>0</td>\n",
       "      <td>0</td>\n",
       "      <td>1</td>\n",
       "      <td>Mrs</td>\n",
       "    </tr>\n",
       "    <tr>\n",
       "      <th>9</th>\n",
       "      <td>1</td>\n",
       "      <td>0</td>\n",
       "      <td>14.000000</td>\n",
       "      <td>1</td>\n",
       "      <td>0</td>\n",
       "      <td>30.0708</td>\n",
       "      <td>0</td>\n",
       "      <td>1</td>\n",
       "      <td>0</td>\n",
       "      <td>Mrs</td>\n",
       "    </tr>\n",
       "  </tbody>\n",
       "</table>\n",
       "</div>"
      ],
      "text/plain": [
       "   Survived  Sex        Age  SibSp  Parch     Fare  Class_1  Class_2  Class_3  \\\n",
       "0         0    1  22.000000      1      0   7.2500        0        0        1   \n",
       "1         1    0  38.000000      1      0  71.2833        1        0        0   \n",
       "2         1    0  26.000000      0      0   7.9250        0        0        1   \n",
       "3         1    0  35.000000      1      0  53.1000        1        0        0   \n",
       "4         0    1  35.000000      0      0   8.0500        0        0        1   \n",
       "5         0    1  28.724891      0      0   8.4583        0        0        1   \n",
       "6         0    1  54.000000      0      0  51.8625        1        0        0   \n",
       "7         0    1   2.000000      3      1  21.0750        0        0        1   \n",
       "8         1    0  27.000000      0      2  11.1333        0        0        1   \n",
       "9         1    0  14.000000      1      0  30.0708        0        1        0   \n",
       "\n",
       "    Title  \n",
       "0      Mr  \n",
       "1     Mrs  \n",
       "2    Miss  \n",
       "3     Mrs  \n",
       "4      Mr  \n",
       "5      Mr  \n",
       "6      Mr  \n",
       "7  Master  \n",
       "8     Mrs  \n",
       "9     Mrs  "
      ]
     },
     "execution_count": 13,
     "metadata": {},
     "output_type": "execute_result"
    }
   ],
   "source": [
    "titanicData.drop(['Name', 'Pclass'], inplace=True, axis=1)\n",
    "titanicData.head(10)"
   ]
  },
  {
   "cell_type": "markdown",
   "id": "1fe501d5",
   "metadata": {},
   "source": [
    "<h2 align=\"center\"> <font color='blue'>Exercice 1</font></h2> <a class=\"anchor\" id=\"P1\"></a>"
   ]
  },
  {
   "cell_type": "code",
   "execution_count": 14,
   "id": "c06e8441",
   "metadata": {
    "ExecuteTime": {
     "end_time": "2023-10-18T13:21:01.373029001Z",
     "start_time": "2023-10-18T13:21:01.367140290Z"
    }
   },
   "outputs": [
    {
     "name": "stdout",
     "output_type": "stream",
     "text": [
      "Nombre de passagers décédés: 549\n",
      "Proportion de passagers décédés: 61.62%\n"
     ]
    }
   ],
   "source": [
    "survQuant = titanicData.value_counts(['Survived'])\n",
    "totalDead = survQuant[0]\n",
    "totalPassengers = survQuant[0]+survQuant[1]\n",
    "deathRate = totalDead/totalPassengers\n",
    "\n",
    "print(f'Nombre de passagers décédés: {totalDead}')\n",
    "print(f'Proportion de passagers décédés: {deathRate*100:.2f}%')"
   ]
  },
  {
   "cell_type": "markdown",
   "id": "5f0caecb",
   "metadata": {},
   "source": [
    "<h2 align=\"center\"> <font color='blue'>Exercice 2</font></h2> <a class=\"anchor\" id=\"P2\"></a>"
   ]
  },
  {
   "cell_type": "code",
   "execution_count": 15,
   "id": "6866063e",
   "metadata": {
    "ExecuteTime": {
     "end_time": "2023-10-18T13:21:02.598612358Z",
     "start_time": "2023-10-18T13:21:02.547505956Z"
    }
   },
   "outputs": [
    {
     "name": "stdout",
     "output_type": "stream",
     "text": [
      "Nombre de femmes décédés: 81\n",
      "Proportion de femmes décédés: 25.80%\n",
      "\n",
      "Nombre d'hommes décédés: 468\n",
      "Proportion d'hommes décédés: 81.11%\n"
     ]
    }
   ],
   "source": [
    "dfFemale = titanicData.loc[titanicData['Sex'] == 0]\n",
    "dfMale = titanicData.loc[titanicData['Sex'] == 1]\n",
    "\n",
    "survQuantFem = dfFemale.value_counts(['Survived'])\n",
    "totalDeadFem = survQuantFem[0]\n",
    "totalFem = survQuantFem[0]+survQuantFem[1]\n",
    "deathRateFem = totalDeadFem/totalFem\n",
    "\n",
    "survQuantMale = dfMale.value_counts(['Survived'])\n",
    "totalDeadMale = survQuantMale[0]\n",
    "totalMale = survQuantMale[0]+survQuantMale[1]\n",
    "deathRateMale = totalDeadMale/totalMale\n",
    "\n",
    "print(f'Nombre de femmes décédés: {totalDeadFem}')\n",
    "print(f'Proportion de femmes décédés: {deathRateFem*100:.2f}%\\n')\n",
    "\n",
    "print(f\"Nombre d'hommes décédés: {totalDeadMale}\")\n",
    "print(f\"Proportion d'hommes décédés: {deathRateMale*100:.2f}%\")"
   ]
  },
  {
   "cell_type": "markdown",
   "id": "d0c5ba9f",
   "metadata": {},
   "source": [
    "L'analyse de la proportion de passagers tués par sexe montre que les hommes sont plus nombreux que les femmes. En effet, les hommes sont proportionnellement $3,24$ fois plus décédés que les femmes."
   ]
  },
  {
   "cell_type": "markdown",
   "id": "fa0baf65",
   "metadata": {},
   "source": [
    "<h2 align=\"center\"> <font color='blue'>Exercice 3</font></h2> <a class=\"anchor\" id=\"P3\"></a>"
   ]
  },
  {
   "cell_type": "code",
   "execution_count": 16,
   "id": "74c66271",
   "metadata": {
    "ExecuteTime": {
     "end_time": "2023-10-18T13:21:03.979801122Z",
     "start_time": "2023-10-18T13:21:03.967683160Z"
    }
   },
   "outputs": [
    {
     "name": "stdout",
     "output_type": "stream",
     "text": [
      "Nombre de passagers de la 1ere classe décédés: 216\n",
      "Proportion de passagers de la 1ere classe décédés: 37.04%\n",
      "\n",
      "Nombre de passagers de la 2eme classe décédés: 184\n",
      "Proportion de passagers de la 2eme classe décédés: 52.72%\n",
      "\n",
      "Nombre de passagers de la 3eme classe décédés: 491\n",
      "Proportion de passagers de la 3eme classe décédés: 75.76%\n",
      "\n"
     ]
    }
   ],
   "source": [
    "classes = ['Class_1', 'Class_2', 'Class_3']\n",
    "totalClass = []\n",
    "deathRate = []\n",
    "\n",
    "for pclass in classes:\n",
    "\n",
    "    dfClass = titanicData.loc[titanicData[pclass] == 1]\n",
    "\n",
    "    survQuantClass = dfClass.value_counts(['Survived'])\n",
    "    totalDeadClass = survQuantClass[0]\n",
    "    totalClass.append(survQuantClass[0]+survQuantClass[1])\n",
    "    deathRate.append(totalDeadClass/(survQuantClass[0]+survQuantClass[1]))\n",
    "\n",
    "print(f'Nombre de passagers de la 1ere classe décédés: {totalClass[0]}')\n",
    "print(f'Proportion de passagers de la 1ere classe décédés: {deathRate[0]*100:.2f}%\\n')\n",
    "\n",
    "print(f'Nombre de passagers de la 2eme classe décédés: {totalClass[1]}')\n",
    "print(f'Proportion de passagers de la 2eme classe décédés: {deathRate[1]*100:.2f}%\\n')\n",
    "\n",
    "print(f'Nombre de passagers de la 3eme classe décédés: {totalClass[2]}')\n",
    "print(f'Proportion de passagers de la 3eme classe décédés: {deathRate[2]*100:.2f}%\\n')"
   ]
  },
  {
   "cell_type": "markdown",
   "id": "0525fef6",
   "metadata": {},
   "source": [
    "Tout comme nous l'avons observé pour les sexes, il semble également que les décès soient associés à la classe du passager. Les passagers de première classe sont proportionnellement moins décédés que les passagers de deuxième classe, qui à leur tour sont moins décédés que les passagers de troisième classe."
   ]
  },
  {
   "cell_type": "markdown",
   "id": "1c54e4c4",
   "metadata": {},
   "source": [
    "<h2 align=\"center\"> <font color='blue'>Exercice 4</font></h2> <a class=\"anchor\" id=\"P4\"></a>"
   ]
  },
  {
   "cell_type": "code",
   "execution_count": 17,
   "id": "bb99b23d",
   "metadata": {
    "ExecuteTime": {
     "end_time": "2023-10-18T13:21:06.280492006Z",
     "start_time": "2023-10-18T13:21:06.274606250Z"
    }
   },
   "outputs": [
    {
     "data": {
      "text/html": [
       "<div>\n",
       "<style scoped>\n",
       "    .dataframe tbody tr th:only-of-type {\n",
       "        vertical-align: middle;\n",
       "    }\n",
       "\n",
       "    .dataframe tbody tr th {\n",
       "        vertical-align: top;\n",
       "    }\n",
       "\n",
       "    .dataframe thead th {\n",
       "        text-align: right;\n",
       "    }\n",
       "</style>\n",
       "<table border=\"1\" class=\"dataframe\">\n",
       "  <thead>\n",
       "    <tr style=\"text-align: right;\">\n",
       "      <th></th>\n",
       "      <th>Survived</th>\n",
       "      <th>Sex</th>\n",
       "      <th>Age</th>\n",
       "      <th>SibSp</th>\n",
       "      <th>Parch</th>\n",
       "      <th>Fare</th>\n",
       "      <th>Class_1</th>\n",
       "      <th>Class_2</th>\n",
       "      <th>Class_3</th>\n",
       "    </tr>\n",
       "  </thead>\n",
       "  <tbody>\n",
       "    <tr>\n",
       "      <th>Survived</th>\n",
       "      <td>1.000000</td>\n",
       "      <td>-0.543351</td>\n",
       "      <td>-0.062518</td>\n",
       "      <td>-0.035322</td>\n",
       "      <td>0.081629</td>\n",
       "      <td>0.257307</td>\n",
       "      <td>0.285904</td>\n",
       "      <td>0.093349</td>\n",
       "      <td>-0.322308</td>\n",
       "    </tr>\n",
       "    <tr>\n",
       "      <th>Sex</th>\n",
       "      <td>-0.543351</td>\n",
       "      <td>1.000000</td>\n",
       "      <td>0.116925</td>\n",
       "      <td>-0.114631</td>\n",
       "      <td>-0.245489</td>\n",
       "      <td>-0.182333</td>\n",
       "      <td>-0.098013</td>\n",
       "      <td>-0.064746</td>\n",
       "      <td>0.137143</td>\n",
       "    </tr>\n",
       "    <tr>\n",
       "      <th>Age</th>\n",
       "      <td>-0.062518</td>\n",
       "      <td>0.116925</td>\n",
       "      <td>1.000000</td>\n",
       "      <td>-0.300432</td>\n",
       "      <td>-0.208537</td>\n",
       "      <td>0.108774</td>\n",
       "      <td>0.381339</td>\n",
       "      <td>0.019868</td>\n",
       "      <td>-0.344734</td>\n",
       "    </tr>\n",
       "    <tr>\n",
       "      <th>SibSp</th>\n",
       "      <td>-0.035322</td>\n",
       "      <td>-0.114631</td>\n",
       "      <td>-0.300432</td>\n",
       "      <td>1.000000</td>\n",
       "      <td>0.414838</td>\n",
       "      <td>0.159651</td>\n",
       "      <td>-0.054582</td>\n",
       "      <td>-0.055932</td>\n",
       "      <td>0.092548</td>\n",
       "    </tr>\n",
       "    <tr>\n",
       "      <th>Parch</th>\n",
       "      <td>0.081629</td>\n",
       "      <td>-0.245489</td>\n",
       "      <td>-0.208537</td>\n",
       "      <td>0.414838</td>\n",
       "      <td>1.000000</td>\n",
       "      <td>0.216225</td>\n",
       "      <td>-0.017633</td>\n",
       "      <td>-0.000734</td>\n",
       "      <td>0.015790</td>\n",
       "    </tr>\n",
       "    <tr>\n",
       "      <th>Fare</th>\n",
       "      <td>0.257307</td>\n",
       "      <td>-0.182333</td>\n",
       "      <td>0.108774</td>\n",
       "      <td>0.159651</td>\n",
       "      <td>0.216225</td>\n",
       "      <td>1.000000</td>\n",
       "      <td>0.591711</td>\n",
       "      <td>-0.118557</td>\n",
       "      <td>-0.413333</td>\n",
       "    </tr>\n",
       "    <tr>\n",
       "      <th>Class_1</th>\n",
       "      <td>0.285904</td>\n",
       "      <td>-0.098013</td>\n",
       "      <td>0.381339</td>\n",
       "      <td>-0.054582</td>\n",
       "      <td>-0.017633</td>\n",
       "      <td>0.591711</td>\n",
       "      <td>1.000000</td>\n",
       "      <td>-0.288585</td>\n",
       "      <td>-0.626738</td>\n",
       "    </tr>\n",
       "    <tr>\n",
       "      <th>Class_2</th>\n",
       "      <td>0.093349</td>\n",
       "      <td>-0.064746</td>\n",
       "      <td>0.019868</td>\n",
       "      <td>-0.055932</td>\n",
       "      <td>-0.000734</td>\n",
       "      <td>-0.118557</td>\n",
       "      <td>-0.288585</td>\n",
       "      <td>1.000000</td>\n",
       "      <td>-0.565210</td>\n",
       "    </tr>\n",
       "    <tr>\n",
       "      <th>Class_3</th>\n",
       "      <td>-0.322308</td>\n",
       "      <td>0.137143</td>\n",
       "      <td>-0.344734</td>\n",
       "      <td>0.092548</td>\n",
       "      <td>0.015790</td>\n",
       "      <td>-0.413333</td>\n",
       "      <td>-0.626738</td>\n",
       "      <td>-0.565210</td>\n",
       "      <td>1.000000</td>\n",
       "    </tr>\n",
       "  </tbody>\n",
       "</table>\n",
       "</div>"
      ],
      "text/plain": [
       "          Survived       Sex       Age     SibSp     Parch      Fare  \\\n",
       "Survived  1.000000 -0.543351 -0.062518 -0.035322  0.081629  0.257307   \n",
       "Sex      -0.543351  1.000000  0.116925 -0.114631 -0.245489 -0.182333   \n",
       "Age      -0.062518  0.116925  1.000000 -0.300432 -0.208537  0.108774   \n",
       "SibSp    -0.035322 -0.114631 -0.300432  1.000000  0.414838  0.159651   \n",
       "Parch     0.081629 -0.245489 -0.208537  0.414838  1.000000  0.216225   \n",
       "Fare      0.257307 -0.182333  0.108774  0.159651  0.216225  1.000000   \n",
       "Class_1   0.285904 -0.098013  0.381339 -0.054582 -0.017633  0.591711   \n",
       "Class_2   0.093349 -0.064746  0.019868 -0.055932 -0.000734 -0.118557   \n",
       "Class_3  -0.322308  0.137143 -0.344734  0.092548  0.015790 -0.413333   \n",
       "\n",
       "           Class_1   Class_2   Class_3  \n",
       "Survived  0.285904  0.093349 -0.322308  \n",
       "Sex      -0.098013 -0.064746  0.137143  \n",
       "Age       0.381339  0.019868 -0.344734  \n",
       "SibSp    -0.054582 -0.055932  0.092548  \n",
       "Parch    -0.017633 -0.000734  0.015790  \n",
       "Fare      0.591711 -0.118557 -0.413333  \n",
       "Class_1   1.000000 -0.288585 -0.626738  \n",
       "Class_2  -0.288585  1.000000 -0.565210  \n",
       "Class_3  -0.626738 -0.565210  1.000000  "
      ]
     },
     "execution_count": 17,
     "metadata": {},
     "output_type": "execute_result"
    }
   ],
   "source": [
    "titanicData.corr()"
   ]
  },
  {
   "cell_type": "markdown",
   "id": "deed771f",
   "metadata": {},
   "source": [
    "En observant la ligne $\\textbf{Survived}$, on conclue que les variables avec les plus forts correlations sont\n",
    "- $\\textbf{Sex}$ avec correlation $-0,54$\n",
    "- $\\textbf{Fare}$ avec correlation $0,26$\n",
    "- $\\textbf{Class_1}$ avec correlation $0,29$\n",
    "- $\\textbf{Class_3}$ avec correlation $-0,32$"
   ]
  },
  {
   "cell_type": "markdown",
   "id": "e487aadd",
   "metadata": {},
   "source": [
    "<h2 align=\"center\"> <font color='blue'>Exercice 5</font></h2> <a class=\"anchor\" id=\"P5\"></a>"
   ]
  },
  {
   "cell_type": "markdown",
   "id": "c7fca0d6",
   "metadata": {},
   "source": [
    "D'abord, il faut calculer le estimateur du maximum de vraisemblance pour chaque paramètre du modèle. On va implementer l'algorithme $\\textbf{IRLS}$ décrit dans le sujet."
   ]
  },
  {
   "cell_type": "code",
   "execution_count": 18,
   "id": "339da8f9",
   "metadata": {
    "ExecuteTime": {
     "end_time": "2023-10-18T13:21:08.044921853Z",
     "start_time": "2023-10-18T13:21:08.028875810Z"
    }
   },
   "outputs": [
    {
     "name": "stdout",
     "output_type": "stream",
     "text": [
      "n = 891 et p = 8\n"
     ]
    }
   ],
   "source": [
    "parametres = ['Sex', 'Age', 'SibSp', 'Parch', 'Fare', 'Class_1', 'Class_2', 'Class_3']\n",
    "Xn = titanicData[parametres] #on prend tout les parametres\n",
    "Xn = Xn.to_numpy()#et convert le dataframe en matrice numpy\n",
    "\n",
    "Yn = titanicData['Survived']\n",
    "Yn = Yn.to_numpy()#analogiquement, convert la collone du dataframe en vecteur numpy\n",
    "\n",
    "#on definit n et p\n",
    "n = Xn.shape[0]\n",
    "p = Xn.shape[1]\n",
    "print(f\"n = {n} et p = {p}\")"
   ]
  },
  {
   "cell_type": "code",
   "execution_count": 19,
   "id": "4e74cb2f",
   "metadata": {
    "ExecuteTime": {
     "end_time": "2023-10-18T13:21:08.500276202Z",
     "start_time": "2023-10-18T13:21:08.487706703Z"
    }
   },
   "outputs": [],
   "source": [
    "#Fonction phi(t)\n",
    "def phi(t):\n",
    "    return 1.0/(1.0 + np.exp(-t))\n",
    "\n",
    "#Fonction h(t)\n",
    "def h(t):\n",
    "    return phi(t)*(1 - phi(t))\n",
    "\n",
    "#Fonction Phi_n(theta)\n",
    "def Phi_n(theta):\n",
    "    Phi_n = np.zeros(n)\n",
    "    theta_T = np.transpose(theta)\n",
    "    for i in range(n):\n",
    "        xi = Xn[i, :]\n",
    "        Phi_n[i] = phi(np.matmul(theta_T, xi))\n",
    "    return Phi_n\n",
    "        \n",
    "#Matrice W(theta)\n",
    "def W(theta):\n",
    "    W = np.zeros((n,n))\n",
    "    theta_T = np.transpose(theta)\n",
    "    for i in range(n):\n",
    "        xi = Xn[i, :]\n",
    "        W[i][i] = h(np.matmul(theta_T, xi))\n",
    "    return W\n",
    "        \n",
    "    \n",
    "#Algorithme IRLS pour calculer l'estimateur de vraisemblance\n",
    "def IRLS(theta_0, Xn, Yn, rho):\n",
    "    \n",
    "    Xn_T = np.transpose(Xn)\n",
    "    \n",
    "    t = 0\n",
    "    theta_t = theta_0\n",
    "    Phi_n_t = Phi_n(theta_t)\n",
    "    W_t = W(theta_t)\n",
    "    err_t = 1\n",
    "    \n",
    "    while(err_t >= rho):\n",
    "        zt = np.matmul(Xn, theta_t) + np.matmul(inv(W_t), Yn - Phi_n_t)\n",
    "        theta_t = np.matmul( inv(np.matmul(Xn_T, np.matmul(W_t, Xn))), np.matmul(Xn_T, np.matmul(W_t, zt)))\n",
    "        Phi_n_t = Phi_n(theta_t)\n",
    "        W_t = W(theta_t)\n",
    "        err_t = norm(np.matmul(Xn_T, Yn - Phi_n_t))\n",
    "        t += 1\n",
    "    \n",
    "    return theta_t"
   ]
  },
  {
   "cell_type": "code",
   "execution_count": 20,
   "id": "f0efcf82",
   "metadata": {
    "ExecuteTime": {
     "end_time": "2023-10-18T13:21:09.080808894Z",
     "start_time": "2023-10-18T13:21:08.842612548Z"
    }
   },
   "outputs": [
    {
     "name": "stdout",
     "output_type": "stream",
     "text": [
      "theta_MV  = [-2.72889199e+00 -4.33869462e-02 -3.99447067e-01 -1.09888319e-01\n",
      "  2.69734719e-03  4.08946313e+00  2.94326105e+00  1.74209395e+00]\n"
     ]
    }
   ],
   "source": [
    "theta_0 = np.zeros(p)\n",
    "theta_MV = IRLS(theta_0, Xn, Yn, 10**-10)\n",
    "\n",
    "#l'estimateur du maximum de vraisemblance\n",
    "print(f\"theta_MV  = {theta_MV}\")"
   ]
  },
  {
   "cell_type": "markdown",
   "id": "9e5408dc",
   "metadata": {},
   "source": [
    "Ici, on utilise le résultat de la question 14. On sait que l'intervalle de confiance de niveau $1 - \\alpha$ pour le paramètre $\\hat{\\theta}_{n}^{MV}$ est\n",
    "$$ I(\\alpha) = \\left[ \\hat{\\theta}_n^{MV} - \\sqrt{\\frac{\\beta_{n,k}}{n}}q_{1 - \\frac{\\alpha}{2}} , \\hat{\\theta}_n^{MV} + \\sqrt{\\frac{\\beta_{n,k}}{n}}q_{1 - \\frac{\\alpha}{2}} \\right]$$"
   ]
  },
  {
   "cell_type": "code",
   "execution_count": 21,
   "id": "b4cb0b44",
   "metadata": {
    "ExecuteTime": {
     "end_time": "2023-10-18T13:21:09.649080396Z",
     "start_time": "2023-10-18T13:21:09.620283242Z"
    }
   },
   "outputs": [
    {
     "name": "stdout",
     "output_type": "stream",
     "text": [
      "Intervale de confiance Sex = [-3.1199832647511876, -2.3378007109914822]\n",
      "Intervale de confiance Age = [-0.05919426345634603, -0.0275796289739451]\n",
      "Intervale de confiance SibSp = [-0.6135861768222267, -0.18530795734293468]\n",
      "Intervale de confiance Parch = [-0.34305168886197257, 0.12327505174319342]\n",
      "Intervale de confiance Fare = [-0.0020976413420174867, 0.007492335724339357]\n",
      "Intervale de confiance Class_1 = [3.1719558311163296, 5.006970429637827]\n",
      "Intervale de confiance Class_2 = [2.2496598137378303, 3.6368622841698786]\n",
      "Intervale de confiance Class_3 = [1.1783666881792745, 2.30582120962629]\n"
     ]
    }
   ],
   "source": [
    "def F_n(theta):\n",
    "    ret = np.zeros((p, p))\n",
    "    theta_T = np.transpose(theta)\n",
    "    for i in range(n):\n",
    "        xi = Xn[i, :]\n",
    "        ret += h(np.matmul(theta_T, xi))*np.outer(xi, xi)\n",
    "    return ret\n",
    "\n",
    "#alors, on a les coefficients beta_{n,k}\n",
    "beta = inv(F_n(theta_MV)/n)\n",
    "\n",
    "#on calcule les quantiles\n",
    "quantile = sps.norm.ppf(1 - (0.05/2))\n",
    "\n",
    "for i in range(p):\n",
    "    borne_gauche = theta_MV[i] - np.sqrt(beta[i][i]/n)*quantile\n",
    "    borne_droite = theta_MV[i] + np.sqrt(beta[i][i]/n)*quantile\n",
    "    print(f\"Intervale de confiance {parametres[i]} = [{borne_gauche}, {borne_droite}]\")"
   ]
  },
  {
   "cell_type": "markdown",
   "id": "9c1daa08",
   "metadata": {},
   "source": [
    "<h2 align=\"center\"> <font color='blue'>Exercice 6</font></h2> <a class=\"anchor\" id=\"P6\"></a>"
   ]
  },
  {
   "cell_type": "markdown",
   "id": "7ab3504e",
   "metadata": {},
   "source": [
    "On utilise le résultat de la question 16. On sait que la p-valeur est\n",
    "$$ \\hat{\\alpha}(Y_n) = 2 - 2F \\left( \\sqrt{\\frac{n}{\\beta_{n,k}}}| \\hat{\\theta}_{n,k}^{MV} | \\right) $$"
   ]
  },
  {
   "cell_type": "code",
   "execution_count": 22,
   "id": "0c29ba15",
   "metadata": {
    "ExecuteTime": {
     "end_time": "2023-10-18T13:21:10.955348105Z",
     "start_time": "2023-10-18T13:21:10.948012077Z"
    }
   },
   "outputs": [
    {
     "name": "stdout",
     "output_type": "stream",
     "text": [
      "0.35563328163702757\n"
     ]
    }
   ],
   "source": [
    "p_valeur_Parch = 2 - 2*sps.norm.cdf(np.sqrt(n/beta[3][3])*abs(theta_MV[3]))\n",
    "print(p_valeur_Parch)"
   ]
  },
  {
   "cell_type": "markdown",
   "id": "acd99888",
   "metadata": {},
   "source": [
    "On en conclue que l'hipothèse $H_0$ est compatible avec les données car la p-valeur est assez grande.\n",
    "\n",
    "Donc, on ne peut pas rejeter l'hipothèse nulle $\\implies$ on doit enlever $\\textbf{Parch}$ du modèle."
   ]
  },
  {
   "cell_type": "markdown",
   "id": "56ccf3ca",
   "metadata": {},
   "source": [
    "<h2 align=\"center\"> <font color='blue'>Exercice 7</font></h2> <a class=\"anchor\" id=\"P7\"></a>"
   ]
  },
  {
   "cell_type": "code",
   "execution_count": 23,
   "id": "6a41f995",
   "metadata": {
    "ExecuteTime": {
     "end_time": "2023-10-18T13:21:12.451978529Z",
     "start_time": "2023-10-18T13:21:12.262415444Z"
    }
   },
   "outputs": [
    {
     "name": "stdout",
     "output_type": "stream",
     "text": [
      "theta_MV  = [-2.69479176e+00 -4.31845337e-02 -4.26133911e-01  2.20762102e-03\n",
      "  4.06821515e+00  2.89580427e+00  1.68920215e+00]\n",
      "Intervale de confiance Sex = [-3.077721969945676, -2.3118615474713735]\n",
      "Intervale de confiance Age = [-0.05896284418294745, -0.0274062232906965]\n",
      "Intervale de confiance SibSp = [-0.6339473243753674, -0.21832049762304936]\n",
      "Intervale de confiance Fare = [-0.0023576747662690466, 0.006772916813051545]\n",
      "Intervale de confiance Class_1 = [3.1548249900894794, 4.981605314363205]\n",
      "Intervale de confiance Class_2 = [2.2112133141531944, 3.5803952200923423]\n",
      "Intervale de confiance Class_3 = [1.13813548702132, 2.240268812576983]\n"
     ]
    }
   ],
   "source": [
    "parametres = ['Sex', 'Age', 'SibSp', 'Fare', 'Class_1', 'Class_2', 'Class_3']\n",
    "Xn = titanicData[parametres] #on supprime Parch du modele\n",
    "Xn = Xn.to_numpy()\n",
    "p = Xn.shape[1]\n",
    "\n",
    "theta_0 = np.zeros(p)\n",
    "theta_MV = IRLS(theta_0, Xn, Yn, 10**-10)\n",
    "print(f\"theta_MV  = {theta_MV}\")\n",
    "\n",
    "#les coefficients beta_{n,k}\n",
    "beta = inv(F_n(theta_MV)/n)\n",
    "\n",
    "for i in range(p):\n",
    "    borne_gauche = theta_MV[i] - np.sqrt(beta[i][i]/n)*quantile\n",
    "    borne_droite = theta_MV[i] + np.sqrt(beta[i][i]/n)*quantile\n",
    "    print(f\"Intervale de confiance {parametres[i]} = [{borne_gauche}, {borne_droite}]\")"
   ]
  },
  {
   "cell_type": "markdown",
   "id": "061d3bc2",
   "metadata": {},
   "source": [
    "Enfin, nous avons observé que la longueur des intervalles a diminué légèrement, mais qu'il n'y a pas de grande différence après avoir supprimé le paramètre du modèle.\n",
    "Cela renforce la conclusion que nous avons tirée de la p-valeur, à savoir que la suppression du paramètre du modèle était un bon choix."
   ]
  },
  {
   "cell_type": "markdown",
   "id": "a03d6359",
   "metadata": {},
   "source": [
    "<h2 align=\"center\"> <font color='blue'>Exercice 8</font></h2> <a class=\"anchor\" id=\"P8\"></a>"
   ]
  },
  {
   "cell_type": "code",
   "execution_count": 24,
   "id": "dac75879",
   "metadata": {
    "ExecuteTime": {
     "end_time": "2023-10-18T13:21:13.091447839Z",
     "start_time": "2023-10-18T13:21:13.083389226Z"
    }
   },
   "outputs": [
    {
     "name": "stdout",
     "output_type": "stream",
     "text": [
      "0.3432457411866534\n"
     ]
    }
   ],
   "source": [
    "#on utilise la même formule pour la p-valeur avec l'indice de \"Fare\" dans la liste de parametres\n",
    "p_valeur_Fare = 2 - 2*sps.norm.cdf(np.sqrt(n/beta[3][3])*abs(theta_MV[3]))\n",
    "print(p_valeur_Fare)"
   ]
  },
  {
   "cell_type": "markdown",
   "id": "aa9b5926",
   "metadata": {},
   "source": [
    "On en conclue que l'hipothèse $H_0$ est compatible avec les données car la p-valeur est assez grande.\n",
    "\n",
    "Donc, on ne peut pas rejeter l'hipothèse nulle $\\implies$ on doit enlever $\\textbf{Fare}$ du modèle."
   ]
  },
  {
   "cell_type": "markdown",
   "id": "7b586f7a",
   "metadata": {},
   "source": [
    "<h2 align=\"center\"> <font color='blue'>Exercice 9</font></h2> <a class=\"anchor\" id=\"P9\"></a>"
   ]
  },
  {
   "cell_type": "code",
   "execution_count": 25,
   "id": "c9d1f40d",
   "metadata": {
    "ExecuteTime": {
     "end_time": "2023-10-18T13:21:14.589845700Z",
     "start_time": "2023-10-18T13:21:14.390774080Z"
    }
   },
   "outputs": [
    {
     "name": "stdout",
     "output_type": "stream",
     "text": [
      "theta_MV  = [-2.70865835 -0.0439107  -0.40945075  4.26401768  2.96424256  1.73330639]\n",
      "Intervale de confiance Sex = [-3.0903885452974835, -2.3269281506065473]\n",
      "Intervale de confiance Age = [-0.05962561960673721, -0.02819578322527977]\n",
      "Intervale de confiance SibSp = [-0.6137153993525519, -0.2051861102722432]\n",
      "Intervale de confiance Class_1 = [3.4396316743023267, 5.088403680010653]\n",
      "Intervale de confiance Class_2 = [2.2925677679912573, 3.635917346287375]\n",
      "Intervale de confiance Class_3 = [1.188511704007834, 2.278101069540702]\n"
     ]
    }
   ],
   "source": [
    "parametres = ['Sex', 'Age', 'SibSp', 'Class_1', 'Class_2', 'Class_3']\n",
    "Xn = titanicData[parametres] #on supprime Parch et Fare du modele\n",
    "Xn = Xn.to_numpy()\n",
    "p = Xn.shape[1]\n",
    "\n",
    "theta_0 = np.zeros(p)\n",
    "theta_MV = IRLS(theta_0, Xn, Yn, 10**-10)\n",
    "print(f\"theta_MV  = {theta_MV}\")\n",
    "\n",
    "#les coefficients beta_{n,k}\n",
    "beta = inv(F_n(theta_MV)/n)\n",
    "\n",
    "for i in range(p):\n",
    "    borne_gauche = theta_MV[i] - np.sqrt(beta[i][i]/n)*quantile\n",
    "    borne_droite = theta_MV[i] + np.sqrt(beta[i][i]/n)*quantile\n",
    "    print(f\"Intervale de confiance {parametres[i]} = [{borne_gauche}, {borne_droite}]\")"
   ]
  },
  {
   "cell_type": "markdown",
   "id": "6292efe2",
   "metadata": {},
   "source": [
    "Enfin, nous avons observé que la longueur des intervalles a diminué légèrement, mais qu'il n'y a pas de grande différence après avoir supprimé le paramètre du modèle.\n",
    "Cela renforce la conclusion que nous avons tirée de la p-valeur, à savoir que la suppression du paramètre du modèle était un bon choix."
   ]
  },
  {
   "cell_type": "markdown",
   "id": "e574f6c3",
   "metadata": {},
   "source": [
    "<h2 align=\"center\"> <font color='blue'>Exercice 10</font></h2> <a class=\"anchor\" id=\"P10\"></a>"
   ]
  },
  {
   "cell_type": "code",
   "execution_count": 26,
   "id": "ad8ce70f",
   "metadata": {
    "ExecuteTime": {
     "end_time": "2023-10-18T13:21:15.505837533Z",
     "start_time": "2023-10-18T13:21:15.446009153Z"
    }
   },
   "outputs": [
    {
     "name": "stdout",
     "output_type": "stream",
     "text": [
      "Probabilité de survie pour l'homme 64.32%\n",
      "Probabilité de survie pour la femme 96.44%\n"
     ]
    }
   ],
   "source": [
    "x_test_male = np.array([1, 22, 0, 1, 0, 0])#Sex=1(homme), Age=22, SibSp=0, Pclass=1\n",
    "proba_test_male = phi(theta_MV.dot(x_test_male)) #probabilite de survie pour l'homme\n",
    "\n",
    "x_test_female = np.array([0, 22, 0, 1, 0, 0])#Sex=0(female), Age=22, SibSp=0, Pclass=1\n",
    "proba_test_female = phi(theta_MV.dot(x_test_female)) #probabilite de survie pour la femme\n",
    "\n",
    "print(f\"Probabilité de survie pour l'homme {proba_test_male*100:.2f}%\")\n",
    "print(f\"Probabilité de survie pour la femme {proba_test_female*100:.2f}%\")"
   ]
  }
 ],
 "metadata": {
  "kernelspec": {
   "display_name": "Python 3 (ipykernel)",
   "language": "python",
   "name": "python3"
  },
  "language_info": {
   "codemirror_mode": {
    "name": "ipython",
    "version": 3
   },
   "file_extension": ".py",
   "mimetype": "text/x-python",
   "name": "python",
   "nbconvert_exporter": "python",
   "pygments_lexer": "ipython3",
   "version": "3.9.12"
  }
 },
 "nbformat": 4,
 "nbformat_minor": 5
}
