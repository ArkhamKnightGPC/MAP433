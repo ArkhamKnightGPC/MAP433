{
 "cells": [
  {
   "cell_type": "markdown",
   "id": "a6248281",
   "metadata": {},
   "source": [
    "# <font color='289C4E'>Devoir Maison 2\n",
    "**Élèves**: Sadegh ABDERRAHIM & Gabriel PEREIRA DE CARVALHO & Otávio RIBAS"
   ]
  },
  {
   "cell_type": "markdown",
   "id": "4bbad1db",
   "metadata": {},
   "source": [
    "### <font color='289C4E'>Table des matières<font><a class='anchor' id='top'></a>\n",
    "- [Problème](#Prob)\n",
    "    - [Exercice 1](#E1)\n",
    "    - [Exercice 2](#E2)\n",
    "    - [Exercice 3](#E3)\n",
    "    - [Exercice 4](#E4)\n",
    "    - [Exercice 5](#E5)\n",
    "    - [Exercice 6](#E6)\n",
    "    - [Exercice 7](#E7)\n",
    "    - [Exercice 8](#E8)\n",
    "    - [Exercice 9](#E9)\n",
    "    - [Exercice 10](#E10)\n",
    "    - [Exercice 11](#E11)\n",
    "    - [Exercice 12](#E12)\n",
    "    - [Exercice 13](#E13)\n",
    "    - [Exercice 14](#E14)\n",
    "    - [Exercice 15](#E15)\n",
    "    - [Exercice 16](#E16)\n",
    "- [Application Numérique](#Pratique)\n",
    "    - [Python Setup](#setup)\n",
    "    - [Exercice 1](#P1)\n",
    "    - [Exercice 2](#P2)\n",
    "    - [Exercice 3](#P3)\n",
    "    - [Exercice 4](#P4)\n",
    "    - [Exercice 5](#P5)\n",
    "    - [Exercice 6](#P6)\n",
    "    - [Exercice 7](#P7)\n",
    "    - [Exercice 8](#P8)\n",
    "    - [Exercice 9](#P9)\n",
    "    - [Exercice 10](#P10)"
   ]
  },
  {
   "cell_type": "markdown",
   "id": "62eff2c2",
   "metadata": {},
   "source": [
    "<h1 align=\"center\"> <font color='green'>Problème</font></h1> <a class=\"anchor\" id=\"Prob\"></a>"
   ]
  },
  {
   "cell_type": "markdown",
   "id": "e08a2cad",
   "metadata": {},
   "source": [
    "<h2 align=\"center\"> <font color='blue'>Exercice 1</font></h2> <a class=\"anchor\" id=\"E1\"></a>"
   ]
  },
  {
   "cell_type": "markdown",
   "id": "ac8285ca",
   "metadata": {},
   "source": [
    "Soit $n \\geq 0$. Soit $\\theta, \\theta'$ tels que $\\mathbb{P}_{n, \\theta} = \\mathbb{P}_{n, \\theta'}$.\n",
    "\n",
    "Donc, $\\forall 1 \\leq i \\leq n$ on a $\\mathrm{Ber}(\\phi(\\theta^T x_i)) = \\mathrm{Ber}(\\phi(\\theta'^T x_i))$.\n",
    "\n",
    "Ainsi $\\forall i \\in \\{1, ..., n\\} \\quad \\phi(\\theta^T x_i) = \\phi(\\theta'^T x_i)$.\n",
    "\n",
    "D'autre part $\\forall t > 0 \\quad \\phi'(t) = \\frac{e^t}{(1 + e^t)^2} \\geq 0$.\n",
    "\n",
    "Donc $\\phi$ est strictement croissante et continue $\\implies \\phi$ est bijective.\n",
    "\n",
    "On en déduit que $\\forall 1 \\leq i \\leq \\theta^T x_i = \\theta'^T x_i$ et donc $X_n \\theta = X_n \\theta'$ où la matrice $X_n \\in \\mathcal{M}_{n \\times p}(\\mathbb{R})$ est de rang $p$ et donc elle est injective.\n",
    "\n",
    "Ainsi, nous obtenons que $\\theta = \\theta'$ et donc le modèle est identifiable."
   ]
  },
  {
   "cell_type": "markdown",
   "id": "39051454",
   "metadata": {},
   "source": [
    "<h2 align=\"center\"> <font color='blue'>Exercice 2</font></h2> <a class=\"anchor\" id=\"E2\"></a>"
   ]
  },
  {
   "cell_type": "markdown",
   "id": "bce4f76e",
   "metadata": {},
   "source": [
    "Soit $\\theta \\in \\mathbb{R}^p$. On a\n",
    "$$ F_n(\\theta)^T = \\sum_{i=1}^{n} h(\\theta^T x_i)(x_i x_i^T)^T = F_n(\\theta).$$\n",
    "\n",
    "Donc $F_n$ est bien symétrique.\n",
    "\n",
    "Soit $u \\in \\mathbb{R}^p$,\n",
    "$$\\begin{align}\n",
    "u^T F_n(\\theta) u &= \\sum_{i=1}^{n} h(\\theta^T x_i) u^Tx_i x_i^T u \\\\\n",
    "&= \\sum_{i=1}^{n} h(\\theta^T x_i) \\| x_i^T u \\|^2.\n",
    "\\end{align}$$\n",
    "\n",
    "Or, $\\forall t \\in \\mathbb{R}$, $h(t) = \\frac{e^t}{(1 + e^t)^2} \\geq 0$ Et donc $u^T F_n(\\theta) u \\geq 0$.\n",
    "\n",
    "On en conclue que $F_n(\\theta)$ est définie positive.\n"
   ]
  },
  {
   "cell_type": "markdown",
   "id": "b3f36cb4",
   "metadata": {},
   "source": [
    "<h2 align=\"center\"> <font color='blue'>Exercice 3</font></h2> <a class=\"anchor\" id=\"E3\"></a>"
   ]
  },
  {
   "cell_type": "markdown",
   "id": "99f10c2c",
   "metadata": {},
   "source": [
    "On a $\\forall t \\in \\mathbb{R}$, \n",
    "$$\\begin{align}\n",
    "h(t) &= \\frac{e^t}{(1 + e^t)^2}\\\\\n",
    "&= \\frac{1}{2 + e^{-t} + e^t} \\\\\n",
    "&= \\frac{1}{2 + 2\\cosh(t)}.\n",
    "\\end{align}$$\n",
    "\n",
    "Ainsi on a $$h'(t) = \\frac{\\sinh(t)}{2(1 + \\cosh(t))^2}$$.\n",
    "\n",
    "Or comme $|\\sinh(t)| \\leq \\cosh(t)$, on a \n",
    "$$ |h'(t)| = \\frac{\\sinh(t)}{2(1 + \\cosh(t))^2} \\leq \\frac{|\\sinh(t)|}{4\\cosh(t)} \\leq \\frac{1}{4}.$$\n",
    "\n",
    "On en conclue que $h$ est $1$-Lipschitzienne sur $\\mathbb{R}$.\n"
   ]
  },
  {
   "cell_type": "markdown",
   "id": "bce4bf2a",
   "metadata": {},
   "source": [
    "<h2 align=\"center\"> <font color='blue'>Exercice 4</font></h2> <a class=\"anchor\" id=\"E4\"></a>"
   ]
  },
  {
   "cell_type": "markdown",
   "id": "d7d22487",
   "metadata": {},
   "source": [
    "Soit $\\theta \\in \\mathbb{R}^p$. Calculons la vraisemblance\n",
    "$$\\begin{align}\n",
    "L_n(\\theta) &= \\mathbb{P}_{n, \\theta} (Y_1, ..., Y_n)\\\\\n",
    "&= \\prod_{i=1}^{n} \\phi(\\theta^T x_i)^{Y_i} (1 - \\phi(\\theta^T x_i))^{1 - Y_i}.\n",
    "\\end{align}$$\n",
    "\n",
    "Alors, calculons la log-vraisemblance\n",
    "$$ l_n(\\theta) = \\sum_{i=1}^{n} Y_i \\ln(\\phi(\\theta^T x_i)) + (1-Y_i)\\ln(1 - \\phi(\\theta^T x_i)). $$ "
   ]
  },
  {
   "cell_type": "markdown",
   "id": "9f6b5315",
   "metadata": {},
   "source": [
    "<h2 align=\"center\"> <font color='blue'>Exercice 5</font></h2> <a class=\"anchor\" id=\"E5\"></a>"
   ]
  },
  {
   "cell_type": "markdown",
   "id": "8ae899fb",
   "metadata": {},
   "source": [
    "Soit $\\theta \\in \\mathbb{R}^p$.\n",
    "$$\\begin{align}\n",
    "\\nabla l_n(\\theta) &= \\sum_{i=1}^{n} Y_i \\frac{\\nabla \\phi(\\theta^T x_i)}{\\phi(\\theta^T x_i)} + \\sum_{i=1}^{n} (1 - Y_i)\\frac{-\\nabla \\phi(\\theta^T x_i)}{1 - \\phi(\\theta^T x_i)} \\\\\n",
    "&= \\sum_{i=1}^{n} Y_i \\frac{x_i \\phi'(\\theta^T x_i)}{\\phi(\\theta^T x_i)} - \\sum_{i=1}^{n} (1 - Y_i)\\frac{x_i \\phi'(\\theta^T x_i)}{1 - \\phi(\\theta^T x_i)}.\n",
    "\\end{align}$$\n",
    "\n",
    "Alors, on sait que $\\phi'(t) = \\phi(t)\\phi(1 -t) \\implies \\frac{\\phi'(t)}{\\phi(t)} = \\phi(1 - t)$ ce qui donne\n",
    "$$\\begin{align}\n",
    "\\nabla l_n(\\theta) &= \\sum_{i=1}^{n} Y_i x_i[1 - \\phi(\\theta^T x_i)] - \\sum_{i=1}^{n} (1-Y_i)x_i \\phi(\\theta^T x_i)\\\\\n",
    "&= \\sum_{i=1}^{n}Y_i x_i - x_i \\phi(\\theta^T x_i)\\\\\n",
    "&= \\sum_{i=1}^{n} [Y_i - \\phi(\\theta^T x_i)]x_i.\n",
    "\\end{align}$$\n",
    "\n",
    "On en conclue $$\\nabla l_n(\\theta) = X_n^T[Y_n - \\Phi_n(\\theta)].$$"
   ]
  },
  {
   "cell_type": "markdown",
   "id": "ed813fa4",
   "metadata": {},
   "source": [
    "Soit $0 \\leq i,j \\leq n$, on a\n",
    "$$\\begin{align}\n",
    "\\frac{\\partial^2 l_n(\\theta)}{\\partial \\theta_i \\partial \\theta_j} &= \\sum_{k=1}^{n} \\frac{\\partial}{\\partial \\theta_i} \\left[ - \\phi'(\\theta^T x_k) (x_k)_j \\right]\\\\\n",
    "&= - \\sum_{k=1}^{n} \\phi'(\\theta^T x_k) (x_k)_i (x_k)_j.\n",
    "\\end{align}$$\n",
    "\n",
    "Or $\\forall t \\in \\mathbb{R}$, $\\phi'(t) = h(t)$ et $\\forall(i,j)$, on a $(x_k x_k^T)_{i,j} = (x_k)_i (x_k)_j$ et donc\n",
    "$$ \\frac{\\partial^2 l_n(\\theta)}{\\partial \\theta_i \\partial \\theta_j} = - \\sum_{k=1}^{n} h(\\theta^T x_k) (x_k x_k^T)_{i,j}.$$\n",
    "\n",
    "Ainsi $$ \\nabla^2 l_n(\\theta) = \\sum_{k=1}^{n} l_n(\\theta^T x_k) x_k x_k^T = -F_n(\\theta).$$\n",
    "\n",
    "On remarque que la matrice Hessienne de $l_n(\\theta)$ est symétrique définie négative $\\implies l_n$ est concave."
   ]
  },
  {
   "cell_type": "markdown",
   "id": "e0de1d84",
   "metadata": {},
   "source": [
    "D'après le cours, on a\n",
    "$$\\begin{align}\n",
    "\\mathbb{I}(\\theta) &= \\mathbb{E}_\\theta[\\nabla l_n(\\theta) \\nabla l_n(\\theta)^T]\\\\\n",
    "&= - \\mathbb{E}_{\\theta}[\\nabla^2 l_n(\\theta)]\n",
    "\\end{align}$$\n",
    "où $\\mathbb{I}(\\theta)$ est l'information de Fisher.\n",
    "\n",
    "Donc $$ E_{n, \\theta}[\\nabla l_n(\\theta) \\nabla l_n(\\theta)^T] = F_n(\\theta).$$"
   ]
  },
  {
   "cell_type": "markdown",
   "id": "11167ca1",
   "metadata": {},
   "source": [
    "<h2 align=\"center\"> <font color='blue'>Exercice 6</font></h2> <a class=\"anchor\" id=\"E6\"></a>"
   ]
  },
  {
   "cell_type": "markdown",
   "id": "8f86d0c8",
   "metadata": {},
   "source": [
    "On a $$ l_n(\\theta) = \\sum_{i=1}^{n} \\left[ Y_i \\ln(\\phi(\\theta^T x_i)) + (1 - Y_i)\\ln(1 - \\phi(\\theta^T x_i)) \\right] $$\n",
    "Ainsi $$\\begin{align}\n",
    "l_n(\\lambda \\theta_*) &= \\sum_{i=1}^{n} \\left[ Y_i \\ln(\\phi(\\lambda \\theta_*^T x_i)) + (1 - Y_i)\\ln(1 - \\phi(\\lambda \\theta_*^T x_i)) \\right] \\\\\n",
    "&= \\sum_{i : Y_i = 0} \\ln(1 - \\phi(\\lambda \\theta_*^T x_i)) + \\sum_{i : Y_i = 1} \\ln(\\phi(\\lambda \\theta_*^T x_i)).\n",
    "\\end{align}$$\n",
    "\n",
    "Or $\\forall i$ tel que $Y_i = 1$, on a $\\theta_*^T x_i > 0$ ainsi\n",
    "$$ \\lim_{\\lambda \\to +\\infty} \\ln(\\phi(\\lambda \\theta_*^T x_i)) = \\lim_{t \\to 1} \\ln(t) = 0.$$\n",
    "\n",
    "Analogiquement $\\forall i$ tel que $Y_i = 0$, on a $\\theta_*^T x_i < 0$ ainsi\n",
    "$$ \\lim_{\\lambda \\to +\\infty} \\phi(\\lambda \\theta_*^T x_i) = 0 \\implies \\lim_{\\lambda \\to +\\infty} \\ln(1 - \\phi(\\lambda \\theta_*^T x_i)) = \\lim_{t \\to 1} \\ln(t) = 0.$$\n",
    "\n",
    "Donc $ \\lim_{\\lambda \\to +\\infty} l_n(\\lambda \\theta_*) = 0.$"
   ]
  },
  {
   "cell_type": "markdown",
   "id": "96f261f4",
   "metadata": {},
   "source": [
    "On sait que $0 < L(\\theta) < 1$ car $\\phi(t) \\in ]0,1[$ et donc $l_n(\\theta) < 0$. Ainsi, $\\forall \\theta \\in \\mathbb{R}^p$ il existe $\\lambda \\in \\mathbb{R}$ tel que $l_n(\\theta) < l_n(\\lambda \\theta_*)$ car $\\lim_{\\lambda \\to +\\infty} \\ln(\\lambda \\theta_*) = 0$. Donc, on conclue que le maximum de vraissemblance n'existe pas dans ce cas là."
   ]
  },
  {
   "cell_type": "markdown",
   "id": "7667ad4e",
   "metadata": {},
   "source": [
    "<h2 align=\"center\"> <font color='blue'>Exercice 7</font></h2> <a class=\"anchor\" id=\"E7\"></a>"
   ]
  },
  {
   "cell_type": "markdown",
   "id": "607c5e16",
   "metadata": {},
   "source": [
    "Soit $\\bar{\\theta} \\in \\mathbb{R}^p$. On calcule $L_n(\\theta)$ en $\\theta_\\lambda = \\lambda \\theta_* + (\\bar{\\theta} - \\theta_*)$, on a\n",
    "$$\\begin{align}\n",
    "L_n(\\theta_\\lambda) &= \\prod_{i=1}^{n} \\phi(\\theta_\\lambda^T x_i)^{Y_i} (1 - \\phi(\\theta_\\lambda^T x_i))^{1 - Y_i}\\\\\n",
    "&= \\left(\\prod_{i \\in \\varepsilon} \\phi(\\bar{\\theta}^T x_i)^{Y_i} (1 - \\phi(\\bar{\\theta}^T x_i))^{1 - Y_i} \\right) \\left( \\prod_{i \\not\\in \\varepsilon} \\phi(\\theta_\\lambda^T x_i)^{Y_i} (1 - \\phi(\\theta_\\lambda^T x_i))^{1 - Y_i} \\right)\n",
    "\\end{align}$$\n",
    "\n",
    "Alors, $\\forall i \\not\\in \\varepsilon$ avec $Y_i = 1$ on a $\\theta_*^T x_i > 0$ ainsi\n",
    "$$ \\lim_{\\lambda \\to +\\infty} e^{- \\theta_\\lambda^T x_i} = \\lim_{\\lambda \\to +\\infty} e^{- \\lambda \\theta_*^T x_i}e^{-(\\bar{\\theta} - \\theta_*)^T x_i} = 0$$\n",
    "et donc $\\lim_{\\lambda \\to +\\infty} \\phi(\\theta_\\lambda^T x_i) = 1$.\n",
    "\n",
    "De même, $\\forall i \\not\\in \\varepsilon$ avec $Y_i = 0$ on a $\\theta_*^T x_i < 0$ ainsi\n",
    "$$ \\lim_{\\lambda \\to +\\infty} e^{- \\theta_\\lambda^T x_i} = \\lim_{\\lambda \\to +\\infty} e^{- \\lambda \\theta_*^T x_i}e^{-(\\bar{\\theta} - \\theta_*)^T x_i} = +\\infty$$\n",
    "et donc $\\lim_{\\lambda \\to +\\infty} \\phi(\\theta_\\lambda^T x_i) = 0$, ainsi $\\lim_{\\lambda \\to +\\infty} 1 - \\phi(\\theta_\\lambda^T x_i) = 1$.\n",
    "\n",
    "On en conclue $$ \\lim_{\\lambda \\to +\\infty} \\left( \\prod_{i \\not\\in \\varepsilon} \\phi(\\theta_\\lambda^T x_i)^{Y_i} (1 - \\phi(\\theta_\\lambda^T x_i))^{1 - Y_i} \\right) = 1.$$\n",
    "\n",
    "D'autre part, le produit $\\left(\\prod_{i \\in \\varepsilon} \\phi(\\bar{\\theta}^T x_i)^{Y_i} (1 - \\phi(\\bar{\\theta}^T x_i))^{1 - Y_i} \\right)$ est clé en $\\lambda$ et donc $\\forall \\bar{\\theta} \\in \\mathbb{R}^p$ il existe $\\lambda \\in \\mathbb{R}$ Tel que $L_n(\\theta_\\lambda) \\geq L_n(\\bar{\\theta})$ et donc le maximum de vraisemblance n'existe pas dans une telle situation."
   ]
  },
  {
   "cell_type": "markdown",
   "id": "25cf5cf3",
   "metadata": {},
   "source": [
    "<h2 align=\"center\"> <font color='blue'>Exercice 8</font></h2> <a class=\"anchor\" id=\"E8\"></a>"
   ]
  },
  {
   "cell_type": "markdown",
   "id": "29565374",
   "metadata": {},
   "source": [
    "Supposons l'existence D’un recouvrement.\n",
    "\n",
    "Notons $$\\begin{align}\n",
    "\\begin{cases}\n",
    "k_{1,\\theta} &= \\mathrm{argmax}_{k \\in \\{1,...,n\\}} \\theta^T x_k \\\\\n",
    "k_{2,\\theta} &= \\mathrm{argmin}_{k \\in \\{1,...,n\\}} \\theta^T x_k.\n",
    "\\end{cases}\n",
    "\\end{align}$$\n",
    "\n",
    "Comme $\\exists k_1, k_2$ tel que $\\theta^T x_{k_1} > 0$ et $\\theta^T x_{k_2} < 0$ alors on déduit $$\\begin{align}\n",
    "\\begin{cases}\n",
    "\\theta^T x_{k_{1, \\theta}} > 0 \\\\\n",
    "\\theta^T x_{k_{2, \\theta}} < 0.\n",
    "\\end{cases}\n",
    "\\end{align}$$\n",
    "\n",
    "Les fonctions $\\Phi_1: \\theta \\mapsto \\theta^T x_{k_{1, \\theta}} > 0$ et $\\Phi_2: \\theta \\mapsto \\theta^T x_{k_{2, \\theta}} < 0$ sont bornées sur $\\mathcal{S}(0,1)$ car\n",
    "$$\\begin{align}\n",
    "|\\theta^T x_{k_{1, \\theta}}| &\\leq \\sqrt{\\|\\theta\\| \\| x_{k_{1, \\theta}} \\|} \\quad \\text{par l'inégalité de Cauchy-Schwarz}\\\\\n",
    "&\\leq \\sqrt{\\| x_{k_{1, \\theta}} \\|}\\\\\n",
    "&\\leq \\max_{k} \\sqrt{\\|x_k\\|} = \\zeta.\n",
    "\\end{align}$$\n",
    "\n",
    "De même $| \\theta^T x_{k_{2, \\theta}} | \\leq \\zeta = \\max_{k} \\sqrt{\\|x_k\\|}$."
   ]
  },
  {
   "cell_type": "markdown",
   "id": "8c8d0a1a",
   "metadata": {},
   "source": [
    "Et donc comme $\\mathcal{S}(0,1)$ est compacte et $\\Phi_1$ et $\\Phi_2$ sont bornées sur $\\mathcal{S}(0,1)$, alors elles admettent un minimum et un maximum.\n",
    "\n",
    "Soit $M_1 = \\min_{\\theta} \\theta^T x_{k_{1, \\theta}}$ et $M_2 = \\min_{\\theta} \\theta^T x_{k_{2, \\theta}}$ alors si on prend $\\epsilon = \\min(M_1, - M_2)$, on aura bien\n",
    "$$\\forall \\theta \\in \\mathcal{S}(0,1) \\quad \\theta^T x_{k_{1, \\theta}} > \\epsilon \\quad \\text{et} \\quad \\theta^T x_{k_{2, \\theta}} < - \\epsilon.$$"
   ]
  },
  {
   "cell_type": "markdown",
   "id": "6f376f4a",
   "metadata": {},
   "source": [
    "Soit $\\lambda > 0$, calculons maintenant $l_n(\\lambda \\theta)$.\n",
    "$$\\begin{align}\n",
    "l_n(\\lambda \\theta) &= \\sum_{i=1}^{n} \\left[ Y_i \\ln(\\phi(\\theta^T x_i)) + (1-Y_i)\\ln(1 - \\phi(\\theta^T x_i)) \\right] \\\\\n",
    "&\\leq Y_{k_{1,\\theta}} \\ln(\\phi(\\theta^T x_i)) + (1 - Y_{k_{1,\\theta}})\\ln(1 - \\phi(\\theta^T x_{k_{1,\\theta}})) \\\\\n",
    "&= \\ln(1 - \\phi(\\theta^T x_{k_{1, \\theta}})) - Y_{k_{1, \\theta}}\\ln\\left(\\frac{1 - \\phi(\\theta^T x_{k_{1,\\theta}})}{\\phi(\\theta^T x_{k_{1,\\theta}})}\\right).\n",
    "\\end{align}$$\n",
    "\n",
    "Et donc $$\\begin{align}\n",
    "l_n(\\lambda \\theta) &\\leq \\ln\\left(\\frac{e^{-\\lambda \\theta^T x_{k_{1, \\theta}}}}{1 + e^{-\\lambda \\theta^T x_{k_{1, \\theta}}}}\\right) - Y_{k_{1, \\theta}}\\ln(e^{-\\lambda \\theta^T x_{k_{1, \\theta}}})\\\\\n",
    "&\\leq \\ln(e^{-\\lambda \\theta^T x_{k_{1, \\theta}}}) - Y_{k_{1, \\theta}}\\ln(e^{-\\lambda \\theta^T x_{k_{1, \\theta}}})\\\\\n",
    "&= -\\lambda \\theta^T x_{k_{1, \\theta}} (1 + Y_{k_{1, \\theta}})\\\\\n",
    "&\\leq -\\lambda \\epsilon.\n",
    "\\end{align}$$\n",
    "\n",
    "Et donc on voit que si on prend $\\lambda_m = \\frac{M}{\\epsilon}$ on aura que $$ \\forall \\lambda > \\lambda_m \\quad l_n(\\lambda \\theta) \\leq -\\lambda \\epsilon < -M $$ ce qu'implique $\\lim_{\\| \\theta \\| \\to +\\infty} l_n(\\theta) = -\\infty$.\n",
    "\n",
    "Ainsi comme $l_n$ est strictement concave, alors elle admet un unique maximum sur $\\mathbb{R}^p$."
   ]
  },
  {
   "cell_type": "markdown",
   "id": "4e0a724c",
   "metadata": {},
   "source": [
    "<h2 align=\"center\"> <font color='blue'>Exercice 9</font></h2> <a class=\"anchor\" id=\"E9\"></a>"
   ]
  },
  {
   "cell_type": "markdown",
   "id": "9f8cdd9c",
   "metadata": {},
   "source": [
    "Soit $n > 0$. Comme $h$ est $1-$lipschitzienne alors\n",
    "$$ \\forall i \\in \\{1,...,n\\} \\quad |h(\\theta^T x_i) - h(\\vartheta^T x_i)| < |(\\theta^T - \\vartheta^T)x_i| \\quad \\forall \\theta,\\vartheta \\in \\mathbb{R}^p.$$\n",
    "\n",
    "On a\n",
    "$$\\begin{align}\n",
    "\\| F_n(\\theta) - F_n(\\vartheta) \\| &= \\left| \\sum_{i=1}^{n} \\left(h(\\theta^T x_i) - h(\\vartheta^T x_i)\\right) x_i x_i^T\\right|\\\\\n",
    "&\\leq \\sum_{i=1}^{n} |h(\\theta^T x_i) - h(\\vartheta^T x_i)| \\| x_i x_i^T \\|\\\\\n",
    "&\\leq \\sum_{i=1}^{n} | (\\theta - \\vartheta)^T x_i | \\|x_i x_i^T \\|\\\\\n",
    "&\\leq \\sum_{i=1}^{n} \\| (\\theta - \\vartheta) \\| \\|x_i\\| \\|x_i\\| \\|x_i\\| \\\\\n",
    "&\\leq n \\|\\theta - \\vartheta\\| \\frac{1}{n}\\sum_{i=1}^{n}\\|x_i\\|^3.\n",
    "\\end{align}$$\n",
    "\n",
    "Or définissons $C = \\sup \\frac{1}{n}\\sum_{i=1}^{n}\\|x_i\\|^3 < 0$. On remarque que $C$ existe par hypothèse. Donc on a finalement\n",
    "$$ \\forall \\theta, \\vartheta \\in \\mathbb{R}^p \\quad \\forall n>0 \\quad \\|F_n(\\theta) - F_n(\\vartheta)\\| \\leq C n \\|\\theta - \\vartheta\\|. $$"
   ]
  },
  {
   "cell_type": "markdown",
   "id": "0ef5c110",
   "metadata": {},
   "source": [
    "<h2 align=\"center\"> <font color='blue'>Exercice 10</font></h2> <a class=\"anchor\" id=\"E10\"></a>"
   ]
  },
  {
   "cell_type": "markdown",
   "id": "f06027c6",
   "metadata": {},
   "source": [
    "On fait un developpement limité à l'ordre $1$ de la log-vraisemblance\n",
    "$$\\begin{align}\n",
    "\\frac{\\nabla l_n (\\hat{\\theta}_n^{MV}) - \\nabla l_n(\\theta)}{\\sqrt{n}} &= \\left[ \\frac{\\nabla^2 l_n(\\theta)}{n} + h_{n,\\theta}(\\hat{\\theta}_n^{MV} - \\theta) \\right] \\sqrt{n} (\\hat{\\theta}_n^{MV} - \\theta)\\\\\n",
    "&=\\left[ \\frac{-F_n(\\theta)}{n} + h_{n,\\theta}(\\hat{\\theta}_n^{MV} - \\theta) \\right] \\sqrt{n} (\\hat{\\theta}_n^{MV} - \\theta)\n",
    "\\end{align}$$\n",
    "avec $h_{n, \\theta}(0) = 0$ et $h_{n, \\theta}(h) = o(\\|h\\|)$.\n",
    "\n",
    "\n",
    "Ainsi $R_n = l_n(\\hat{\\theta}_n^{MV} - \\theta)$, or $\\hat{\\theta}_n^{MV} \\overset{\\mathbb{P}_{n,\\theta}}{\\longrightarrow} \\theta$.\n",
    "\n",
    "On a alors $R_n = h_{n, \\theta}(\\hat{\\theta}_n^{MV} - \\theta) = O(\\|\\hat{\\theta}_n^{MV} - \\theta\\|) = O(1)$.\n",
    "\n",
    "On en conclue $R_n \\overset{\\mathbb{P}_{n,\\theta}}{\\longrightarrow} 0$."
   ]
  },
  {
   "cell_type": "markdown",
   "id": "e99fa81d",
   "metadata": {},
   "source": [
    "<h2 align=\"center\"> <font color='blue'>Exercice 11</font></h2> <a class=\"anchor\" id=\"E11\"></a>"
   ]
  },
  {
   "cell_type": "markdown",
   "id": "4f874077",
   "metadata": {},
   "source": [
    "On a\n",
    "$$ \\nabla l_n(\\theta) = \\sum_{i=1}^{n} \\left[ Y_i x_i - x_i\\phi(\\theta^T x_i) \\right].$$\n",
    "\n",
    "Pour tout $n \\in \\mathbb{N}$, on pose $k_n = n$ et $\\forall i \\in \\{ 1,...,n \\} \\quad Y_{n,i} = \\frac{Y_i x_i - x_i\\phi(\\theta^T x_i)}{\\sqrt{n}}$.\n",
    "\n",
    "On sait que les $Y_{n, i}$ sont indépendants et $\\mathbb{E}_\\theta[Y_{n,i}] = 0.$\n",
    "\n",
    "Montrons que\n",
    "- $\\forall \\epsilon > 0 \\quad \\lim_{n \\to +\\infty} \\sum_{i=1}^{n} \\mathbb{E}_\\theta \\left[ \\| Y_{n,i} \\|^2 \\mathbb{1}_{\\| Y_{n,i} \\| > \\epsilon} \\right] = 0$,\n",
    "- et que $ \\lim_{n \\to +\\infty} \\sum_{i=1}^{n} \\mathrm{Var}_{\\theta}(Y_{n,i}) = \\phi(\\theta).$"
   ]
  },
  {
   "cell_type": "markdown",
   "id": "d15f37ff",
   "metadata": {},
   "source": [
    "Soit $\\epsilon > 0$ et $n > 0$. On a\n",
    "$$ \\| Y_{n, i} \\|^2 = \\frac{(Y_i - \\phi(\\theta^T x_i))^2}{n}\\| x_i \\|^2 \\leq \\frac{\\|x_i\\|^2}{n}.$$\n",
    "\n",
    "D'autre part $\\| Y_{n,i} \\| > \\epsilon \\implies \\|x_i\\|^2 \\geq n\\epsilon \\implies \\|x_i\\| \\geq \\sqrt{n\\epsilon}$.\n",
    "\n",
    "Alors\n",
    "$$\\begin{align}\n",
    "0 \\leq \\sum_{i=1}^n \\mathbb{E}_\\theta \\left[ \\| Y_{n,i} \\|^2 \\mathbb{1}_{\\| Y_{n,i} \\| > \\epsilon} \\right] &\\leq \\sum_{i=1}^{n} \\frac{\\|x_i\\|^2}{n} \\mathbb{1}_{\\|x_i\\| > \\sqrt{n \\epsilon}}\\\\\n",
    "&= \\sum_{i=1}^{n} \\frac{\\|x_i\\|^3}{n \\|x_i\\|} \\mathbb{1}_{\\|x_i\\| > \\sqrt{n \\epsilon}} \\\\\n",
    "&\\leq \\frac{1}{\\sqrt{n\\epsilon}} \\left( \\frac{1}{n} \\sum_{i=1}^{n} \\|x_i\\|^3 \\right)\\\\\n",
    "&\\leq \\frac{C}{\\sqrt{n\\epsilon}} \\overset{n \\to +\\infty}{\\longrightarrow} 0.\n",
    "\\end{align}$$\n",
    "\n",
    "Et donc $\\forall \\epsilon > 0 \\lim_{n \\to 0} \\sum_{i=1}^{n} \\mathbb{E}_\\theta \\left[ \\| Y_{n,i} \\|^2 \\mathbb{1}_{\\| Y_{n,i} \\| > \\epsilon} \\right] = 0$."
   ]
  },
  {
   "cell_type": "markdown",
   "id": "0d66eeec",
   "metadata": {},
   "source": [
    "Maintenant on calcule\n",
    "$$\\begin{align}\n",
    "\\sum_{i=1}^{n} \\mathrm{Var}_\\theta (Y_{n, i}) &= \\sum_{i=1}^{n} \\mathbb{E}_\\theta \\left[ Y_{n,i} Y_{n,i}^T \\right]\\\\\n",
    "&= \\sum_{i=1}^{n} \\frac{1}{n} \\mathbb{E}_\\theta \\left[ \\left( Y_i - \\phi(\\theta^T x_i) \\right)^2\\right] x_i x_i^T \\\\\n",
    "&= \\sum_{i=1}^{n} \\frac{1}{n} \\left[ \\phi(\\theta^T x_i) \\left( 1 - \\phi(\\theta^T x_i) \\right)^2 + \\left( 1 - \\phi(\\theta^T x_i) \\right) \\phi(\\theta^T x_i)^2\\right] x_i x_i^T\\\\\n",
    "&= \\sum_{i=1}^{n} \\frac{1}{n} \\left( 1 - \\phi(\\theta^T x_i) \\right) \\phi(\\theta^T x_i) x_i x_i^T \\\\\n",
    "&= \\frac{F_n(\\theta)}{n} \\overset{n \\to +\\infty}{\\longrightarrow} Q(\\theta).\n",
    "\\end{align}$$"
   ]
  },
  {
   "cell_type": "markdown",
   "id": "5f0a5a9d",
   "metadata": {},
   "source": [
    "Et donc en conclusion, selon le théorème de Lindberg-Feller, on a\n",
    "$$ \\frac{\\nabla l_n(\\theta)}{\\sqrt{n}} \\overset{\\mathbb{P}_{n,\\theta}}{\\implies} \\mathcal{N}(0, Q(\\theta))$$"
   ]
  },
  {
   "cell_type": "markdown",
   "id": "fbda03f1",
   "metadata": {},
   "source": [
    "<h2 align=\"center\"> <font color='blue'>Exercice 12</font></h2> <a class=\"anchor\" id=\"E12\"></a>"
   ]
  },
  {
   "cell_type": "markdown",
   "id": "4673a0ba",
   "metadata": {},
   "source": [
    "On a l'expression $$ \\frac{\\nabla l_n(\\theta)}{\\sqrt{n}} = \\left( \\frac{F_n(\\theta)}{n} - R_n \\right)\\sqrt{n} (\\hat{\\theta}_n^{MV} - \\theta).$$\n",
    "\n",
    "Donc $$ \\frac{F_n(\\theta)}{n}\\sqrt{n} (\\hat{\\theta}_n^{MV} - \\theta) = \\frac{\\nabla l_n(\\theta)}{\\sqrt{n}} + R_n\\sqrt{n} (\\hat{\\theta}_n^{MV} - \\theta). $$\n",
    "\n",
    "Or $R_n \\overset{\\mathbb{P}_{n,\\theta}}{\\longrightarrow} 0$ et $\\frac{\\nabla l_n(\\theta)}{\\sqrt{n}} \\overset{\\mathbb{P}_{n,\\theta}}{\\longrightarrow} \\mathcal{N}(0, Q(\\theta))$ alors d'après Slutsky\n",
    "$$ \\frac{F_n(\\theta)}{n}\\sqrt{n} (\\hat{\\theta}_n^{MV} - \\theta) \\overset{\\mathbb{P}_{n,\\theta}}{\\longrightarrow} \\mathcal{N}(0, Q(\\theta)).$$\n",
    "\n",
    "D'autre part $\\frac{F_n(\\theta)}{n} \\overset{n \\to +\\infty}{\\longrightarrow} Q(\\theta)$ et donc encore utilisant Slutsky $$Q(\\theta) \\sqrt{\\theta} \\left( \\hat{\\theta}_n^{MV} - \\theta \\right) \\overset{\\mathbb{P}_{n,\\theta}}{\\longrightarrow} \\mathcal{N}(0, Q(\\theta))$$.\n",
    "\n",
    "On en conclue\n",
    "$$\\sqrt{\\theta} \\left( \\hat{\\theta}_n^{MV} - \\theta \\right) \\overset{\\mathbb{P}_{n,\\theta}}{\\longrightarrow} \\mathcal{N}(0, Q(\\theta)^{-1}) $$\n",
    "où $Q(\\theta)$ est inversible car définie positive."
   ]
  },
  {
   "cell_type": "markdown",
   "id": "9a95d7de",
   "metadata": {},
   "source": [
    "<h2 align=\"center\"> <font color='blue'>Exercice 13</font></h2> <a class=\"anchor\" id=\"E13\"></a>"
   ]
  },
  {
   "cell_type": "markdown",
   "id": "e78a0219",
   "metadata": {},
   "source": [
    "La suite $(\\hat{\\theta}_n^{MV})_{n \\in \\mathbb{N}}$ est consistante:\n",
    "$$ \\left\\|\\frac{F_n(\\hat{\\theta}_n^{MV})}{n} - Q(\\theta) \\right\\| \\overset{n \\to +\\infty}{\\longrightarrow} 0 $$\n",
    "Et donc $$\\frac{F_n(\\hat{\\theta}_n^{MV})}{n} \\overset{n \\to +\\infty}{\\longrightarrow} Q(\\theta) \\implies \\left( \\frac{F_n(\\hat{\\theta}_n^{MV})}{n} \\right)^{-1} \\overset{n \\to +\\infty}{\\longrightarrow} Q(\\theta)^{-1}.$$\n",
    "\n",
    "On en déduit que $\\beta_{n,k} \\overset{n \\to +\\infty}{\\longrightarrow} \\left(Q(\\theta)^{-1}\\right)_{n,k}$.\n",
    "\n",
    "Et comme $\\sqrt{n}\\left(\\hat{\\theta}_n^{MV} - \\theta\\right) \\overset{\\mathbb{P}_{n,\\theta}}{\\longrightarrow} \\mathcal{N}(0, Q(\\theta)^{-1}) \\implies \\sqrt{n}\\left(\\hat{\\theta}_n^{MV} - \\theta\\right)_k \\overset{\\mathbb{P}_{n,\\theta}}{\\longrightarrow} \\mathcal{N}(0, (Q(\\theta)^{-1})_{k,k}) $.\n",
    "\n",
    "Et donc d'après Slutsky on a \n",
    "$$ \\sqrt{\\frac{n}{\\beta_{n,k}}}\\left(\\hat{\\theta}_n^{MV} - \\theta\\right) \\overset{\\mathbb{P}_{n,\\theta}}{\\longrightarrow} \\mathcal{N}\\left( 0, \\frac{(Q(\\theta)^{-1})_{k,k}}{(Q(\\theta)^{-1})_{k,k}} \\right) = \\mathcal{N}(0,1).$$"
   ]
  },
  {
   "cell_type": "markdown",
   "id": "27d37d21",
   "metadata": {},
   "source": [
    "<h2 align=\"center\"> <font color='blue'>Exercice 14</font></h2> <a class=\"anchor\" id=\"E14\"></a>"
   ]
  },
  {
   "cell_type": "markdown",
   "id": "2f10e2b4",
   "metadata": {},
   "source": [
    "D'après ce qui précede $\\sqrt{\\frac{n}{\\beta_{n,k}}}\\left(\\hat{\\theta}_n^{MV} - \\theta\\right) \\overset{\\mathbb{P}_{n,\\theta}}{\\longrightarrow} \\mathcal{N}(0,1)$, ainsi\n",
    "$$ \\lim_{n \\to +\\infty} \\mathbb{P}_\\theta \\left( \\sqrt{\\frac{n}{\\beta_{n,k}}}\\left(\\hat{\\theta}_n^{MV} - \\theta\\right) \\in \\left[ -q_{1 - \\frac{\\alpha}{2}}, q_{1 - \\frac{\\alpha}{2}} \\right] \\right) = 1 - \\alpha $$\n",
    "avec $q_{1 - \\frac{\\alpha}{2}}$ le quantile d'ordre $1 - \\frac{alpha}{2}$ du loi $\\mathcal{N}(0,1)$.\n",
    "\n",
    "Ainsi, on trouve un intervalle de confiance asymptotique de niveau $1 - \\alpha$, \n",
    "$$ I(\\alpha) = \\left[ \\hat{\\theta}_n^{MV} - \\sqrt{\\frac{\\beta_{n,k}}{n}}q_{1 - \\frac{\\alpha}{2}} , \\hat{\\theta}_n^{MV} + \\sqrt{\\frac{\\beta_{n,k}}{n}}q_{1 - \\frac{\\alpha}{2}} \\right].$$"
   ]
  },
  {
   "cell_type": "markdown",
   "id": "17564a4f",
   "metadata": {},
   "source": [
    "<h2 align=\"center\"> <font color='blue'>Exercice 15</font></h2> <a class=\"anchor\" id=\"E15\"></a>"
   ]
  },
  {
   "cell_type": "markdown",
   "id": "40a937e6",
   "metadata": {},
   "source": [
    "On considère la statistique de test $T(Y_n) = | \\hat{\\theta}_n^{MV} |$ et la zone de réjet $\\mathcal{R}_\\alpha = \\left\\{ Y_n : T(Y_n) > \\sqrt{\\frac{\\beta_{n,k}}{n}}q_{1 - \\frac{\\alpha}{2}} \\right\\}$.\n",
    "\n",
    "Et donc d'après la question précedente $\\lim_{n \\to +\\infty} \\mathbb{P}(\\theta \\not\\in I(\\alpha)) = \\alpha$. On en conclut que ce test répond au question."
   ]
  },
  {
   "cell_type": "markdown",
   "id": "72feca45",
   "metadata": {},
   "source": [
    "<h2 align=\"center\"> <font color='blue'>Exercice 16</font></h2> <a class=\"anchor\" id=\"E16\"></a>"
   ]
  },
  {
   "cell_type": "markdown",
   "id": "7b27338e",
   "metadata": {},
   "source": [
    "La p-valeur asymptotique $\\hat{\\alpha}(Y_n)$ vérifie\n",
    "$$ | \\hat{\\theta}_{n,k}^{MV} | =  \\sqrt{\\frac{\\beta_{n,k}}{n}}q_{1 - \\frac{\\hat{\\alpha}(Y_n)}{2}}.$$\n",
    "\n",
    "D’où\n",
    "$$ q_{1 - \\frac{\\hat{\\alpha}(Y_n)}{2}} =  \\sqrt{\\frac{n}{\\beta_{n,k}}}| \\hat{\\theta}_{n,k}^{MV} | $$\n",
    "ce qui donne\n",
    "$$ \\hat{\\alpha}(Y_n) = 2 - 2F \\left( \\sqrt{\\frac{n}{\\beta_{n,k}}}| \\hat{\\theta}_{n,k}^{MV} | \\right) $$\n",
    "où F est la fonction de répartition de la loi $\\mathcal{N}(0,1)$.\n"
   ]
  },
  {
   "cell_type": "markdown",
   "id": "6d68aa35",
   "metadata": {},
   "source": [
    "<h1 align=\"center\"> <font color='green'>Application Numérique</font></h1> <a class=\"anchor\" id=\"Pratique\"></a>"
   ]
  },
  {
   "cell_type": "markdown",
   "id": "e2a946b3",
   "metadata": {},
   "source": [
    "<h2 align=\"center\"> <font color='gray'>Python Setup</font></h2> <a class=\"anchor\" id=\"setup\"></a>"
   ]
  },
  {
   "cell_type": "code",
   "execution_count": 1,
   "id": "c2e5b247",
   "metadata": {},
   "outputs": [],
   "source": [
    "import math\n",
    "import numpy as np\n",
    "from numpy.linalg import inv,norm\n",
    "import pandas as pd\n",
    "import matplotlib.pyplot as plt\n",
    "import numpy.random as npr\n",
    "import scipy.stats as sps"
   ]
  },
  {
   "cell_type": "markdown",
   "id": "c94acb90",
   "metadata": {},
   "source": [
    "Maintenant, on va importer le fichier $\\texttt{Titanic.csv}$ et créer le dataframe pandas qu'on va utiliser pour la suite."
   ]
  },
  {
   "cell_type": "code",
   "execution_count": 2,
   "id": "986e6fa5",
   "metadata": {},
   "outputs": [
    {
     "data": {
      "text/html": [
       "<div>\n",
       "<style scoped>\n",
       "    .dataframe tbody tr th:only-of-type {\n",
       "        vertical-align: middle;\n",
       "    }\n",
       "\n",
       "    .dataframe tbody tr th {\n",
       "        vertical-align: top;\n",
       "    }\n",
       "\n",
       "    .dataframe thead th {\n",
       "        text-align: right;\n",
       "    }\n",
       "</style>\n",
       "<table border=\"1\" class=\"dataframe\">\n",
       "  <thead>\n",
       "    <tr style=\"text-align: right;\">\n",
       "      <th></th>\n",
       "      <th>Survived</th>\n",
       "      <th>Pclass</th>\n",
       "      <th>Name</th>\n",
       "      <th>Sex</th>\n",
       "      <th>Age</th>\n",
       "      <th>SibSp</th>\n",
       "      <th>Parch</th>\n",
       "      <th>Fare</th>\n",
       "    </tr>\n",
       "  </thead>\n",
       "  <tbody>\n",
       "    <tr>\n",
       "      <th>0</th>\n",
       "      <td>0</td>\n",
       "      <td>3</td>\n",
       "      <td>Braund, Mr. Owen Harris</td>\n",
       "      <td>1</td>\n",
       "      <td>22.0</td>\n",
       "      <td>1</td>\n",
       "      <td>0</td>\n",
       "      <td>7.2500</td>\n",
       "    </tr>\n",
       "    <tr>\n",
       "      <th>1</th>\n",
       "      <td>1</td>\n",
       "      <td>1</td>\n",
       "      <td>Cumings, Mrs. John Bradley (Florence Briggs Th...</td>\n",
       "      <td>0</td>\n",
       "      <td>38.0</td>\n",
       "      <td>1</td>\n",
       "      <td>0</td>\n",
       "      <td>71.2833</td>\n",
       "    </tr>\n",
       "    <tr>\n",
       "      <th>2</th>\n",
       "      <td>1</td>\n",
       "      <td>3</td>\n",
       "      <td>Heikkinen, Miss. Laina</td>\n",
       "      <td>0</td>\n",
       "      <td>26.0</td>\n",
       "      <td>0</td>\n",
       "      <td>0</td>\n",
       "      <td>7.9250</td>\n",
       "    </tr>\n",
       "    <tr>\n",
       "      <th>3</th>\n",
       "      <td>1</td>\n",
       "      <td>1</td>\n",
       "      <td>Futrelle, Mrs. Jacques Heath (Lily May Peel)</td>\n",
       "      <td>0</td>\n",
       "      <td>35.0</td>\n",
       "      <td>1</td>\n",
       "      <td>0</td>\n",
       "      <td>53.1000</td>\n",
       "    </tr>\n",
       "    <tr>\n",
       "      <th>4</th>\n",
       "      <td>0</td>\n",
       "      <td>3</td>\n",
       "      <td>Allen, Mr. William Henry</td>\n",
       "      <td>1</td>\n",
       "      <td>35.0</td>\n",
       "      <td>0</td>\n",
       "      <td>0</td>\n",
       "      <td>8.0500</td>\n",
       "    </tr>\n",
       "    <tr>\n",
       "      <th>...</th>\n",
       "      <td>...</td>\n",
       "      <td>...</td>\n",
       "      <td>...</td>\n",
       "      <td>...</td>\n",
       "      <td>...</td>\n",
       "      <td>...</td>\n",
       "      <td>...</td>\n",
       "      <td>...</td>\n",
       "    </tr>\n",
       "    <tr>\n",
       "      <th>885</th>\n",
       "      <td>0</td>\n",
       "      <td>3</td>\n",
       "      <td>Rice, Mrs. William (Margaret Norton)</td>\n",
       "      <td>0</td>\n",
       "      <td>39.0</td>\n",
       "      <td>0</td>\n",
       "      <td>5</td>\n",
       "      <td>29.1250</td>\n",
       "    </tr>\n",
       "    <tr>\n",
       "      <th>886</th>\n",
       "      <td>0</td>\n",
       "      <td>2</td>\n",
       "      <td>Montvila, Rev. Juozas</td>\n",
       "      <td>1</td>\n",
       "      <td>27.0</td>\n",
       "      <td>0</td>\n",
       "      <td>0</td>\n",
       "      <td>13.0000</td>\n",
       "    </tr>\n",
       "    <tr>\n",
       "      <th>887</th>\n",
       "      <td>1</td>\n",
       "      <td>1</td>\n",
       "      <td>Graham, Miss. Margaret Edith</td>\n",
       "      <td>0</td>\n",
       "      <td>19.0</td>\n",
       "      <td>0</td>\n",
       "      <td>0</td>\n",
       "      <td>30.0000</td>\n",
       "    </tr>\n",
       "    <tr>\n",
       "      <th>889</th>\n",
       "      <td>1</td>\n",
       "      <td>1</td>\n",
       "      <td>Behr, Mr. Karl Howell</td>\n",
       "      <td>1</td>\n",
       "      <td>26.0</td>\n",
       "      <td>0</td>\n",
       "      <td>0</td>\n",
       "      <td>30.0000</td>\n",
       "    </tr>\n",
       "    <tr>\n",
       "      <th>890</th>\n",
       "      <td>0</td>\n",
       "      <td>3</td>\n",
       "      <td>Dooley, Mr. Patrick</td>\n",
       "      <td>1</td>\n",
       "      <td>32.0</td>\n",
       "      <td>0</td>\n",
       "      <td>0</td>\n",
       "      <td>7.7500</td>\n",
       "    </tr>\n",
       "  </tbody>\n",
       "</table>\n",
       "<p>714 rows × 8 columns</p>\n",
       "</div>"
      ],
      "text/plain": [
       "     Survived  Pclass                                               Name  Sex  \\\n",
       "0           0       3                            Braund, Mr. Owen Harris    1   \n",
       "1           1       1  Cumings, Mrs. John Bradley (Florence Briggs Th...    0   \n",
       "2           1       3                             Heikkinen, Miss. Laina    0   \n",
       "3           1       1       Futrelle, Mrs. Jacques Heath (Lily May Peel)    0   \n",
       "4           0       3                           Allen, Mr. William Henry    1   \n",
       "..        ...     ...                                                ...  ...   \n",
       "885         0       3               Rice, Mrs. William (Margaret Norton)    0   \n",
       "886         0       2                              Montvila, Rev. Juozas    1   \n",
       "887         1       1                       Graham, Miss. Margaret Edith    0   \n",
       "889         1       1                              Behr, Mr. Karl Howell    1   \n",
       "890         0       3                                Dooley, Mr. Patrick    1   \n",
       "\n",
       "      Age  SibSp  Parch     Fare  \n",
       "0    22.0      1      0   7.2500  \n",
       "1    38.0      1      0  71.2833  \n",
       "2    26.0      0      0   7.9250  \n",
       "3    35.0      1      0  53.1000  \n",
       "4    35.0      0      0   8.0500  \n",
       "..    ...    ...    ...      ...  \n",
       "885  39.0      0      5  29.1250  \n",
       "886  27.0      0      0  13.0000  \n",
       "887  19.0      0      0  30.0000  \n",
       "889  26.0      0      0  30.0000  \n",
       "890  32.0      0      0   7.7500  \n",
       "\n",
       "[714 rows x 8 columns]"
      ]
     },
     "execution_count": 2,
     "metadata": {},
     "output_type": "execute_result"
    }
   ],
   "source": [
    "csv_file = pd.read_csv('Titanic.csv')\n",
    "titanicData = pd.DataFrame(csv_file)\n",
    "\n",
    "#on élimine les colonnes indiques dans l'enoncé\n",
    "titanicData.drop(['PassengerId', 'Ticket', 'Cabin', 'Embarked'], inplace=True, axis=1)\n",
    "\n",
    "#transformons la colonne Sex en un attribut binaire (female=0, male=1)\n",
    "titanicData['Sex'] = titanicData['Sex'].map({'female': 0, 'male': 1})\n",
    "\n",
    "#on élimine les lignes incompletes pour les calculs qu'on fera en suite\n",
    "titanicData = titanicData.dropna()\n",
    "titanicData"
   ]
  },
  {
   "cell_type": "markdown",
   "id": "1fe501d5",
   "metadata": {},
   "source": [
    "<h2 align=\"center\"> <font color='blue'>Exercice 1</font></h2> <a class=\"anchor\" id=\"P1\"></a>"
   ]
  },
  {
   "cell_type": "code",
   "execution_count": 3,
   "id": "7eacb5ff",
   "metadata": {},
   "outputs": [
    {
     "name": "stdout",
     "output_type": "stream",
     "text": [
      "Nombre de passagers décédés: 424\n",
      "Proportion de passagers décédés: 59.38%\n"
     ]
    }
   ],
   "source": [
    "survQuant = titanicData.value_counts(['Survived'])\n",
    "totalDead = survQuant[0]\n",
    "totalPassengers = survQuant[0]+survQuant[1]\n",
    "deathRate = totalDead/totalPassengers\n",
    "\n",
    "print(f'Nombre de passagers décédés: {totalDead}')\n",
    "print(f'Proportion de passagers décédés: {deathRate*100:.2f}%')"
   ]
  },
  {
   "cell_type": "markdown",
   "id": "5f0caecb",
   "metadata": {},
   "source": [
    "<h2 align=\"center\"> <font color='blue'>Exercice 2</font></h2> <a class=\"anchor\" id=\"P2\"></a>"
   ]
  },
  {
   "cell_type": "code",
   "execution_count": 4,
   "id": "5c4d38a5",
   "metadata": {},
   "outputs": [
    {
     "name": "stdout",
     "output_type": "stream",
     "text": [
      "Nombre de femmes décédés: 64\n",
      "Proportion de femmes décédés: 24.52%\n",
      "\n",
      "Nombre d'hommes décédés: 360\n",
      "Proportion d'hommes décédés: 79.47%\n"
     ]
    }
   ],
   "source": [
    "dfFemale = titanicData.loc[titanicData['Sex'] == 0]\n",
    "dfMale = titanicData.loc[titanicData['Sex'] == 1]\n",
    "\n",
    "survQuantFem = dfFemale.value_counts(['Survived'])\n",
    "totalDeadFem = survQuantFem[0]\n",
    "totalFem = survQuantFem[0]+survQuantFem[1]\n",
    "deathRateFem = totalDeadFem/totalFem\n",
    "\n",
    "survQuantMale = dfMale.value_counts(['Survived'])\n",
    "totalDeadMale = survQuantMale[0]\n",
    "totalMale = survQuantMale[0]+survQuantMale[1]\n",
    "deathRateMale = totalDeadMale/totalMale\n",
    "\n",
    "print(f'Nombre de femmes décédés: {totalDeadFem}')\n",
    "print(f'Proportion de femmes décédés: {deathRateFem*100:.2f}%\\n')\n",
    "\n",
    "print(f\"Nombre d'hommes décédés: {totalDeadMale}\")\n",
    "print(f\"Proportion d'hommes décédés: {deathRateMale*100:.2f}%\")"
   ]
  },
  {
   "cell_type": "markdown",
   "id": "0e74fbb5",
   "metadata": {},
   "source": [
    "L'analyse de la proportion de passagers tués par sexe montre que les hommes sont plus nombreux que les femmes. En effet, les hommes sont proportionnellement $3,24$ fois plus décédés que les femmes."
   ]
  },
  {
   "cell_type": "markdown",
   "id": "fa0baf65",
   "metadata": {},
   "source": [
    "<h2 align=\"center\"> <font color='blue'>Exercice 3</font></h2> <a class=\"anchor\" id=\"P3\"></a>"
   ]
  },
  {
   "cell_type": "code",
   "execution_count": 5,
   "id": "b53bb948",
   "metadata": {},
   "outputs": [
    {
     "name": "stdout",
     "output_type": "stream",
     "text": [
      "Nombre de passagers de la 1ere classe décédés: 186\n",
      "Proportion de passagers de la 1ere classe décédés: 34.41%\n",
      "\n",
      "Nombre de passagers de la 2eme classe décédés: 173\n",
      "Proportion de passagers de la 2eme classe décédés: 52.02%\n",
      "\n",
      "Nombre de passagers de la 3eme classe décédés: 355\n",
      "Proportion de passagers de la 3eme classe décédés: 76.06%\n",
      "\n"
     ]
    }
   ],
   "source": [
    "dfClass1 = titanicData.loc[titanicData['Pclass'] == 1]\n",
    "dfClass2 = titanicData.loc[titanicData['Pclass'] == 2]\n",
    "dfClass3 = titanicData.loc[titanicData['Pclass'] == 3]\n",
    "\n",
    "survQuantClass1 = dfClass1.value_counts(['Survived'])\n",
    "totalDeadClass1 = survQuantClass1[0]\n",
    "totalClass1 = survQuantClass1[0]+survQuantClass1[1]\n",
    "deathRateClass1 = totalDeadClass1/totalClass1\n",
    "\n",
    "survQuantClass2 = dfClass2.value_counts(['Survived'])\n",
    "totalDeadClass2 = survQuantClass2[0]\n",
    "totalClass2 = survQuantClass2[0]+survQuantClass2[1]\n",
    "deathRateClass2 = totalDeadClass2/totalClass2\n",
    "\n",
    "survQuantClass3 = dfClass3.value_counts(['Survived'])\n",
    "totalDeadClass3 = survQuantClass3[0]\n",
    "totalClass3 = survQuantClass3[0]+survQuantClass3[1]\n",
    "deathRateClass3 = totalDeadClass3/totalClass3\n",
    "\n",
    "print(f'Nombre de passagers de la 1ere classe décédés: {totalClass1}')\n",
    "print(f'Proportion de passagers de la 1ere classe décédés: {deathRateClass1*100:.2f}%\\n')\n",
    "\n",
    "print(f'Nombre de passagers de la 2eme classe décédés: {totalClass2}')\n",
    "print(f'Proportion de passagers de la 2eme classe décédés: {deathRateClass2*100:.2f}%\\n')\n",
    "\n",
    "print(f'Nombre de passagers de la 3eme classe décédés: {totalClass3}')\n",
    "print(f'Proportion de passagers de la 3eme classe décédés: {deathRateClass3*100:.2f}%\\n')"
   ]
  },
  {
   "cell_type": "markdown",
   "id": "f1a6d900",
   "metadata": {},
   "source": [
    "Tout comme nous l'avons observé pour les sexes, il semble également que les décès soient associés à la classe du passager. Les passagers de première classe sont proportionnellement moins décédés que les passagers de deuxième classe, qui à leur tour sont moins décédés que les passagers de troisième classe."
   ]
  },
  {
   "cell_type": "markdown",
   "id": "1c54e4c4",
   "metadata": {},
   "source": [
    "<h2 align=\"center\"> <font color='blue'>Exercice 4</font></h2> <a class=\"anchor\" id=\"P4\"></a>"
   ]
  },
  {
   "cell_type": "code",
   "execution_count": 6,
   "id": "a39af605",
   "metadata": {},
   "outputs": [
    {
     "data": {
      "text/html": [
       "<div>\n",
       "<style scoped>\n",
       "    .dataframe tbody tr th:only-of-type {\n",
       "        vertical-align: middle;\n",
       "    }\n",
       "\n",
       "    .dataframe tbody tr th {\n",
       "        vertical-align: top;\n",
       "    }\n",
       "\n",
       "    .dataframe thead th {\n",
       "        text-align: right;\n",
       "    }\n",
       "</style>\n",
       "<table border=\"1\" class=\"dataframe\">\n",
       "  <thead>\n",
       "    <tr style=\"text-align: right;\">\n",
       "      <th></th>\n",
       "      <th>Survived</th>\n",
       "      <th>Pclass</th>\n",
       "      <th>Sex</th>\n",
       "      <th>Age</th>\n",
       "      <th>SibSp</th>\n",
       "      <th>Parch</th>\n",
       "      <th>Fare</th>\n",
       "    </tr>\n",
       "  </thead>\n",
       "  <tbody>\n",
       "    <tr>\n",
       "      <th>Survived</th>\n",
       "      <td>1.000000</td>\n",
       "      <td>-0.359653</td>\n",
       "      <td>-0.538826</td>\n",
       "      <td>-0.077221</td>\n",
       "      <td>-0.017358</td>\n",
       "      <td>0.093317</td>\n",
       "      <td>0.268189</td>\n",
       "    </tr>\n",
       "    <tr>\n",
       "      <th>Pclass</th>\n",
       "      <td>-0.359653</td>\n",
       "      <td>1.000000</td>\n",
       "      <td>0.155460</td>\n",
       "      <td>-0.369226</td>\n",
       "      <td>0.067247</td>\n",
       "      <td>0.025683</td>\n",
       "      <td>-0.554182</td>\n",
       "    </tr>\n",
       "    <tr>\n",
       "      <th>Sex</th>\n",
       "      <td>-0.538826</td>\n",
       "      <td>0.155460</td>\n",
       "      <td>1.000000</td>\n",
       "      <td>0.093254</td>\n",
       "      <td>-0.103950</td>\n",
       "      <td>-0.246972</td>\n",
       "      <td>-0.184994</td>\n",
       "    </tr>\n",
       "    <tr>\n",
       "      <th>Age</th>\n",
       "      <td>-0.077221</td>\n",
       "      <td>-0.369226</td>\n",
       "      <td>0.093254</td>\n",
       "      <td>1.000000</td>\n",
       "      <td>-0.308247</td>\n",
       "      <td>-0.189119</td>\n",
       "      <td>0.096067</td>\n",
       "    </tr>\n",
       "    <tr>\n",
       "      <th>SibSp</th>\n",
       "      <td>-0.017358</td>\n",
       "      <td>0.067247</td>\n",
       "      <td>-0.103950</td>\n",
       "      <td>-0.308247</td>\n",
       "      <td>1.000000</td>\n",
       "      <td>0.383820</td>\n",
       "      <td>0.138329</td>\n",
       "    </tr>\n",
       "    <tr>\n",
       "      <th>Parch</th>\n",
       "      <td>0.093317</td>\n",
       "      <td>0.025683</td>\n",
       "      <td>-0.246972</td>\n",
       "      <td>-0.189119</td>\n",
       "      <td>0.383820</td>\n",
       "      <td>1.000000</td>\n",
       "      <td>0.205119</td>\n",
       "    </tr>\n",
       "    <tr>\n",
       "      <th>Fare</th>\n",
       "      <td>0.268189</td>\n",
       "      <td>-0.554182</td>\n",
       "      <td>-0.184994</td>\n",
       "      <td>0.096067</td>\n",
       "      <td>0.138329</td>\n",
       "      <td>0.205119</td>\n",
       "      <td>1.000000</td>\n",
       "    </tr>\n",
       "  </tbody>\n",
       "</table>\n",
       "</div>"
      ],
      "text/plain": [
       "          Survived    Pclass       Sex       Age     SibSp     Parch      Fare\n",
       "Survived  1.000000 -0.359653 -0.538826 -0.077221 -0.017358  0.093317  0.268189\n",
       "Pclass   -0.359653  1.000000  0.155460 -0.369226  0.067247  0.025683 -0.554182\n",
       "Sex      -0.538826  0.155460  1.000000  0.093254 -0.103950 -0.246972 -0.184994\n",
       "Age      -0.077221 -0.369226  0.093254  1.000000 -0.308247 -0.189119  0.096067\n",
       "SibSp    -0.017358  0.067247 -0.103950 -0.308247  1.000000  0.383820  0.138329\n",
       "Parch     0.093317  0.025683 -0.246972 -0.189119  0.383820  1.000000  0.205119\n",
       "Fare      0.268189 -0.554182 -0.184994  0.096067  0.138329  0.205119  1.000000"
      ]
     },
     "execution_count": 6,
     "metadata": {},
     "output_type": "execute_result"
    }
   ],
   "source": [
    "titanicData.corr()"
   ]
  },
  {
   "cell_type": "markdown",
   "id": "e5b4eafa",
   "metadata": {},
   "source": [
    "En observant la ligne $\\textbf{Survived}$, on conclue que les variables avec les plus forts correlations sont\n",
    "- $\\textbf{Pclass}$ avec correlation $-0,36$\n",
    "- $\\textbf{Sex}$ avec correlation $-0,54$\n",
    "- $\\textbf{Fare}$ avec correlation $0,27$"
   ]
  },
  {
   "cell_type": "markdown",
   "id": "e487aadd",
   "metadata": {},
   "source": [
    "<h2 align=\"center\"> <font color='blue'>Exercice 5</font></h2> <a class=\"anchor\" id=\"P5\"></a>"
   ]
  },
  {
   "cell_type": "markdown",
   "id": "fe50d8f0",
   "metadata": {},
   "source": [
    "D'abord, il faut calculer le estimateur du maximum de vraisemblance pour chaque paramètre du modèle. On va implementer l'algorithme $\\textbf{IRLS}$ décrit dans le sujet."
   ]
  },
  {
   "cell_type": "code",
   "execution_count": 7,
   "id": "c74f3cdd",
   "metadata": {},
   "outputs": [],
   "source": [
    "Xn = titanicData[['Pclass', 'Sex', 'Age', 'SibSp', 'Parch', 'Fare']] #on prend tout les parametres\n",
    "Xn = Xn.to_numpy()#et convert le dataframe en matrice numpy\n",
    "\n",
    "Yn = titanicData['Survived']\n",
    "Yn = Yn.to_numpy()#analogiquement, convert la collone du dataframe en vecteur numpy\n",
    "\n",
    "#on definit n et p\n",
    "n = len(Yn)\n",
    "p = Xn.shape[1]"
   ]
  },
  {
   "cell_type": "code",
   "execution_count": 8,
   "id": "eea5dbe4",
   "metadata": {},
   "outputs": [],
   "source": [
    "#Fonction phi(t)\n",
    "def phi(t):\n",
    "    return 1.0/(1.0 + np.exp(-t))\n",
    "\n",
    "#Fonction h(t)\n",
    "def h(t):\n",
    "    return phi(t)*(1 - phi(t))\n",
    "\n",
    "#Fonction Phi_n(theta)\n",
    "def Phi_n(theta):\n",
    "    Phi_n = np.zeros(n)\n",
    "    theta_T = np.transpose(theta)\n",
    "    for i in range(n):\n",
    "        xi = Xn[i, :]\n",
    "        Phi_n[i] = phi(np.matmul(theta_T, xi))\n",
    "    return Phi_n\n",
    "        \n",
    "#Matrice W(theta)\n",
    "def W(theta):\n",
    "    W = np.zeros((n,n))\n",
    "    theta_T = np.transpose(theta)\n",
    "    for i in range(n):\n",
    "        xi = Xn[i, :]\n",
    "        W[i][i] = h(np.matmul(theta_T, xi))\n",
    "    return W\n",
    "        \n",
    "    \n",
    "#Algorithme IRLS pour calculer l'estimateur de vraisemblance\n",
    "def IRLS(theta_0, Xn, Yn, rho):\n",
    "    \n",
    "    Xn_T = np.transpose(Xn)\n",
    "    \n",
    "    t = 0\n",
    "    theta_t = theta_0\n",
    "    Phi_n_t = Phi_n(theta_t)\n",
    "    W_t = W(theta_t)\n",
    "    err_t = 1\n",
    "    \n",
    "    while(err_t >= rho):\n",
    "        zt = np.matmul(Xn, theta_t) + np.matmul(inv(W_t), Yn - Phi_n_t)\n",
    "        theta_t = np.matmul( inv(np.matmul(Xn_T, np.matmul(W_t, Xn))), np.matmul(Xn_T, np.matmul(W_t, zt)))\n",
    "        Phi_n_t = Phi_n(theta_t)\n",
    "        W_t = W(theta_t)\n",
    "        err_t = norm(np.matmul(Xn_T, Yn - Phi_n_t))\n",
    "        t += 1\n",
    "    \n",
    "    return theta_t"
   ]
  },
  {
   "cell_type": "code",
   "execution_count": 9,
   "id": "d58316dd",
   "metadata": {},
   "outputs": [
    {
     "name": "stdout",
     "output_type": "stream",
     "text": [
      "theta_MV  = [ 0.10348022 -2.13787951  0.00331766 -0.22942587 -0.10922291  0.01962259]\n"
     ]
    }
   ],
   "source": [
    "theta_0 = np.zeros(p)\n",
    "theta_MV = IRLS(theta_0, Xn, Yn, 10**-10)\n",
    "\n",
    "#l'estimateur du maximum de vraisemblance\n",
    "print(f\"theta_MV  = {theta_MV}\")"
   ]
  },
  {
   "cell_type": "markdown",
   "id": "621df5a5",
   "metadata": {},
   "source": [
    "Ici, on utilise le résultat de la question 14. On sait que l'intervalle de confiance de niveau $1 - \\alpha$ pour le paramètre $\\hat{\\theta}_{n}^{MV}$ est\n",
    "$$ I(\\alpha) = \\left[ \\hat{\\theta}_n^{MV} - \\sqrt{\\frac{\\beta_{n,k}}{n}}q_{1 - \\frac{\\alpha}{2}} , \\hat{\\theta}_n^{MV} + \\sqrt{\\frac{\\beta_{n,k}}{n}}q_{1 - \\frac{\\alpha}{2}} \\right]$$"
   ]
  },
  {
   "cell_type": "code",
   "execution_count": 10,
   "id": "c6fe5446",
   "metadata": {},
   "outputs": [
    {
     "ename": "LinAlgError",
     "evalue": "Singular matrix",
     "output_type": "error",
     "traceback": [
      "\u001b[0;31m---------------------------------------------------------------------------\u001b[0m",
      "\u001b[0;31mLinAlgError\u001b[0m                               Traceback (most recent call last)",
      "Input \u001b[0;32mIn [10]\u001b[0m, in \u001b[0;36m<cell line: 11>\u001b[0;34m()\u001b[0m\n\u001b[1;32m      8\u001b[0m     \u001b[38;5;28;01mreturn\u001b[39;00m ret\n\u001b[1;32m     10\u001b[0m \u001b[38;5;66;03m#alors, on a les coefficients beta_{n,k}\u001b[39;00m\n\u001b[0;32m---> 11\u001b[0m beta \u001b[38;5;241m=\u001b[39m \u001b[43minv\u001b[49m\u001b[43m(\u001b[49m\u001b[43mF_n\u001b[49m\u001b[43m(\u001b[49m\u001b[43mtheta_MV\u001b[49m\u001b[43m)\u001b[49m\u001b[38;5;241;43m/\u001b[39;49m\u001b[43mn\u001b[49m\u001b[43m)\u001b[49m\n\u001b[1;32m     13\u001b[0m \u001b[38;5;66;03m#on calcule les quantiles\u001b[39;00m\n\u001b[1;32m     14\u001b[0m quantile \u001b[38;5;241m=\u001b[39m sps\u001b[38;5;241m.\u001b[39mnorm\u001b[38;5;241m.\u001b[39mppf(\u001b[38;5;241m1\u001b[39m \u001b[38;5;241m-\u001b[39m (\u001b[38;5;241m0.05\u001b[39m\u001b[38;5;241m/\u001b[39m\u001b[38;5;241m2\u001b[39m))\n",
      "File \u001b[0;32m<__array_function__ internals>:5\u001b[0m, in \u001b[0;36minv\u001b[0;34m(*args, **kwargs)\u001b[0m\n",
      "File \u001b[0;32m~/ENTER/lib/python3.9/site-packages/numpy/linalg/linalg.py:545\u001b[0m, in \u001b[0;36minv\u001b[0;34m(a)\u001b[0m\n\u001b[1;32m    543\u001b[0m signature \u001b[38;5;241m=\u001b[39m \u001b[38;5;124m'\u001b[39m\u001b[38;5;124mD->D\u001b[39m\u001b[38;5;124m'\u001b[39m \u001b[38;5;28;01mif\u001b[39;00m isComplexType(t) \u001b[38;5;28;01melse\u001b[39;00m \u001b[38;5;124m'\u001b[39m\u001b[38;5;124md->d\u001b[39m\u001b[38;5;124m'\u001b[39m\n\u001b[1;32m    544\u001b[0m extobj \u001b[38;5;241m=\u001b[39m get_linalg_error_extobj(_raise_linalgerror_singular)\n\u001b[0;32m--> 545\u001b[0m ainv \u001b[38;5;241m=\u001b[39m \u001b[43m_umath_linalg\u001b[49m\u001b[38;5;241;43m.\u001b[39;49m\u001b[43minv\u001b[49m\u001b[43m(\u001b[49m\u001b[43ma\u001b[49m\u001b[43m,\u001b[49m\u001b[43m \u001b[49m\u001b[43msignature\u001b[49m\u001b[38;5;241;43m=\u001b[39;49m\u001b[43msignature\u001b[49m\u001b[43m,\u001b[49m\u001b[43m \u001b[49m\u001b[43mextobj\u001b[49m\u001b[38;5;241;43m=\u001b[39;49m\u001b[43mextobj\u001b[49m\u001b[43m)\u001b[49m\n\u001b[1;32m    546\u001b[0m \u001b[38;5;28;01mreturn\u001b[39;00m wrap(ainv\u001b[38;5;241m.\u001b[39mastype(result_t, copy\u001b[38;5;241m=\u001b[39m\u001b[38;5;28;01mFalse\u001b[39;00m))\n",
      "File \u001b[0;32m~/ENTER/lib/python3.9/site-packages/numpy/linalg/linalg.py:88\u001b[0m, in \u001b[0;36m_raise_linalgerror_singular\u001b[0;34m(err, flag)\u001b[0m\n\u001b[1;32m     87\u001b[0m \u001b[38;5;28;01mdef\u001b[39;00m \u001b[38;5;21m_raise_linalgerror_singular\u001b[39m(err, flag):\n\u001b[0;32m---> 88\u001b[0m     \u001b[38;5;28;01mraise\u001b[39;00m LinAlgError(\u001b[38;5;124m\"\u001b[39m\u001b[38;5;124mSingular matrix\u001b[39m\u001b[38;5;124m\"\u001b[39m)\n",
      "\u001b[0;31mLinAlgError\u001b[0m: Singular matrix"
     ]
    }
   ],
   "source": [
    "def F_n(theta):\n",
    "    ret = np.zeros((p, p))\n",
    "    theta_T = np.transpose(theta)\n",
    "    for i in range(n):\n",
    "        xi = Xn[i, :]\n",
    "        xi_T = np.transpose(xi)\n",
    "        ret += h(np.matmul(theta_T, xi))*(np.matmul(xi, xi_T))\n",
    "    return ret\n",
    "\n",
    "#alors, on a les coefficients beta_{n,k}\n",
    "beta = inv(F_n(theta_MV)/n)\n",
    "\n",
    "#on calcule les quantiles\n",
    "quantile = sps.norm.ppf(1 - (0.05/2))\n",
    "\n",
    "for i in range(n):\n",
    "    borne_gauche = theta_MV[i] - np.sqrt(beta[i][i]/n)*quantile\n",
    "    borne_droite = theta_MV[i] + np.sqrt(beta[i][i]/n)*quantile\n",
    "    print(f\"Intervale de confiance = [{borne_gauche}, {borne_droite}]\")"
   ]
  },
  {
   "cell_type": "markdown",
   "id": "9c1daa08",
   "metadata": {},
   "source": [
    "<h2 align=\"center\"> <font color='blue'>Exercice 6</font></h2> <a class=\"anchor\" id=\"P6\"></a>"
   ]
  },
  {
   "cell_type": "markdown",
   "id": "32727ce0",
   "metadata": {},
   "source": [
    "On utilise le résultat de la question 16. On sait que la p-valeur est\n",
    "$$ \\hat{\\alpha}(Y_n) = 2 - 2F \\left( \\sqrt{\\frac{n}{\\beta_{n,k}}}| \\hat{\\theta}_{n,k}^{MV} | \\right) $$"
   ]
  },
  {
   "cell_type": "code",
   "execution_count": null,
   "id": "d13f5561",
   "metadata": {},
   "outputs": [],
   "source": [
    "p_valeur_Parch = 2 - 2*sps.norm.cdf(np.sqrt(n/beta[4][4])*abs(theta_MV[4]))\n",
    "print(p_valeur_Parch)"
   ]
  },
  {
   "cell_type": "markdown",
   "id": "44355372",
   "metadata": {},
   "source": [
    "On en conclue que l'hipothèse $H_0$ est très probablement vrai car la p-valeur est très grande. Donc, on doit enlever $\\textbf{Parch}$ du modèle."
   ]
  },
  {
   "cell_type": "markdown",
   "id": "56ccf3ca",
   "metadata": {},
   "source": [
    "<h2 align=\"center\"> <font color='blue'>Exercice 7</font></h2> <a class=\"anchor\" id=\"P7\"></a>"
   ]
  },
  {
   "cell_type": "code",
   "execution_count": null,
   "id": "1e22a531",
   "metadata": {},
   "outputs": [],
   "source": [
    "Xn = titanicData[['Pclass', 'Sex', 'Age', 'SibSp', 'Fare']] #on supprime Parch du modele\n",
    "Xn = Xn.to_numpy()\n",
    "p = Xn.shape[1]\n",
    "\n",
    "theta_0 = np.zeros(p)\n",
    "theta_MV = IRLS(theta_0, Xn, Yn, 10**-10)\n",
    "print(f\"theta_MV  = {theta_MV}\")\n",
    "\n",
    "#les coefficients beta_{n,k}\n",
    "beta = inv(F_n(theta_MV)/n)\n",
    "\n",
    "for i in range(n):\n",
    "    borne_gauche = theta_MV[i] - np.sqrt(beta[i][i]/n)*quantile\n",
    "    borne_droite = theta_MV[i] + np.sqrt(beta[i][i]/n)*quantile\n",
    "    print(f\"Intervale de confiance = [{borne_gauche}, {borne_droite}]\")"
   ]
  },
  {
   "cell_type": "markdown",
   "id": "3b888688",
   "metadata": {},
   "source": [
    "On observe que l'intervalle de confiance est moins grand, donc le modèle est devenu plus précis."
   ]
  },
  {
   "cell_type": "markdown",
   "id": "a03d6359",
   "metadata": {},
   "source": [
    "<h2 align=\"center\"> <font color='blue'>Exercice 8</font></h2> <a class=\"anchor\" id=\"P8\"></a>"
   ]
  },
  {
   "cell_type": "code",
   "execution_count": null,
   "id": "8467a5fa",
   "metadata": {},
   "outputs": [],
   "source": [
    "#on utilise la même formule pour la p-valeur avec l'indice de \"Fare\" dans la liste de parametres\n",
    "p_valeur_Fare = 2 - 2*sps.norm.cdf(np.sqrt(n/beta[4][4])*abs(theta_MV[4]))\n",
    "print(p_valeur_Fare)"
   ]
  },
  {
   "cell_type": "markdown",
   "id": "c41fb39a",
   "metadata": {},
   "source": [
    "On en conclue que l'hipothèse $H_0$ est très probablement vrai car la p-valeur est très grande. Donc, on doit enlever $\\textbf{Fare}$ du modèle."
   ]
  },
  {
   "cell_type": "markdown",
   "id": "7b586f7a",
   "metadata": {},
   "source": [
    "<h2 align=\"center\"> <font color='blue'>Exercice 9</font></h2> <a class=\"anchor\" id=\"P9\"></a>"
   ]
  },
  {
   "cell_type": "code",
   "execution_count": null,
   "id": "76ef2f6a",
   "metadata": {},
   "outputs": [],
   "source": [
    "Xn = titanicData[['Pclass', 'Sex', 'Age', 'SibSp']] #on supprime Parch et Fare du modele\n",
    "Xn = Xn.to_numpy()\n",
    "p = Xn.shape[1]\n",
    "\n",
    "theta_0 = np.zeros(p)\n",
    "theta_MV = IRLS(theta_0, Xn, Yn, 10**-10)\n",
    "print(f\"theta_MV  = {theta_MV}\")\n",
    "\n",
    "#les coefficients beta_{n,k}\n",
    "beta = inv(F_n(theta_MV)/n)\n",
    "\n",
    "for i in range(n):\n",
    "    borne_gauche = theta_MV[i] - np.sqrt(beta[i][i]/n)*quantile\n",
    "    borne_droite = theta_MV[i] + np.sqrt(beta[i][i]/n)*quantile\n",
    "    print(f\"Intervale de confiance = [{borne_gauche}, {borne_droite}]\")"
   ]
  },
  {
   "cell_type": "markdown",
   "id": "b94b8799",
   "metadata": {},
   "source": [
    "On observe que l'intervalle de confiance est moins grand, donc le modèle est devenu plus précis."
   ]
  },
  {
   "cell_type": "markdown",
   "id": "e574f6c3",
   "metadata": {},
   "source": [
    "<h2 align=\"center\"> <font color='blue'>Exercice 10</font></h2> <a class=\"anchor\" id=\"P10\"></a>"
   ]
  },
  {
   "cell_type": "code",
   "execution_count": null,
   "id": "f50847e0",
   "metadata": {},
   "outputs": [],
   "source": [
    "theta_test_male = np.array([1, 1, 22, 0, 0])\n",
    "proba_test_male = Phi_n(theta_test_male) #probabilite de survie pour l'homme\n",
    "\n",
    "theta_test_female = np.array([1, 0, 22, 0, 0])\n",
    "proba_test_female = Phi_n(theta_test_male) #probabilite de survie pour la femme\n",
    "\n",
    "print(f\"Probabilité de survie pour l'homme {proba_test_male}\")\n",
    "print(f\"Probabilité de survie pour la femme {proba_test_female}\")"
   ]
  },
  {
   "cell_type": "markdown",
   "id": "cb2e1ae1",
   "metadata": {},
   "source": []
  }
 ],
 "metadata": {
  "kernelspec": {
   "display_name": "Python 3 (ipykernel)",
   "language": "python",
   "name": "python3"
  },
  "language_info": {
   "codemirror_mode": {
    "name": "ipython",
    "version": 3
   },
   "file_extension": ".py",
   "mimetype": "text/x-python",
   "name": "python",
   "nbconvert_exporter": "python",
   "pygments_lexer": "ipython3",
   "version": "3.9.12"
  }
 },
 "nbformat": 4,
 "nbformat_minor": 5
}
