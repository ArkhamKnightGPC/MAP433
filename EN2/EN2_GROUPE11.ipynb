{
 "cells": [
  {
   "cell_type": "markdown",
   "id": "60cd3ce1",
   "metadata": {},
   "source": [
    "# <font color='289C4E'>Exploration Numérique 2\n",
    "**Élèves**: Sadegh ABDERRAHIM & Gabriel PEREIRA DE CARVALHO & Otávio RIBAS"
   ]
  },
  {
   "cell_type": "markdown",
   "id": "5630d4b9",
   "metadata": {},
   "source": [
    "### <font color='289C4E'>Table des matières<font><a class='anchor' id='top'></a>\n",
    "- [Python Imports](#imports)\n",
    "- [Exercice 1](#1)\n",
    "- [Exercice 2](#2)\n",
    "- [Exercice 3](#3)\n",
    "- [Exercice 4](#4)\n",
    "- [Exercice 5](#5)\n",
    "- [Exercice 6](#6)\n",
    "- [Exercice 7](#7)\n",
    "- [Exercice 8](#8)"
   ]
  },
  {
   "cell_type": "markdown",
   "id": "bd16c8a8",
   "metadata": {},
   "source": [
    "<h2 align=\"center\"> <font color='gray'>Python Imports</font></h2> <a class=\"anchor\" id=\"imports\"></a>"
   ]
  },
  {
   "cell_type": "markdown",
   "id": "3f1e8864",
   "metadata": {},
   "source": [
    "Dans cette section, on va importer tous les paquets qu'on ira utiliser plus tard."
   ]
  },
  {
   "cell_type": "code",
   "execution_count": 1,
   "id": "a7a211b8",
   "metadata": {},
   "outputs": [],
   "source": [
    "import pandas as pd \n",
    "import matplotlib.pyplot as plt \n",
    "import numpy as np\n",
    "import scipy.stats as stats"
   ]
  },
  {
   "cell_type": "markdown",
   "id": "0f78fefd",
   "metadata": {},
   "source": [
    "<h2 align=\"center\"> <font color='blue'>Exercice 1</font></h2> <a class=\"anchor\" id=\"1\"></a>"
   ]
  },
  {
   "cell_type": "markdown",
   "id": "a9a0c7b2",
   "metadata": {},
   "source": [
    "La vraisemblance est $$l(\\theta) = \\left(\\prod_{i=1}^n \\frac{1}{\\sqrt{2\\pi}\\sigma_0} e^{-\\frac{(x_i-\\mu_0)^2}{2\\sigma_0^2}}\\right)\\left(\\prod_{i=1}^p \\frac{1}{\\sqrt{2\\pi}\\sigma_1} e^{-\\frac{(y_i-\\mu_1)^2}{2\\sigma_1^2}}\\right) \\\\ \\implies \\ln(l(\\theta)) = -\\frac{n+p}{2}\\ln(2\\pi) - n\\ln(\\sigma_0) -p\\ln(\\sigma_1) - \\frac{1}{2\\sigma_0^2}\\sum_{i=1}{n}(x_i - \\mu_0)^2 - \\frac{1}{2\\sigma_1^2}\\sum_{i=1}{p}(y_i - \\mu_1)^2.$$\n",
    "Alors, $\\nabla_\\theta \\ln(l(\\theta)) = 0$ donne\n",
    "$$\\begin{align}\n",
    "\\begin{cases}\n",
    "\\hat{\\mu}_0 &= \\frac{1}{n}\\sum_{i=1}^n x_i \\\\\n",
    "\\hat{\\mu}_1 &= \\frac{1}{p}\\sum_{i=1}^p y_i \\\\\n",
    "\\hat{\\sigma}_0^2 &= \\frac{1}{n}\\sum_{i=1}^n (x_i - \\hat{\\mu}_0)^2 \\\\\n",
    "\\hat{\\sigma}_1^2 &= \\frac{1}{p}\\sum_{i=1}^p (y_i - \\hat{\\mu}_1)^2\n",
    "\\end{cases}\n",
    "\\end{align}$$\n",
    "on conclue $\\hat{\\theta}_{MV} = \\left(\\bar{X}_n, \\bar{Y}_p, \\frac{1}{n}\\sum_{i=1}^n (x_i - \\bar{X}_n)^2, \\frac{1}{p}\\sum_{i=1}^p (y_i - \\bar{Y}_p)^2  \\right)$."
   ]
  },
  {
   "cell_type": "markdown",
   "id": "53f3f616",
   "metadata": {},
   "source": [
    "<h2 align=\"center\"> <font color='blue'>Exercice 2</font></h2> <a class=\"anchor\" id=\"2\"></a>"
   ]
  },
  {
   "cell_type": "code",
   "execution_count": null,
   "id": "56770e4a",
   "metadata": {},
   "outputs": [],
   "source": []
  },
  {
   "cell_type": "markdown",
   "id": "a27c82be",
   "metadata": {},
   "source": [
    "<h2 align=\"center\"> <font color='blue'>Exercice 3</font></h2> <a class=\"anchor\" id=\"3\"></a>"
   ]
  },
  {
   "cell_type": "code",
   "execution_count": null,
   "id": "66cbe48c",
   "metadata": {},
   "outputs": [],
   "source": []
  },
  {
   "cell_type": "markdown",
   "id": "65921bea",
   "metadata": {},
   "source": [
    "<h2 align=\"center\"> <font color='blue'>Exercice 4</font></h2> <a class=\"anchor\" id=\"4\"></a>"
   ]
  },
  {
   "cell_type": "code",
   "execution_count": null,
   "id": "099a4f8d",
   "metadata": {},
   "outputs": [],
   "source": []
  },
  {
   "cell_type": "markdown",
   "id": "042e20b5",
   "metadata": {},
   "source": [
    "<h2 align=\"center\"> <font color='blue'>Exercice 5</font></h2> <a class=\"anchor\" id=\"5\"></a>"
   ]
  },
  {
   "cell_type": "code",
   "execution_count": null,
   "id": "854d38a6",
   "metadata": {},
   "outputs": [],
   "source": []
  },
  {
   "cell_type": "markdown",
   "id": "8507193e",
   "metadata": {},
   "source": [
    "<h2 align=\"center\"> <font color='blue'>Exercice 6</font></h2> <a class=\"anchor\" id=\"6\"></a>"
   ]
  },
  {
   "cell_type": "code",
   "execution_count": null,
   "id": "cec9253a",
   "metadata": {},
   "outputs": [],
   "source": []
  },
  {
   "cell_type": "markdown",
   "id": "28c812a4",
   "metadata": {},
   "source": [
    "<h2 align=\"center\"> <font color='blue'>Exercice 7</font></h2> <a class=\"anchor\" id=\"7\"></a>"
   ]
  },
  {
   "cell_type": "code",
   "execution_count": null,
   "id": "4895a044",
   "metadata": {},
   "outputs": [],
   "source": []
  },
  {
   "cell_type": "markdown",
   "id": "544bbf9f",
   "metadata": {},
   "source": [
    "<h2 align=\"center\"> <font color='blue'>Exercice 8</font></h2> <a class=\"anchor\" id=\"8\"></a>"
   ]
  },
  {
   "cell_type": "code",
   "execution_count": null,
   "id": "a0548e95",
   "metadata": {},
   "outputs": [],
   "source": []
  },
  {
   "cell_type": "code",
   "execution_count": null,
   "id": "92a1cc1f",
   "metadata": {},
   "outputs": [],
   "source": []
  }
 ],
 "metadata": {
  "kernelspec": {
   "display_name": "Python 3 (ipykernel)",
   "language": "python",
   "name": "python3"
  },
  "language_info": {
   "codemirror_mode": {
    "name": "ipython",
    "version": 3
   },
   "file_extension": ".py",
   "mimetype": "text/x-python",
   "name": "python",
   "nbconvert_exporter": "python",
   "pygments_lexer": "ipython3",
   "version": "3.9.12"
  }
 },
 "nbformat": 4,
 "nbformat_minor": 5
}
