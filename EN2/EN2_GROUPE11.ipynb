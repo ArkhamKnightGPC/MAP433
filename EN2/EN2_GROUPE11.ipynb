{
 "cells": [
  {
   "cell_type": "markdown",
   "id": "e8d3a970",
   "metadata": {},
   "source": [
    "# <font color='289C4E'>Exploration Numérique 2\n",
    "**Élèves**: Sadegh ABDERRAHIM & Gabriel PEREIRA DE CARVALHO & Otávio RIBAS"
   ]
  },
  {
   "cell_type": "markdown",
   "id": "6f747b3a",
   "metadata": {},
   "source": [
    "### <font color='289C4E'>Table des matières<font><a class='anchor' id='top'></a>\n",
    "- [Python Imports](#imports)\n",
    "- [Exercice 1](#1)\n",
    "- [Exercice 2](#2)\n",
    "- [Exercice 3](#3)\n",
    "- [Exercice 4](#4)\n",
    "- [Exercice 5](#5)\n",
    "- [Exercice 6](#6)\n",
    "- [Exercice 7](#7)\n",
    "- [Exercice 8](#8)"
   ]
  },
  {
   "cell_type": "markdown",
   "id": "a6e2ebb4",
   "metadata": {},
   "source": [
    "<h2 align=\"center\"> <font color='gray'>Python Imports</font></h2> <a class=\"anchor\" id=\"imports\"></a>"
   ]
  },
  {
   "cell_type": "markdown",
   "id": "fe0e86f9",
   "metadata": {},
   "source": [
    "Dans cette section, on va importer tous les paquets qu'on ira utiliser plus tard."
   ]
  },
  {
   "cell_type": "code",
   "execution_count": 1,
   "id": "416e2da0",
   "metadata": {},
   "outputs": [],
   "source": [
    "import pandas as pd \n",
    "import matplotlib.pyplot as plt \n",
    "import numpy as np\n",
    "import scipy.stats as stats"
   ]
  },
  {
   "cell_type": "markdown",
   "id": "e20def0b",
   "metadata": {},
   "source": [
    "<h2 align=\"center\"> <font color='blue'>Exercice 1</font></h2> <a class=\"anchor\" id=\"1\"></a>"
   ]
  },
  {
   "cell_type": "markdown",
   "id": "804e282d",
   "metadata": {},
   "source": [
    "La vraisemblance est $$l(\\theta) = \\left(\\prod_{i=1}^n \\frac{1}{\\sqrt{2\\pi}\\sigma_0} e^{-\\frac{(X_i-\\mu_0)^2}{2\\sigma_0^2}}\\right)\\left(\\prod_{j=1}^p \\frac{1}{\\sqrt{2\\pi}\\sigma_1} e^{-\\frac{(Y_j-\\mu_1)^2}{2\\sigma_1^2}}\\right) \\\\ \\implies \\ln(l(\\theta)) = -\\frac{n+p}{2}\\ln(2\\pi) - n\\ln(\\sigma_0) -p\\ln(\\sigma_1) - \\frac{1}{2\\sigma_0^2}\\sum_{i=1}^n(X_i - \\mu_0)^2 - \\frac{1}{2\\sigma_1^2}\\sum_{j=1}^p(Y_j - \\mu_1)^2.$$\n",
    "Alors, $\\nabla_\\theta \\ln(l(\\theta)) = 0$ donne que la log-vraisemblance est maximisée en\n",
    "$$\\begin{align}\n",
    "\\begin{cases}\n",
    "\\hat{\\mu}_0 &= \\frac{1}{n}\\sum_{i=1}^n X_i \\\\\n",
    "\\hat{\\mu}_1 &= \\frac{1}{p}\\sum_{j=1}^p Y_j \\\\\n",
    "\\hat{\\sigma}_0^2 &= \\frac{1}{n}\\sum_{i=1}^n (X_i - \\hat{\\mu}_0)^2 \\\\\n",
    "\\hat{\\sigma}_1^2 &= \\frac{1}{p}\\sum_{j=1}^p (Y_j - \\hat{\\mu}_1)^2\n",
    "\\end{cases}\n",
    "\\end{align}$$\n",
    "on conclue $\\hat{\\theta}_{MV} = \\left(\\bar{X}_n, \\bar{Y}_p, \\frac{1}{n}\\sum_{i=1}^n (X_i - \\bar{X}_n)^2, \\frac{1}{p}\\sum_{j=1}^p (Y_j - \\bar{Y}_p)^2  \\right)$."
   ]
  },
  {
   "cell_type": "markdown",
   "id": "b1e28df7",
   "metadata": {},
   "source": [
    "<h2 align=\"center\"> <font color='blue'>Exercice 2</font></h2> <a class=\"anchor\" id=\"2\"></a>"
   ]
  },
  {
   "cell_type": "markdown",
   "id": "4e3045dc",
   "metadata": {},
   "source": []
  },
  {
   "cell_type": "markdown",
   "id": "e34451e1",
   "metadata": {},
   "source": [
    "<h2 align=\"center\"> <font color='blue'>Exercice 3</font></h2> <a class=\"anchor\" id=\"3\"></a>"
   ]
  },
  {
   "cell_type": "code",
   "execution_count": null,
   "id": "bc5bd57a",
   "metadata": {},
   "outputs": [],
   "source": []
  },
  {
   "cell_type": "markdown",
   "id": "cb41e774",
   "metadata": {},
   "source": [
    "<h2 align=\"center\"> <font color='blue'>Exercice 4</font></h2> <a class=\"anchor\" id=\"4\"></a>"
   ]
  },
  {
   "cell_type": "markdown",
   "id": "f7f24c3f",
   "metadata": {},
   "source": [
    "On remarque que $X_i \\sim \\mathcal{N}(\\mu_0, \\sigma) \\implies \\hat{\\mu}_0 = \\bar{X}_n \\sim \\mathcal{N}\\left(\\mu_0, \\frac{\\sigma^2}{n}\\right)$ et analogiquement, $\\hat{\\mu}_1 = \\bar{Y}_p \\sim \\mathcal{N}\\left(\\mu_1, \\frac{\\sigma^2}{p}\\right)$.\n",
    "\n",
    "Donc $$\\hat{\\mu}_0 - \\hat{\\mu}_1 \\sim \\mathcal{N}\\left(\\mu_0 - \\mu_1, \\sigma^2\\left(\\frac{n+p}{np}\\right)\\right).$$\n",
    "Pour travailler avec les quantilles de la loi normale centrée réduite, on a $$\\sqrt{\\frac{np}{n+p}}\\left(\\frac{(\\hat{\\mu}_0 - \\hat{\\mu}_1) - (\\mu_0 - \\mu_1)}{\\sigma}\\right) \\sim \\mathcal{N}(0,1).$$\n",
    "\n",
    "Une fois que $\\sigma^2$ est inconnu, on va utiliser la variance de l'échantillon $S_{n,p}^2$ donné par\n",
    "$$ S_{n,p}^2 = \\frac{1}{n + p - 2}\\left(\\sum_{i=1}^n (X_i - \\bar{X}_n)^2 +  \\sum_{j=1}^n (Y_j - \\bar{Y}_p)^2\\right)$$\n",
    "on remarque que $\\mathbb{E}[S_{n,p}^2] = \\sigma^2$.\n",
    "\n",
    "Par le théorème de Gosset(Théorème IV-3.24) on a $ (n+p-2)\\frac{S_{n,p}^2}{\\sigma^2} \\sim \\chi_{n+p-2}^2$.\n",
    "\n",
    "Alors, on a $$ \\sqrt{\\frac{np}{n+p}}\\left(\\frac{(\\hat{\\mu}_0 - \\hat{\\mu}_1) - (\\mu_0 - \\mu_1)}{S_{n,p}}\\right) \\sim t_{n+p-2}$$\n",
    "\n",
    "ce qui donne\n",
    "\n",
    "$$\\begin{align}\n",
    "&\\mathbb{P}_\\theta \\left( \\sqrt{\\frac{np}{n+p}}\\left(\\frac{(\\hat{\\mu}_0 - \\hat{\\mu}_1) - (\\mu_0 - \\mu_1)}{S_{n,p}}\\right) \\in \\left[ -t_{n+p-2}^{1-\\frac{\\alpha}{2}}, t_{n+p-2}^{1-\\frac{\\alpha}{2}} \\right] \\right) = 1 - \\alpha\\\\\n",
    "\\iff &\\mathbb{P}_\\theta \\left( (\\hat{\\mu}_0 - \\hat{\\mu}_1) \\in \\left[(\\mu_0 - \\mu_1) - S_{n,p} \\sqrt{\\frac{n+p}{np}} t_{n+p-2}^{1-\\frac{\\alpha}{2}}, (\\mu_0 - \\mu_1) + S_{n,p} \\sqrt{\\frac{n+p}{np}}t_{n+p-2}^{1-\\frac{\\alpha}{2}} \\right] \\right) = 1 - \\alpha.\n",
    "\\end{align}$$\n",
    "\n",
    "On en conclue, que l'intervalle de confiance est $$ \\left[(\\mu_0 - \\mu_1) - S_{n,p} \\sqrt{\\frac{n+p}{np}} t_{n+p-2}^{1-\\frac{\\alpha}{2}}, (\\mu_0 - \\mu_1) + S_{n,p} \\sqrt{\\frac{n+p}{np}}t_{n+p-2}^{1-\\frac{\\alpha}{2}} \\right].$$"
   ]
  },
  {
   "cell_type": "markdown",
   "id": "7311d946",
   "metadata": {},
   "source": [
    "<h2 align=\"center\"> <font color='blue'>Exercice 5</font></h2> <a class=\"anchor\" id=\"5\"></a>"
   ]
  },
  {
   "cell_type": "markdown",
   "id": "d86549a2",
   "metadata": {},
   "source": [
    "Soit $Z = (X_1,...,X_n, Y_1,...,Y_p)$ et $\\theta_0 = (\\mu_0, \\mu_0, \\sigma)$. \n",
    "\n",
    "Posons la statistique de test $$ T(Z) = \\sqrt{\\frac{np}{n+p}}\\left(\\frac{\\hat{\\mu}_0 - \\hat{\\mu}_1}{S_{n,p}}\\right).$$\n",
    "En utilisant l'intervalle de confiance de la question précedente, on remarque que sous $H_0$ on a $$ P_{\\theta_0}\\left( T(Z) \\in \\left[ -t_{n+p-2}^{1-\\frac{\\alpha}{2}}, t_{n+p-2}^{1-\\frac{\\alpha}{2}} \\right] \\right) = 1-\\alpha \\implies P_{\\theta_0}\\left( T(Z) \\in (-\\infty, -t_{n+p-2}^{1-\\frac{\\alpha}{2}}) \\cup (t_{n+p-2}^{1-\\frac{\\alpha}{2}}, +\\infty)\\right) = \\alpha.$$\n",
    "\n",
    "Donc, la région de rejet $\\mathcal{R} = (-\\infty, -t_{n+p-2}^{1-\\frac{\\alpha}{2}}) \\cup (t_{n+p-2}^{1-\\frac{\\alpha}{2}}, +\\infty)$ définit un test d'hypothèse de taille $\\alpha$.\n",
    "\n",
    "Pour $\\alpha = 0,01$ on a $\\mathcal{R} = (-\\infty, -t_{n+p-2}^{0,995}) \\cup (t_{n+p-2}^{0,095}, +\\infty)$."
   ]
  },
  {
   "cell_type": "markdown",
   "id": "d9c35646",
   "metadata": {},
   "source": [
    "<h2 align=\"center\"> <font color='blue'>Exercice 6</font></h2> <a class=\"anchor\" id=\"6\"></a>"
   ]
  },
  {
   "cell_type": "markdown",
   "id": "7c274892",
   "metadata": {},
   "source": [
    "On veut $\\hat{\\alpha}(Z)$ tel que $$ T(Z) = t_{n+p-2}^{1 - \\frac{\\hat{\\alpha}(Z)}{2}}. $$\n",
    "Soit $\\Phi$ la fonction de répartition de la loi Student à $n+p-2$ degrés de liberté, on a \n",
    "$$ 1 - \\frac{\\hat{\\alpha}(Z)}{2} = \\Phi(T(Z))) \\implies \\hat{\\alpha}(Z) = 2 - 2\\Phi\\left( \\sqrt{\\frac{np}{n+p}}\\left(\\frac{\\hat{\\mu}_0 - \\hat{\\mu}_1}{S_{n,p}}\\right) \\right).$$"
   ]
  },
  {
   "cell_type": "markdown",
   "id": "9902a88b",
   "metadata": {},
   "source": [
    "<h2 align=\"center\"> <font color='blue'>Exercice 7</font></h2> <a class=\"anchor\" id=\"7\"></a>"
   ]
  },
  {
   "cell_type": "code",
   "execution_count": null,
   "id": "5ea7ce63",
   "metadata": {},
   "outputs": [],
   "source": []
  },
  {
   "cell_type": "markdown",
   "id": "a931022c",
   "metadata": {},
   "source": [
    "<h2 align=\"center\"> <font color='blue'>Exercice 8</font></h2> <a class=\"anchor\" id=\"8\"></a>"
   ]
  },
  {
   "cell_type": "code",
   "execution_count": null,
   "id": "5364fbbf",
   "metadata": {},
   "outputs": [],
   "source": []
  },
  {
   "cell_type": "code",
   "execution_count": null,
   "id": "6da5309b",
   "metadata": {},
   "outputs": [],
   "source": []
  }
 ],
 "metadata": {
  "kernelspec": {
   "display_name": "Python 3 (ipykernel)",
   "language": "python",
   "name": "python3"
  },
  "language_info": {
   "codemirror_mode": {
    "name": "ipython",
    "version": 3
   },
   "file_extension": ".py",
   "mimetype": "text/x-python",
   "name": "python",
   "nbconvert_exporter": "python",
   "pygments_lexer": "ipython3",
   "version": "3.9.12"
  }
 },
 "nbformat": 4,
 "nbformat_minor": 5
}
