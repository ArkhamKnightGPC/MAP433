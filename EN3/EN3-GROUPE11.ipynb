{
 "cells": [
  {
   "cell_type": "markdown",
   "id": "5e9dad03",
   "metadata": {},
   "source": [
    "# <font color='289C4E'>Exploration Numérique 3\n",
    "**Élèves**: Sadegh ABDERRAHIM & Gabriel PEREIRA DE CARVALHO & Otávio RIBAS"
   ]
  },
  {
   "cell_type": "markdown",
   "id": "be4bc38f",
   "metadata": {},
   "source": [
    "### <font color='289C4E'>Table des matières<font><a class='anchor' id='top'></a>\n",
    "- [Python setup](#setup)\n",
    "- [Exercice 1](#1)\n",
    "- [Exercice 2](#2)\n",
    "- [Exercice 3](#3)\n",
    "- [Exercice 4](#4)\n",
    "- [Exercice 5](#5)\n",
    "- [Exercice 6](#6)\n",
    "- [Exercice 7](#7)\n",
    "- [Exercice 8](#8)\n",
    "- [Exercice 9](#9)\n",
    "- [Exercice 10](#10)\n",
    "- [Exercice 11](#11)\n",
    "- [Exercice 12](#12)\n",
    "- [Exercice 13](#13)"
   ]
  },
  {
   "cell_type": "markdown",
   "id": "74198229",
   "metadata": {},
   "source": [
    "<h2 align=\"center\"> <font color='gray'>Python setup</font></h2> <a class=\"anchor\" id=\"setup\"></a>"
   ]
  },
  {
   "cell_type": "markdown",
   "id": "900b572f",
   "metadata": {},
   "source": [
    "<h2 align=\"center\"> <font color='blue'>Exercice 1</font></h2> <a class=\"anchor\" id=\"1\"></a>"
   ]
  },
  {
   "cell_type": "markdown",
   "id": "cbab6000",
   "metadata": {},
   "source": [
    "<h2 align=\"center\"> <font color='blue'>Exercice 2</font></h2> <a class=\"anchor\" id=\"2\"></a>"
   ]
  },
  {
   "cell_type": "markdown",
   "id": "060b0fc3",
   "metadata": {},
   "source": [
    "<h2 align=\"center\"> <font color='blue'>Exercice 3</font></h2> <a class=\"anchor\" id=\"3\"></a>"
   ]
  },
  {
   "cell_type": "markdown",
   "id": "93729096",
   "metadata": {},
   "source": [
    "<h2 align=\"center\"> <font color='blue'>Exercice 4</font></h2> <a class=\"anchor\" id=\"\"></a>"
   ]
  },
  {
   "cell_type": "markdown",
   "id": "bb3f9d66",
   "metadata": {},
   "source": [
    "<h2 align=\"center\"> <font color='blue'>Exercice 5</font></h2> <a class=\"anchor\" id=\"\"></a>"
   ]
  },
  {
   "cell_type": "markdown",
   "id": "dd2c6ae3",
   "metadata": {},
   "source": [
    "<h2 align=\"center\"> <font color='blue'>Exercice 6</font></h2> <a class=\"anchor\" id=\"\"></a>"
   ]
  },
  {
   "cell_type": "markdown",
   "id": "1e8689d6",
   "metadata": {},
   "source": [
    "<h2 align=\"center\"> <font color='blue'>Exercice 7</font></h2> <a class=\"anchor\" id=\"\"></a>"
   ]
  },
  {
   "cell_type": "markdown",
   "id": "a66cfd99",
   "metadata": {},
   "source": [
    "<h2 align=\"center\"> <font color='blue'>Exercice 8</font></h2> <a class=\"anchor\" id=\"\"></a>"
   ]
  },
  {
   "cell_type": "markdown",
   "id": "80f1ae6e",
   "metadata": {},
   "source": [
    "<h2 align=\"center\"> <font color='blue'>Exercice 9</font></h2> <a class=\"anchor\" id=\"\"></a>"
   ]
  },
  {
   "cell_type": "markdown",
   "id": "bff29160",
   "metadata": {},
   "source": [
    "<h2 align=\"center\"> <font color='blue'>Exercice 10</font></h2> <a class=\"anchor\" id=\"\"></a>"
   ]
  },
  {
   "cell_type": "markdown",
   "id": "e7783e0c",
   "metadata": {},
   "source": [
    "<h2 align=\"center\"> <font color='blue'>Exercice 11</font></h2> <a class=\"anchor\" id=\"\"></a>"
   ]
  },
  {
   "cell_type": "markdown",
   "id": "a79bc79b",
   "metadata": {},
   "source": [
    "<h2 align=\"center\"> <font color='blue'>Exercice 12</font></h2> <a class=\"anchor\" id=\"\"></a>"
   ]
  },
  {
   "cell_type": "markdown",
   "id": "aff573e6",
   "metadata": {},
   "source": [
    "<h2 align=\"center\"> <font color='blue'>Exercice 13</font></h2> <a class=\"anchor\" id=\"\"></a>"
   ]
  },
  {
   "cell_type": "markdown",
   "id": "b1ffa62e",
   "metadata": {},
   "source": []
  },
  {
   "cell_type": "markdown",
   "id": "3b2a48fe",
   "metadata": {},
   "source": []
  },
  {
   "cell_type": "markdown",
   "id": "7a583023",
   "metadata": {},
   "source": []
  },
  {
   "cell_type": "markdown",
   "id": "629154ec",
   "metadata": {},
   "source": []
  },
  {
   "cell_type": "markdown",
   "id": "b32c0432",
   "metadata": {},
   "source": []
  }
 ],
 "metadata": {
  "kernelspec": {
   "display_name": "Python 3 (ipykernel)",
   "language": "python",
   "name": "python3"
  },
  "language_info": {
   "codemirror_mode": {
    "name": "ipython",
    "version": 3
   },
   "file_extension": ".py",
   "mimetype": "text/x-python",
   "name": "python",
   "nbconvert_exporter": "python",
   "pygments_lexer": "ipython3",
   "version": "3.9.12"
  }
 },
 "nbformat": 4,
 "nbformat_minor": 5
}
