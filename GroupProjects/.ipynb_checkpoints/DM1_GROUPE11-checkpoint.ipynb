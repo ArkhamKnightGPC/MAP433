{
 "cells": [
  {
   "cell_type": "markdown",
   "id": "f02df44a",
   "metadata": {},
   "source": [
    "# <font color='289C4E'>Devoir Maison 1: Régression Linéaire Multiple\n",
    "**Élèves**: Sadegh ABDERRAHIM & Gabriel PEREIRA DE CARVALHO & Otávio RIBAS"
   ]
  },
  {
   "cell_type": "markdown",
   "id": "aa19ab25",
   "metadata": {},
   "source": [
    "### <font color='289C4E'>Table des matières<font><a class='anchor' id='top'></a>\n",
    "- [Estimation par moindres carrés du vecteur $\\beta$](#Partie1)\n",
    "    - [Exercice 1](#E1)\n",
    "    - [Exercice 2](#E2)\n",
    "    - [Exercice 3](#E3)\n",
    "    - [Exercice 4](#E4)\n",
    "    - [Exercice 5](#E5)\n",
    "    - [Exercice 6](#E6)\n",
    "    - [Exercice 7](#E7)\n",
    "    - [Exercice 8](#E8)\n",
    "- [Estimation de la variance $\\sigma^2$ et Coefficient de détermination](#Partie2)\n",
    "    - [Exercice 9](#E9)\n",
    "    - [Exercice 10](#E10)\n",
    "- [Cas de la régression linéaire gaussienne](#Partie3)\n",
    "    - [Exercice 11](#E11)\n",
    "    - [Exercice 12](#E12)\n",
    "    - [Exercice 13](#E13)\n",
    "    - [Exercice 14](#E14)\n",
    "- [Tests statistiques, cas régression linéaire gaussienne](#Partie4)\n",
    "    - [Exercice 15](#E15)\n",
    "    - [Exercice 16](#E16)\n",
    "    - [Exercice 17](#E17)\n",
    "    - [Exercice 18](#E18)\n",
    "    - [Exercice 19](#E19)\n",
    "    - [Exercice 20](#E20)\n",
    "- [Python Imports](#imports)\n",
    "- [Pratique](#Pratique)\n",
    "    - [Exercice 1](#P1)\n",
    "    - [Exercice 2](#P2)\n",
    "    - [Exercice 3](#P3)\n",
    "    - [Exercice 4](#P4)\n",
    "    - [Exercice 5](#P5)\n",
    "    - [Exercice 6](#P6)"
   ]
  },
  {
   "cell_type": "markdown",
   "id": "488491c7",
   "metadata": {},
   "source": [
    "<h1 align=\"center\"> <font color='green'>1.1 Estimation par moindres carrés du vecteur $\\beta$</font></h1> <a class=\"anchor\" id=\"Partie1\"></a>"
   ]
  },
  {
   "cell_type": "markdown",
   "id": "f0972007",
   "metadata": {},
   "source": [
    "<h2 align=\"center\"> <font color='blue'>Exercice 1</font></h2> <a class=\"anchor\" id=\"E1\"></a>"
   ]
  },
  {
   "cell_type": "markdown",
   "id": "a9f56e4b",
   "metadata": {},
   "source": [
    "On remarque que toute solution $\\hat{u} \\in \\argmin_{u \\in \\mathbb{R}^p} J_n(u)$ est une solution de l'équation $\\nabla J_n(u) = 0_{\\mathbb{R}^p}$.\n",
    "On obtient ainsi qu'elle solution du système d'équations linéaires\n",
    "$$\\begin{align}\n",
    "&\\frac{\\partial J_n(u)}{\\partial u_k} = 0 \\quad \\text{pour } k \\in \\{1,...,p\\} \\\\\n",
    "\\iff& \\sum_{i=1}^{n} Z_{i}^{k}\\left(Y_i - \\sum_{l=1}^{p} u_lZ_i^l \\right) = 0  \\quad \\forall k \\in \\{1,...,p\\} \\\\\n",
    "\\iff& \\sum_{i=1}^{n} Z_i^kY_i = \\sum_{i=1}^{n} \\left(\\sum_{l=1}^{p}u_lZ_i^l\\right)Z_i^k \\quad \\forall k \\in \\{1,...,p\\}.\n",
    "\\end{align}$$\n",
    "Donc, en notation matricielle, \n",
    "$$ Z^TY = Z^TZu $$\n",
    "et $\\hat{u}$ est solution de ce système."
   ]
  },
  {
   "cell_type": "markdown",
   "id": "70d025d2",
   "metadata": {},
   "source": [
    "<h2 align=\"center\"> <font color='blue'>Exercice 2</font></h2> <a class=\"anchor\" id=\"E2\"></a>"
   ]
  },
  {
   "cell_type": "markdown",
   "id": "eba0eea9",
   "metadata": {},
   "source": [
    "Premièrement, on a $ Z^\\#Z = (Z^TZ)^{-1}Z^TZ = I_p $. $\\\\$\n",
    "Alors soit $H \\in \\mathbb{R}^{p \\times n}$ le projecteur orthogonale sur l'espace vectoriel engrendré par les colonnes de la matrice $Z$.\n",
    "$\\forall x \\in \\mathbb{R}^n, \\exists c \\in \\mathbb{R}^p$ tel que $Hx = Zc$.\n",
    "On sait que $x$ et sa projection $Hx$ doivent vérifier la condition d'orthogonalité\n",
    "$$ \\langle (x-Hx), Z_i \\rangle = 0 \\quad \\text{pour toutes les colonnes $Z_i$ de $Z$, $i \\in \\{1,...,p\\}$.}$$\n",
    "Ceci peut se traduire par\n",
    "$$\\begin{align}\n",
    "&Z^T(x - Hx) = 0 \\\\\n",
    "\\iff& Z^T(x - Zc) = 0\\\\\n",
    "\\iff& Z^Tx = Z^TZc\\\\\n",
    "\\iff& (Z^TZ)^{-1}Z^Tx = c \\quad \\text{comme $Z^TZ$ est inversible.}\\\\\n",
    "\\end{align}$$\n",
    "Ainsi, on a $ Hx = Z(Z^TZ)^{-1}Z^Tx \\quad \\forall x \\in \\mathbb{R}^n $.\n",
    "\n",
    "Donc $$ H =  Z(Z^TZ)^{-1}Z^T $$ \n",
    "ce qui donne $ZZ^{\\#} = H$."
   ]
  },
  {
   "cell_type": "markdown",
   "id": "c8b4db0a",
   "metadata": {},
   "source": [
    "<h2 align=\"center\"> <font color='blue'>Exercice 3</font></h2> <a class=\"anchor\" id=\"E3\"></a>"
   ]
  },
  {
   "cell_type": "markdown",
   "id": "5da911c5",
   "metadata": {},
   "source": [
    "L'estimateur des moindres carrés $\\hat{\\beta}$ vérifie\n",
    "$$ Z^TZ\\hat{\\beta} = Z^TY \\implies \\hat{\\beta} = (Z^TZ)^{-1}Z^TY$$\n",
    "et donc l'estimateur est unique et a pour expression $\\hat{\\beta} = Z^{\\#}Y$."
   ]
  },
  {
   "cell_type": "markdown",
   "id": "22ffd59d",
   "metadata": {},
   "source": [
    "<h2 align=\"center\"> <font color='blue'>Exercice 4</font></h2> <a class=\"anchor\" id=\"E4\"></a>"
   ]
  },
  {
   "cell_type": "markdown",
   "id": "45cbed39",
   "metadata": {},
   "source": [
    "On veut calculer $\\mathbb{E}[\\hat{\\beta}]$.\n",
    "On a\n",
    "$$\\begin{align}\n",
    "\\hat{\\beta} = Z^{\\#}Y &= Z^{\\#}(Z\\beta + \\sigma \\epsilon(\\theta))\\\\\n",
    "&= Z^{\\#}Z\\beta + \\sigma Z^{\\#} \\epsilon(\\theta)\\\\\n",
    "&= \\beta + \\sigma Z^{\\#} \\epsilon(\\theta)\n",
    "\\end{align}$$\n",
    "ainsi\n",
    "$$\\begin{align}\n",
    "\\mathbb{E}[\\hat{\\beta}] &= \\beta + \\sigma Z^{\\#} \\mathbb{E}[\\epsilon(\\theta)] \\\\\n",
    "&= \\beta\n",
    "\\end{align}$$\n",
    "et donc l'estimateur des moindres carrés $\\hat{\\beta}$ est un estimateur sans biais de $\\beta$."
   ]
  },
  {
   "cell_type": "markdown",
   "id": "466e3c6a",
   "metadata": {},
   "source": [
    "<h2 align=\"center\"> <font color='blue'>Exercice 5</font></h2> <a class=\"anchor\" id=\"E5\"></a>"
   ]
  },
  {
   "cell_type": "markdown",
   "id": "c6178c7a",
   "metadata": {},
   "source": [
    "Soit $\\theta \\in \\Theta$. On a\n",
    "$$\\begin{align}\n",
    "\\mathrm{Var}_{\\theta}(\\hat{\\beta}) &= \\mathrm{Var}_{\\theta}(Z^\\#Y) \\\\\n",
    "&= Z^\\# \\mathrm{Var}_{\\theta}(Y) (Z^\\#)^T \\\\\n",
    "&= \\sigma^2 Z^\\#(Z^\\#)^T \\\\\n",
    "&= \\sigma^2 [(Z^TZ)^{-1}Z^T] \\cdot [Z ((Z^TZ)^{-1})^T] \\\\\n",
    "&= \\sigma^2 (Z^TZ)^{-1}(Z^TZ)^T ((Z^TZ)^{-1})^T \\\\\n",
    "&= \\sigma^2 (Z^TZ)^{-1}((Z^TZ)^{-1}Z^TZ)^T \\\\\n",
    "&= \\sigma^2 (Z^TZ)^{-1}\n",
    "\\end{align}$$\n",
    "donc on conclue $\\mathrm{Var}_{\\theta}(\\hat{\\beta}) = \\sigma^2 (Z^TZ)^{-1}$."
   ]
  },
  {
   "cell_type": "markdown",
   "id": "01692dcf",
   "metadata": {},
   "source": [
    "<h2 align=\"center\"> <font color='blue'>Exercice 6</font></h2> <a class=\"anchor\" id=\"E6\"></a>"
   ]
  },
  {
   "cell_type": "markdown",
   "id": "f93bf59f",
   "metadata": {},
   "source": [
    "Pour que l'estimateur soit sans biais, on veut $\\mathbb{E}[\\tilde{\\beta}] = \\beta$.\n",
    "\n",
    "Soit $\\theta \\in \\Theta$. On a\n",
    "\n",
    "$$\\begin{align}\n",
    "&\\mathbb{E}_{\\theta}[\\tilde{\\beta}] = \\beta \\\\\n",
    "\\iff &\\mathbb{E}_{\\theta}[BY] = \\beta \\\\\n",
    "\\iff &B\\mathbb{E}_{\\theta}[Y] = \\beta \\\\\n",
    "\\iff &BZ\\beta = \\beta \\\\\n",
    "\\iff &(BZ - I_p)\\beta = 0\n",
    "\\end{align}$$\n",
    "\n",
    "donc, l'estimateur $\\tilde{\\beta}$ est sans biais si, et seulement si, $BZ = I_p$.\n"
   ]
  },
  {
   "cell_type": "markdown",
   "id": "1bbcc372",
   "metadata": {},
   "source": [
    "<h2 align=\"center\"> <font color='blue'>Exercice 7</font></h2> <a class=\"anchor\" id=\"E7\"></a>"
   ]
  },
  {
   "cell_type": "markdown",
   "id": "f37a9279",
   "metadata": {},
   "source": [
    "On veut calculer la matrice de covariance $\\mathrm{Cov}_{\\theta}(\\tilde{\\beta},\\hat{\\beta})$.\n",
    "\n",
    "Soit $\\theta \\in \\Theta$. On remarque que \n",
    "$$\\begin{align}\n",
    "\\tilde{\\beta} - \\beta &= BY - \\beta \\\\\n",
    "&= B[Z\\beta + \\sigma\\epsilon(\\theta)] - \\beta\\\\\n",
    "&= BZ\\beta + \\sigma B \\epsilon(\\theta) - \\beta\\\\\n",
    "&= \\sigma B \\epsilon(\\theta).\n",
    "\\end{align}$$\n",
    "\n",
    "Alors,\n",
    "$$\\begin{align}\n",
    "\\mathbb{E}_{\\theta}[(\\tilde{\\beta} - \\beta)(\\hat{\\beta} - \\beta)^T] &= \\mathbb{E}_{\\theta}[\\sigma B \\epsilon(\\theta)(\\sigma Z^{\\#}\\epsilon(\\theta))^T] \\\\\n",
    "&= \\mathbb{E}_{\\theta}[\\sigma^2 B\\epsilon(\\theta)\\epsilon(\\theta)^T(Z^{\\#})^T] \\\\\n",
    "&= \\sigma^2 B \\mathbb{E}_{\\theta}[\\epsilon(\\theta)\\epsilon(\\theta)^T](Z^{\\#})^T \\\\\n",
    "&= \\sigma^2 B \\mathrm{Var}_{\\theta}(\\epsilon(\\theta))(Z^{\\#})^T \\\\\n",
    "&= \\sigma^2 B (Z^{\\#})^T \\\\\n",
    "&= \\sigma^2 B (Z^TZ)^{-1}\n",
    "\\end{align}$$\n",
    "donc on conclue $\\mathrm{Cov}_{\\theta}(\\tilde{\\beta},\\hat{\\beta}) = \\sigma^2 B (Z^TZ)^{-1}$.\n"
   ]
  },
  {
   "cell_type": "markdown",
   "id": "a8e6f188",
   "metadata": {},
   "source": [
    "<h2 align=\"center\"> <font color='blue'>Exercice 8</font></h2> <a class=\"anchor\" id=\"E8\"></a>"
   ]
  },
  {
   "cell_type": "markdown",
   "id": "741637fb",
   "metadata": {},
   "source": []
  },
  {
   "cell_type": "markdown",
   "id": "b65725a0",
   "metadata": {},
   "source": [
    "<h1 align=\"center\"> <font color='green'>1.2 Estimation de la variance $\\sigma^2$ et Coefficient de détermination</font></h1> <a class=\"anchor\" id=\"Partie2\"></a>"
   ]
  },
  {
   "cell_type": "markdown",
   "id": "7b3d6c1d",
   "metadata": {},
   "source": [
    "<h2 align=\"center\"> <font color='blue'>Exercice 9</font></h2> <a class=\"anchor\" id=\"E9\"></a>"
   ]
  },
  {
   "cell_type": "markdown",
   "id": "85ad9944",
   "metadata": {},
   "source": []
  },
  {
   "cell_type": "markdown",
   "id": "eb207c12",
   "metadata": {},
   "source": [
    "<h2 align=\"center\"> <font color='blue'>Exercice 10</font></h2> <a class=\"anchor\" id=\"E10\"></a>"
   ]
  },
  {
   "cell_type": "markdown",
   "id": "c4105a3a",
   "metadata": {},
   "source": []
  },
  {
   "cell_type": "markdown",
   "id": "c6af699d",
   "metadata": {},
   "source": [
    "<h1 align=\"center\"> <font color='green'>1.3 Cas de la régression linéaire gaussienne</font></h1> <a class=\"anchor\" id=\"Partie3\"></a>"
   ]
  },
  {
   "cell_type": "markdown",
   "id": "61231c5f",
   "metadata": {},
   "source": [
    "<h2 align=\"center\"> <font color='blue'>Exercice 11</font></h2> <a class=\"anchor\" id=\"E11\"></a>"
   ]
  },
  {
   "cell_type": "markdown",
   "id": "d73601e9",
   "metadata": {},
   "source": []
  },
  {
   "cell_type": "markdown",
   "id": "5cb8e296",
   "metadata": {},
   "source": [
    "<h2 align=\"center\"> <font color='blue'>Exercice 12</font></h2> <a class=\"anchor\" id=\"E12\"></a>"
   ]
  },
  {
   "cell_type": "markdown",
   "id": "568069af",
   "metadata": {},
   "source": []
  },
  {
   "cell_type": "markdown",
   "id": "2a0096db",
   "metadata": {},
   "source": [
    "<h2 align=\"center\"> <font color='blue'>Exercice 13</font></h2> <a class=\"anchor\" id=\"E13\"></a>"
   ]
  },
  {
   "cell_type": "markdown",
   "id": "f64120cd",
   "metadata": {},
   "source": []
  },
  {
   "cell_type": "markdown",
   "id": "fcafad6c",
   "metadata": {},
   "source": [
    "<h2 align=\"center\"> <font color='blue'>Exercice 14</font></h2> <a class=\"anchor\" id=\"E14\"></a>"
   ]
  },
  {
   "cell_type": "markdown",
   "id": "1d575423",
   "metadata": {},
   "source": []
  },
  {
   "cell_type": "markdown",
   "id": "79c26544",
   "metadata": {},
   "source": [
    "<h1 align=\"center\"> <font color='green'>1.4 Tests statistiques, cas régression linéaire gaussienne</font></h1> <a class=\"anchor\" id=\"Partie4\"></a>"
   ]
  },
  {
   "cell_type": "markdown",
   "id": "4f96386f",
   "metadata": {},
   "source": [
    "<h2 align=\"center\"> <font color='blue'>Exercice 15</font></h2> <a class=\"anchor\" id=\"E15\"></a>"
   ]
  },
  {
   "cell_type": "markdown",
   "id": "05463281",
   "metadata": {},
   "source": []
  },
  {
   "cell_type": "markdown",
   "id": "906a8404",
   "metadata": {},
   "source": [
    "<h2 align=\"center\"> <font color='blue'>Exercice 16</font></h2> <a class=\"anchor\" id=\"E16\"></a>"
   ]
  },
  {
   "cell_type": "markdown",
   "id": "fdf42b13",
   "metadata": {},
   "source": []
  },
  {
   "cell_type": "markdown",
   "id": "f0c7b54b",
   "metadata": {},
   "source": [
    "<h2 align=\"center\"> <font color='blue'>Exercice 17</font></h2> <a class=\"anchor\" id=\"E17\"></a>"
   ]
  },
  {
   "cell_type": "markdown",
   "id": "769a6f86",
   "metadata": {},
   "source": []
  },
  {
   "cell_type": "markdown",
   "id": "d421f368",
   "metadata": {},
   "source": [
    "<h2 align=\"center\"> <font color='blue'>Exercice 18</font></h2> <a class=\"anchor\" id=\"E18\"></a>"
   ]
  },
  {
   "cell_type": "markdown",
   "id": "f0170666",
   "metadata": {},
   "source": []
  },
  {
   "cell_type": "markdown",
   "id": "f430325d",
   "metadata": {},
   "source": [
    "<h2 align=\"center\"> <font color='blue'>Exercice 19</font></h2> <a class=\"anchor\" id=\"E19\"></a>"
   ]
  },
  {
   "cell_type": "markdown",
   "id": "67db2e6f",
   "metadata": {},
   "source": []
  },
  {
   "cell_type": "markdown",
   "id": "79c0dff2",
   "metadata": {},
   "source": [
    "<h2 align=\"center\"> <font color='blue'>Exercice 20</font></h2> <a class=\"anchor\" id=\"E20\"></a>"
   ]
  },
  {
   "cell_type": "markdown",
   "id": "b92259b9",
   "metadata": {},
   "source": []
  },
  {
   "cell_type": "markdown",
   "id": "4999a8a4",
   "metadata": {},
   "source": [
    "<h2 align=\"center\"> <font color='gray'>Python Imports</font></h2> <a class=\"anchor\" id=\"imports\"></a>"
   ]
  },
  {
   "cell_type": "markdown",
   "id": "ab6af1f7",
   "metadata": {},
   "source": [
    "Dans cette section, on va importer tous les paquets qu'on ira utiliser."
   ]
  },
  {
   "cell_type": "code",
   "execution_count": 1,
   "id": "e01181af",
   "metadata": {},
   "outputs": [],
   "source": [
    "import math\n",
    "import numpy as np\n",
    "import matplotlib.pyplot as plt\n",
    "import numpy.random as npr\n",
    "import scipy.stats as sps"
   ]
  },
  {
   "cell_type": "markdown",
   "id": "29cee156",
   "metadata": {},
   "source": [
    "<h1 align=\"center\"> <font color='green'>2. Pratique</font></h1> <a class=\"anchor\" id=\"Pratique\"></a>"
   ]
  },
  {
   "cell_type": "markdown",
   "id": "6c77a8f4",
   "metadata": {},
   "source": [
    "<h2 align=\"center\"> <font color='blue'>Exercice 1</font></h2> <a class=\"anchor\" id=\"P1\"></a>"
   ]
  },
  {
   "cell_type": "code",
   "execution_count": null,
   "id": "e7075cee",
   "metadata": {},
   "outputs": [],
   "source": []
  },
  {
   "cell_type": "markdown",
   "id": "e3a7f898",
   "metadata": {},
   "source": [
    "<h2 align=\"center\"> <font color='blue'>Exercice 2</font></h2> <a class=\"anchor\" id=\"P2\"></a>"
   ]
  },
  {
   "cell_type": "code",
   "execution_count": null,
   "id": "178e61fd",
   "metadata": {},
   "outputs": [],
   "source": []
  },
  {
   "cell_type": "markdown",
   "id": "3053c442",
   "metadata": {},
   "source": [
    "<h2 align=\"center\"> <font color='blue'>Exercice 3</font></h2> <a class=\"anchor\" id=\"P3\"></a>"
   ]
  },
  {
   "cell_type": "code",
   "execution_count": null,
   "id": "82488df0",
   "metadata": {},
   "outputs": [],
   "source": []
  },
  {
   "cell_type": "markdown",
   "id": "b3fd4328",
   "metadata": {},
   "source": [
    "<h2 align=\"center\"> <font color='blue'>Exercice 4</font></h2> <a class=\"anchor\" id=\"P4\"></a>"
   ]
  },
  {
   "cell_type": "code",
   "execution_count": null,
   "id": "4d3b7b30",
   "metadata": {},
   "outputs": [],
   "source": []
  },
  {
   "cell_type": "markdown",
   "id": "21cea6d7",
   "metadata": {},
   "source": [
    "<h2 align=\"center\"> <font color='blue'>Exercice 5</font></h2> <a class=\"anchor\" id=\"P5\"></a>"
   ]
  },
  {
   "cell_type": "code",
   "execution_count": null,
   "id": "36018623",
   "metadata": {},
   "outputs": [],
   "source": []
  },
  {
   "cell_type": "markdown",
   "id": "3718d8d8",
   "metadata": {},
   "source": [
    "<h2 align=\"center\"> <font color='blue'>Exercice 6</font></h2> <a class=\"anchor\" id=\"P6\"></a>"
   ]
  },
  {
   "cell_type": "code",
   "execution_count": null,
   "id": "ea270fec",
   "metadata": {},
   "outputs": [],
   "source": []
  }
 ],
 "metadata": {
  "kernelspec": {
   "display_name": "Python 3 (ipykernel)",
   "language": "python",
   "name": "python3"
  },
  "language_info": {
   "codemirror_mode": {
    "name": "ipython",
    "version": 3
   },
   "file_extension": ".py",
   "mimetype": "text/x-python",
   "name": "python",
   "nbconvert_exporter": "python",
   "pygments_lexer": "ipython3",
   "version": "3.9.12"
  }
 },
 "nbformat": 4,
 "nbformat_minor": 5
}
