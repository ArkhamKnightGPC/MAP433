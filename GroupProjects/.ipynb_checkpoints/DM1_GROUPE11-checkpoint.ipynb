{
 "cells": [
  {
   "cell_type": "markdown",
   "id": "3cb3fc61",
   "metadata": {},
   "source": [
    "# <font color='289C4E'>Devoir Maison 1\n",
    "**Élèves**: Sadegh ABDERRAHIM & Gabriel PEREIRA DE CARVALHO & Otávio RIBAS"
   ]
  },
  {
   "cell_type": "markdown",
   "id": "6f719950",
   "metadata": {},
   "source": [
    "### <font color='289C4E'>Table des matières<font><a class='anchor' id='top'></a>\n",
    "- [Python Imports](#imports)\n",
    "- [Estimation par moindres carrés du vecteur $\\beta$](#Partie1)\n",
    "    - [Exercice 1](#E1)\n",
    "    - [Exercice 2](#E2)\n",
    "    - [Exercice 3](#E3)\n",
    "    - [Exercice 4](#E4)\n",
    "    - [Exercice 5](#E5)\n",
    "    - [Exercice 6](#E6)\n",
    "    - [Exercice 7](#E7)\n",
    "    - [Exercice 8](#E8)\n",
    "- [Estimation de la variance $\\sigma^2$ et Coefficient de détermination](#Partie2)\n",
    "    - [Exercice 9](#E9)\n",
    "    - [Exercice 10](#E10)\n",
    "- [Cas de la régression linéaire gaussienne](#Partie3)\n",
    "    - [Exercice 11](#E11)\n",
    "    - [Exercice 12](#E12)\n",
    "    - [Exercice 13](#E13)\n",
    "    - [Exercice 14](#E14)\n",
    "- [Tests statistiques, cas régression linéaire gaussienne](#Partie4)\n",
    "    - [Exercice 15](#E15)\n",
    "    - [Exercice 16](#E16)\n",
    "    - [Exercice 17](#E17)\n",
    "    - [Exercice 18](#E18)\n",
    "    - [Exercice 19](#E19)\n",
    "    - [Exercice 20](#E20)\n",
    "- [Pratique](#Pratique)\n",
    "    - [Exercice 1](#P1)\n",
    "    - [Exercice 2](#P2)\n",
    "    - [Exercice 3](#P3)\n",
    "    - [Exercice 4](#P4)\n",
    "    - [Exercice 5](#P5)\n",
    "    - [Exercice 6](#P6)"
   ]
  },
  {
   "cell_type": "code",
   "execution_count": null,
   "id": "5103314c",
   "metadata": {},
   "outputs": [],
   "source": []
  }
 ],
 "metadata": {
  "kernelspec": {
   "display_name": "Python 3 (ipykernel)",
   "language": "python",
   "name": "python3"
  },
  "language_info": {
   "codemirror_mode": {
    "name": "ipython",
    "version": 3
   },
   "file_extension": ".py",
   "mimetype": "text/x-python",
   "name": "python",
   "nbconvert_exporter": "python",
   "pygments_lexer": "ipython3",
   "version": "3.9.12"
  }
 },
 "nbformat": 4,
 "nbformat_minor": 5
}
