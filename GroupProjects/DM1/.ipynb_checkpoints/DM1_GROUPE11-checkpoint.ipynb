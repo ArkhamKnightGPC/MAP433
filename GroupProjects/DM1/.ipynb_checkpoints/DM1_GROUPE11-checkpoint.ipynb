{
 "cells": [
  {
   "cell_type": "markdown",
   "id": "12b00573",
   "metadata": {},
   "source": [
    "# <font color='289C4E'>Devoir Maison 1: Régression Linéaire Multiple\n",
    "**Élèves**: Sadegh ABDERRAHIM & Gabriel PEREIRA DE CARVALHO & Otávio RIBAS"
   ]
  },
  {
   "cell_type": "markdown",
   "id": "a7377065",
   "metadata": {},
   "source": [
    "### <font color='289C4E'>Table des matières<font><a class='anchor' id='top'></a>\n",
    "- [Estimation par moindres carrés du vecteur $\\beta$](#Partie1)\n",
    "    - [Exercice 1](#E1)\n",
    "    - [Exercice 2](#E2)\n",
    "    - [Exercice 3](#E3)\n",
    "    - [Exercice 4](#E4)\n",
    "    - [Exercice 5](#E5)\n",
    "    - [Exercice 6](#E6)\n",
    "    - [Exercice 7](#E7)\n",
    "    - [Exercice 8](#E8)\n",
    "- [Estimation de la variance $\\sigma^2$ et Coefficient de détermination](#Partie2)\n",
    "    - [Exercice 9](#E9)\n",
    "    - [Exercice 10](#E10)\n",
    "- [Cas de la régression linéaire gaussienne](#Partie3)\n",
    "    - [Exercice 11](#E11)\n",
    "    - [Exercice 12](#E12)\n",
    "    - [Exercice 13](#E13)\n",
    "    - [Exercice 14](#E14)\n",
    "- [Tests statistiques, cas régression linéaire gaussienne](#Partie4)\n",
    "    - [Exercice 15](#E15)\n",
    "    - [Exercice 16](#E16)\n",
    "    - [Exercice 17](#E17)\n",
    "    - [Exercice 18](#E18)\n",
    "    - [Exercice 19](#E19)\n",
    "    - [Exercice 20](#E20)\n",
    "- [Python Imports](#imports)\n",
    "- [Pratique](#Pratique)\n",
    "    - [Exercice 1](#P1)\n",
    "    - [Exercice 2](#P2)\n",
    "    - [Exercice 3](#P3)\n",
    "    - [Exercice 4](#P4)\n",
    "    - [Exercice 5](#P5)\n",
    "    - [Exercice 6](#P6)"
   ]
  },
  {
   "cell_type": "markdown",
   "id": "c9849967",
   "metadata": {},
   "source": [
    "<h1 align=\"center\"> <font color='green'>1.1 Estimation par moindres carrés du vecteur $\\beta$</font></h1> <a class=\"anchor\" id=\"Partie1\"></a>"
   ]
  },
  {
   "cell_type": "markdown",
   "id": "e1c9c95b",
   "metadata": {},
   "source": [
    "<h2 align=\"center\"> <font color='blue'>Exercice 1</font></h2> <a class=\"anchor\" id=\"E1\"></a>"
   ]
  },
  {
   "cell_type": "markdown",
   "id": "1487691b",
   "metadata": {},
   "source": [
    "On remarque que toute solution $\\hat{u} \\in \\mathrm{argmin}_{u \\in \\mathbb{R}^p} J_n(u)$ est une solution de l'équation $\\nabla J_n(u) = 0_{\\mathbb{R}^p}$.\n",
    "On obtient ainsi qu'elle solution du système d'équations linéaires\n",
    "$$\\begin{align}\n",
    "&\\frac{\\partial J_n(u)}{\\partial u_k} = 0 \\quad \\text{pour } k \\in \\{1,...,p\\} \\\\\n",
    "\\iff& \\sum_{i=1}^{n} Z_{i}^{k}\\left(Y_i - \\sum_{l=1}^{p} u_lZ_i^l \\right) = 0  \\quad \\forall k \\in \\{1,...,p\\} \\\\\n",
    "\\iff& \\sum_{i=1}^{n} Z_i^kY_i = \\sum_{i=1}^{n} \\left(\\sum_{l=1}^{p}u_lZ_i^l\\right)Z_i^k \\quad \\forall k \\in \\{1,...,p\\}.\n",
    "\\end{align}$$\n",
    "Donc, en notation matricielle, \n",
    "$$ Z^TY = Z^TZu $$\n",
    "et $\\hat{u}$ est solution de ce système."
   ]
  },
  {
   "cell_type": "markdown",
   "id": "0648a4c5",
   "metadata": {},
   "source": [
    "<h2 align=\"center\"> <font color='blue'>Exercice 2</font></h2> <a class=\"anchor\" id=\"E2\"></a>"
   ]
  },
  {
   "cell_type": "markdown",
   "id": "84c230be",
   "metadata": {},
   "source": [
    "Premièrement, on a $ Z^\\#Z = (Z^TZ)^{-1}Z^TZ = I_p $. $\\\\$\n",
    "Alors soit $H \\in \\mathbb{R}^{p \\times n}$ le projecteur orthogonale sur l'espace vectoriel engrendré par les colonnes de la matrice $Z$.\n",
    "$\\forall x \\in \\mathbb{R}^n, \\exists c \\in \\mathbb{R}^p$ tel que $Hx = Zc$.\n",
    "On sait que $x$ et sa projection $Hx$ doivent vérifier la condition d'orthogonalité\n",
    "$$ \\langle (x-Hx), Z_i \\rangle = 0 \\quad \\text{pour toutes les colonnes $Z_i$ de $Z$, $i \\in \\{1,...,p\\}$.}$$\n",
    "Ceci peut se traduire par\n",
    "$$\\begin{align}\n",
    "&Z^T(x - Hx) = 0 \\\\\n",
    "\\iff& Z^T(x - Zc) = 0\\\\\n",
    "\\iff& Z^Tx = Z^TZc\\\\\n",
    "\\iff& (Z^TZ)^{-1}Z^Tx = c \\quad \\text{comme $Z^TZ$ est inversible.}\\\\\n",
    "\\end{align}$$\n",
    "Ainsi, on a $ Hx = Z(Z^TZ)^{-1}Z^Tx \\quad \\forall x \\in \\mathbb{R}^n $.\n",
    "\n",
    "Donc $$ H =  Z(Z^TZ)^{-1}Z^T $$ \n",
    "ce qui donne $ZZ^{\\#} = H$."
   ]
  },
  {
   "cell_type": "markdown",
   "id": "f04929d1",
   "metadata": {},
   "source": [
    "<h2 align=\"center\"> <font color='blue'>Exercice 3</font></h2> <a class=\"anchor\" id=\"E3\"></a>"
   ]
  },
  {
   "cell_type": "markdown",
   "id": "e072dae6",
   "metadata": {},
   "source": [
    "L'estimateur des moindres carrés $\\hat{\\beta}$ vérifie\n",
    "$$ Z^TZ\\hat{\\beta} = Z^TY \\implies \\hat{\\beta} = (Z^TZ)^{-1}Z^TY$$\n",
    "et donc l'estimateur est unique et a pour expression $\\hat{\\beta} = Z^{\\#}Y$."
   ]
  },
  {
   "cell_type": "markdown",
   "id": "7101b3fb",
   "metadata": {},
   "source": [
    "<h2 align=\"center\"> <font color='blue'>Exercice 4</font></h2> <a class=\"anchor\" id=\"E4\"></a>"
   ]
  },
  {
   "cell_type": "markdown",
   "id": "2b31d57d",
   "metadata": {},
   "source": [
    "On veut calculer $\\mathbb{E}[\\hat{\\beta}]$.\n",
    "On a\n",
    "$$\\begin{align}\n",
    "\\hat{\\beta} = Z^{\\#}Y &= Z^{\\#}(Z\\beta + \\sigma \\epsilon(\\theta))\\\\\n",
    "&= Z^{\\#}Z\\beta + \\sigma Z^{\\#} \\epsilon(\\theta)\\\\\n",
    "&= \\beta + \\sigma Z^{\\#} \\epsilon(\\theta)\n",
    "\\end{align}$$\n",
    "ainsi\n",
    "$$\\begin{align}\n",
    "\\mathbb{E}[\\hat{\\beta}] &= \\beta + \\sigma Z^{\\#} \\mathbb{E}[\\epsilon(\\theta)] \\\\\n",
    "&= \\beta\n",
    "\\end{align}$$\n",
    "et donc l'estimateur des moindres carrés $\\hat{\\beta}$ est un estimateur sans biais de $\\beta$."
   ]
  },
  {
   "cell_type": "markdown",
   "id": "d12fc420",
   "metadata": {},
   "source": [
    "<h2 align=\"center\"> <font color='blue'>Exercice 5</font></h2> <a class=\"anchor\" id=\"E5\"></a>"
   ]
  },
  {
   "cell_type": "markdown",
   "id": "486db670",
   "metadata": {},
   "source": [
    "Soit $\\theta \\in \\Theta$. On a\n",
    "$$\\begin{align}\n",
    "\\mathrm{Var}_{\\theta}(\\hat{\\beta}) &= \\mathrm{Var}_{\\theta}(Z^\\#Y) \\\\\n",
    "&= Z^\\# \\mathrm{Var}_{\\theta}(Y) (Z^\\#)^T \\\\\n",
    "&= \\sigma^2 Z^\\#(Z^\\#)^T \\\\\n",
    "&= \\sigma^2 [(Z^TZ)^{-1}Z^T] \\cdot [Z ((Z^TZ)^{-1})^T] \\\\\n",
    "&= \\sigma^2 (Z^TZ)^{-1}(Z^TZ)^T ((Z^TZ)^{-1})^T \\\\\n",
    "&= \\sigma^2 (Z^TZ)^{-1}((Z^TZ)^{-1}Z^TZ)^T \\\\\n",
    "&= \\sigma^2 (Z^TZ)^{-1}\n",
    "\\end{align}$$\n",
    "donc on conclue $\\mathrm{Var}_{\\theta}(\\hat{\\beta}) = \\sigma^2 (Z^TZ)^{-1}$."
   ]
  },
  {
   "cell_type": "markdown",
   "id": "bdeb0233",
   "metadata": {},
   "source": [
    "<h2 align=\"center\"> <font color='blue'>Exercice 6</font></h2> <a class=\"anchor\" id=\"E6\"></a>"
   ]
  },
  {
   "cell_type": "markdown",
   "id": "50c9ab4a",
   "metadata": {},
   "source": [
    "Pour que l'estimateur soit sans biais, on veut $\\mathbb{E}[\\tilde{\\beta}] = \\beta$.\n",
    "\n",
    "Soit $\\theta \\in \\Theta$. On a\n",
    "\n",
    "$$\\begin{align}\n",
    "&\\mathbb{E}_{\\theta}[\\tilde{\\beta}] = \\beta \\\\\n",
    "\\iff &\\mathbb{E}_{\\theta}[BY] = \\beta \\\\\n",
    "\\iff &B\\mathbb{E}_{\\theta}[Y] = \\beta \\\\\n",
    "\\iff &BZ\\beta = \\beta \\\\\n",
    "\\iff &(BZ - I_p)\\beta = 0\n",
    "\\end{align}$$\n",
    "\n",
    "donc, l'estimateur $\\tilde{\\beta}$ est sans biais si, et seulement si, $BZ = I_p$.\n"
   ]
  },
  {
   "cell_type": "markdown",
   "id": "2a3b57ab",
   "metadata": {},
   "source": [
    "<h2 align=\"center\"> <font color='blue'>Exercice 7</font></h2> <a class=\"anchor\" id=\"E7\"></a>"
   ]
  },
  {
   "cell_type": "markdown",
   "id": "e5cac73a",
   "metadata": {},
   "source": [
    "On veut calculer la matrice de covariance $\\mathrm{Cov}_{\\theta}(\\tilde{\\beta},\\hat{\\beta})$.\n",
    "\n",
    "Soit $\\theta \\in \\Theta$. On remarque que \n",
    "$$\\begin{align}\n",
    "\\tilde{\\beta} - \\beta &= BY - \\beta \\\\\n",
    "&= B[Z\\beta + \\sigma\\epsilon(\\theta)] - \\beta\\\\\n",
    "&= BZ\\beta + \\sigma B \\epsilon(\\theta) - \\beta\\\\\n",
    "&= \\sigma B \\epsilon(\\theta).\n",
    "\\end{align}$$\n",
    "\n",
    "Alors,\n",
    "$$\\begin{align}\n",
    "\\mathbb{E}_{\\theta}[(\\tilde{\\beta} - \\beta)(\\hat{\\beta} - \\beta)^T] &= \\mathbb{E}_{\\theta}[\\sigma B \\epsilon(\\theta)(\\sigma Z^{\\#}\\epsilon(\\theta))^T] \\\\\n",
    "&= \\mathbb{E}_{\\theta}[\\sigma^2 B\\epsilon(\\theta)\\epsilon(\\theta)^T(Z^{\\#})^T] \\\\\n",
    "&= \\sigma^2 B \\mathbb{E}_{\\theta}[\\epsilon(\\theta)\\epsilon(\\theta)^T](Z^{\\#})^T \\\\\n",
    "&= \\sigma^2 B \\mathrm{Var}_{\\theta}(\\epsilon(\\theta))(Z^{\\#})^T \\\\\n",
    "&= \\sigma^2 B (Z^{\\#})^T \\\\\n",
    "&= \\sigma^2 B (Z^TZ)^{-1}\n",
    "\\end{align}$$\n",
    "donc on conclue $\\mathrm{Cov}_{\\theta}(\\tilde{\\beta},\\hat{\\beta}) = \\sigma^2 B (Z^TZ)^{-1}$.\n"
   ]
  },
  {
   "cell_type": "markdown",
   "id": "ddf779db",
   "metadata": {},
   "source": [
    "<h2 align=\"center\"> <font color='blue'>Exercice 8</font></h2> <a class=\"anchor\" id=\"E8\"></a>"
   ]
  },
  {
   "cell_type": "markdown",
   "id": "9f12630d",
   "metadata": {},
   "source": [
    "Soit $\\theta \\in \\Theta$ et $x \\in \\mathbb{R}^p$.\n",
    "\n",
    "D'après l'exercice 7, on a $\\mathrm{Var}_{\\theta}(\\hat{\\beta}) = \\mathrm{Cov}_{\\theta}(\\hat{\\beta}, \\tilde{\\beta})$.\n",
    "\n",
    "Ainsi,\n",
    "$$ x^T \\mathrm{Var}_{\\theta}(\\tilde{\\beta})x = \\sum_{i=1}^{p} \\left(x_i \\sum_{j=1}^{p} x_j \\mathrm{Cov}(\\hat{\\beta}_i, \\tilde{\\beta}_j) \\right). $$\n",
    "\n",
    "Ainsi,\n",
    "$$ x^T \\mathrm{Var}_{\\theta}(\\hat{\\beta})x - x^T \\mathrm{Var}_{\\theta}(\\tilde{\\beta})x = \\sum_{i=1}^{p} \\left(x_i \\sum_{j=1}^{p} x_j[\\mathrm{Cov}(\\hat{\\beta}_i, \\tilde{\\beta}_j) - \\mathrm{Cov}(\\tilde{\\beta}_i, \\hat{\\beta}_j)] \\right).$$\n",
    "\n",
    "En utilisant Cauchy-Schwarz\n",
    "$$ |\\mathbb{E}_{\\theta}[(\\tilde{\\beta} - \\beta)(\\hat{\\beta} - \\beta)^T]|^2 = |\\mathrm{Cov}_{\\theta}(\\hat{\\beta} - \\tilde{\\beta})|^2 \\leq \\mathrm{Var}_{\\theta}(\\hat{\\beta})\\mathrm{Var}_{\\theta}(\\tilde{\\beta}) $$\n",
    "et du faite que $\\mathrm{Cov}_{\\theta}(\\hat{\\beta}, \\tilde{\\beta}) = \\mathrm{Var}_{\\theta}(\\hat{\\beta})$ on obtient que $x^T \\mathrm{Var}_{\\theta}(\\hat{\\beta})x - x^T \\mathrm{Var}_{\\theta}(\\tilde{\\beta})x \\leq 0$.\n",
    "\n",
    "Donc, on conclue\n",
    "$$ \\mathrm{Var}_{\\theta}(\\tilde{\\beta}) \\geq \\mathrm{Var}_{\\theta}(\\hat{\\beta}).$$\n"
   ]
  },
  {
   "cell_type": "markdown",
   "id": "1a29e9d0",
   "metadata": {},
   "source": [
    "<h1 align=\"center\"> <font color='green'>1.2 Estimation de la variance $\\sigma^2$ et Coefficient de détermination</font></h1> <a class=\"anchor\" id=\"Partie2\"></a>"
   ]
  },
  {
   "cell_type": "markdown",
   "id": "e3561a0a",
   "metadata": {},
   "source": [
    "<h2 align=\"center\"> <font color='blue'>Exercice 9</font></h2> <a class=\"anchor\" id=\"E9\"></a>"
   ]
  },
  {
   "cell_type": "markdown",
   "id": "381c193c",
   "metadata": {},
   "source": [
    "On pose\n",
    "$$\\begin{align}\n",
    "\\hat{\\epsilon} &= Y - \\hat{Y} \\\\\n",
    "&= Y - Z\\hat{\\beta}\\\\\n",
    "&= Y - Z(Z^T Z)^{-1} Z^T Y \\\\\n",
    "&= Y - ZZ^{\\#}Y \\\\\n",
    "&= Y - HY \\\\\n",
    "&= (I_n - H)Y.\n",
    "\\end{align}$$\n",
    "\n",
    "En nous servant du modèle linéaire $Y = Z \\beta + \\sigma \\epsilon(\\theta)$ on a donc \n",
    "$$\\begin{align}\n",
    "\\hat{\\epsilon} &= (I_n - H)(Z\\beta + \\sigma \\epsilon(\\theta))\\\\\n",
    "&=\\sigma(I_n - H)\\epsilon(\\theta) + (Z - HZ)\\beta \\quad \\text{où $HZ = Z(Z^{\\#}Z) = Z$}\\\\\n",
    "&=\\sigma(I_n - H)\\epsilon(\\theta).\n",
    "\\end{align}$$\n",
    "\n",
    "Ainsi\n",
    "$$\\begin{align}\n",
    "\\begin{cases}\n",
    "\\mathbb{E}_{\\theta}[\\hat{\\epsilon}]& = \\sigma(I_n - H)\\mathbb{E}_{\\theta}[\\epsilon(\\theta)] = 0\\\\ \\\\\n",
    "\\mathrm{Var}_{\\theta}(\\hat{\\epsilon})& = \\sigma^2(I_n - H) \\mathrm{Var}_{\\theta}(\\epsilon(\\theta))(I_n - H)^T = \\sigma^2(I_n - H) (I_n - H)^T = \\sigma^2(I_n - H).\n",
    "\\end{cases}\n",
    "\\end{align}$$\n",
    "\n",
    "\n",
    "D'où un estimateur naturelle et sans biais de la variance résiduelle est donnée par\n",
    "$$\\frac{1}{n}\\sum_{i=1}^n \\hat{\\epsilon}_i^2 = \\frac{1}{n} ||\\hat{\\epsilon}||^2$$\n",
    "or comme $||\\hat{\\epsilon}||^2$ est un scalaire, nous écrivons que cet scalaire est égale à sa trace, puis en nous servant de la propriété de la trace, nous obtenons\n",
    "$$\\begin{align}\n",
    "\\mathbb{E}[||\\hat{\\epsilon}||^2] &= \\mathbb{E}[\\mathrm{Tr}(\\hat{\\epsilon}\\hat{\\epsilon}^T)] \\\\\n",
    "&= \\mathrm{Tr}(\\mathbb{E}[\\hat{\\epsilon}\\hat{\\epsilon}^T]) \\\\\n",
    "&= \\mathrm{Tr}(\\sigma^2 (I_n - H)) \\\\\n",
    "&= \\sigma^2 \\mathrm{Tr}(I_n - H) \\\\\n",
    "&= \\sigma^2 (n-p)\n",
    "\\end{align}$$\n",
    "et donc $\\hat{\\sigma}^2 = \\frac{||\\hat{\\epsilon}||^2}{n-p} = (n-p)^{-1} SSE = \\frac{1}{n-p} ||Y - Z \\hat{\\beta}||^2$ est un estimateur sans biais de la variance $\\sigma^2$."
   ]
  },
  {
   "cell_type": "markdown",
   "id": "d64f35e7",
   "metadata": {},
   "source": [
    "<h2 align=\"center\"> <font color='blue'>Exercice 10</font></h2> <a class=\"anchor\" id=\"E10\"></a>"
   ]
  },
  {
   "cell_type": "markdown",
   "id": "b283f6cb",
   "metadata": {},
   "source": [
    "On a $ ||Y||^2 = || HY + (I_n - H)Y ||^2$.\n",
    "\n",
    "Or $H$ est un projecteur orthogonal alors $\\langle HY, (I_n - H)Y \\rangle = 0$ et donc \n",
    "$$ ||Y||^2 = ||HY||^2 + || (I_n - H)Y ||^2 = \\mathrm{RSS} + \\mathrm{SSE} $$"
   ]
  },
  {
   "cell_type": "markdown",
   "id": "2a686a93",
   "metadata": {},
   "source": [
    "<h1 align=\"center\"> <font color='green'>1.3 Cas de la régression linéaire gaussienne</font></h1> <a class=\"anchor\" id=\"Partie3\"></a>"
   ]
  },
  {
   "cell_type": "markdown",
   "id": "a6bab012",
   "metadata": {},
   "source": [
    "<h2 align=\"center\"> <font color='blue'>Exercice 11</font></h2> <a class=\"anchor\" id=\"E11\"></a>"
   ]
  },
  {
   "cell_type": "markdown",
   "id": "0a224d6b",
   "metadata": {},
   "source": [
    "Une fois que les $\\{Y_i\\}$ sont i.i.d la vraisemblance est donnée par\n",
    "$$ L(\\theta) = \\frac{1}{(2\\pi \\sigma^2)^{\\frac{n}{2}}}\\prod_{k=1}^{n} e^{-\\frac{1}{2\\sigma^2}[Y_i - Z_i^T \\beta]^2} = \\frac{1}{(2\\pi \\sigma^2)^{\\frac{n}{2}}} e^{-\\frac{1}{2\\sigma^2}||Y - Z\\beta||^2} $$\n",
    "alors maximiser la vraisemblance est équivalent à maximiser son logarithme\n",
    "$$\\ln(L(\\theta)) = -\\frac{n}{2}\\ln(2\\pi\\sigma^2) - \\frac{1}{2\\sigma^2}||Y - Z\\beta||^2.$$\n",
    "On remarque que maximiser cette function pour $\\sigma$ fixé révient à minimiser $||Y - Z\\beta||^2$. On sait que $||Y - Z\\beta||^2$ est minimisé pour $\\beta = \\hat{\\beta}$ l'estimateur des moindres carrés donné par $\\hat{\\beta} = (Z^TZ)^{-1}Z^TY$.\n",
    "\n",
    "Considérons maintenant\n",
    "$$\\begin{align}\n",
    "\\frac{\\partial}{\\partial \\sigma} \\ln(L(\\theta)) &= -\\frac{n}{2}\\frac{\\partial}{\\partial \\sigma}\\ln(2\\pi\\sigma^2) - ||Y - Z\\hat{\\beta}||^2\\frac{\\partial}{\\partial \\sigma}\\frac{1}{2\\sigma^2}\\\\\n",
    "&= -\\frac{n}{\\sigma} + \\frac{||Y - Z\\hat{\\beta}||^2}{\\sigma^3}\\\\\n",
    "&= 0 \\iff \\sigma^2 = \\hat{\\sigma}^2 = \\frac{1}{n}||Y - Z\\hat{\\beta}||^2.\n",
    "\\end{align}$$\n",
    "\n",
    "Donc, l'estimateur du maximum de vraisemblance est $$\\hat{\\theta} = (\\hat{\\beta}, \\hat{\\sigma}^2) = \\left((Z^TZ)^{-1}Z^TY, \\frac{1}{n}||Y - Z\\hat{\\beta}||^2\\right).$$"
   ]
  },
  {
   "cell_type": "markdown",
   "id": "9260aac3",
   "metadata": {},
   "source": [
    "<h2 align=\"center\"> <font color='blue'>Exercice 12</font></h2> <a class=\"anchor\" id=\"E12\"></a>"
   ]
  },
  {
   "cell_type": "markdown",
   "id": "2b6bdead",
   "metadata": {},
   "source": [
    "Sous $\\mathbb{P}_{\\theta}, \\theta \\in \\Theta$ on a\n",
    "$$\\begin{align}\n",
    "\\hat{\\beta} &= (Z^TZ)^{-1}Z^TY \\\\\n",
    "&= (Z^TZ)^{-1}Z^T\\left[Z\\beta + \\sigma \\epsilon(\\theta) \\right] \\\\\n",
    "&= \\beta + \\sigma Z^{\\#} \\epsilon(\\theta).\n",
    "\\end{align}$$\n",
    "\n",
    "On sait que $\\hat{\\beta}$ est un vecteur gaussien et on a calculé son espérance et variance dans les exercices 4 et 5.\n",
    "$$\\begin{align}\n",
    "\\begin{cases}\n",
    "\\mathbb{E}_{\\theta}[\\hat{\\beta}]& = \\beta \\\\\n",
    "\\mathrm{Var}_{\\theta}(\\hat{\\beta})& = \\sigma^2(Z^TZ)^{-1}\n",
    "\\end{cases}\n",
    "\\end{align}$$\n",
    "donc $\\hat{\\beta} \\sim \\mathcal{N}\\left(\\beta, \\sigma^2(Z^TZ)^{-1} \\right)$.\n"
   ]
  },
  {
   "cell_type": "markdown",
   "id": "ef460f70",
   "metadata": {},
   "source": [
    "<h2 align=\"center\"> <font color='blue'>Exercice 13</font></h2> <a class=\"anchor\" id=\"E13\"></a>"
   ]
  },
  {
   "cell_type": "markdown",
   "id": "e41fa562",
   "metadata": {},
   "source": [
    "Sous $\\mathbb{P}_{\\theta}, \\theta \\in \\Theta$.\n",
    "\n",
    "On a $||Y - Z\\beta||^2 = || (I_n - H)Y ||^2$ or $Y = Z\\beta + \\sigma \\epsilon(\\theta)$, ainsi\n",
    "$$ ||Y - Z\\beta||^2 = || (I_n - H)(Z\\hat{\\beta} + \\sigma \\epsilon(\\theta) ||^2. $$\n",
    "\n",
    "Or $Z\\hat{\\beta}$ est la projection sur l'espace engendré par les colonnes de $Z$ ainsi $(I_n - H)Z\\beta = 0$ et donc\n",
    "$$ || (I_n - H)Y ||^2 = \\sigma^2 ||(I_n - H)\\epsilon(\\theta) ||^2.$$\n",
    "\n",
    "On remarque que $rg(I_n - H) = n-p$.\n",
    "\n",
    "Par le théorème de Cochran, $$||(I_n - H)\\epsilon(\\theta) ||^2 \\sim \\chi_{n-p}^2.$$\n",
    "\n",
    "Et donc on a $$ \\hat{\\sigma}_{EMV}^2 = \\frac{1}{n}|| Y - Z\\hat{\\beta}||^2 \\sim \\frac{\\sigma^2}{n} \\chi_{n-p}^2.$$"
   ]
  },
  {
   "cell_type": "markdown",
   "id": "a55fdce5",
   "metadata": {},
   "source": [
    "<h2 align=\"center\"> <font color='blue'>Exercice 14</font></h2> <a class=\"anchor\" id=\"E14\"></a>"
   ]
  },
  {
   "cell_type": "markdown",
   "id": "fe6fd82d",
   "metadata": {},
   "source": [
    "Par le théorème de Cochran on sait que $(I_n - H)\\epsilon(\\theta)$ et $H\\epsilon(\\theta)$ sont deux vecteurs gaussiens indépendantes, or nous avons vu que $\\hat{\\sigma}^2$ est une fonction deterministe de $(I_n - H)\\epsilon(\\theta)$ et $\\hat{\\beta}$ est une fonction deterministe de $H\\epsilon(\\theta)$.\n",
    "\n",
    "$$\\begin{align}\n",
    "\\begin{cases}\n",
    "\\hat{\\sigma}^2 &= \\frac{\\sigma^2}{n}||(I_n - H)G||^2\\\\\n",
    "\\hat{\\beta} &= \\beta + \\sigma Z^{\\#}H \\epsilon(\\theta)\n",
    "\\end{cases}\n",
    "\\end{align}$$\n",
    "\n",
    "D'où l'indépendance de $\\hat{\\sigma}^2$ et $\\hat{\\beta}$."
   ]
  },
  {
   "cell_type": "markdown",
   "id": "fe8038e5",
   "metadata": {},
   "source": [
    "<h1 align=\"center\"> <font color='green'>1.4 Tests statistiques, cas régression linéaire gaussienne</font></h1> <a class=\"anchor\" id=\"Partie4\"></a>"
   ]
  },
  {
   "cell_type": "markdown",
   "id": "182ffb76",
   "metadata": {},
   "source": [
    "<h2 align=\"center\"> <font color='blue'>Exercice 15</font></h2> <a class=\"anchor\" id=\"E15\"></a>"
   ]
  },
  {
   "cell_type": "markdown",
   "id": "e2c12fc4",
   "metadata": {},
   "source": [
    "Sous $\\mathbb{P}_{\\theta}$.\n",
    "$$ x^T \\hat{\\beta} - x^T \\beta = x^T(\\hat{\\beta} - \\beta) = x^T\\sigma Z^{\\#} \\epsilon(\\theta) = \\sigma x^T (Z^TZ)^{-1}Z^T \\epsilon(\\theta).$$\n",
    "\n",
    "Alors, $x^T \\hat{\\beta} - x^T \\beta$ est une variable gaussienne car $\\epsilon(\\theta)$ est un vecteur gaussien et donc pour tout $x \\in \\mathbb{R}^p$, $x\\epsilon(\\theta)$ est une v.a gaussienne.\n",
    "\n",
    "Ici $\\sigma x^T (Z^TZ)^{-1}Z^T \\in \\mathbb{R}^p$ et donc $x^T \\hat{\\beta} - x^T \\beta$ est une v.a gaussienne centré car $\\mathbb{E}[\\epsilon(\\theta)] = 0$.\n",
    "\n",
    "D'autre part\n",
    "$$\\begin{align}\n",
    "\\mathrm{Cov}_{\\theta}(x^T \\hat{\\beta} - x^T \\beta) &= \\mathrm{Cov}_{\\theta}(\\sigma x^T (Z^TZ)^{-1}Z^T \\epsilon(\\theta)) \\\\\n",
    "&= \\sigma^2 x^T (Z^TZ)^{-1}Z^T (x^T (Z^TZ)^{-1}Z^T)^T \\\\\n",
    "&= \\sigma^2 x^T (Z^TZ)^{-1} x.\n",
    "\\end{align}$$\n",
    "\n",
    "Ainsi $\\frac{x^T \\hat{\\beta} - x^T\\beta}{\\sigma\\sqrt{x^T(Z^TZ)^{-1}x}} \\sim \\mathcal{N}(0,1).$\n",
    "\n",
    "D'autre part $\\frac{\\hat{\\sigma}^2}{\\sigma^2} \\sim \\frac{\\chi_{n-p}^2}{n-p}$ ainsi on a\n",
    "\n",
    "$$ \\frac{x^T \\hat{\\beta} - x^T\\beta}{\\hat{\\sigma}\\sqrt{x^T(Z^TZ)^{-1}x}} \\sim T_{(n-p)} $$ une loi de Student à $(n-p)$ degrés de liberté."
   ]
  },
  {
   "cell_type": "markdown",
   "id": "22e94716",
   "metadata": {},
   "source": [
    "<h2 align=\"center\"> <font color='blue'>Exercice 16</font></h2> <a class=\"anchor\" id=\"E16\"></a>"
   ]
  },
  {
   "cell_type": "markdown",
   "id": "be1424bf",
   "metadata": {},
   "source": [
    "Soit $q_{\\frac{\\alpha}{2}}^{n-p}$ et $q_{1 - \\frac{\\alpha}{2}}^{n-p}$ les quantiles d'ordre $\\frac{\\alpha}{2}$ et $1 - \\frac{\\alpha}{2}$ de la loi de Student à $(n-p)$ degrés de liberté $T_{(n-p)}$.\n",
    "\n",
    "Ainsi\n",
    "$$\\begin{align}\n",
    "\\mathbb{P}_{\\theta}&\\left( q_{\\frac{\\alpha}{2}}^{n-p} \\leq \\frac{x^T \\hat{\\beta} - x^T\\beta}{\\hat{\\sigma}\\sqrt{x^T(Z^TZ)^{-1}x}} \\leq q_{1 - \\frac{\\alpha}{2}}^{n-p} \\right) = 1 - \\alpha \\\\\n",
    "\\mathbb{P}_{\\theta}&\\left( \\hat{\\sigma}\\sqrt{x^T(Z^TZ)^{-1}x}q_{\\frac{\\alpha}{2}}^{n-p} \\leq x^T \\hat{\\beta} - x^T\\beta \\leq \\hat{\\sigma}\\sqrt{x^T(Z^TZ)^{-1}x}q_{1 - \\frac{\\alpha}{2}}^{n-p} \\right) = 1 - \\alpha \\\\\n",
    "\\mathbb{P}_{\\theta}&\\left( x^T \\hat{\\beta} - \\hat{\\sigma}\\sqrt{x^T(Z^TZ)^{-1}x}q_{1 - \\frac{\\alpha}{2}}^{n-p} \\leq x^T\\beta \\leq x^T \\hat{\\beta} - \\hat{\\sigma}\\sqrt{x^T(Z^TZ)^{-1}x}q_{\\frac{\\alpha}{2}}^{n-p} \\right) = 1 - \\alpha.\n",
    "\\end{align}$$\n",
    "\n",
    "On en conclue que\n",
    "$$\\left[ x^T \\hat{\\beta} - \\hat{\\sigma}\\sqrt{x^T(Z^TZ)^{-1}x}q_{1 - \\frac{\\alpha}{2}}^{n-p} , x^T \\hat{\\beta} - \\hat{\\sigma}\\sqrt{x^T(Z^TZ)^{-1}x}q_{\\frac{\\alpha}{2}}^{n-p} \\right] $$\n",
    "est un intervalle de confiance de niveau $1 - \\alpha$ pour $\\beta^T x$."
   ]
  },
  {
   "cell_type": "markdown",
   "id": "e2285bfa",
   "metadata": {},
   "source": [
    "<h2 align=\"center\"> <font color='blue'>Exercice 17</font></h2> <a class=\"anchor\" id=\"E17\"></a>"
   ]
  },
  {
   "cell_type": "markdown",
   "id": "d281763b",
   "metadata": {},
   "source": [
    "Premièrement, on définit la statistique de test\n",
    "$$T(x) = \\beta^T x $$\n",
    "on remarque que cette statistique est proche de $0$ sous $H_0$ et grand sous $H_1$.\n",
    "\n",
    "Alors, on définit notre zone de rejet en utilisant l'intervalle de confiance de l'exercice précendent\n",
    "$$ \\mathcal{R}_{\\alpha} = (-\\infty, -\\hat{\\sigma}\\sqrt{x^T(Z^TZ)^{-1}x}q_{1 - \\frac{\\alpha}{2}}^{n-p}) \\cup  (-\\hat{\\sigma}\\sqrt{x^T(Z^TZ)^{-1}x}q_{\\frac{\\alpha}{2}}^{n-p}, + \\infty)$$\n",
    "\n",
    "La probabilité de $\\beta^T x$ appartenir à l'intervalle de confiance est $1 - \\alpha$. Donc, on remarque que $\\mathbb{P}_{\\theta}(T(x) \\in \\mathcal{R}_{\\alpha}) = 1 - (1 - \\alpha) = \\alpha$.\n",
    "\n",
    "Donc, la taille du test qu'on a proposé est $\\alpha$ comme demandé."
   ]
  },
  {
   "cell_type": "markdown",
   "id": "6f2ec0ed",
   "metadata": {},
   "source": [
    "<h2 align=\"center\"> <font color='blue'>Exercice 18</font></h2> <a class=\"anchor\" id=\"E18\"></a>"
   ]
  },
  {
   "cell_type": "markdown",
   "id": "f6bd2257",
   "metadata": {},
   "source": [
    "Étant donné l'observation $x$, la $p$-valeur est la valeur $\\hat{\\alpha}$ telle que $H_0$ est rejetée pour tout $\\alpha > \\hat{\\alpha}$.\n",
    "Donc, on considère le cas limite où $\\beta^T x$ est au bord de la zone de rejet. On a\n",
    "$$\\begin{align}\n",
    "|\\beta^T x| =  \\hat{\\sigma}\\sqrt{x^T(Z^TZ)^{-1}x}q_{1 - \\frac{\\hat{\\alpha}}{2}}^{n-p} \\\\\n",
    "\\iff q_{1 - \\frac{\\hat{\\alpha}}{2}}^{n-p} = \\frac{|\\beta^T x|}{\\hat{\\sigma}\\sqrt{x^T(Z^TZ)^{-1}x}}\n",
    "\\end{align}$$\n",
    "Soit $F_{n-p}$ la fonction de répartition pour une loi de Student à $(n-p)$ degrés de liberté. On a\n",
    "$$\\begin{align}\n",
    "1 - \\frac{\\hat{\\alpha}}{2} = F_{n-p}\\left( \\frac{|\\beta^T x|}{\\hat{\\sigma}\\sqrt{x^T(Z^TZ)^{-1}x}} \\right) \\\\\n",
    "\\iff \\hat{\\alpha} = 2 - 2F_{n-p}\\left( \\frac{|\\beta^T x|}{\\hat{\\sigma}\\sqrt{x^T(Z^TZ)^{-1}x}} \\right)\n",
    "\\end{align}$$"
   ]
  },
  {
   "cell_type": "markdown",
   "id": "ae7ff796",
   "metadata": {},
   "source": [
    "<h2 align=\"center\"> <font color='blue'>Exercice 19</font></h2> <a class=\"anchor\" id=\"E19\"></a>"
   ]
  },
  {
   "cell_type": "markdown",
   "id": "e8b37345",
   "metadata": {},
   "source": [
    "Soit $A$ une matrice de taille $q \\times p$ de rang $q \\leq p$ et donc \n",
    "$$ rg \\left( A(Z^TZ)^{-1}A^T \\right) = q. $$\n",
    "\n",
    "D'autre part $A(\\hat{\\beta} - \\beta)$ est un vecteur gaussien de moyenne nulle et de variance $A \\mathrm{Var}_{\\theta}(\\hat{\\beta}) A^T = \\sigma^2 A (Z^TZ)^{-1} A^T$. Donc\n",
    "$$ \\frac{1}{\\sigma^2} \\left( A (\\beta^T - \\beta) \\right)^T [A(Z^TZ)^{-1}A^T]^{-1} \\left( A (\\beta^T - \\beta) \\right) \\sim \\chi_q^2.$$\n",
    "\n",
    "D'autre part $\\frac{\\hat{\\sigma}^2}{\\sigma^2} \\sim \\frac{\\chi_{n-p}^2}{n-p} \\implies$\n",
    "$$\\frac{\\sigma^2}{\\hat{\\sigma}^2} \\frac{1}{\\sigma^2} \\left( A (\\beta^T - \\beta) \\right)^T [A(Z^TZ)^{-1}A^T]^{-1} \\left( A (\\beta^T - \\beta) \\right) = \\frac{1}{\\hat{\\sigma}^2} \\left( A (\\beta^T - \\beta) \\right)^T [A(Z^TZ)^{-1}A^T]^{-1} \\left( A (\\beta^T - \\beta) \\right) \\sim \\frac{\\chi_q^2}{(n-p)^{-1}\\chi_{n-p}^2}.$$\n",
    "\n",
    "Donc, en divisant par $q$ on obtient que \n",
    "$$\\frac{1}{q\\hat{\\sigma}^2} \\left( A (\\beta^T - \\beta) \\right)^T [A(Z^TZ)^{-1}A^T]^{-1} \\left( A (\\beta^T - \\beta) \\right) \\sim \\frac{q^{-1}\\chi_q^2}{(n-p)^{-1}\\chi_{n-p}^2} \\sim F(q, n-p).$$"
   ]
  },
  {
   "cell_type": "markdown",
   "id": "266a6a69",
   "metadata": {},
   "source": [
    "<h2 align=\"center\"> <font color='blue'>Exercice 20</font></h2> <a class=\"anchor\" id=\"E20\"></a>"
   ]
  },
  {
   "cell_type": "markdown",
   "id": "6cf48842",
   "metadata": {},
   "source": [
    "On pose $A = \n",
    "\\begin{pmatrix}\n",
    "1 & 0 & 0 & \\cdots & 0 \\\\\n",
    "0 & 1 & 0 & \\cdots & 0\n",
    "\\end{pmatrix}$ une matrice $2 \\times p$.\n",
    "\n",
    "On remarque que $A \\beta = \\begin{pmatrix} \\beta_1 \\\\ \\beta_2 \\end{pmatrix} $. Donc, d'après l'exercice 19 nous avons pour $(\\beta_1, \\beta_2)$ la région critique suivante\n",
    "$$ \\mathrm{RC}_{\\alpha}(\\beta_1, \\beta_2) = \\left\\{ \\frac{1}{2\\hat{\\sigma}^2} (\\hat{\\beta} - \\beta)^T [A(Z^TZ)^{-1}A^T]^{-1} (\\hat{\\beta} - \\beta) \\leq q_{\\frac{\\alpha}{2}} \\right\\} $$\n",
    "où $q_{\\frac{\\alpha}{2}}$ est le quantile d'ordre $\\frac{\\alpha}{2}$ d'une loi de Fisher à $(q, n-p) = (2, n-p)$ degrés de liberté."
   ]
  },
  {
   "cell_type": "markdown",
   "id": "cb8febc9",
   "metadata": {},
   "source": [
    "<h2 align=\"center\"> <font color='gray'>Python Imports</font></h2> <a class=\"anchor\" id=\"imports\"></a>"
   ]
  },
  {
   "cell_type": "markdown",
   "id": "00c3227f",
   "metadata": {},
   "source": [
    "Dans cette section, on va importer tous les paquets qu'on ira utiliser."
   ]
  },
  {
   "cell_type": "code",
   "execution_count": 1,
   "id": "5469ac2b",
   "metadata": {},
   "outputs": [],
   "source": [
    "import math\n",
    "import numpy as np\n",
    "from numpy.linalg import inv,norm\n",
    "import pandas as pd\n",
    "import matplotlib.pyplot as plt\n",
    "import numpy.random as npr\n",
    "import scipy.stats as sps"
   ]
  },
  {
   "cell_type": "markdown",
   "id": "cb6627d3",
   "metadata": {},
   "source": [
    "On profite aussi pour lire le ficher Excel."
   ]
  },
  {
   "cell_type": "code",
   "execution_count": 2,
   "id": "fcaa3a72",
   "metadata": {},
   "outputs": [
    {
     "data": {
      "text/html": [
       "<div>\n",
       "<style scoped>\n",
       "    .dataframe tbody tr th:only-of-type {\n",
       "        vertical-align: middle;\n",
       "    }\n",
       "\n",
       "    .dataframe tbody tr th {\n",
       "        vertical-align: top;\n",
       "    }\n",
       "\n",
       "    .dataframe thead th {\n",
       "        text-align: right;\n",
       "    }\n",
       "</style>\n",
       "<table border=\"1\" class=\"dataframe\">\n",
       "  <thead>\n",
       "    <tr style=\"text-align: right;\">\n",
       "      <th></th>\n",
       "      <th>maxO3</th>\n",
       "      <th>T6</th>\n",
       "      <th>T9</th>\n",
       "      <th>T12</th>\n",
       "      <th>T15</th>\n",
       "      <th>T18</th>\n",
       "      <th>Ne6</th>\n",
       "      <th>Ne9</th>\n",
       "      <th>Ne12</th>\n",
       "      <th>Ne15</th>\n",
       "      <th>...</th>\n",
       "      <th>Vvit9</th>\n",
       "      <th>Vdir12</th>\n",
       "      <th>Vvit12</th>\n",
       "      <th>Vdir15</th>\n",
       "      <th>Vvit15</th>\n",
       "      <th>Vdir18</th>\n",
       "      <th>Vvit18</th>\n",
       "      <th>Vx</th>\n",
       "      <th>maxO3v</th>\n",
       "      <th>Column1</th>\n",
       "    </tr>\n",
       "  </thead>\n",
       "  <tbody>\n",
       "    <tr>\n",
       "      <th>0</th>\n",
       "      <td>19950401</td>\n",
       "      <td>47.6</td>\n",
       "      <td>10.1</td>\n",
       "      <td>11.6</td>\n",
       "      <td>13.3</td>\n",
       "      <td>13.6</td>\n",
       "      <td>12.2</td>\n",
       "      <td>8.0</td>\n",
       "      <td>8.0</td>\n",
       "      <td>8.0</td>\n",
       "      <td>...</td>\n",
       "      <td>290.0</td>\n",
       "      <td>4.0</td>\n",
       "      <td>300.0</td>\n",
       "      <td>4.0</td>\n",
       "      <td>340.0</td>\n",
       "      <td>4.0</td>\n",
       "      <td>20.0</td>\n",
       "      <td>4.0</td>\n",
       "      <td>-3.4641</td>\n",
       "      <td>62.2</td>\n",
       "    </tr>\n",
       "    <tr>\n",
       "      <th>1</th>\n",
       "      <td>19950402</td>\n",
       "      <td>56.2</td>\n",
       "      <td>9.5</td>\n",
       "      <td>9.4</td>\n",
       "      <td>13.8</td>\n",
       "      <td>17.4</td>\n",
       "      <td>16.3</td>\n",
       "      <td>8.0</td>\n",
       "      <td>8.0</td>\n",
       "      <td>7.0</td>\n",
       "      <td>...</td>\n",
       "      <td>160.0</td>\n",
       "      <td>2.0</td>\n",
       "      <td>180.0</td>\n",
       "      <td>3.0</td>\n",
       "      <td>110.0</td>\n",
       "      <td>1.0</td>\n",
       "      <td>350.0</td>\n",
       "      <td>2.0</td>\n",
       "      <td>0.0000</td>\n",
       "      <td>47.6</td>\n",
       "    </tr>\n",
       "    <tr>\n",
       "      <th>2</th>\n",
       "      <td>19950403</td>\n",
       "      <td>61.8</td>\n",
       "      <td>3.6</td>\n",
       "      <td>8.0</td>\n",
       "      <td>16.8</td>\n",
       "      <td>21.5</td>\n",
       "      <td>20.2</td>\n",
       "      <td>4.0</td>\n",
       "      <td>5.0</td>\n",
       "      <td>2.0</td>\n",
       "      <td>...</td>\n",
       "      <td>20.0</td>\n",
       "      <td>2.0</td>\n",
       "      <td>340.0</td>\n",
       "      <td>1.0</td>\n",
       "      <td>170.0</td>\n",
       "      <td>2.0</td>\n",
       "      <td>170.0</td>\n",
       "      <td>3.0</td>\n",
       "      <td>-0.3420</td>\n",
       "      <td>56.2</td>\n",
       "    </tr>\n",
       "    <tr>\n",
       "      <th>3</th>\n",
       "      <td>19950404</td>\n",
       "      <td>50.8</td>\n",
       "      <td>9.5</td>\n",
       "      <td>10.5</td>\n",
       "      <td>11.4</td>\n",
       "      <td>12.2</td>\n",
       "      <td>11.4</td>\n",
       "      <td>8.0</td>\n",
       "      <td>7.0</td>\n",
       "      <td>7.0</td>\n",
       "      <td>...</td>\n",
       "      <td>10.0</td>\n",
       "      <td>4.0</td>\n",
       "      <td>350.0</td>\n",
       "      <td>3.0</td>\n",
       "      <td>350.0</td>\n",
       "      <td>3.0</td>\n",
       "      <td>350.0</td>\n",
       "      <td>4.0</td>\n",
       "      <td>-0.5209</td>\n",
       "      <td>61.8</td>\n",
       "    </tr>\n",
       "    <tr>\n",
       "      <th>4</th>\n",
       "      <td>19950405</td>\n",
       "      <td>59.8</td>\n",
       "      <td>9.8</td>\n",
       "      <td>10.8</td>\n",
       "      <td>13.8</td>\n",
       "      <td>14.3</td>\n",
       "      <td>13.3</td>\n",
       "      <td>8.0</td>\n",
       "      <td>7.0</td>\n",
       "      <td>8.0</td>\n",
       "      <td>...</td>\n",
       "      <td>340.0</td>\n",
       "      <td>2.0</td>\n",
       "      <td>280.0</td>\n",
       "      <td>1.0</td>\n",
       "      <td>320.0</td>\n",
       "      <td>3.0</td>\n",
       "      <td>350.0</td>\n",
       "      <td>4.0</td>\n",
       "      <td>-0.9848</td>\n",
       "      <td>50.8</td>\n",
       "    </tr>\n",
       "    <tr>\n",
       "      <th>...</th>\n",
       "      <td>...</td>\n",
       "      <td>...</td>\n",
       "      <td>...</td>\n",
       "      <td>...</td>\n",
       "      <td>...</td>\n",
       "      <td>...</td>\n",
       "      <td>...</td>\n",
       "      <td>...</td>\n",
       "      <td>...</td>\n",
       "      <td>...</td>\n",
       "      <td>...</td>\n",
       "      <td>...</td>\n",
       "      <td>...</td>\n",
       "      <td>...</td>\n",
       "      <td>...</td>\n",
       "      <td>...</td>\n",
       "      <td>...</td>\n",
       "      <td>...</td>\n",
       "      <td>...</td>\n",
       "      <td>...</td>\n",
       "      <td>...</td>\n",
       "    </tr>\n",
       "    <tr>\n",
       "      <th>1459</th>\n",
       "      <td>20020926</td>\n",
       "      <td>76.0</td>\n",
       "      <td>7.0</td>\n",
       "      <td>13.7</td>\n",
       "      <td>17.0</td>\n",
       "      <td>17.9</td>\n",
       "      <td>15.3</td>\n",
       "      <td>4.0</td>\n",
       "      <td>7.0</td>\n",
       "      <td>8.0</td>\n",
       "      <td>...</td>\n",
       "      <td>290.0</td>\n",
       "      <td>4.0</td>\n",
       "      <td>330.0</td>\n",
       "      <td>5.0</td>\n",
       "      <td>330.0</td>\n",
       "      <td>6.0</td>\n",
       "      <td>330.0</td>\n",
       "      <td>3.0</td>\n",
       "      <td>-2.5000</td>\n",
       "      <td>79.0</td>\n",
       "    </tr>\n",
       "    <tr>\n",
       "      <th>1460</th>\n",
       "      <td>20020927</td>\n",
       "      <td>79.0</td>\n",
       "      <td>10.2</td>\n",
       "      <td>11.5</td>\n",
       "      <td>18.3</td>\n",
       "      <td>20.0</td>\n",
       "      <td>17.1</td>\n",
       "      <td>9.0</td>\n",
       "      <td>9.0</td>\n",
       "      <td>2.0</td>\n",
       "      <td>...</td>\n",
       "      <td>70.0</td>\n",
       "      <td>2.0</td>\n",
       "      <td>120.0</td>\n",
       "      <td>1.0</td>\n",
       "      <td>90.0</td>\n",
       "      <td>3.0</td>\n",
       "      <td>100.0</td>\n",
       "      <td>2.0</td>\n",
       "      <td>0.8660</td>\n",
       "      <td>76.0</td>\n",
       "    </tr>\n",
       "    <tr>\n",
       "      <th>1461</th>\n",
       "      <td>20020928</td>\n",
       "      <td>91.0</td>\n",
       "      <td>6.2</td>\n",
       "      <td>14.1</td>\n",
       "      <td>19.8</td>\n",
       "      <td>21.1</td>\n",
       "      <td>18.1</td>\n",
       "      <td>0.0</td>\n",
       "      <td>0.0</td>\n",
       "      <td>1.0</td>\n",
       "      <td>...</td>\n",
       "      <td>120.0</td>\n",
       "      <td>3.0</td>\n",
       "      <td>120.0</td>\n",
       "      <td>4.0</td>\n",
       "      <td>120.0</td>\n",
       "      <td>4.0</td>\n",
       "      <td>100.0</td>\n",
       "      <td>2.0</td>\n",
       "      <td>3.4641</td>\n",
       "      <td>79.0</td>\n",
       "    </tr>\n",
       "    <tr>\n",
       "      <th>1462</th>\n",
       "      <td>20020929</td>\n",
       "      <td>89.0</td>\n",
       "      <td>8.1</td>\n",
       "      <td>14.8</td>\n",
       "      <td>20.4</td>\n",
       "      <td>22.0</td>\n",
       "      <td>18.4</td>\n",
       "      <td>4.0</td>\n",
       "      <td>5.0</td>\n",
       "      <td>5.0</td>\n",
       "      <td>...</td>\n",
       "      <td>120.0</td>\n",
       "      <td>4.0</td>\n",
       "      <td>130.0</td>\n",
       "      <td>5.0</td>\n",
       "      <td>130.0</td>\n",
       "      <td>4.0</td>\n",
       "      <td>140.0</td>\n",
       "      <td>1.0</td>\n",
       "      <td>3.8302</td>\n",
       "      <td>91.0</td>\n",
       "    </tr>\n",
       "    <tr>\n",
       "      <th>1463</th>\n",
       "      <td>20020930</td>\n",
       "      <td>99.0</td>\n",
       "      <td>9.4</td>\n",
       "      <td>13.8</td>\n",
       "      <td>21.7</td>\n",
       "      <td>24.7</td>\n",
       "      <td>19.8</td>\n",
       "      <td>6.0</td>\n",
       "      <td>6.0</td>\n",
       "      <td>6.0</td>\n",
       "      <td>...</td>\n",
       "      <td>140.0</td>\n",
       "      <td>2.0</td>\n",
       "      <td>140.0</td>\n",
       "      <td>2.0</td>\n",
       "      <td>120.0</td>\n",
       "      <td>4.0</td>\n",
       "      <td>110.0</td>\n",
       "      <td>3.0</td>\n",
       "      <td>1.2856</td>\n",
       "      <td>89.0</td>\n",
       "    </tr>\n",
       "  </tbody>\n",
       "</table>\n",
       "<p>1366 rows × 24 columns</p>\n",
       "</div>"
      ],
      "text/plain": [
       "         maxO3    T6    T9   T12   T15   T18   Ne6  Ne9  Ne12  Ne15  ...  \\\n",
       "0     19950401  47.6  10.1  11.6  13.3  13.6  12.2  8.0   8.0   8.0  ...   \n",
       "1     19950402  56.2   9.5   9.4  13.8  17.4  16.3  8.0   8.0   7.0  ...   \n",
       "2     19950403  61.8   3.6   8.0  16.8  21.5  20.2  4.0   5.0   2.0  ...   \n",
       "3     19950404  50.8   9.5  10.5  11.4  12.2  11.4  8.0   7.0   7.0  ...   \n",
       "4     19950405  59.8   9.8  10.8  13.8  14.3  13.3  8.0   7.0   8.0  ...   \n",
       "...        ...   ...   ...   ...   ...   ...   ...  ...   ...   ...  ...   \n",
       "1459  20020926  76.0   7.0  13.7  17.0  17.9  15.3  4.0   7.0   8.0  ...   \n",
       "1460  20020927  79.0  10.2  11.5  18.3  20.0  17.1  9.0   9.0   2.0  ...   \n",
       "1461  20020928  91.0   6.2  14.1  19.8  21.1  18.1  0.0   0.0   1.0  ...   \n",
       "1462  20020929  89.0   8.1  14.8  20.4  22.0  18.4  4.0   5.0   5.0  ...   \n",
       "1463  20020930  99.0   9.4  13.8  21.7  24.7  19.8  6.0   6.0   6.0  ...   \n",
       "\n",
       "      Vvit9  Vdir12  Vvit12  Vdir15  Vvit15  Vdir18  Vvit18   Vx  maxO3v  \\\n",
       "0     290.0     4.0   300.0     4.0   340.0     4.0    20.0  4.0 -3.4641   \n",
       "1     160.0     2.0   180.0     3.0   110.0     1.0   350.0  2.0  0.0000   \n",
       "2      20.0     2.0   340.0     1.0   170.0     2.0   170.0  3.0 -0.3420   \n",
       "3      10.0     4.0   350.0     3.0   350.0     3.0   350.0  4.0 -0.5209   \n",
       "4     340.0     2.0   280.0     1.0   320.0     3.0   350.0  4.0 -0.9848   \n",
       "...     ...     ...     ...     ...     ...     ...     ...  ...     ...   \n",
       "1459  290.0     4.0   330.0     5.0   330.0     6.0   330.0  3.0 -2.5000   \n",
       "1460   70.0     2.0   120.0     1.0    90.0     3.0   100.0  2.0  0.8660   \n",
       "1461  120.0     3.0   120.0     4.0   120.0     4.0   100.0  2.0  3.4641   \n",
       "1462  120.0     4.0   130.0     5.0   130.0     4.0   140.0  1.0  3.8302   \n",
       "1463  140.0     2.0   140.0     2.0   120.0     4.0   110.0  3.0  1.2856   \n",
       "\n",
       "      Column1  \n",
       "0        62.2  \n",
       "1        47.6  \n",
       "2        56.2  \n",
       "3        61.8  \n",
       "4        50.8  \n",
       "...       ...  \n",
       "1459     79.0  \n",
       "1460     76.0  \n",
       "1461     79.0  \n",
       "1462     91.0  \n",
       "1463     89.0  \n",
       "\n",
       "[1366 rows x 24 columns]"
      ]
     },
     "execution_count": 2,
     "metadata": {},
     "output_type": "execute_result"
    }
   ],
   "source": [
    "excel_file = pd.read_excel('ozone_complet.xlsx')\n",
    "df = pd.DataFrame(excel_file)\n",
    "df = df.dropna()\n",
    "df"
   ]
  },
  {
   "cell_type": "markdown",
   "id": "f75e9d4c",
   "metadata": {},
   "source": [
    "<h1 align=\"center\"> <font color='green'>2. Pratique</font></h1> <a class=\"anchor\" id=\"Pratique\"></a>"
   ]
  },
  {
   "cell_type": "markdown",
   "id": "705cd6a4",
   "metadata": {},
   "source": [
    "<h2 align=\"center\"> <font color='blue'>Exercice 1</font></h2> <a class=\"anchor\" id=\"P1\"></a>"
   ]
  },
  {
   "cell_type": "code",
   "execution_count": 3,
   "id": "57494a46",
   "metadata": {},
   "outputs": [],
   "source": [
    "#nombre de lignes dans le dataframe\n",
    "n = df.shape[0]\n",
    "#nombre de regresseurs\n",
    "p = 4\n",
    "\n",
    "#on definit les collones avec lesquelles on veut travailler\n",
    "O3 = df[\"maxO3\"].astype('float').tolist()\n",
    "T12 = df[\"T12\"].astype('float').tolist()\n",
    "Vx = df[\"Vx\"].astype('float').tolist()\n",
    "Ne12 = df[\"Ne12\"].astype('float').tolist()\n",
    "intercept = np.ones(n)"
   ]
  },
  {
   "cell_type": "markdown",
   "id": "1a678308",
   "metadata": {},
   "source": [
    "On remarque qu'il s'agit d'une regression linéaire multiple comme abordé dans la section 1.1 avec $p = 4$ et $n = 1366$. Pour construire la matrice $Z$, on utilise les colonnes du dataframe comme colonnes de $Z$. Puis, on calcule l'estimateur des moindres carrés $$\\hat{\\beta} = (Z^TZ)^{-1}Z^TY.$$"
   ]
  },
  {
   "cell_type": "code",
   "execution_count": 4,
   "id": "692455ad",
   "metadata": {},
   "outputs": [
    {
     "name": "stdout",
     "output_type": "stream",
     "text": [
      "[-1.54293347e+01 -1.77226285e+02  5.41210463e+02  1.99841958e+07]\n"
     ]
    }
   ],
   "source": [
    "#on construit la matrice Z et sa transposee ZT\n",
    "ZT = np.array([T12, Vx, Ne12, intercept])\n",
    "Z = np.transpose(ZT)# n lignes, p colonnes\n",
    "\n",
    "estimateur_beta = np.matmul( np.matmul( inv(np.matmul(ZT, Z)), ZT), O3)\n",
    "print(estimateur_beta)"
   ]
  },
  {
   "cell_type": "markdown",
   "id": "eae79239",
   "metadata": {},
   "source": [
    "Regardons l'erreur absolu."
   ]
  },
  {
   "cell_type": "code",
   "execution_count": 5,
   "id": "494eef04",
   "metadata": {},
   "outputs": [
    {
     "name": "stdout",
     "output_type": "stream",
     "text": [
      "20333.364854157102\n"
     ]
    }
   ],
   "source": [
    "err_abs = abs(O3 - np.matmul(Z, estimateur_beta))\n",
    "print(np.mean(err_abs))"
   ]
  },
  {
   "cell_type": "markdown",
   "id": "11260620",
   "metadata": {},
   "source": [
    "<h2 align=\"center\"> <font color='blue'>Exercice 2</font></h2> <a class=\"anchor\" id=\"P2\"></a>"
   ]
  },
  {
   "cell_type": "markdown",
   "id": "1347306f",
   "metadata": {},
   "source": [
    "Soit $q_{\\frac{\\alpha}{2}}^{n-p}$ et $q_{1 - \\frac{\\alpha}{2}}^{n-p}$ les quantiles d'ordre $\\frac{\\alpha}{2}$ et $1 - \\frac{\\alpha}{2}$ de la loi de Student à $(n-p)$ degrés de liberté $T_{(n-p)}$. $\\\\$\n",
    "On a montré que\n",
    "$$\\left[ x^T \\hat{\\beta} - \\hat{\\sigma}\\sqrt{x^T(Z^TZ)^{-1}x}q_{1 - \\frac{\\alpha}{2}}^{n-p} , x^T \\hat{\\beta} - \\hat{\\sigma}\\sqrt{x^T(Z^TZ)^{-1}x}q_{\\frac{\\alpha}{2}}^{n-p} \\right] $$\n",
    "est un intervalle de confiance de niveau $1 - \\alpha$ pour $\\beta^T x$.\n",
    "On va prendre $x = (1,0,0,0)^T$ pour calculer l'intervalle de confiance de $\\hat{\\beta}_1$, $x = (0,1,0,0)^T$ pour calculer l'intervalle de confiance de $\\hat{\\beta}_2$ et ainsi de suite.\n",
    "On utilise aussi $\\hat{\\sigma}^2 = \\frac{1}{n-p} ||Y - Z \\hat{\\beta}||^2$ comme estimateur sans biais de la variance $\\sigma^2$.\n"
   ]
  },
  {
   "cell_type": "code",
   "execution_count": 6,
   "id": "fc4d6848",
   "metadata": {},
   "outputs": [
    {
     "name": "stdout",
     "output_type": "stream",
     "text": [
      "intervalle de confiance por beta_1=-15.429334682957233: [-338.1961792368542, 307.33750987093987]\n",
      "intervalle de confiance por beta_2=-177.22628514419193: [-885.5911159574046, 531.1385456690209]\n",
      "intervalle de confiance por beta_3=541.2104632354167: [22.076394439922296, 1060.3445320309113]\n",
      "intervalle de confiance por beta_4=19984195.760880873: [19976537.32829573, 19991854.193466015]\n"
     ]
    }
   ],
   "source": [
    "estimateur_variance = (1/(n-p))*(norm(O3 - np.matmul(Z, estimateur_beta))**2)\n",
    "# calculons la valeur des quantiles\n",
    "quantile_a= quantile = sps.t.ppf(1 - (0.05/2), n-p)\n",
    "quantile_b= quantile = sps.t.ppf((0.05/2), n-p)\n",
    "borne_gauche = np.empty(p)\n",
    "borne_droite = np.empty(p)\n",
    "\n",
    "for i in range(4):\n",
    "    xT = np.zeros(p)\n",
    "    xT[i] = 1\n",
    "    x = np.transpose(xT)\n",
    "    \n",
    "    borne_gauche[i] = np.matmul(xT, estimateur_beta) - np.sqrt(estimateur_variance)*quantile_a*np.sqrt(np.matmul(xT, np.matmul(inv(np.matmul(ZT, Z)), x)))\n",
    "    borne_droite[i] = np.matmul(xT, estimateur_beta) - np.sqrt(estimateur_variance)*quantile_b*np.sqrt(np.matmul(xT, np.matmul(inv(np.matmul(ZT, Z)), x)))\n",
    "    \n",
    "    print(f\"intervalle de confiance por beta_{i+1}={estimateur_beta[i]}: [{borne_gauche[i]}, {borne_droite[i]}]\")"
   ]
  },
  {
   "cell_type": "markdown",
   "id": "5aed72e4",
   "metadata": {},
   "source": [
    "<h2 align=\"center\"> <font color='blue'>Exercice 3</font></h2> <a class=\"anchor\" id=\"P3\"></a>"
   ]
  },
  {
   "cell_type": "markdown",
   "id": "b4eaf997",
   "metadata": {},
   "source": [
    "On pose $A = \n",
    "\\begin{pmatrix}\n",
    "1 & 0 & 0 & 0 \\\\\n",
    "0 & 1 & 0 & 0\n",
    "\\end{pmatrix}$ une matrice $2 \\times p$.\n",
    "\n",
    "Alors, on calcule la région de confiance pour $(\\beta_1, \\beta_2)$:\n",
    "$$ \\mathrm{RC}_{\\alpha}(\\beta_1, \\beta_2) = \\left\\{ \\frac{1}{2\\hat{\\sigma}^2} (\\hat{\\beta} - \\beta)^T [A(Z^TZ)^{-1}A^T]^{-1} (\\hat{\\beta} - \\beta) \\leq q_{\\frac{\\alpha}{2}} \\right\\} $$\n",
    "où $q_{\\frac{\\alpha}{2}}$ est le quantile d'ordre $\\frac{\\alpha}{2}$ d'une loi de Fisher à $(q, n-p) = (2, n-p)$ degrés de liberté."
   ]
  },
  {
   "cell_type": "code",
   "execution_count": 7,
   "id": "dd9dd5e8",
   "metadata": {},
   "outputs": [
    {
     "data": {
      "image/png": "[encoded data removed]",
      "text/plain": [
       "<Figure size 432x288 with 1 Axes>"
      ]
     },
     "metadata": {
      "needs_background": "light"
     },
     "output_type": "display_data"
    }
   ],
   "source": [
    "A = np.array([[1,0,0,0], [0,1,0,0]])\n",
    "AT = np.transpose(A)\n",
    "\n",
    "# calculons la valeur du quantile\n",
    "quantile = sps.f.ppf((0.05/2), 2, n-p)\n",
    "\n",
    "AZ_mult = inv(np.matmul(np.matmul(A, inv(np.matmul(ZT,Z))), AT))\n",
    "\n",
    "def rc(b1, b2):\n",
    "    bT = np.array([estimateur_beta[0] - b1, estimateur_beta[1] - b2])\n",
    "    b = np.transpose(bT)\n",
    "    return abs((1/(2*estimateur_variance))*np.matmul(bT, np.matmul(AZ_mult, b)))\n",
    "d1 = np.linspace(-100, 100, 1000)\n",
    "d2 = np.linspace(-300, 0, 1000)\n",
    "\n",
    "x,y = np.meshgrid(d1, d2)\n",
    "rc_vec = np.vectorize(rc)\n",
    "\n",
    "plt.title(\"Région de confiance (β1, β2)\")\n",
    "plt.xlabel(\"β1\")\n",
    "plt.ylabel(\"β2\")\n",
    "im = plt.imshow((rc_vec(x,y) <= quantile).astype(int), extent=(x.min(), x.max(), y.min(), y.max()), origin=\"lower\", cmap=\"Greys\")"
   ]
  },
  {
   "cell_type": "markdown",
   "id": "423e9d65",
   "metadata": {},
   "source": [
    "On pose $A = \n",
    "\\begin{pmatrix}\n",
    "1 & 0 & 0 & 0 \\\\\n",
    "0 & 0 & 1 & 0\n",
    "\\end{pmatrix}$ une matrice $2 \\times p$.\n",
    "\n",
    "Alors, on calcule la région de confiance pour $(\\beta_1, \\beta_3)$:\n",
    "$$ \\mathrm{RC}_{\\alpha}(\\beta_1, \\beta_3) = \\left\\{ \\frac{1}{2\\hat{\\sigma}^2} (\\hat{\\beta} - \\beta)^T [A(Z^TZ)^{-1}A^T]^{-1} (\\hat{\\beta} - \\beta) \\leq q_{\\frac{\\alpha}{2}} \\right\\} $$\n",
    "où $q_{\\frac{\\alpha}{2}}$ est le quantile d'ordre $\\frac{\\alpha}{2}$ d'une loi de Fisher à $(q, n-p) = (2, n-p)$ degrés de liberté."
   ]
  },
  {
   "cell_type": "code",
   "execution_count": 8,
   "id": "f31c1473",
   "metadata": {},
   "outputs": [
    {
     "data": {
      "image/png": "[encoded data removed]",
      "text/plain": [
       "<Figure size 432x288 with 1 Axes>"
      ]
     },
     "metadata": {
      "needs_background": "light"
     },
     "output_type": "display_data"
    }
   ],
   "source": [
    "A = np.array([[1,0,0,0], [0,0,1,0]])\n",
    "AT = np.transpose(A)\n",
    "\n",
    "# calculons la valeur du quantile\n",
    "quantile = sps.f.ppf((0.05/2), 2, n-p)\n",
    "\n",
    "AZ_mult = inv(np.matmul(np.matmul(A, inv(np.matmul(ZT,Z))), AT))\n",
    "\n",
    "def rc(b1, b2):\n",
    "    bT = np.array([estimateur_beta[0] - b1, estimateur_beta[2] - b2])\n",
    "    b = np.transpose(bT)\n",
    "    return abs((1/(2*estimateur_variance))*np.matmul(bT, np.matmul(AZ_mult, b)))\n",
    "d1 = np.linspace(-100, 100, 1000)\n",
    "d2 = np.linspace(400, 700, 1000)\n",
    "\n",
    "x,y = np.meshgrid(d1, d2)\n",
    "rc_vec = np.vectorize(rc)\n",
    "\n",
    "plt.title(\"Région de confiance (β1, β3)\")\n",
    "plt.xlabel(\"β1\")\n",
    "plt.ylabel(\"β3\")\n",
    "im = plt.imshow((rc_vec(x,y) <= quantile).astype(int), extent=(x.min(), x.max(), y.min(), y.max()), origin=\"lower\", cmap=\"Greys\")"
   ]
  },
  {
   "cell_type": "markdown",
   "id": "0a81deef",
   "metadata": {},
   "source": [
    "<h2 align=\"center\"> <font color='blue'>Exercice 4</font></h2> <a class=\"anchor\" id=\"P4\"></a>"
   ]
  },
  {
   "cell_type": "markdown",
   "id": "4f2f8c60",
   "metadata": {},
   "source": [
    "Pour évaluer si $\\mathrm{O3}$ est influencée par $\\mathrm{Vx}$, on pose $x = (0,1,0,0)$ et le test\n",
    "$$ H_0: \\beta^T x = 0 \\quad H_1 : \\beta^T \\not= 0 $$\n",
    "analogiquement, pour évaluer si $\\mathrm{O3}$ est influencée par $\\mathrm{Ne12}$, on pose $x = (0,0,1,0)$ et le test\n",
    "$$ H_0: \\beta^T x = 0 \\quad H_1 : \\beta^T \\not= 0 $$\n",
    "finalement, pour évaluer si $\\mathrm{O3}$ est influencée par $\\mathrm{Vx}$ ou $\\mathrm{T12}$, on pose $x = (1,1,0,0)$ et le test\n",
    "$$ H_0: \\beta^T x = 0 \\quad H_1 : \\beta^T \\not= 0.$$\n",
    "Si l'hypothèse $H_0$ est rejeté, on conclue que $\\mathrm{O3}$ est influencée. Sinon, $\\mathrm{O3}$ n'est pas influencée."
   ]
  },
  {
   "cell_type": "markdown",
   "id": "ec852bcd",
   "metadata": {},
   "source": [
    "<h2 align=\"center\"> <font color='blue'>Exercice 5</font></h2> <a class=\"anchor\" id=\"P5\"></a>"
   ]
  },
  {
   "cell_type": "markdown",
   "id": "2d44370f",
   "metadata": {},
   "source": [
    "Notre zone de rejet pour les tests l'exercice précendent est\n",
    "$$ \\mathcal{R}_{\\alpha} = (-\\infty, -\\hat{\\sigma}\\sqrt{x^T(Z^TZ)^{-1}x}q_{1 - \\frac{\\alpha}{2}}^{n-p}) \\cup  (-\\hat{\\sigma}\\sqrt{x^T(Z^TZ)^{-1}x}q_{\\frac{\\alpha}{2}}^{n-p}, + \\infty)$$"
   ]
  },
  {
   "cell_type": "code",
   "execution_count": 9,
   "id": "2f8bf4df",
   "metadata": {},
   "outputs": [
    {
     "name": "stdout",
     "output_type": "stream",
     "text": [
      "Vx n'est pas important\n",
      "Ne12 est important\n",
      "Vx et T12 ne sont pas important\n"
     ]
    }
   ],
   "source": [
    "# calculons la valeur des quantiles\n",
    "quantile_a= quantile = sps.t.ppf(1 - (0.05/2), n-p)\n",
    "quantile_b= quantile = sps.t.ppf((0.05/2), n-p)\n",
    "\n",
    "#PREMIER TEST\n",
    "xT = np.array([0, 1, 0, 0])\n",
    "x = np.transpose(xT)\n",
    "\n",
    "statistique_test = np.matmul(np.transpose(estimateur_beta), x) #on calcule Bt x\n",
    "borne_gauche = -np.sqrt(estimateur_variance)*quantile_a*np.sqrt(np.matmul(xT, np.matmul(inv(np.matmul(ZT, Z)), x)))\n",
    "borne_droite = -np.sqrt(estimateur_variance)*quantile_b*np.sqrt(np.matmul(xT, np.matmul(inv(np.matmul(ZT, Z)), x)))\n",
    "\n",
    "if (statistique_test < borne_gauche)or(statistique_test > borne_droite):\n",
    "    print(\"Vx est important\")#dans la zone de rejet\n",
    "else:\n",
    "    print(\"Vx n'est pas important\")#hors la zone de rejet\n",
    "\n",
    "#SECOND TEST\n",
    "xT = np.array([0, 0, 1, 0])\n",
    "x = np.transpose(xT)\n",
    "\n",
    "statistique_test = np.matmul(xT, estimateur_beta) #on calcule Bt x\n",
    "borne_gauche = -np.sqrt(estimateur_variance)*quantile_a*np.sqrt(np.matmul(xT, np.matmul(inv(np.matmul(ZT, Z)), x)))\n",
    "borne_droite = -np.sqrt(estimateur_variance)*quantile_b*np.sqrt(np.matmul(xT, np.matmul(inv(np.matmul(ZT, Z)), x)))\n",
    "\n",
    "if (statistique_test < borne_gauche)or(statistique_test > borne_droite):\n",
    "    print(\"Ne12 est important\")#dans la zone de rejet\n",
    "else:\n",
    "    print(\"Ne12 n'est pas important\")#hors la zone de rejet\n",
    "\n",
    "#TROISIEME TEST\n",
    "xT = np.array([1, 1, 0, 0])\n",
    "x = np.transpose(xT)\n",
    "\n",
    "statistique_test = np.matmul(xT, estimateur_beta) #on calcule Bt x\n",
    "borne_gauche = -np.sqrt(estimateur_variance)*quantile_a*np.sqrt(np.matmul(xT, np.matmul(inv(np.matmul(ZT, Z)), x)))\n",
    "borne_droite = -np.sqrt(estimateur_variance)*quantile_b*np.sqrt(np.matmul(xT, np.matmul(inv(np.matmul(ZT, Z)), x)))\n",
    "\n",
    "if (statistique_test < borne_gauche)or(statistique_test > borne_droite):\n",
    "    print(\"Vx ou T12 sont important\")#dans la zone de rejet\n",
    "else:\n",
    "    print(\"Vx et T12 ne sont pas important\")#hors la zone de rejet"
   ]
  },
  {
   "cell_type": "markdown",
   "id": "e0a7e945",
   "metadata": {},
   "source": [
    "<h2 align=\"center\"> <font color='blue'>Exercice 6</font></h2> <a class=\"anchor\" id=\"P6\"></a>"
   ]
  },
  {
   "cell_type": "markdown",
   "id": "f871941c",
   "metadata": {},
   "source": [
    "<ul>\n",
    "  <li> On conclue que O3 n'est pas influencée par Vx </li>\n",
    "  <li> On conclue que O3 est influencée par Ne12 </li>\n",
    "  <li> On conclue que O3 n'est pas influencée par Vx et T12 </li>\n",
    "</ul>"
   ]
  }
 ],
 "metadata": {
  "kernelspec": {
   "display_name": "Python 3 (ipykernel)",
   "language": "python",
   "name": "python3"
  },
  "language_info": {
   "codemirror_mode": {
    "name": "ipython",
    "version": 3
   },
   "file_extension": ".py",
   "mimetype": "text/x-python",
   "name": "python",
   "nbconvert_exporter": "python",
   "pygments_lexer": "ipython3",
   "version": "3.9.12"
  }
 },
 "nbformat": 4,
 "nbformat_minor": 5
}
