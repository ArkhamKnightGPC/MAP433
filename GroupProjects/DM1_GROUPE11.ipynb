{
 "cells": [
  {
   "cell_type": "markdown",
   "id": "33502c34",
   "metadata": {},
   "source": [
    "# <font color='289C4E'>Devoir Maison 1: Régression Linéaire Multiple\n",
    "**Élèves**: Sadegh ABDERRAHIM & Gabriel PEREIRA DE CARVALHO & Otávio RIBAS"
   ]
  },
  {
   "cell_type": "markdown",
   "id": "77af9e33",
   "metadata": {},
   "source": [
    "### <font color='289C4E'>Table des matières<font><a class='anchor' id='top'></a>\n",
    "- [Estimation par moindres carrés du vecteur $\\beta$](#Partie1)\n",
    "    - [Exercice 1](#E1)\n",
    "    - [Exercice 2](#E2)\n",
    "    - [Exercice 3](#E3)\n",
    "    - [Exercice 4](#E4)\n",
    "    - [Exercice 5](#E5)\n",
    "    - [Exercice 6](#E6)\n",
    "    - [Exercice 7](#E7)\n",
    "    - [Exercice 8](#E8)\n",
    "- [Estimation de la variance $\\sigma^2$ et Coefficient de détermination](#Partie2)\n",
    "    - [Exercice 9](#E9)\n",
    "    - [Exercice 10](#E10)\n",
    "- [Cas de la régression linéaire gaussienne](#Partie3)\n",
    "    - [Exercice 11](#E11)\n",
    "    - [Exercice 12](#E12)\n",
    "    - [Exercice 13](#E13)\n",
    "    - [Exercice 14](#E14)\n",
    "- [Tests statistiques, cas régression linéaire gaussienne](#Partie4)\n",
    "    - [Exercice 15](#E15)\n",
    "    - [Exercice 16](#E16)\n",
    "    - [Exercice 17](#E17)\n",
    "    - [Exercice 18](#E18)\n",
    "    - [Exercice 19](#E19)\n",
    "    - [Exercice 20](#E20)\n",
    "- [Python Imports](#imports)\n",
    "- [Pratique](#Pratique)\n",
    "    - [Exercice 1](#P1)\n",
    "    - [Exercice 2](#P2)\n",
    "    - [Exercice 3](#P3)\n",
    "    - [Exercice 4](#P4)\n",
    "    - [Exercice 5](#P5)\n",
    "    - [Exercice 6](#P6)"
   ]
  },
  {
   "cell_type": "markdown",
   "id": "e756f4cf",
   "metadata": {},
   "source": [
    "<h1 align=\"center\"> <font color='green'>1.1 Estimation par moindres carrés du vecteur $\\beta$</font></h1> <a class=\"anchor\" id=\"Partie1\"></a>"
   ]
  },
  {
   "cell_type": "markdown",
   "id": "ae2f35ba",
   "metadata": {},
   "source": [
    "<h2 align=\"center\"> <font color='blue'>Exercice 1</font></h2> <a class=\"anchor\" id=\"E1\"></a>"
   ]
  },
  {
   "cell_type": "markdown",
   "id": "def25fac",
   "metadata": {},
   "source": [
    "On remarque que toute solution $\\hat{u} \\in \\argmin_{u \\in \\mathbb{R}^p} J_n(u)$ est une solution de l'équation $\\nabla J_n(u) = 0_{\\mathbb{R}^p}$.\n",
    "On obtient ainsi qu'elle solution du système d'équations linéaires\n",
    "$$\\begin{align}\n",
    "&\\frac{\\partial J_n(u)}{\\partial u_k} = 0 \\quad \\text{pour } k \\in \\{1,...,p\\} \\\\\n",
    "\\iff& \\sum_{i=1}^{n} Z_{i}^{k}\\left(Y_i - \\sum_{l=1}^{p} u_lZ_i^l \\right) = 0  \\quad \\forall k \\in \\{1,...,p\\} \\\\\n",
    "\\iff& \\sum_{i=1}^{n} Z_i^kY_i = \\sum_{i=1}^{n} \\left(\\sum_{l=1}^{p}u_lZ_i^l\\right)Z_i^k \\quad \\forall k \\in \\{1,...,p\\}.\n",
    "\\end{align}$$\n",
    "Donc, en notation matricielle, \n",
    "$$ Z^TY = Z^TZu $$\n",
    "et $\\hat{u}$ est solution de ce système."
   ]
  },
  {
   "cell_type": "markdown",
   "id": "c75d4769",
   "metadata": {},
   "source": [
    "<h2 align=\"center\"> <font color='blue'>Exercice 2</font></h2> <a class=\"anchor\" id=\"E2\"></a>"
   ]
  },
  {
   "cell_type": "markdown",
   "id": "cd01bd34",
   "metadata": {},
   "source": [
    "Premièrement, on a $ Z^\\#Z = (Z^TZ)^{-1}Z^TZ = I_p $. $\\\\$\n",
    "Alors soit $H \\in \\mathbb{R}^{p \\times n}$ le projecteur orthogonale sur l'espace vectoriel engrendré par les colonnes de la matrice $Z$.\n",
    "$\\forall x \\in \\mathbb{R}^n, \\exists c \\in \\mathbb{R}^p$ tel que $Hx = Zc$.\n",
    "On sait que $x$ et sa projection $Hx$ doivent vérifier la condition d'orthogonalité\n",
    "$$ \\langle (x-Hx), Z_i \\rangle = 0 \\quad \\text{pour toutes les colonnes $Z_i$ de $Z$, $i \\in \\{1,...,p\\}$.}$$\n",
    "Ceci peut se traduire par\n",
    "$$\\begin{align}\n",
    "&Z^T(x - Hx) = 0 \\\\\n",
    "\\iff& Z^T(x - Zc) = 0\\\\\n",
    "\\iff& Z^Tx = Z^TZc\\\\\n",
    "\\iff& (Z^TZ)^{-1}Z^Tx = c \\quad \\text{comme $Z^TZ$ est inversible.}\\\\\n",
    "\\end{align}$$\n",
    "Ainsi, on a $ Hx = Z(Z^TZ)^{-1}Z^Tx \\quad \\forall x \\in \\mathbb{R}^n $.\n",
    "\n",
    "Donc $$ H =  Z(Z^TZ)^{-1}Z^T $$ \n",
    "ce qui donne $ZZ^{\\#} = H$."
   ]
  },
  {
   "cell_type": "markdown",
   "id": "90005884",
   "metadata": {},
   "source": [
    "<h2 align=\"center\"> <font color='blue'>Exercice 3</font></h2> <a class=\"anchor\" id=\"E3\"></a>"
   ]
  },
  {
   "cell_type": "markdown",
   "id": "eab7c704",
   "metadata": {},
   "source": []
  },
  {
   "cell_type": "markdown",
   "id": "425edb10",
   "metadata": {},
   "source": [
    "<h2 align=\"center\"> <font color='blue'>Exercice 4</font></h2> <a class=\"anchor\" id=\"E4\"></a>"
   ]
  },
  {
   "cell_type": "markdown",
   "id": "496aaf9e",
   "metadata": {},
   "source": []
  },
  {
   "cell_type": "markdown",
   "id": "878a9b10",
   "metadata": {},
   "source": [
    "<h2 align=\"center\"> <font color='blue'>Exercice 5</font></h2> <a class=\"anchor\" id=\"E5\"></a>"
   ]
  },
  {
   "cell_type": "markdown",
   "id": "6e5cc418",
   "metadata": {},
   "source": []
  },
  {
   "cell_type": "markdown",
   "id": "0de6291a",
   "metadata": {},
   "source": [
    "<h2 align=\"center\"> <font color='blue'>Exercice 6</font></h2> <a class=\"anchor\" id=\"E6\"></a>"
   ]
  },
  {
   "cell_type": "markdown",
   "id": "ab7def48",
   "metadata": {},
   "source": []
  },
  {
   "cell_type": "markdown",
   "id": "06f27ec9",
   "metadata": {},
   "source": [
    "<h2 align=\"center\"> <font color='blue'>Exercice 7</font></h2> <a class=\"anchor\" id=\"E7\"></a>"
   ]
  },
  {
   "cell_type": "markdown",
   "id": "7a22ca7e",
   "metadata": {},
   "source": []
  },
  {
   "cell_type": "markdown",
   "id": "0e1ccff9",
   "metadata": {},
   "source": [
    "<h2 align=\"center\"> <font color='blue'>Exercice 8</font></h2> <a class=\"anchor\" id=\"E8\"></a>"
   ]
  },
  {
   "cell_type": "markdown",
   "id": "69e285be",
   "metadata": {},
   "source": []
  },
  {
   "cell_type": "markdown",
   "id": "7b1a1731",
   "metadata": {},
   "source": [
    "<h1 align=\"center\"> <font color='green'>1.2 Estimation de la variance $\\sigma^2$ et Coefficient de détermination</font></h1> <a class=\"anchor\" id=\"Partie2\"></a>"
   ]
  },
  {
   "cell_type": "markdown",
   "id": "1dcfbdf1",
   "metadata": {},
   "source": [
    "<h2 align=\"center\"> <font color='blue'>Exercice 9</font></h2> <a class=\"anchor\" id=\"E9\"></a>"
   ]
  },
  {
   "cell_type": "markdown",
   "id": "272420b4",
   "metadata": {},
   "source": []
  },
  {
   "cell_type": "markdown",
   "id": "6fa7c5d7",
   "metadata": {},
   "source": [
    "<h2 align=\"center\"> <font color='blue'>Exercice 10</font></h2> <a class=\"anchor\" id=\"E10\"></a>"
   ]
  },
  {
   "cell_type": "markdown",
   "id": "ab657e04",
   "metadata": {},
   "source": []
  },
  {
   "cell_type": "markdown",
   "id": "9d0edb94",
   "metadata": {},
   "source": [
    "<h1 align=\"center\"> <font color='green'>1.3 Cas de la régression linéaire gaussienne</font></h1> <a class=\"anchor\" id=\"Partie3\"></a>"
   ]
  },
  {
   "cell_type": "markdown",
   "id": "85e5565b",
   "metadata": {},
   "source": [
    "<h2 align=\"center\"> <font color='blue'>Exercice 11</font></h2> <a class=\"anchor\" id=\"E11\"></a>"
   ]
  },
  {
   "cell_type": "markdown",
   "id": "31baf401",
   "metadata": {},
   "source": []
  },
  {
   "cell_type": "markdown",
   "id": "6670f100",
   "metadata": {},
   "source": [
    "<h2 align=\"center\"> <font color='blue'>Exercice 12</font></h2> <a class=\"anchor\" id=\"E12\"></a>"
   ]
  },
  {
   "cell_type": "markdown",
   "id": "da1c30e0",
   "metadata": {},
   "source": []
  },
  {
   "cell_type": "markdown",
   "id": "1ca9f301",
   "metadata": {},
   "source": [
    "<h2 align=\"center\"> <font color='blue'>Exercice 13</font></h2> <a class=\"anchor\" id=\"E13\"></a>"
   ]
  },
  {
   "cell_type": "markdown",
   "id": "594250dd",
   "metadata": {},
   "source": []
  },
  {
   "cell_type": "markdown",
   "id": "7ab609c3",
   "metadata": {},
   "source": [
    "<h2 align=\"center\"> <font color='blue'>Exercice 14</font></h2> <a class=\"anchor\" id=\"E14\"></a>"
   ]
  },
  {
   "cell_type": "markdown",
   "id": "d6b417b2",
   "metadata": {},
   "source": []
  },
  {
   "cell_type": "markdown",
   "id": "d73d436c",
   "metadata": {},
   "source": [
    "<h1 align=\"center\"> <font color='green'>1.4 Tests statistiques, cas régression linéaire gaussienne</font></h1> <a class=\"anchor\" id=\"Partie4\"></a>"
   ]
  },
  {
   "cell_type": "markdown",
   "id": "032ec130",
   "metadata": {},
   "source": [
    "<h2 align=\"center\"> <font color='blue'>Exercice 15</font></h2> <a class=\"anchor\" id=\"E15\"></a>"
   ]
  },
  {
   "cell_type": "markdown",
   "id": "b00b0840",
   "metadata": {},
   "source": []
  },
  {
   "cell_type": "markdown",
   "id": "424a576a",
   "metadata": {},
   "source": [
    "<h2 align=\"center\"> <font color='blue'>Exercice 16</font></h2> <a class=\"anchor\" id=\"E16\"></a>"
   ]
  },
  {
   "cell_type": "markdown",
   "id": "c7c56349",
   "metadata": {},
   "source": []
  },
  {
   "cell_type": "markdown",
   "id": "72637143",
   "metadata": {},
   "source": [
    "<h2 align=\"center\"> <font color='blue'>Exercice 17</font></h2> <a class=\"anchor\" id=\"E17\"></a>"
   ]
  },
  {
   "cell_type": "markdown",
   "id": "5b9cbe93",
   "metadata": {},
   "source": []
  },
  {
   "cell_type": "markdown",
   "id": "3c22ed48",
   "metadata": {},
   "source": [
    "<h2 align=\"center\"> <font color='blue'>Exercice 18</font></h2> <a class=\"anchor\" id=\"E18\"></a>"
   ]
  },
  {
   "cell_type": "markdown",
   "id": "e6ac6e95",
   "metadata": {},
   "source": []
  },
  {
   "cell_type": "markdown",
   "id": "76c93b59",
   "metadata": {},
   "source": [
    "<h2 align=\"center\"> <font color='blue'>Exercice 19</font></h2> <a class=\"anchor\" id=\"E19\"></a>"
   ]
  },
  {
   "cell_type": "markdown",
   "id": "d0cd2a59",
   "metadata": {},
   "source": []
  },
  {
   "cell_type": "markdown",
   "id": "1bf00932",
   "metadata": {},
   "source": [
    "<h2 align=\"center\"> <font color='blue'>Exercice 20</font></h2> <a class=\"anchor\" id=\"E20\"></a>"
   ]
  },
  {
   "cell_type": "markdown",
   "id": "290cd01b",
   "metadata": {},
   "source": []
  },
  {
   "cell_type": "markdown",
   "id": "33ccf7a2",
   "metadata": {},
   "source": [
    "<h2 align=\"center\"> <font color='gray'>Python Imports</font></h2> <a class=\"anchor\" id=\"imports\"></a>"
   ]
  },
  {
   "cell_type": "markdown",
   "id": "501ce41a",
   "metadata": {},
   "source": [
    "Dans cette section, on va importer tous les paquets qu'on ira utiliser."
   ]
  },
  {
   "cell_type": "code",
   "execution_count": 1,
   "id": "f375d2f4",
   "metadata": {},
   "outputs": [],
   "source": [
    "import math\n",
    "import numpy as np\n",
    "import matplotlib.pyplot as plt\n",
    "import numpy.random as npr\n",
    "import scipy.stats as sps"
   ]
  },
  {
   "cell_type": "markdown",
   "id": "badcfd11",
   "metadata": {},
   "source": [
    "<h1 align=\"center\"> <font color='green'>2. Pratique</font></h1> <a class=\"anchor\" id=\"Pratique\"></a>"
   ]
  },
  {
   "cell_type": "markdown",
   "id": "07c2061f",
   "metadata": {},
   "source": [
    "<h2 align=\"center\"> <font color='blue'>Exercice 1</font></h2> <a class=\"anchor\" id=\"P1\"></a>"
   ]
  },
  {
   "cell_type": "code",
   "execution_count": null,
   "id": "d25e5248",
   "metadata": {},
   "outputs": [],
   "source": []
  },
  {
   "cell_type": "markdown",
   "id": "37b518d9",
   "metadata": {},
   "source": [
    "<h2 align=\"center\"> <font color='blue'>Exercice 2</font></h2> <a class=\"anchor\" id=\"P2\"></a>"
   ]
  },
  {
   "cell_type": "code",
   "execution_count": null,
   "id": "abb0553d",
   "metadata": {},
   "outputs": [],
   "source": []
  },
  {
   "cell_type": "markdown",
   "id": "f98fd0c2",
   "metadata": {},
   "source": [
    "<h2 align=\"center\"> <font color='blue'>Exercice 3</font></h2> <a class=\"anchor\" id=\"P3\"></a>"
   ]
  },
  {
   "cell_type": "code",
   "execution_count": null,
   "id": "058521a0",
   "metadata": {},
   "outputs": [],
   "source": []
  },
  {
   "cell_type": "markdown",
   "id": "7337df1b",
   "metadata": {},
   "source": [
    "<h2 align=\"center\"> <font color='blue'>Exercice 4</font></h2> <a class=\"anchor\" id=\"P4\"></a>"
   ]
  },
  {
   "cell_type": "code",
   "execution_count": null,
   "id": "35d2720e",
   "metadata": {},
   "outputs": [],
   "source": []
  },
  {
   "cell_type": "markdown",
   "id": "5d4feb6e",
   "metadata": {},
   "source": [
    "<h2 align=\"center\"> <font color='blue'>Exercice 5</font></h2> <a class=\"anchor\" id=\"P5\"></a>"
   ]
  },
  {
   "cell_type": "code",
   "execution_count": null,
   "id": "6e6eb571",
   "metadata": {},
   "outputs": [],
   "source": []
  },
  {
   "cell_type": "markdown",
   "id": "d0c76113",
   "metadata": {},
   "source": [
    "<h2 align=\"center\"> <font color='blue'>Exercice 6</font></h2> <a class=\"anchor\" id=\"P6\"></a>"
   ]
  },
  {
   "cell_type": "code",
   "execution_count": null,
   "id": "91e0a438",
   "metadata": {},
   "outputs": [],
   "source": []
  }
 ],
 "metadata": {
  "kernelspec": {
   "display_name": "Python 3 (ipykernel)",
   "language": "python",
   "name": "python3"
  },
  "language_info": {
   "codemirror_mode": {
    "name": "ipython",
    "version": 3
   },
   "file_extension": ".py",
   "mimetype": "text/x-python",
   "name": "python",
   "nbconvert_exporter": "python",
   "pygments_lexer": "ipython3",
   "version": "3.9.12"
  }
 },
 "nbformat": 4,
 "nbformat_minor": 5
}
