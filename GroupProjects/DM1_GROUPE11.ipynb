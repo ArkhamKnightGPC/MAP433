{
 "cells": [
  {
   "cell_type": "markdown",
   "id": "8db270b1",
   "metadata": {},
   "source": [
    "# <font color='289C4E'>Devoir Maison 1\n",
    "**Élèves**: Sadegh ABDERRAHIM & Gabriel PEREIRA DE CARVALHO & Otávio RIBAS"
   ]
  },
  {
   "cell_type": "markdown",
   "id": "650754a4",
   "metadata": {},
   "source": [
    "### <font color='289C4E'>Table des matières<font><a class='anchor' id='top'></a>\n",
    "- [Estimation par moindres carrés du vecteur $\\beta$](#Partie1)\n",
    "    - [Exercice 1](#E1)\n",
    "    - [Exercice 2](#E2)\n",
    "    - [Exercice 3](#E3)\n",
    "    - [Exercice 4](#E4)\n",
    "    - [Exercice 5](#E5)\n",
    "    - [Exercice 6](#E6)\n",
    "    - [Exercice 7](#E7)\n",
    "    - [Exercice 8](#E8)\n",
    "- [Estimation de la variance $\\sigma^2$ et Coefficient de détermination](#Partie2)\n",
    "    - [Exercice 9](#E9)\n",
    "    - [Exercice 10](#E10)\n",
    "- [Cas de la régression linéaire gaussienne](#Partie3)\n",
    "    - [Exercice 11](#E11)\n",
    "    - [Exercice 12](#E12)\n",
    "    - [Exercice 13](#E13)\n",
    "    - [Exercice 14](#E14)\n",
    "- [Tests statistiques, cas régression linéaire gaussienne](#Partie4)\n",
    "    - [Exercice 15](#E15)\n",
    "    - [Exercice 16](#E16)\n",
    "    - [Exercice 17](#E17)\n",
    "    - [Exercice 18](#E18)\n",
    "    - [Exercice 19](#E19)\n",
    "    - [Exercice 20](#E20)\n",
    "- [Python Imports](#imports)\n",
    "- [Pratique](#Pratique)\n",
    "    - [Exercice 1](#P1)\n",
    "    - [Exercice 2](#P2)\n",
    "    - [Exercice 3](#P3)\n",
    "    - [Exercice 4](#P4)\n",
    "    - [Exercice 5](#P5)\n",
    "    - [Exercice 6](#P6)"
   ]
  },
  {
   "cell_type": "markdown",
   "id": "73d1896e",
   "metadata": {},
   "source": [
    "<h1 align=\"center\"> <font color='green'>1.1 Estimation par moindres carrés du vecteur $\\beta$</font></h1> <a class=\"anchor\" id=\"Partie1\"></a>"
   ]
  },
  {
   "cell_type": "markdown",
   "id": "800bca39",
   "metadata": {},
   "source": [
    "<h2 align=\"center\"> <font color='blue'>Exercice 1</font></h2> <a class=\"anchor\" id=\"E1\"></a>"
   ]
  },
  {
   "cell_type": "markdown",
   "id": "46809ade",
   "metadata": {},
   "source": []
  },
  {
   "cell_type": "markdown",
   "id": "6fc34975",
   "metadata": {},
   "source": [
    "<h2 align=\"center\"> <font color='blue'>Exercice 2</font></h2> <a class=\"anchor\" id=\"E2\"></a>"
   ]
  },
  {
   "cell_type": "markdown",
   "id": "1cf2f594",
   "metadata": {},
   "source": []
  },
  {
   "cell_type": "markdown",
   "id": "67e4fb02",
   "metadata": {},
   "source": [
    "<h2 align=\"center\"> <font color='blue'>Exercice 3</font></h2> <a class=\"anchor\" id=\"E3\"></a>"
   ]
  },
  {
   "cell_type": "markdown",
   "id": "233d89c2",
   "metadata": {},
   "source": []
  },
  {
   "cell_type": "markdown",
   "id": "803a9e3c",
   "metadata": {},
   "source": [
    "<h2 align=\"center\"> <font color='blue'>Exercice 4</font></h2> <a class=\"anchor\" id=\"E4\"></a>"
   ]
  },
  {
   "cell_type": "markdown",
   "id": "53fb9d28",
   "metadata": {},
   "source": []
  },
  {
   "cell_type": "markdown",
   "id": "f7e97194",
   "metadata": {},
   "source": [
    "<h2 align=\"center\"> <font color='blue'>Exercice 5</font></h2> <a class=\"anchor\" id=\"E5\"></a>"
   ]
  },
  {
   "cell_type": "markdown",
   "id": "5e98a4e2",
   "metadata": {},
   "source": []
  },
  {
   "cell_type": "markdown",
   "id": "297f64e3",
   "metadata": {},
   "source": [
    "<h2 align=\"center\"> <font color='blue'>Exercice 6</font></h2> <a class=\"anchor\" id=\"E6\"></a>"
   ]
  },
  {
   "cell_type": "markdown",
   "id": "4e924561",
   "metadata": {},
   "source": []
  },
  {
   "cell_type": "markdown",
   "id": "e332b857",
   "metadata": {},
   "source": [
    "<h2 align=\"center\"> <font color='blue'>Exercice 7</font></h2> <a class=\"anchor\" id=\"E7\"></a>"
   ]
  },
  {
   "cell_type": "markdown",
   "id": "b1570c80",
   "metadata": {},
   "source": []
  },
  {
   "cell_type": "markdown",
   "id": "a82d11e9",
   "metadata": {},
   "source": [
    "<h2 align=\"center\"> <font color='blue'>Exercice 8</font></h2> <a class=\"anchor\" id=\"E8\"></a>"
   ]
  },
  {
   "cell_type": "markdown",
   "id": "f41d0d05",
   "metadata": {},
   "source": []
  },
  {
   "cell_type": "markdown",
   "id": "f96dfe6f",
   "metadata": {},
   "source": [
    "<h1 align=\"center\"> <font color='green'>1.2 Estimation de la variance $\\sigma^2$ et Coefficient de détermination</font></h1> <a class=\"anchor\" id=\"Partie2\"></a>"
   ]
  },
  {
   "cell_type": "markdown",
   "id": "07de478c",
   "metadata": {},
   "source": [
    "<h2 align=\"center\"> <font color='blue'>Exercice 9</font></h2> <a class=\"anchor\" id=\"E9\"></a>"
   ]
  },
  {
   "cell_type": "markdown",
   "id": "b21a5c21",
   "metadata": {},
   "source": []
  },
  {
   "cell_type": "markdown",
   "id": "e1f39a73",
   "metadata": {},
   "source": [
    "<h2 align=\"center\"> <font color='blue'>Exercice 10</font></h2> <a class=\"anchor\" id=\"E10\"></a>"
   ]
  },
  {
   "cell_type": "markdown",
   "id": "eba8f504",
   "metadata": {},
   "source": []
  },
  {
   "cell_type": "markdown",
   "id": "71c57b0c",
   "metadata": {},
   "source": [
    "<h1 align=\"center\"> <font color='green'>1.3 Cas de la régression linéaire gaussienne</font></h1> <a class=\"anchor\" id=\"Partie3\"></a>"
   ]
  },
  {
   "cell_type": "markdown",
   "id": "0bd899f3",
   "metadata": {},
   "source": [
    "<h2 align=\"center\"> <font color='blue'>Exercice 11</font></h2> <a class=\"anchor\" id=\"E11\"></a>"
   ]
  },
  {
   "cell_type": "markdown",
   "id": "d9697fec",
   "metadata": {},
   "source": []
  },
  {
   "cell_type": "markdown",
   "id": "18ed2243",
   "metadata": {},
   "source": [
    "<h2 align=\"center\"> <font color='blue'>Exercice 12</font></h2> <a class=\"anchor\" id=\"E12\"></a>"
   ]
  },
  {
   "cell_type": "markdown",
   "id": "63be0a93",
   "metadata": {},
   "source": []
  },
  {
   "cell_type": "markdown",
   "id": "d0ecf54c",
   "metadata": {},
   "source": [
    "<h2 align=\"center\"> <font color='blue'>Exercice 13</font></h2> <a class=\"anchor\" id=\"E13\"></a>"
   ]
  },
  {
   "cell_type": "markdown",
   "id": "494b1f1c",
   "metadata": {},
   "source": []
  },
  {
   "cell_type": "markdown",
   "id": "3f163356",
   "metadata": {},
   "source": [
    "<h2 align=\"center\"> <font color='blue'>Exercice 14</font></h2> <a class=\"anchor\" id=\"E14\"></a>"
   ]
  },
  {
   "cell_type": "markdown",
   "id": "456a5754",
   "metadata": {},
   "source": []
  },
  {
   "cell_type": "markdown",
   "id": "68aa7150",
   "metadata": {},
   "source": [
    "<h1 align=\"center\"> <font color='green'>1.4 Tests statistiques, cas régression linéaire gaussienne</font></h1> <a class=\"anchor\" id=\"Partie4\"></a>"
   ]
  },
  {
   "cell_type": "markdown",
   "id": "6ecd106f",
   "metadata": {},
   "source": [
    "<h2 align=\"center\"> <font color='blue'>Exercice 15</font></h2> <a class=\"anchor\" id=\"E15\"></a>"
   ]
  },
  {
   "cell_type": "markdown",
   "id": "eed5e101",
   "metadata": {},
   "source": []
  },
  {
   "cell_type": "markdown",
   "id": "675f71e1",
   "metadata": {},
   "source": [
    "<h2 align=\"center\"> <font color='blue'>Exercice 16</font></h2> <a class=\"anchor\" id=\"E16\"></a>"
   ]
  },
  {
   "cell_type": "markdown",
   "id": "af91c1ff",
   "metadata": {},
   "source": []
  },
  {
   "cell_type": "markdown",
   "id": "f86fa9ff",
   "metadata": {},
   "source": [
    "<h2 align=\"center\"> <font color='blue'>Exercice 17</font></h2> <a class=\"anchor\" id=\"E17\"></a>"
   ]
  },
  {
   "cell_type": "markdown",
   "id": "c3ca3acb",
   "metadata": {},
   "source": []
  },
  {
   "cell_type": "markdown",
   "id": "e26219fa",
   "metadata": {},
   "source": [
    "<h2 align=\"center\"> <font color='blue'>Exercice 18</font></h2> <a class=\"anchor\" id=\"E18\"></a>"
   ]
  },
  {
   "cell_type": "markdown",
   "id": "d323e849",
   "metadata": {},
   "source": []
  },
  {
   "cell_type": "markdown",
   "id": "4e0819e8",
   "metadata": {},
   "source": [
    "<h2 align=\"center\"> <font color='blue'>Exercice 19</font></h2> <a class=\"anchor\" id=\"E19\"></a>"
   ]
  },
  {
   "cell_type": "markdown",
   "id": "2c03d40d",
   "metadata": {},
   "source": []
  },
  {
   "cell_type": "markdown",
   "id": "a6d7cbc7",
   "metadata": {},
   "source": [
    "<h2 align=\"center\"> <font color='blue'>Exercice 20</font></h2> <a class=\"anchor\" id=\"E20\"></a>"
   ]
  },
  {
   "cell_type": "markdown",
   "id": "a7f74cf5",
   "metadata": {},
   "source": []
  },
  {
   "cell_type": "markdown",
   "id": "5c7674b4",
   "metadata": {},
   "source": [
    "<h1 align=\"center\"> <font color='green'>2. Pratique</font></h1> <a class=\"anchor\" id=\"Pratique\"></a>"
   ]
  },
  {
   "cell_type": "markdown",
   "id": "edfa60aa",
   "metadata": {},
   "source": [
    "<h2 align=\"center\"> <font color='blue'>Exercice 20</font></h2> <a class=\"anchor\" id=\"E20\"></a>"
   ]
  },
  {
   "cell_type": "code",
   "execution_count": null,
   "id": "056ce728",
   "metadata": {},
   "outputs": [],
   "source": []
  },
  {
   "cell_type": "code",
   "execution_count": null,
   "id": "9a56f12e",
   "metadata": {},
   "outputs": [],
   "source": []
  },
  {
   "cell_type": "code",
   "execution_count": null,
   "id": "b988b035",
   "metadata": {},
   "outputs": [],
   "source": []
  },
  {
   "cell_type": "code",
   "execution_count": null,
   "id": "4c43037f",
   "metadata": {},
   "outputs": [],
   "source": []
  }
 ],
 "metadata": {
  "kernelspec": {
   "display_name": "Python 3 (ipykernel)",
   "language": "python",
   "name": "python3"
  },
  "language_info": {
   "codemirror_mode": {
    "name": "ipython",
    "version": 3
   },
   "file_extension": ".py",
   "mimetype": "text/x-python",
   "name": "python",
   "nbconvert_exporter": "python",
   "pygments_lexer": "ipython3",
   "version": "3.9.12"
  }
 },
 "nbformat": 4,
 "nbformat_minor": 5
}
