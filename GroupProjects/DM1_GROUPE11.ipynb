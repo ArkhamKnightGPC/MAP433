{
 "cells": [
  {
   "cell_type": "markdown",
   "id": "6d5d2a73",
   "metadata": {},
   "source": [
    "# <font color='289C4E'>Devoir Maison 1: Régression Linéaire Multiple\n",
    "**Élèves**: Sadegh ABDERRAHIM & Gabriel PEREIRA DE CARVALHO & Otávio RIBAS"
   ]
  },
  {
   "cell_type": "markdown",
   "id": "21c54a46",
   "metadata": {},
   "source": [
    "### <font color='289C4E'>Table des matières<font><a class='anchor' id='top'></a>\n",
    "- [Estimation par moindres carrés du vecteur $\\beta$](#Partie1)\n",
    "    - [Exercice 1](#E1)\n",
    "    - [Exercice 2](#E2)\n",
    "    - [Exercice 3](#E3)\n",
    "    - [Exercice 4](#E4)\n",
    "    - [Exercice 5](#E5)\n",
    "    - [Exercice 6](#E6)\n",
    "    - [Exercice 7](#E7)\n",
    "    - [Exercice 8](#E8)\n",
    "- [Estimation de la variance $\\sigma^2$ et Coefficient de détermination](#Partie2)\n",
    "    - [Exercice 9](#E9)\n",
    "    - [Exercice 10](#E10)\n",
    "- [Cas de la régression linéaire gaussienne](#Partie3)\n",
    "    - [Exercice 11](#E11)\n",
    "    - [Exercice 12](#E12)\n",
    "    - [Exercice 13](#E13)\n",
    "    - [Exercice 14](#E14)\n",
    "- [Tests statistiques, cas régression linéaire gaussienne](#Partie4)\n",
    "    - [Exercice 15](#E15)\n",
    "    - [Exercice 16](#E16)\n",
    "    - [Exercice 17](#E17)\n",
    "    - [Exercice 18](#E18)\n",
    "    - [Exercice 19](#E19)\n",
    "    - [Exercice 20](#E20)\n",
    "- [Python Imports](#imports)\n",
    "- [Pratique](#Pratique)\n",
    "    - [Exercice 1](#P1)\n",
    "    - [Exercice 2](#P2)\n",
    "    - [Exercice 3](#P3)\n",
    "    - [Exercice 4](#P4)\n",
    "    - [Exercice 5](#P5)\n",
    "    - [Exercice 6](#P6)"
   ]
  },
  {
   "cell_type": "markdown",
   "id": "76fda49c",
   "metadata": {},
   "source": [
    "<h1 align=\"center\"> <font color='green'>1.1 Estimation par moindres carrés du vecteur $\\beta$</font></h1> <a class=\"anchor\" id=\"Partie1\"></a>"
   ]
  },
  {
   "cell_type": "markdown",
   "id": "b5bb3209",
   "metadata": {},
   "source": [
    "<h2 align=\"center\"> <font color='blue'>Exercice 1</font></h2> <a class=\"anchor\" id=\"E1\"></a>"
   ]
  },
  {
   "cell_type": "markdown",
   "id": "a1d40878",
   "metadata": {},
   "source": [
    "On remarque que toute solution $\\hat{u} \\in \\argmin_{u \\in \\mathbb{R}^p} J_n(u)$ est une solution de l'équation $\\nabla J_n(u) = 0_{\\mathbb{R}^p}$.\n",
    "On obtient ainsi qu'elle solution du système d'équations linéaires\n",
    "$$\\begin{align}\n",
    "&\\frac{\\partial J_n(u)}{\\partial u_k} = 0 \\quad \\text{pour } k \\in \\{1,...,p\\} \\\\\n",
    "\\iff& \\sum_{i=1}^{n} Z_{i}^{k}\\left(Y_i - \\sum_{l=1}^{p} u_lZ_i^l \\right) = 0  \\quad \\forall k \\in \\{1,...,p\\} \\\\\n",
    "\\iff& \\sum_{i=1}^{n} Z_i^kY_i = \\sum_{i=1}^{n} \\left(\\sum_{l=1}^{p}u_lZ_i^l\\right)Z_i^k \\quad \\forall k \\in \\{1,...,p\\}.\n",
    "\\end{align}$$\n",
    "Donc, en notation matricielle, \n",
    "$$ Z^TY = Z^TZu $$\n",
    "et $\\hat{u}$ est solution de ce système."
   ]
  },
  {
   "cell_type": "markdown",
   "id": "b904a542",
   "metadata": {},
   "source": [
    "<h2 align=\"center\"> <font color='blue'>Exercice 2</font></h2> <a class=\"anchor\" id=\"E2\"></a>"
   ]
  },
  {
   "cell_type": "markdown",
   "id": "c59038ac",
   "metadata": {},
   "source": [
    "Premièrement, on a $ Z^\\#Z = (Z^TZ)^{-1}Z^TZ = I_p $. $\\\\$\n",
    "Alors soit $H \\in \\mathbb{R}^{p \\times n}$ le projecteur orthogonale sur l'espace vectoriel engrendré par les colonnes de la matrice $Z$.\n",
    "$\\forall x \\in \\mathbb{R}^n, \\exists c \\in \\mathbb{R}^p$ tel que $Hx = Zc$.\n",
    "On sait que $x$ et sa projection $Hx$ doivent vérifier la condition d'orthogonalité\n",
    "$$ \\langle (x-Hx), Z_i \\rangle = 0 \\quad \\text{pour toutes les colonnes $Z_i$ de $Z$, $i \\in \\{1,...,p\\}$.}$$\n",
    "Ceci peut se traduire par\n",
    "$$\\begin{align}\n",
    "&Z^T(x - Hx) = 0 \\\\\n",
    "\\iff& Z^T(x - Zc) = 0\\\\\n",
    "\\iff& Z^Tx = Z^TZc\\\\\n",
    "\\iff& (Z^TZ)^{-1}Z^Tx = c \\quad \\text{comme $Z^TZ$ est inversible.}\\\\\n",
    "\\end{align}$$\n",
    "Ainsi, on a $ Hx = Z(Z^TZ)^{-1}Z^Tx \\quad \\forall x \\in \\mathbb{R}^n $.\n",
    "\n",
    "Donc $$ H =  Z(Z^TZ)^{-1}Z^T $$ \n",
    "ce qui donne $ZZ^{\\#} = H$."
   ]
  },
  {
   "cell_type": "markdown",
   "id": "591fb782",
   "metadata": {},
   "source": [
    "<h2 align=\"center\"> <font color='blue'>Exercice 3</font></h2> <a class=\"anchor\" id=\"E3\"></a>"
   ]
  },
  {
   "cell_type": "markdown",
   "id": "10d0c261",
   "metadata": {},
   "source": [
    "L'estimateur des moindres carrés $\\hat{\\beta}$ vérifie\n",
    "$$ Z^TZ\\hat{\\beta} = Z^TY \\implies \\hat{\\beta} = (Z^TZ)^{-1}Z^TY$$\n",
    "et donc l'estimateur est unique et a pour expression $\\hat{\\beta} = Z^{\\#}Y$."
   ]
  },
  {
   "cell_type": "markdown",
   "id": "b6e286b0",
   "metadata": {},
   "source": [
    "<h2 align=\"center\"> <font color='blue'>Exercice 4</font></h2> <a class=\"anchor\" id=\"E4\"></a>"
   ]
  },
  {
   "cell_type": "markdown",
   "id": "da25a999",
   "metadata": {},
   "source": [
    "On veut calculer $\\mathbb{E}[\\hat{\\beta}]$.\n",
    "On a\n",
    "$$\\begin{align}\n",
    "\\hat{\\beta} = Z^{\\#}Y &= Z^{\\#}(Z\\beta + \\sigma \\epsilon(\\theta))\\\\\n",
    "&= Z^{\\#}Z\\beta + \\sigma Z^{\\#} \\epsilon(\\theta)\\\\\n",
    "&= \\beta + \\sigma Z^{\\#} \\epsilon(\\theta)\n",
    "\\end{align}$$\n",
    "ainsi\n",
    "$$\\begin{align}\n",
    "\\mathbb{E}[\\hat{\\beta}] &= \\beta + \\sigma Z^{\\#} \\mathbb{E}[\\epsilon(\\theta)] \\\\\n",
    "&= \\beta\n",
    "\\end{align}$$\n",
    "et donc l'estimateur des moindres carrés $\\hat{\\beta}$ est un estimateur sans biais de $\\beta$."
   ]
  },
  {
   "cell_type": "markdown",
   "id": "6bc6622a",
   "metadata": {},
   "source": [
    "<h2 align=\"center\"> <font color='blue'>Exercice 5</font></h2> <a class=\"anchor\" id=\"E5\"></a>"
   ]
  },
  {
   "cell_type": "markdown",
   "id": "232918cf",
   "metadata": {},
   "source": [
    "Soit $\\theta \\in \\Theta$. On a\n",
    "$$\\begin{align}\n",
    "\\mathrm{Var}_{\\theta}(\\hat{\\beta}) &= \\mathrm{Var}_{\\theta}(Z^\\#Y) \\\\\n",
    "&= Z^\\# \\mathrm{Var}_{\\theta}(Y) (Z^\\#)^T \\\\\n",
    "&= \\sigma^2 Z^\\#(Z^\\#)^T \\\\\n",
    "&= \\sigma^2 [(Z^TZ)^{-1}Z^T] \\cdot [Z ((Z^TZ)^{-1})^T] \\\\\n",
    "&= \\sigma^2 (Z^TZ)^{-1}(Z^TZ)^T ((Z^TZ)^{-1})^T \\\\\n",
    "&= \\sigma^2 (Z^TZ)^{-1}((Z^TZ)^{-1}Z^TZ)^T \\\\\n",
    "&= \\sigma^2 (Z^TZ)^{-1}\n",
    "\\end{align}$$\n",
    "donc on conclue $\\mathrm{Var}_{\\theta}(\\hat{\\beta}) = \\sigma^2 (Z^TZ)^{-1}$."
   ]
  },
  {
   "cell_type": "markdown",
   "id": "82061597",
   "metadata": {},
   "source": [
    "<h2 align=\"center\"> <font color='blue'>Exercice 6</font></h2> <a class=\"anchor\" id=\"E6\"></a>"
   ]
  },
  {
   "cell_type": "markdown",
   "id": "796045a4",
   "metadata": {},
   "source": [
    "Pour que l'estimateur soit sans biais, on veut $\\mathbb{E}[\\tilde{\\beta}] = \\beta$.\n",
    "\n",
    "Soit $\\theta \\in \\Theta$. On a\n",
    "\n",
    "$$\\begin{align}\n",
    "&\\mathbb{E}_{\\theta}[\\tilde{\\beta}] = \\beta \\\\\n",
    "\\iff &\\mathbb{E}_{\\theta}[BY] = \\beta \\\\\n",
    "\\iff &B\\mathbb{E}_{\\theta}[Y] = \\beta \\\\\n",
    "\\iff &BZ\\beta = \\beta \\\\\n",
    "\\iff &(BZ - I_p)\\beta = 0\n",
    "\\end{align}$$\n",
    "\n",
    "donc, l'estimateur $\\tilde{\\beta}$ est sans biais si, et seulement si, $BZ = I_p$.\n"
   ]
  },
  {
   "cell_type": "markdown",
   "id": "63b2184e",
   "metadata": {},
   "source": [
    "<h2 align=\"center\"> <font color='blue'>Exercice 7</font></h2> <a class=\"anchor\" id=\"E7\"></a>"
   ]
  },
  {
   "cell_type": "markdown",
   "id": "4dbb77c7",
   "metadata": {},
   "source": [
    "On veut calculer la matrice de covariance $\\mathrm{Cov}_{\\theta}(\\tilde{\\beta},\\hat{\\beta})$.\n",
    "\n",
    "Soit $\\theta \\in \\Theta$. On remarque que \n",
    "$$\\begin{align}\n",
    "\\tilde{\\beta} - \\beta &= BY - \\beta \\\\\n",
    "&= B[Z\\beta + \\sigma\\epsilon(\\theta)] - \\beta\\\\\n",
    "&= BZ\\beta + \\sigma B \\epsilon(\\theta) - \\beta\\\\\n",
    "&= \\sigma B \\epsilon(\\theta).\n",
    "\\end{align}$$\n",
    "\n",
    "Alors,\n",
    "$$\\begin{align}\n",
    "\\mathbb{E}_{\\theta}[(\\tilde{\\beta} - \\beta)(\\hat{\\beta} - \\beta)^T] &= \\mathbb{E}_{\\theta}[\\sigma B \\epsilon(\\theta)(\\sigma Z^{\\#}\\epsilon(\\theta))^T] \\\\\n",
    "&= \\mathbb{E}_{\\theta}[\\sigma^2 B\\epsilon(\\theta)\\epsilon(\\theta)^T(Z^{\\#})^T] \\\\\n",
    "&= \\sigma^2 B \\mathbb{E}_{\\theta}[\\epsilon(\\theta)\\epsilon(\\theta)^T](Z^{\\#})^T \\\\\n",
    "&= \\sigma^2 B \\mathrm{Var}_{\\theta}(\\epsilon(\\theta))(Z^{\\#})^T \\\\\n",
    "&= \\sigma^2 B (Z^{\\#})^T \\\\\n",
    "&= \\sigma^2 B (Z^TZ)^{-1}\n",
    "\\end{align}$$\n",
    "donc on conclue $\\mathrm{Cov}_{\\theta}(\\tilde{\\beta},\\hat{\\beta}) = \\sigma^2 B (Z^TZ)^{-1}$.\n"
   ]
  },
  {
   "cell_type": "markdown",
   "id": "4ea10f99",
   "metadata": {},
   "source": [
    "<h2 align=\"center\"> <font color='blue'>Exercice 8</font></h2> <a class=\"anchor\" id=\"E8\"></a>"
   ]
  },
  {
   "cell_type": "markdown",
   "id": "2416f615",
   "metadata": {},
   "source": [
    "Soit $\\theta \\in \\Theta$ et $x \\in \\mathbb{R}^p$.\n",
    "\n",
    "D'après l'exercice 7, on a $\\mathrm{Var}_{\\theta}(\\hat{\\beta}) = \\mathrm{Cov}_{\\theta}(\\hat{\\beta}, \\tilde{\\beta})$.\n",
    "\n",
    "Ainsi,\n",
    "$$ x^T \\mathrm{Var}_{\\theta}(\\tilde{\\beta})x = \\sum_{i=1}^{p} \\left(x_i \\sum_{j=1}^{p} x_j \\mathrm{Cov}(\\hat{\\beta}_i, \\tilde{\\beta}_j) \\right). $$\n",
    "\n",
    "Ainsi,\n",
    "$$ x^T \\mathrm{Var}_{\\theta}(\\hat{\\beta})x - x^T \\mathrm{Var}_{\\theta}(\\tilde{\\beta})x = \\sum_{i=1}^{p} \\left(x_i \\sum_{j=1}^{p} x_j[\\mathrm{Cov}(\\hat{\\beta}_i, \\tilde{\\beta}_j) - \\mathrm{Cov}(\\tilde{\\beta}_i, \\hat{\\beta}_j)] \\right).$$\n",
    "\n",
    "En utilisant Cauchy-Schwarz\n",
    "$$ |\\mathbb{E}_{\\theta}[(\\tilde{\\beta} - \\beta)(\\hat{\\beta} - \\beta)^T]|^2 = |\\mathrm{Cov}_{\\theta}(\\hat{\\beta} - \\tilde{\\beta})|^2 \\leq \\mathrm{Var}_{\\theta}(\\hat{\\beta})\\mathrm{Var}_{\\theta}(\\tilde{\\beta}) $$\n",
    "et du faite que $\\mathrm{Cov}_{\\theta}(\\hat{\\beta}, \\tilde{\\beta}) = \\mathrm{Var}_{\\theta}(\\hat{\\beta})$ on obtient que $x^T \\mathrm{Var}_{\\theta}(\\hat{\\beta})x - x^T \\mathrm{Var}_{\\theta}(\\tilde{\\beta})x \\leq 0$.\n",
    "\n",
    "Donc, on conclue\n",
    "$$ \\mathrm{Var}_{\\theta}(\\tilde{\\beta}) \\geq \\mathrm{Var}_{\\theta}(\\hat{\\beta}).$$\n"
   ]
  },
  {
   "cell_type": "markdown",
   "id": "b46da675",
   "metadata": {},
   "source": [
    "<h1 align=\"center\"> <font color='green'>1.2 Estimation de la variance $\\sigma^2$ et Coefficient de détermination</font></h1> <a class=\"anchor\" id=\"Partie2\"></a>"
   ]
  },
  {
   "cell_type": "markdown",
   "id": "85d5a725",
   "metadata": {},
   "source": [
    "<h2 align=\"center\"> <font color='blue'>Exercice 9</font></h2> <a class=\"anchor\" id=\"E9\"></a>"
   ]
  },
  {
   "cell_type": "markdown",
   "id": "73118e8e",
   "metadata": {},
   "source": [
    "On pose\n",
    "$$\\begin{align}\n",
    "\\hat{\\epsilon} &= Y - \\hat{Y} \\\\\n",
    "&= Y - Z\\hat{\\beta}\\\\\n",
    "&= Y - Z(Z^T Z)^{-1} Z^T Y \\\\\n",
    "&= Y - ZZ^{\\#}Y \\\\\n",
    "&= Y - HY \\\\\n",
    "&= (I_n - H)Y.\n",
    "\\end{align}$$\n",
    "\n",
    "En nous servant du modèle linéaire $Y = Z \\beta + \\sigma \\epsilon(\\theta)$ on a donc \n",
    "$$\\begin{align}\n",
    "\\hat{\\epsilon} &= (I_n - H)(Z\\beta + \\sigma \\epsilon(\\theta))\\\\\n",
    "&=\\sigma(I_n - H)\\epsilon(\\theta) + (Z - HZ)\\beta \\quad \\text{où $HZ = Z(Z^{\\#}Z) = Z$}\\\\\n",
    "&=\\sigma(I_n - H)\\epsilon(\\theta).\n",
    "\\end{align}$$\n",
    "\n",
    "Ainsi\n",
    "$$\\begin{align}\n",
    "\\begin{cases}\n",
    "\\mathbb{E}_{\\theta}[\\hat{\\epsilon}]& = \\sigma(I_n - H)\\mathbb{E}_{\\theta}[\\epsilon(\\theta)] = 0\\\\ \\\\\n",
    "\\mathrm{Var}_{\\theta}(\\hat{\\epsilon})& = \\sigma^2(I_n - H) \\mathrm{Var}_{\\theta}(\\epsilon(\\theta))(I_n - H)^T = \\sigma^2(I_n - H) (I_n - H)^T = \\sigma^2(I_n - H).\n",
    "\\end{cases}\n",
    "\\end{align}$$\n",
    "\n",
    "\n",
    "D'où un estimateur naturelle et sans biais de la variance résiduelle est donnée par\n",
    "$$\\frac{1}{n}\\sum_{i=1}^n \\hat{\\epsilon}_i^2 = \\frac{1}{n} ||\\hat{\\epsilon}||^2$$\n",
    "or comme $||\\hat{\\epsilon}||^2$ est un scalaire, nous écrivons que cet scalaire est égale à sa trace, puis en nous servant de la propriété de la trace, nous obtenons\n",
    "$$\\begin{align}\n",
    "\\mathbb{E}[||\\hat{\\epsilon}||^2] &= \\mathbb{E}[\\mathrm{Tr}(\\hat{\\epsilon}\\hat{\\epsilon}^T)] \\\\\n",
    "&= \\mathrm{Tr}(\\mathbb{E}[\\hat{\\epsilon}\\hat{\\epsilon}^T]) \\\\\n",
    "&= \\mathrm{Tr}(\\sigma^2 (I_n - H)) \\\\\n",
    "&= \\sigma^2 \\mathrm{Tr}(I_n - H) \\\\\n",
    "&= \\sigma^2 (n-p)\n",
    "\\end{align}$$\n",
    "et donc $\\hat{\\sigma}^2 = \\frac{||\\hat{\\epsilon}||^2}{n-p} = (n-p)^{-1} SSE = \\frac{1}{n-p} ||Y - Z \\hat{\\beta}||^2$ est un estimateur sans biais de la variance $\\sigma^2$."
   ]
  },
  {
   "cell_type": "markdown",
   "id": "af41f8e0",
   "metadata": {},
   "source": [
    "<h2 align=\"center\"> <font color='blue'>Exercice 10</font></h2> <a class=\"anchor\" id=\"E10\"></a>"
   ]
  },
  {
   "cell_type": "markdown",
   "id": "c474fe7e",
   "metadata": {},
   "source": [
    "On a $ ||Y||^2 = || HY + (I_n - H)Y ||^2$.\n",
    "\n",
    "Or $H$ est un projecteur orthogonal alors $\\langle HY, (I_n - H)Y \\rangle = 0$ et donc \n",
    "$$ ||Y||^2 = ||HY||^2 + || (I_n - H)Y ||^2 = \\mathrm{RSS} + \\mathrm{SSE} $$"
   ]
  },
  {
   "cell_type": "markdown",
   "id": "aae4cdcb",
   "metadata": {},
   "source": [
    "<h1 align=\"center\"> <font color='green'>1.3 Cas de la régression linéaire gaussienne</font></h1> <a class=\"anchor\" id=\"Partie3\"></a>"
   ]
  },
  {
   "cell_type": "markdown",
   "id": "298bb61f",
   "metadata": {},
   "source": [
    "<h2 align=\"center\"> <font color='blue'>Exercice 11</font></h2> <a class=\"anchor\" id=\"E11\"></a>"
   ]
  },
  {
   "cell_type": "markdown",
   "id": "5b7273e1",
   "metadata": {},
   "source": [
    "Une fois que les $\\{Y_i\\}$ sont i.i.d la vraisemblance est donnée par\n",
    "$$ L(\\theta) = \\frac{1}{(2\\pi \\sigma^2)^{\\frac{n}{2}}}\\prod_{k=1}^{n} e^{-\\frac{1}{2\\sigma^2}[Y_i - Z_i^T \\beta]^2} = \\frac{1}{(2\\pi \\sigma^2)^{\\frac{n}{2}}} e^{-\\frac{1}{2\\sigma^2}||Y - Z\\beta||^2} $$\n",
    "alors maximiser la vraisemblance est équivalent à maximiser son logarithme\n",
    "$$\\ln(L(\\theta)) = -\\frac{n}{2}\\ln(2\\pi\\sigma^2) - \\frac{1}{2\\sigma^2}||Y - Z\\beta||^2.$$\n",
    "On remarque que maximiser cette function pour $\\sigma$ fixé révient à minimiser $||Y - Z\\beta||^2$. On sait que $||Y - Z\\beta||^2$ est minimisé pour $\\beta = \\hat{\\beta}$ l'estimateur des moindres carrés donné par $\\hat{\\beta} = (Z^TZ)^{-1}Z^TY$.\n",
    "\n",
    "Considérons maintenant\n",
    "$$\\begin{align}\n",
    "\\frac{\\partial}{\\partial \\sigma} \\ln(L(\\theta)) &= -\\frac{n}{2}\\frac{\\partial}{\\partial \\sigma}\\ln(2\\pi\\sigma^2) - ||Y - Z\\hat{\\beta}||^2\\frac{\\partial}{\\partial \\sigma}\\frac{1}{2\\sigma^2}\\\\\n",
    "&= -\\frac{n}{\\sigma} + \\frac{||Y - Z\\hat{\\beta}||^2}{\\sigma^3}\\\\\n",
    "&= 0 \\iff \\sigma^2 = \\hat{\\sigma}^2 = \\frac{1}{n}||Y - Z\\hat{\\beta}||^2.\n",
    "\\end{align}$$\n",
    "\n",
    "Donc, l'estimateur du maximum de vraisemblance est $$\\hat{\\theta} = (\\hat{\\beta}, \\hat{\\sigma}^2) = \\left((Z^TZ)^{-1}Z^TY, \\frac{1}{n}||Y - Z\\hat{\\beta}||^2\\right).$$"
   ]
  },
  {
   "cell_type": "markdown",
   "id": "2ff3d6dd",
   "metadata": {},
   "source": [
    "<h2 align=\"center\"> <font color='blue'>Exercice 12</font></h2> <a class=\"anchor\" id=\"E12\"></a>"
   ]
  },
  {
   "cell_type": "markdown",
   "id": "03633423",
   "metadata": {},
   "source": [
    "Sous $\\mathbb{P}_{\\theta}, \\theta \\in \\Theta$ on a\n",
    "$$\\begin{align}\n",
    "\\hat{\\beta} &= (Z^TZ)^{-1}Z^TY \\\\\n",
    "&= (Z^TZ)^{-1}Z^T\\left[Z\\beta + \\sigma \\epsilon(\\theta) \\right] \\\\\n",
    "&= \\beta + \\sigma Z^{\\#} \\epsilon(\\theta).\n",
    "\\end{align}$$\n",
    "\n",
    "On sait que $\\hat{\\beta}$ est un vecteur gaussien et on a calculé son espérance et variance dans les exercices 4 et 5.\n",
    "$$\\begin{align}\n",
    "\\begin{cases}\n",
    "\\mathbb{E}_{\\theta}[\\hat{\\beta}]& = \\beta \\\\\n",
    "\\mathrm{Var}_{\\theta}(\\hat{\\beta})& = \\sigma^2(Z^TZ)^{-1}\n",
    "\\end{cases}\n",
    "\\end{align}$$\n",
    "donc $\\hat{\\beta} \\sim \\mathcal{N}\\left(\\beta, \\sigma^2(Z^TZ)^{-1} \\right)$.\n"
   ]
  },
  {
   "cell_type": "markdown",
   "id": "ea851600",
   "metadata": {},
   "source": [
    "<h2 align=\"center\"> <font color='blue'>Exercice 13</font></h2> <a class=\"anchor\" id=\"E13\"></a>"
   ]
  },
  {
   "cell_type": "markdown",
   "id": "54bc0189",
   "metadata": {},
   "source": [
    "Sous $\\mathbb{P}_{\\theta}, \\theta \\in \\Theta$.\n",
    "\n",
    "On a $||Y - Z\\beta||^2 = || (I_n - H)Y ||^2$ or $Y = Z\\beta + \\sigma \\epsilon(\\theta)$, ainsi\n",
    "$$ ||Y - Z\\beta||^2 = || (I_n - H)(Z\\hat{\\beta} + \\sigma \\epsilon(\\theta) ||^2. $$\n",
    "\n",
    "Or $Z\\hat{\\beta}$ est la projection sur l'espace engendré par les colonnes de $Z$ ainsi $(I_n - H)Z\\beta = 0$ et donc\n",
    "$$ || (I_n - H)Y ||^2 = \\sigma^2 ||(I_n - H)\\epsilon(\\theta) ||^2.\n",
    "\n",
    "On remarque que $rg(I_n - H) = n-p$.\n",
    "\n",
    "Par le théorème de Cochran, $$||(I_n - H)\\epsilon(\\theta) ||^2 \\sim \\chi_{n-p}^2.$$\n",
    "\n",
    "Et donc on a $$ \\hat{\\sigma}_{EMV}^2 = \\frac{1}{n}|| Y - Z\\hat{\\beta}||^2 \\sim \\frac{\\sigma^2}{n} \\chi_{n-p}^2.$$"
   ]
  },
  {
   "cell_type": "markdown",
   "id": "03ddefb8",
   "metadata": {},
   "source": [
    "<h2 align=\"center\"> <font color='blue'>Exercice 14</font></h2> <a class=\"anchor\" id=\"E14\"></a>"
   ]
  },
  {
   "cell_type": "markdown",
   "id": "b7377bc3",
   "metadata": {},
   "source": [
    "Par le théorème de Cochran on sait que $(I_n - H)\\epsilon(\\theta)$ et $H\\epsilon(\\theta)$ sont deux vecteurs gaussiens indépendantes, or nous avons vu que $\\hat{\\sigma}^2$ est une fonction deterministe de $(I_n - H)\\epsilon(\\theta)$ et $\\hat{\\beta}$ est une fonction deterministe de $H\\epsilon(\\theta)$.\n",
    "\n",
    "$$\\begin{align}\n",
    "\\begin{cases}\n",
    "\\hat{\\sigma}^2 &= \\frac{\\sigma^2}{n}||(I_n - H)G||^2\\\\\n",
    "\\hat{\\beta} &= \\beta + \\sigma Z^{\\#}H \\epsilon(\\theta)\n",
    "\\end{cases}\n",
    "\\end{align}$$\n",
    "\n",
    "D'où l'indépendance de $\\hat{\\sigma}^2$ et $\\hat{\\beta}$."
   ]
  },
  {
   "cell_type": "markdown",
   "id": "9c954937",
   "metadata": {},
   "source": [
    "<h1 align=\"center\"> <font color='green'>1.4 Tests statistiques, cas régression linéaire gaussienne</font></h1> <a class=\"anchor\" id=\"Partie4\"></a>"
   ]
  },
  {
   "cell_type": "markdown",
   "id": "943fc75c",
   "metadata": {},
   "source": [
    "<h2 align=\"center\"> <font color='blue'>Exercice 15</font></h2> <a class=\"anchor\" id=\"E15\"></a>"
   ]
  },
  {
   "cell_type": "markdown",
   "id": "a947c252",
   "metadata": {},
   "source": [
    "Sous $\\mathbb{P}_{\\theta}$.\n",
    "$$ x^T \\hat{\\beta} - x^T \\beta = x^T(\\hat{\\beta} - \\beta) = x^T\\sigma Z^{\\#} \\epsilon(\\theta) = \\sigma x^T (Z^TZ)^{-1}Z^T \\epsilon(\\theta).$$\n",
    "\n",
    "Alors, $x^T \\hat{\\beta} - x^T \\beta$ est une variable gaussienne car $\\epsilon(\\theta)$ est un vecteur gaussien et donc pour tout $x \\in \\mathbb{R}^p$, $x\\epsilon(\\theta)$ est une v.a gaussienne.\n",
    "\n",
    "Ici $\\sigma x^T (Z^TZ)^{-1}Z^T \\in \\mathbb{R}^p$ et donc $x^T \\hat{\\beta} - x^T \\beta$ est une v.a gaussienne centré car $\\mathbb{E}[\\epsilon(\\theta)] = 0$.\n",
    "\n",
    "D'autre part\n",
    "$$\\begin{align}\n",
    "\\mathrm{Cov}_{\\theta}(x^T \\hat{\\beta} - x^T \\beta) &= \\mathrm{Cov}_{\\theta}(\\sigma x^T (Z^TZ)^{-1}Z^T \\epsilon(\\theta)) \\\\\n",
    "&= \\sigma^2 x^T (Z^TZ)^{-1}Z^T (x^T (Z^TZ)^{-1}Z^T)^T \\\\\n",
    "&= \\sigma^2 x^T (Z^TZ)^{-1} x.\n",
    "\\end{align}$$\n",
    "\n",
    "Ainsi $\\frac{x^T \\hat{\\beta} - x^T\\beta}{\\sigma\\sqrt{x^T(Z^TZ)^{-1}x}} \\sim \\mathcal{N}(0,1).$\n",
    "\n",
    "D'autre part $\\frac{\\hat{\\sigma}^2}{\\sigma^2} \\sim \\frac{\\chi_{n-p}^2}{n-p}$ ainsi on a\n",
    "\n",
    "$$ \\frac{x^T \\hat{\\beta} - x^T\\beta}{\\hat{\\sigma}\\sqrt{x^T(Z^TZ)^{-1}x}} \\sim T_{(n-p)} $$ une loi de Student à $(n-p)$ degrés de liberté."
   ]
  },
  {
   "cell_type": "markdown",
   "id": "12d1fb8d",
   "metadata": {},
   "source": [
    "<h2 align=\"center\"> <font color='blue'>Exercice 16</font></h2> <a class=\"anchor\" id=\"E16\"></a>"
   ]
  },
  {
   "cell_type": "markdown",
   "id": "52d539e7",
   "metadata": {},
   "source": [
    "Soit $q_{\\frac{\\alpha}{2}}^{n-p}$ et $q_{1 - \\frac{\\alpha}{2}}^{n-p}$ les quantiles d'ordre $\\frac{\\alpha}{2}$ et $1 - \\frac{\\alpha}{2}$ de la loi de Student à $(n-p)$ degrés de liberté $T_{(n-p)}$.\n",
    "\n",
    "Ainsi\n",
    "$$\\begin{align}\n",
    "\\mathbb{P}_{\\theta}&\\left( q_{\\frac{\\alpha}{2}}^{n-p} \\leq \\frac{x^T \\hat{\\beta} - x^T\\beta}{\\hat{\\sigma}\\sqrt{x^T(Z^TZ)^{-1}x}} \\leq q_{1 - \\frac{\\alpha}{2}}^{n-p} \\right) = 1 - \\alpha \\\\\n",
    "\\mathbb{P}_{\\theta}&\\left( \\hat{\\sigma}\\sqrt{x^T(Z^TZ)^{-1}x}q_{\\frac{\\alpha}{2}}^{n-p} \\leq x^T \\hat{\\beta} - x^T\\beta \\leq \\hat{\\sigma}\\sqrt{x^T(Z^TZ)^{-1}x}q_{1 - \\frac{\\alpha}{2}}^{n-p} \\right) = 1 - \\alpha \\\\\n",
    "\\mathbb{P}_{\\theta}&\\left( x^T \\hat{\\beta} - \\hat{\\sigma}\\sqrt{x^T(Z^TZ)^{-1}x}q_{1 - \\frac{\\alpha}{2}}^{n-p} \\leq x^T\\beta \\leq x^T \\hat{\\beta} - \\hat{\\sigma}\\sqrt{x^T(Z^TZ)^{-1}x}q_{\\frac{\\alpha}{2}}^{n-p} \\right) = 1 - \\alpha.\n",
    "\\end{align}$$\n",
    "\n",
    "On en conclue que\n",
    "$$\\left[ x^T \\hat{\\beta} - \\hat{\\sigma}\\sqrt{x^T(Z^TZ)^{-1}x}q_{1 - \\frac{\\alpha}{2}}^{n-p} , x^T \\hat{\\beta} - \\hat{\\sigma}\\sqrt{x^T(Z^TZ)^{-1}x}q_{\\frac{\\alpha}{2}}^{n-p} \\right] $$\n",
    "est un intervalle de confiance de niveau $1 - \\alpha$ pour $\\beta^T x$."
   ]
  },
  {
   "cell_type": "markdown",
   "id": "253dabc6",
   "metadata": {},
   "source": [
    "<h2 align=\"center\"> <font color='blue'>Exercice 17</font></h2> <a class=\"anchor\" id=\"E17\"></a>"
   ]
  },
  {
   "cell_type": "markdown",
   "id": "cc9982be",
   "metadata": {},
   "source": [
    "Premièrement, on définit la statistique de test\n",
    "$$T(x) = \\beta^T x $$\n",
    "on remarque que cette statistique est proche de $0$ sous $H_0$ et grand sous $H_1$.\n",
    "\n",
    "Alors, on définit notre zone de rejet en utilisant l'intervalle de confiance de l'exercice précendent\n",
    "$$ \\mathcal{R}_{\\alpha} = (-\\infty, -\\hat{\\sigma}\\sqrt{x^T(Z^TZ)^{-1}x}q_{1 - \\frac{\\alpha}{2}}^{n-p}) \\cup  (-\\hat{\\sigma}\\sqrt{x^T(Z^TZ)^{-1}x}q_{\\frac{\\alpha}{2}}^{n-p}, + \\infty)$$\n",
    "\n",
    "La probabilité de $\\beta^T x$ appartenir à l'intervalle de confiance est $1 - \\alpha$. Donc, on remarque que $\\mathbb{P}_{\\theta}(x \\in \\mathcal{R}) = 1 - (1 - \\alpha) = \\alpha$.\n",
    "\n",
    "Donc, la taille du test qu'on a proposé est $\\alpha$ comme demandé."
   ]
  },
  {
   "cell_type": "markdown",
   "id": "50ce6374",
   "metadata": {},
   "source": [
    "<h2 align=\"center\"> <font color='blue'>Exercice 18</font></h2> <a class=\"anchor\" id=\"E18\"></a>"
   ]
  },
  {
   "cell_type": "markdown",
   "id": "06547747",
   "metadata": {},
   "source": [
    "Étant donné l'observation $x$, la $p$-valeur est la valeur $\\hat{\\alpha}$ telle que $H_0$ est rejetée pour tout $\\alpha > \\hat{\\alpha}$.\n",
    "Donc, on considère le cas limite où $\\beta^T x$ est au bord de la zone de rejet. On a\n",
    "$$\\begin{align}\n",
    "|\\beta^T x| =  \\hat{\\sigma}\\sqrt{x^T(Z^TZ)^{-1}x}q_{1 - \\frac{\\hat{\\alpha}}{2}}^{n-p} \\\\\n",
    "\\iff q_{1 - \\frac{\\hat{\\alpha}}{2}}^{n-p} = \\frac{|\\beta^T x|}{\\hat{\\sigma}\\sqrt{x^T(Z^TZ)^{-1}x}}\n",
    "\\end{align}$$\n",
    "Soit $F_{n-p}$ la fonction de répartition pour une loi de Student à $(n-p)$ degrés de liberté. On a\n",
    "$$\\begin{align}\n",
    "1 - \\frac{\\hat{\\alpha}}{2} = F_{n-p}\\left( \\frac{|\\beta^T x|}{\\hat{\\sigma}\\sqrt{x^T(Z^TZ)^{-1}x}} \\right) \\\\\n",
    "\\iff \\hat{\\alpha} = 2 - 2F_{n-p}\\left( \\frac{|\\beta^T x|}{\\hat{\\sigma}\\sqrt{x^T(Z^TZ)^{-1}x}} \\right)\n",
    "\\end{align}$$\n",
    "\n"
   ]
  },
  {
   "cell_type": "markdown",
   "id": "380ca65a",
   "metadata": {},
   "source": [
    "<h2 align=\"center\"> <font color='blue'>Exercice 19</font></h2> <a class=\"anchor\" id=\"E19\"></a>"
   ]
  },
  {
   "cell_type": "markdown",
   "id": "361681dc",
   "metadata": {},
   "source": [
    "Soit $A$ une matrice de taille $q \\times p$ de rang $q \\leq p$ et donc \n",
    "$$ rg \\left( A(Z^TZ)^{-1}A^T \\right) = q. $$\n",
    "\n",
    "D'autre part $A(\\hat{\\beta} - \\beta)$ est un vecteur gaussien de moyenne nulle et de variance $A \\mathrm{Var}_{\\theta}(\\hat{\\beta}) A^T = \\sigma^2 A (Z^TZ)^{-1} A^T$. Donc\n",
    "$$ \\frac{1}{\\sigma^2} \\left( A (\\beta^T - \\beta) \\right)^T [A(Z^TZ)^{-1}A^T]^{-1} \\left( A (\\beta^T - \\beta) \\right) \\sim \\chi_q^2.$$\n",
    "\n"
   ]
  },
  {
   "cell_type": "markdown",
   "id": "25b8efb7",
   "metadata": {},
   "source": [
    "<h2 align=\"center\"> <font color='blue'>Exercice 20</font></h2> <a class=\"anchor\" id=\"E20\"></a>"
   ]
  },
  {
   "cell_type": "markdown",
   "id": "e2bcf95b",
   "metadata": {},
   "source": []
  },
  {
   "cell_type": "markdown",
   "id": "ed8fac7b",
   "metadata": {},
   "source": [
    "<h2 align=\"center\"> <font color='gray'>Python Imports</font></h2> <a class=\"anchor\" id=\"imports\"></a>"
   ]
  },
  {
   "cell_type": "markdown",
   "id": "5eaae604",
   "metadata": {},
   "source": [
    "Dans cette section, on va importer tous les paquets qu'on ira utiliser."
   ]
  },
  {
   "cell_type": "code",
   "execution_count": 1,
   "id": "d8b756b3",
   "metadata": {},
   "outputs": [],
   "source": [
    "import math\n",
    "import numpy as np\n",
    "import matplotlib.pyplot as plt\n",
    "import numpy.random as npr\n",
    "import scipy.stats as sps"
   ]
  },
  {
   "cell_type": "markdown",
   "id": "cd734033",
   "metadata": {},
   "source": [
    "<h1 align=\"center\"> <font color='green'>2. Pratique</font></h1> <a class=\"anchor\" id=\"Pratique\"></a>"
   ]
  },
  {
   "cell_type": "markdown",
   "id": "e25a60a2",
   "metadata": {},
   "source": [
    "<h2 align=\"center\"> <font color='blue'>Exercice 1</font></h2> <a class=\"anchor\" id=\"P1\"></a>"
   ]
  },
  {
   "cell_type": "code",
   "execution_count": null,
   "id": "88806a0c",
   "metadata": {},
   "outputs": [],
   "source": []
  },
  {
   "cell_type": "markdown",
   "id": "4b4bc325",
   "metadata": {},
   "source": [
    "<h2 align=\"center\"> <font color='blue'>Exercice 2</font></h2> <a class=\"anchor\" id=\"P2\"></a>"
   ]
  },
  {
   "cell_type": "code",
   "execution_count": null,
   "id": "acf6aa40",
   "metadata": {},
   "outputs": [],
   "source": []
  },
  {
   "cell_type": "markdown",
   "id": "d8832a49",
   "metadata": {},
   "source": [
    "<h2 align=\"center\"> <font color='blue'>Exercice 3</font></h2> <a class=\"anchor\" id=\"P3\"></a>"
   ]
  },
  {
   "cell_type": "code",
   "execution_count": null,
   "id": "8a48b1b6",
   "metadata": {},
   "outputs": [],
   "source": []
  },
  {
   "cell_type": "markdown",
   "id": "dbee5121",
   "metadata": {},
   "source": [
    "<h2 align=\"center\"> <font color='blue'>Exercice 4</font></h2> <a class=\"anchor\" id=\"P4\"></a>"
   ]
  },
  {
   "cell_type": "code",
   "execution_count": null,
   "id": "f2b6bd92",
   "metadata": {},
   "outputs": [],
   "source": []
  },
  {
   "cell_type": "markdown",
   "id": "9a68204f",
   "metadata": {},
   "source": [
    "<h2 align=\"center\"> <font color='blue'>Exercice 5</font></h2> <a class=\"anchor\" id=\"P5\"></a>"
   ]
  },
  {
   "cell_type": "code",
   "execution_count": null,
   "id": "b9a594da",
   "metadata": {},
   "outputs": [],
   "source": []
  },
  {
   "cell_type": "markdown",
   "id": "9d17d7bd",
   "metadata": {},
   "source": [
    "<h2 align=\"center\"> <font color='blue'>Exercice 6</font></h2> <a class=\"anchor\" id=\"P6\"></a>"
   ]
  },
  {
   "cell_type": "code",
   "execution_count": null,
   "id": "eac4ef22",
   "metadata": {},
   "outputs": [],
   "source": []
  }
 ],
 "metadata": {
  "kernelspec": {
   "display_name": "Python 3 (ipykernel)",
   "language": "python",
   "name": "python3"
  },
  "language_info": {
   "codemirror_mode": {
    "name": "ipython",
    "version": 3
   },
   "file_extension": ".py",
   "mimetype": "text/x-python",
   "name": "python",
   "nbconvert_exporter": "python",
   "pygments_lexer": "ipython3",
   "version": "3.9.12"
  }
 },
 "nbformat": 4,
 "nbformat_minor": 5
}
